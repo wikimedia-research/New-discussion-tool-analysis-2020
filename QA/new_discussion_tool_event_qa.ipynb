{
 "cells": [
  {
   "cell_type": "markdown",
   "metadata": {},
   "source": [
    "# Differentiate between events emitted from the Reply Tool and the New Discussion Tool\n",
    "\n",
    "[Task](https://phabricator.wikimedia.org/T265099)"
   ]
  },
  {
   "cell_type": "markdown",
   "metadata": {},
   "source": [
    "The EditAttemptStep schema's existing init_type field will be used to differentiate between events emitted from the Reply Tool and the New Discussion Tool.\n",
    "\n",
    "Events from the Reply Tool and New Discussion Tool should be logged as follows:\n",
    "\n",
    "* Reply Tool events: event.action = 'init', event.integration = 'discussiontools', event.init_type = 'page'\n",
    "* New Discussion Tool events: event.action = 'init', event.integration = 'discussiontools', event.init_type = 'section'\n",
    "\n",
    "The change to the the `init_type` field was made on 12 January 2021."
   ]
  },
  {
   "cell_type": "code",
   "execution_count": 13,
   "metadata": {},
   "outputs": [],
   "source": [
    "shhh <- function(expr) suppressPackageStartupMessages(suppressWarnings(suppressMessages(expr)))\n",
    "shhh({\n",
    "    library(magrittr); library(zeallot); library(glue); library(tidyverse); library(zoo); library(lubridate)\n",
    "    library(scales)\n",
    "})"
   ]
  },
  {
   "cell_type": "code",
   "execution_count": 87,
   "metadata": {},
   "outputs": [],
   "source": [
    "# Collect init events by discussion tool type\n",
    "query <-\n",
    "\"\n",
    "SELECT \n",
    "  CONCAT(year, '-', LPAD(month, 2, '0'), '-', LPAD(day, 2, '0')) as date,\n",
    "  wiki AS wiki,\n",
    "  event.editing_session_id AS session_id,\n",
    "  event.platform as platform,\n",
    "  event.editor_interface as interface,\n",
    "  event.init_mechanism as init_mechanism,\n",
    "  IF(event.init_type = 'section', 'new discussion tool', 'reply tool') as dt_type,\n",
    "  COUNT(*) as n_events\n",
    "FROM event.editattemptstep\n",
    "WHERE\n",
    "  event.action = 'init'\n",
    "  AND event.integration = 'discussiontools'\n",
    "  AND year = 2021\n",
    "  AND dt >= '2021-01-01'\n",
    "GROUP BY\n",
    "  CONCAT(year, '-', LPAD(month, 2, '0'), '-', LPAD(day, 2, '0')),\n",
    "  wiki, \n",
    "  event.editing_session_id,\n",
    "  event.init_mechanism,\n",
    "  event.platform,\n",
    "  event.editor_interface,\n",
    "  IF(event.init_type = 'section', 'new discussion tool', 'reply tool') \n",
    "\""
   ]
  },
  {
   "cell_type": "code",
   "execution_count": 88,
   "metadata": {},
   "outputs": [
    {
     "name": "stderr",
     "output_type": "stream",
     "text": [
      "Don't forget to authenticate with Kerberos using kinit\n",
      "\n"
     ]
    }
   ],
   "source": [
    "collect_init_events <- wmfdata::query_hive(query)"
   ]
  },
  {
   "cell_type": "markdown",
   "metadata": {},
   "source": [
    "## Reply Tool vs New Discussion Tool Events by Date "
   ]
  },
  {
   "cell_type": "code",
   "execution_count": 89,
   "metadata": {},
   "outputs": [
    {
     "name": "stderr",
     "output_type": "stream",
     "text": [
      "`summarise()` regrouping output by 'date' (override with `.groups` argument)\n",
      "\n"
     ]
    },
    {
     "data": {
      "text/html": [
       "<table>\n",
       "<caption>A grouped_df: 34 × 3</caption>\n",
       "<thead>\n",
       "\t<tr><th scope=col>date</th><th scope=col>dt_type</th><th scope=col>total_events</th></tr>\n",
       "\t<tr><th scope=col>&lt;chr&gt;</th><th scope=col>&lt;chr&gt;</th><th scope=col>&lt;int&gt;</th></tr>\n",
       "</thead>\n",
       "<tbody>\n",
       "\t<tr><td>2021-01-01</td><td>reply tool         </td><td> 80</td></tr>\n",
       "\t<tr><td>2021-01-02</td><td>reply tool         </td><td> 83</td></tr>\n",
       "\t<tr><td>2021-01-03</td><td>reply tool         </td><td> 91</td></tr>\n",
       "\t<tr><td>2021-01-04</td><td>reply tool         </td><td> 78</td></tr>\n",
       "\t<tr><td>2021-01-05</td><td>reply tool         </td><td> 89</td></tr>\n",
       "\t<tr><td>2021-01-06</td><td>reply tool         </td><td> 76</td></tr>\n",
       "\t<tr><td>2021-01-07</td><td>reply tool         </td><td> 68</td></tr>\n",
       "\t<tr><td>2021-01-08</td><td>reply tool         </td><td> 64</td></tr>\n",
       "\t<tr><td>2021-01-09</td><td>reply tool         </td><td> 59</td></tr>\n",
       "\t<tr><td>2021-01-10</td><td>reply tool         </td><td> 79</td></tr>\n",
       "\t<tr><td>2021-01-11</td><td>reply tool         </td><td> 58</td></tr>\n",
       "\t<tr><td>2021-01-12</td><td>reply tool         </td><td> 79</td></tr>\n",
       "\t<tr><td>2021-01-13</td><td>reply tool         </td><td> 53</td></tr>\n",
       "\t<tr><td>2021-01-14</td><td>reply tool         </td><td> 66</td></tr>\n",
       "\t<tr><td>2021-01-15</td><td>reply tool         </td><td> 87</td></tr>\n",
       "\t<tr><td>2021-01-16</td><td>reply tool         </td><td> 87</td></tr>\n",
       "\t<tr><td>2021-01-17</td><td>reply tool         </td><td> 83</td></tr>\n",
       "\t<tr><td>2021-01-18</td><td>reply tool         </td><td> 57</td></tr>\n",
       "\t<tr><td>2021-01-19</td><td>reply tool         </td><td> 93</td></tr>\n",
       "\t<tr><td>2021-01-20</td><td>reply tool         </td><td> 67</td></tr>\n",
       "\t<tr><td>2021-01-21</td><td>new discussion tool</td><td>  1</td></tr>\n",
       "\t<tr><td>2021-01-21</td><td>reply tool         </td><td> 77</td></tr>\n",
       "\t<tr><td>2021-01-22</td><td>new discussion tool</td><td>  5</td></tr>\n",
       "\t<tr><td>2021-01-22</td><td>reply tool         </td><td> 80</td></tr>\n",
       "\t<tr><td>2021-01-23</td><td>new discussion tool</td><td> 10</td></tr>\n",
       "\t<tr><td>2021-01-23</td><td>reply tool         </td><td> 70</td></tr>\n",
       "\t<tr><td>2021-01-24</td><td>new discussion tool</td><td>  2</td></tr>\n",
       "\t<tr><td>2021-01-24</td><td>reply tool         </td><td> 74</td></tr>\n",
       "\t<tr><td>2021-01-25</td><td>new discussion tool</td><td>  1</td></tr>\n",
       "\t<tr><td>2021-01-25</td><td>reply tool         </td><td> 71</td></tr>\n",
       "\t<tr><td>2021-01-26</td><td>new discussion tool</td><td>  1</td></tr>\n",
       "\t<tr><td>2021-01-26</td><td>reply tool         </td><td>104</td></tr>\n",
       "\t<tr><td>2021-01-27</td><td>new discussion tool</td><td>  4</td></tr>\n",
       "\t<tr><td>2021-01-27</td><td>reply tool         </td><td> 81</td></tr>\n",
       "</tbody>\n",
       "</table>\n"
      ],
      "text/latex": [
       "A grouped\\_df: 34 × 3\n",
       "\\begin{tabular}{lll}\n",
       " date & dt\\_type & total\\_events\\\\\n",
       " <chr> & <chr> & <int>\\\\\n",
       "\\hline\n",
       "\t 2021-01-01 & reply tool          &  80\\\\\n",
       "\t 2021-01-02 & reply tool          &  83\\\\\n",
       "\t 2021-01-03 & reply tool          &  91\\\\\n",
       "\t 2021-01-04 & reply tool          &  78\\\\\n",
       "\t 2021-01-05 & reply tool          &  89\\\\\n",
       "\t 2021-01-06 & reply tool          &  76\\\\\n",
       "\t 2021-01-07 & reply tool          &  68\\\\\n",
       "\t 2021-01-08 & reply tool          &  64\\\\\n",
       "\t 2021-01-09 & reply tool          &  59\\\\\n",
       "\t 2021-01-10 & reply tool          &  79\\\\\n",
       "\t 2021-01-11 & reply tool          &  58\\\\\n",
       "\t 2021-01-12 & reply tool          &  79\\\\\n",
       "\t 2021-01-13 & reply tool          &  53\\\\\n",
       "\t 2021-01-14 & reply tool          &  66\\\\\n",
       "\t 2021-01-15 & reply tool          &  87\\\\\n",
       "\t 2021-01-16 & reply tool          &  87\\\\\n",
       "\t 2021-01-17 & reply tool          &  83\\\\\n",
       "\t 2021-01-18 & reply tool          &  57\\\\\n",
       "\t 2021-01-19 & reply tool          &  93\\\\\n",
       "\t 2021-01-20 & reply tool          &  67\\\\\n",
       "\t 2021-01-21 & new discussion tool &   1\\\\\n",
       "\t 2021-01-21 & reply tool          &  77\\\\\n",
       "\t 2021-01-22 & new discussion tool &   5\\\\\n",
       "\t 2021-01-22 & reply tool          &  80\\\\\n",
       "\t 2021-01-23 & new discussion tool &  10\\\\\n",
       "\t 2021-01-23 & reply tool          &  70\\\\\n",
       "\t 2021-01-24 & new discussion tool &   2\\\\\n",
       "\t 2021-01-24 & reply tool          &  74\\\\\n",
       "\t 2021-01-25 & new discussion tool &   1\\\\\n",
       "\t 2021-01-25 & reply tool          &  71\\\\\n",
       "\t 2021-01-26 & new discussion tool &   1\\\\\n",
       "\t 2021-01-26 & reply tool          & 104\\\\\n",
       "\t 2021-01-27 & new discussion tool &   4\\\\\n",
       "\t 2021-01-27 & reply tool          &  81\\\\\n",
       "\\end{tabular}\n"
      ],
      "text/markdown": [
       "\n",
       "A grouped_df: 34 × 3\n",
       "\n",
       "| date &lt;chr&gt; | dt_type &lt;chr&gt; | total_events &lt;int&gt; |\n",
       "|---|---|---|\n",
       "| 2021-01-01 | reply tool          |  80 |\n",
       "| 2021-01-02 | reply tool          |  83 |\n",
       "| 2021-01-03 | reply tool          |  91 |\n",
       "| 2021-01-04 | reply tool          |  78 |\n",
       "| 2021-01-05 | reply tool          |  89 |\n",
       "| 2021-01-06 | reply tool          |  76 |\n",
       "| 2021-01-07 | reply tool          |  68 |\n",
       "| 2021-01-08 | reply tool          |  64 |\n",
       "| 2021-01-09 | reply tool          |  59 |\n",
       "| 2021-01-10 | reply tool          |  79 |\n",
       "| 2021-01-11 | reply tool          |  58 |\n",
       "| 2021-01-12 | reply tool          |  79 |\n",
       "| 2021-01-13 | reply tool          |  53 |\n",
       "| 2021-01-14 | reply tool          |  66 |\n",
       "| 2021-01-15 | reply tool          |  87 |\n",
       "| 2021-01-16 | reply tool          |  87 |\n",
       "| 2021-01-17 | reply tool          |  83 |\n",
       "| 2021-01-18 | reply tool          |  57 |\n",
       "| 2021-01-19 | reply tool          |  93 |\n",
       "| 2021-01-20 | reply tool          |  67 |\n",
       "| 2021-01-21 | new discussion tool |   1 |\n",
       "| 2021-01-21 | reply tool          |  77 |\n",
       "| 2021-01-22 | new discussion tool |   5 |\n",
       "| 2021-01-22 | reply tool          |  80 |\n",
       "| 2021-01-23 | new discussion tool |  10 |\n",
       "| 2021-01-23 | reply tool          |  70 |\n",
       "| 2021-01-24 | new discussion tool |   2 |\n",
       "| 2021-01-24 | reply tool          |  74 |\n",
       "| 2021-01-25 | new discussion tool |   1 |\n",
       "| 2021-01-25 | reply tool          |  71 |\n",
       "| 2021-01-26 | new discussion tool |   1 |\n",
       "| 2021-01-26 | reply tool          | 104 |\n",
       "| 2021-01-27 | new discussion tool |   4 |\n",
       "| 2021-01-27 | reply tool          |  81 |\n",
       "\n"
      ],
      "text/plain": [
       "   date       dt_type             total_events\n",
       "1  2021-01-01 reply tool           80         \n",
       "2  2021-01-02 reply tool           83         \n",
       "3  2021-01-03 reply tool           91         \n",
       "4  2021-01-04 reply tool           78         \n",
       "5  2021-01-05 reply tool           89         \n",
       "6  2021-01-06 reply tool           76         \n",
       "7  2021-01-07 reply tool           68         \n",
       "8  2021-01-08 reply tool           64         \n",
       "9  2021-01-09 reply tool           59         \n",
       "10 2021-01-10 reply tool           79         \n",
       "11 2021-01-11 reply tool           58         \n",
       "12 2021-01-12 reply tool           79         \n",
       "13 2021-01-13 reply tool           53         \n",
       "14 2021-01-14 reply tool           66         \n",
       "15 2021-01-15 reply tool           87         \n",
       "16 2021-01-16 reply tool           87         \n",
       "17 2021-01-17 reply tool           83         \n",
       "18 2021-01-18 reply tool           57         \n",
       "19 2021-01-19 reply tool           93         \n",
       "20 2021-01-20 reply tool           67         \n",
       "21 2021-01-21 new discussion tool   1         \n",
       "22 2021-01-21 reply tool           77         \n",
       "23 2021-01-22 new discussion tool   5         \n",
       "24 2021-01-22 reply tool           80         \n",
       "25 2021-01-23 new discussion tool  10         \n",
       "26 2021-01-23 reply tool           70         \n",
       "27 2021-01-24 new discussion tool   2         \n",
       "28 2021-01-24 reply tool           74         \n",
       "29 2021-01-25 new discussion tool   1         \n",
       "30 2021-01-25 reply tool           71         \n",
       "31 2021-01-26 new discussion tool   1         \n",
       "32 2021-01-26 reply tool          104         \n",
       "33 2021-01-27 new discussion tool   4         \n",
       "34 2021-01-27 reply tool           81         "
      ]
     },
     "metadata": {},
     "output_type": "display_data"
    }
   ],
   "source": [
    "dt_events_bytype <- collect_init_events %>%\n",
    "    group_by(date, dt_type) %>%\n",
    "    summarise(total_events = sum(n_events))\n",
    "\n",
    "dt_events_bytype"
   ]
  },
  {
   "cell_type": "markdown",
   "metadata": {},
   "source": [
    "Both reply and new discussion tool events are being logged and it possible to differentiate based on the `init_type`. There are fewer `init_type = section` events as these are associated with the new discussion tool, which has not been deployed as long as the reply tool events. \n",
    "\n",
    "A total of 24 new discussion tool events have been logged since 21 January 2021 as expected.\n"
   ]
  },
  {
   "cell_type": "markdown",
   "metadata": {},
   "source": [
    "## Reply Tool vs New Discussion Tool Events by Platform and Editor Interface"
   ]
  },
  {
   "cell_type": "code",
   "execution_count": 90,
   "metadata": {},
   "outputs": [
    {
     "name": "stderr",
     "output_type": "stream",
     "text": [
      "`summarise()` regrouping output by 'dt_type', 'platform' (override with `.groups` argument)\n",
      "\n"
     ]
    },
    {
     "data": {
      "text/html": [
       "<table>\n",
       "<caption>A grouped_df: 4 × 4</caption>\n",
       "<thead>\n",
       "\t<tr><th scope=col>dt_type</th><th scope=col>platform</th><th scope=col>interface</th><th scope=col>total_events</th></tr>\n",
       "\t<tr><th scope=col>&lt;chr&gt;</th><th scope=col>&lt;chr&gt;</th><th scope=col>&lt;chr&gt;</th><th scope=col>&lt;int&gt;</th></tr>\n",
       "</thead>\n",
       "<tbody>\n",
       "\t<tr><td>new discussion tool</td><td>desktop</td><td>visualeditor</td><td>   8</td></tr>\n",
       "\t<tr><td>new discussion tool</td><td>desktop</td><td>wikitext    </td><td>  16</td></tr>\n",
       "\t<tr><td>reply tool         </td><td>desktop</td><td>visualeditor</td><td> 827</td></tr>\n",
       "\t<tr><td>reply tool         </td><td>desktop</td><td>wikitext    </td><td>1227</td></tr>\n",
       "</tbody>\n",
       "</table>\n"
      ],
      "text/latex": [
       "A grouped\\_df: 4 × 4\n",
       "\\begin{tabular}{llll}\n",
       " dt\\_type & platform & interface & total\\_events\\\\\n",
       " <chr> & <chr> & <chr> & <int>\\\\\n",
       "\\hline\n",
       "\t new discussion tool & desktop & visualeditor &    8\\\\\n",
       "\t new discussion tool & desktop & wikitext     &   16\\\\\n",
       "\t reply tool          & desktop & visualeditor &  827\\\\\n",
       "\t reply tool          & desktop & wikitext     & 1227\\\\\n",
       "\\end{tabular}\n"
      ],
      "text/markdown": [
       "\n",
       "A grouped_df: 4 × 4\n",
       "\n",
       "| dt_type &lt;chr&gt; | platform &lt;chr&gt; | interface &lt;chr&gt; | total_events &lt;int&gt; |\n",
       "|---|---|---|---|\n",
       "| new discussion tool | desktop | visualeditor |    8 |\n",
       "| new discussion tool | desktop | wikitext     |   16 |\n",
       "| reply tool          | desktop | visualeditor |  827 |\n",
       "| reply tool          | desktop | wikitext     | 1227 |\n",
       "\n"
      ],
      "text/plain": [
       "  dt_type             platform interface    total_events\n",
       "1 new discussion tool desktop  visualeditor    8        \n",
       "2 new discussion tool desktop  wikitext       16        \n",
       "3 reply tool          desktop  visualeditor  827        \n",
       "4 reply tool          desktop  wikitext     1227        "
      ]
     },
     "metadata": {},
     "output_type": "display_data"
    }
   ],
   "source": [
    "dt_events_byplatform <- collect_init_events %>%\n",
    "    group_by(dt_type, platform, interface) %>%\n",
    "    summarise(total_events = sum(n_events))\n",
    "\n",
    "dt_events_byplatform"
   ]
  },
  {
   "cell_type": "markdown",
   "metadata": {},
   "source": [
    "Events are recorded for both visualeditor and wikitext and only on platform as expected."
   ]
  },
  {
   "cell_type": "markdown",
   "metadata": {},
   "source": [
    "##  New Discussion Tool Events and Unique Sessions by Wiki"
   ]
  },
  {
   "cell_type": "code",
   "execution_count": 91,
   "metadata": {},
   "outputs": [
    {
     "name": "stderr",
     "output_type": "stream",
     "text": [
      "`summarise()` regrouping output by 'dt_type' (override with `.groups` argument)\n",
      "\n"
     ]
    },
    {
     "data": {
      "text/html": [
       "<table>\n",
       "<caption>A grouped_df: 3 × 4</caption>\n",
       "<thead>\n",
       "\t<tr><th scope=col>dt_type</th><th scope=col>wiki</th><th scope=col>total_events</th><th scope=col>distinct_sessions</th></tr>\n",
       "\t<tr><th scope=col>&lt;chr&gt;</th><th scope=col>&lt;chr&gt;</th><th scope=col>&lt;int&gt;</th><th scope=col>&lt;int&gt;</th></tr>\n",
       "</thead>\n",
       "<tbody>\n",
       "\t<tr><td>new discussion tool</td><td>cswiki    </td><td> 7</td><td> 7</td></tr>\n",
       "\t<tr><td>new discussion tool</td><td>cswikinews</td><td> 1</td><td> 1</td></tr>\n",
       "\t<tr><td>new discussion tool</td><td>enwiki    </td><td>16</td><td>16</td></tr>\n",
       "</tbody>\n",
       "</table>\n"
      ],
      "text/latex": [
       "A grouped\\_df: 3 × 4\n",
       "\\begin{tabular}{llll}\n",
       " dt\\_type & wiki & total\\_events & distinct\\_sessions\\\\\n",
       " <chr> & <chr> & <int> & <int>\\\\\n",
       "\\hline\n",
       "\t new discussion tool & cswiki     &  7 &  7\\\\\n",
       "\t new discussion tool & cswikinews &  1 &  1\\\\\n",
       "\t new discussion tool & enwiki     & 16 & 16\\\\\n",
       "\\end{tabular}\n"
      ],
      "text/markdown": [
       "\n",
       "A grouped_df: 3 × 4\n",
       "\n",
       "| dt_type &lt;chr&gt; | wiki &lt;chr&gt; | total_events &lt;int&gt; | distinct_sessions &lt;int&gt; |\n",
       "|---|---|---|---|\n",
       "| new discussion tool | cswiki     |  7 |  7 |\n",
       "| new discussion tool | cswikinews |  1 |  1 |\n",
       "| new discussion tool | enwiki     | 16 | 16 |\n",
       "\n"
      ],
      "text/plain": [
       "  dt_type             wiki       total_events distinct_sessions\n",
       "1 new discussion tool cswiki      7            7               \n",
       "2 new discussion tool cswikinews  1            1               \n",
       "3 new discussion tool enwiki     16           16               "
      ]
     },
     "metadata": {},
     "output_type": "display_data"
    }
   ],
   "source": [
    "dt_events_bywiki <- collect_init_events %>%\n",
    "    filter(dt_type == \"new discussion tool\") %>%\n",
    "    group_by(dt_type, wiki) %>%\n",
    "    summarise(total_events = sum(n_events),\n",
    "             distinct_sessions = n_distinct(session_id))\n",
    "\n",
    "dt_events_bywiki"
   ]
  },
  {
   "cell_type": "code",
   "execution_count": null,
   "metadata": {},
   "outputs": [],
   "source": [
    "New discussion tool events have been recorded on enwiki, cswikinews, and cswiki."
   ]
  },
  {
   "cell_type": "markdown",
   "metadata": {},
   "source": [
    "## Reply Tool vs New Discussion Tool Events by Init Mechanism"
   ]
  },
  {
   "cell_type": "code",
   "execution_count": 54,
   "metadata": {},
   "outputs": [
    {
     "name": "stderr",
     "output_type": "stream",
     "text": [
      "`summarise()` regrouping output by 'dt_type' (override with `.groups` argument)\n",
      "\n"
     ]
    },
    {
     "data": {
      "text/html": [
       "<table>\n",
       "<caption>A grouped_df: 2 × 3</caption>\n",
       "<thead>\n",
       "\t<tr><th scope=col>dt_type</th><th scope=col>init_mechanism</th><th scope=col>total_events</th></tr>\n",
       "\t<tr><th scope=col>&lt;chr&gt;</th><th scope=col>&lt;chr&gt;</th><th scope=col>&lt;int&gt;</th></tr>\n",
       "</thead>\n",
       "<tbody>\n",
       "\t<tr><td>new discussion tool</td><td>click</td><td>  24</td></tr>\n",
       "\t<tr><td>reply tool         </td><td>click</td><td>2048</td></tr>\n",
       "</tbody>\n",
       "</table>\n"
      ],
      "text/latex": [
       "A grouped\\_df: 2 × 3\n",
       "\\begin{tabular}{lll}\n",
       " dt\\_type & init\\_mechanism & total\\_events\\\\\n",
       " <chr> & <chr> & <int>\\\\\n",
       "\\hline\n",
       "\t new discussion tool & click &   24\\\\\n",
       "\t reply tool          & click & 2048\\\\\n",
       "\\end{tabular}\n"
      ],
      "text/markdown": [
       "\n",
       "A grouped_df: 2 × 3\n",
       "\n",
       "| dt_type &lt;chr&gt; | init_mechanism &lt;chr&gt; | total_events &lt;int&gt; |\n",
       "|---|---|---|\n",
       "| new discussion tool | click |   24 |\n",
       "| reply tool          | click | 2048 |\n",
       "\n"
      ],
      "text/plain": [
       "  dt_type             init_mechanism total_events\n",
       "1 new discussion tool click            24        \n",
       "2 reply tool          click          2048        "
      ]
     },
     "metadata": {},
     "output_type": "display_data"
    }
   ],
   "source": [
    "dt_events_bymechanism <- collect_init_events %>%\n",
    "    group_by(dt_type, init_mechanism) %>%\n",
    "    summarise(total_events = sum(n_events))\n",
    "\n",
    "dt_events_bymechanism "
   ]
  },
  {
   "cell_type": "markdown",
   "metadata": {},
   "source": [
    "Both the new discussion tool and reply tool events to date have been recorded as click events; however, `Init_mechanism` is not not needed to distinguish these two event types so this is fine. Changes will be needed to track new section events using the existing workflow, which will be done as part of [T272544](https://phabricator.wikimedia.org/T272544)"
   ]
  },
  {
   "cell_type": "markdown",
   "metadata": {},
   "source": [
    "## Reply Tool vs New Discussion Tool Edit Completion Rate\n",
    "\n",
    "Check to make sure it will be possible to calculate edit completion rate for each tool type, which is one of the key metrics for this tool."
   ]
  },
  {
   "cell_type": "code",
   "execution_count": 71,
   "metadata": {},
   "outputs": [],
   "source": [
    "query <- \n",
    "\"WITH init_sessions AS (\n",
    "--first find all dt and reply tool events based on init type\n",
    "SELECT \n",
    "  event.editing_session_id AS session_id,\n",
    "  IF(event.init_type = 'section', 'new discussion tool', 'reply tool') as dt_type,\n",
    "  wiki AS wiki\n",
    "FROM event.editattemptstep\n",
    "WHERE\n",
    "  year = 2021 \n",
    "  AND dt >= '2021-01-12'  -- when instrumetation was deployed\n",
    "  AND event.action = 'init'\n",
    "  AND event.integration= 'discussiontools'\n",
    ")\n",
    "\n",
    "-- Find associated savesuccess events\n",
    "SELECT\n",
    "  eas.event.user_editcount AS edit_count,\n",
    "  eas.event.user_id AS user,\n",
    "  init_sessions.dt_type as dt_type,\n",
    "  eas.event.editing_session_id AS session_id,\n",
    "  eas.wiki AS wiki,\n",
    "  COUNT(*) AS save_events\n",
    "FROM event.editattemptstep eas\n",
    "INNER JOIN\n",
    "    init_sessions \n",
    "    ON eas.event.editing_session_id = init_sessions.session_id \n",
    "    AND eas.wiki = init_sessions.wiki\n",
    "WHERE\n",
    "  year = 2021 \n",
    "-- events since deployment date\n",
    "  AND dt >= '2021-01-12'\n",
    "  AND eas.event.action = 'saveSuccess'\n",
    "  AND eas.event.integration= 'discussiontools'\n",
    "-- remove anonymous users\n",
    "  AND eas.event.user_id != 0\n",
    "GROUP BY \n",
    "  eas.event.user_id,\n",
    "  init_sessions.dt_type,\n",
    "  eas.event.user_editcount,\n",
    "  eas.event.editing_session_id,\n",
    "  eas.wiki\n",
    "\""
   ]
  },
  {
   "cell_type": "code",
   "execution_count": 72,
   "metadata": {},
   "outputs": [
    {
     "name": "stderr",
     "output_type": "stream",
     "text": [
      "Don't forget to authenticate with Kerberos using kinit\n",
      "\n"
     ]
    }
   ],
   "source": [
    "collect_savesuccess_events <- wmfdata::query_hive(query)"
   ]
  },
  {
   "cell_type": "code",
   "execution_count": 99,
   "metadata": {},
   "outputs": [
    {
     "name": "stderr",
     "output_type": "stream",
     "text": [
      "`summarise()` ungrouping output (override with `.groups` argument)\n",
      "\n"
     ]
    },
    {
     "data": {
      "text/html": [
       "<table>\n",
       "<caption>A tibble: 2 × 3</caption>\n",
       "<thead>\n",
       "\t<tr><th scope=col>dt_type</th><th scope=col>num_save_sessions</th><th scope=col>num_save_events</th></tr>\n",
       "\t<tr><th scope=col>&lt;chr&gt;</th><th scope=col>&lt;int&gt;</th><th scope=col>&lt;int&gt;</th></tr>\n",
       "</thead>\n",
       "<tbody>\n",
       "\t<tr><td>new discussion tool</td><td>  6</td><td>  6</td></tr>\n",
       "\t<tr><td>reply tool         </td><td>856</td><td>856</td></tr>\n",
       "</tbody>\n",
       "</table>\n"
      ],
      "text/latex": [
       "A tibble: 2 × 3\n",
       "\\begin{tabular}{lll}\n",
       " dt\\_type & num\\_save\\_sessions & num\\_save\\_events\\\\\n",
       " <chr> & <int> & <int>\\\\\n",
       "\\hline\n",
       "\t new discussion tool &   6 &   6\\\\\n",
       "\t reply tool          & 856 & 856\\\\\n",
       "\\end{tabular}\n"
      ],
      "text/markdown": [
       "\n",
       "A tibble: 2 × 3\n",
       "\n",
       "| dt_type &lt;chr&gt; | num_save_sessions &lt;int&gt; | num_save_events &lt;int&gt; |\n",
       "|---|---|---|\n",
       "| new discussion tool |   6 |   6 |\n",
       "| reply tool          | 856 | 856 |\n",
       "\n"
      ],
      "text/plain": [
       "  dt_type             num_save_sessions num_save_events\n",
       "1 new discussion tool   6                 6            \n",
       "2 reply tool          856               856            "
      ]
     },
     "metadata": {},
     "output_type": "display_data"
    }
   ],
   "source": [
    "dt_save_events_bytype <- collect_savesuccess_events %>%\n",
    "    group_by ( dt_type)  %>%\n",
    "    summarize (num_save_sessions = n_distinct(session_id),\n",
    "              num_save_events = sum(save_events))\n",
    "\n",
    "dt_save_events_bytype"
   ]
  },
  {
   "cell_type": "code",
   "execution_count": 100,
   "metadata": {},
   "outputs": [
    {
     "name": "stderr",
     "output_type": "stream",
     "text": [
      "`summarise()` regrouping output by 'wiki' (override with `.groups` argument)\n",
      "\n"
     ]
    },
    {
     "data": {
      "text/html": [
       "<table>\n",
       "<caption>A grouped_df: 2 × 3</caption>\n",
       "<thead>\n",
       "\t<tr><th scope=col>wiki</th><th scope=col>dt_type</th><th scope=col>num_save_sessions</th></tr>\n",
       "\t<tr><th scope=col>&lt;chr&gt;</th><th scope=col>&lt;chr&gt;</th><th scope=col>&lt;int&gt;</th></tr>\n",
       "</thead>\n",
       "<tbody>\n",
       "\t<tr><td>cswiki</td><td>new discussion tool</td><td>1</td></tr>\n",
       "\t<tr><td>enwiki</td><td>new discussion tool</td><td>5</td></tr>\n",
       "</tbody>\n",
       "</table>\n"
      ],
      "text/latex": [
       "A grouped\\_df: 2 × 3\n",
       "\\begin{tabular}{lll}\n",
       " wiki & dt\\_type & num\\_save\\_sessions\\\\\n",
       " <chr> & <chr> & <int>\\\\\n",
       "\\hline\n",
       "\t cswiki & new discussion tool & 1\\\\\n",
       "\t enwiki & new discussion tool & 5\\\\\n",
       "\\end{tabular}\n"
      ],
      "text/markdown": [
       "\n",
       "A grouped_df: 2 × 3\n",
       "\n",
       "| wiki &lt;chr&gt; | dt_type &lt;chr&gt; | num_save_sessions &lt;int&gt; |\n",
       "|---|---|---|\n",
       "| cswiki | new discussion tool | 1 |\n",
       "| enwiki | new discussion tool | 5 |\n",
       "\n"
      ],
      "text/plain": [
       "  wiki   dt_type             num_save_sessions\n",
       "1 cswiki new discussion tool 1                \n",
       "2 enwiki new discussion tool 5                "
      ]
     },
     "metadata": {},
     "output_type": "display_data"
    }
   ],
   "source": [
    "new_dt_save_events_bywiki <- collect_savesuccess_events %>%\n",
    "    filter(dt_type == 'new discussion tool') %>%\n",
    "    group_by (wiki, dt_type)  %>%\n",
    "    summarize (num_save_sessions = n_distinct(session_id))\n",
    "\n",
    "new_dt_save_events_bywiki"
   ]
  },
  {
   "cell_type": "markdown",
   "metadata": {},
   "source": [
    "A total of 6 new discussion tool sessions met `saveSuccess`. These are the same wikis where new discussion init events were also logged.\n"
   ]
  },
  {
   "cell_type": "code",
   "execution_count": null,
   "metadata": {},
   "outputs": [],
   "source": []
  }
 ],
 "metadata": {
  "kernelspec": {
   "display_name": "R",
   "language": "R",
   "name": "ir"
  },
  "language_info": {
   "codemirror_mode": "r",
   "file_extension": ".r",
   "mimetype": "text/x-r-source",
   "name": "R",
   "pygments_lexer": "r",
   "version": "3.5.2"
  }
 },
 "nbformat": 4,
 "nbformat_minor": 4
}
