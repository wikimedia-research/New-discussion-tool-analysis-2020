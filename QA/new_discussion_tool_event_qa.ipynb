{
 "cells": [
  {
   "cell_type": "markdown",
   "metadata": {},
   "source": [
    "# New Discussion Tool Instrumentation QA"
   ]
  },
  {
   "cell_type": "markdown",
   "metadata": {},
   "source": [
    "1. [Differentiate between events emitted from the Reply Tool and the New Discussion Tool](#Differentiate-between-events-emitted-from-the-Reply-Tool-and-the-New-Discussion-Tool)\n",
    "2. [Differentiate between edits to existing sections and the creation of new sections](#Differentiate-between-edits-to-existing-sections-and-the-creation-of-new-sections)"
   ]
  },
  {
   "cell_type": "markdown",
   "metadata": {},
   "source": [
    "## Differentiate between events emitted from the Reply Tool and the New Discussion Tool\n",
    "\n",
    "[Task](https://phabricator.wikimedia.org/T265099)"
   ]
  },
  {
   "cell_type": "markdown",
   "metadata": {},
   "source": [
    "The EditAttemptStep schema's existing init_type field will be used to differentiate between events emitted from the Reply Tool and the New Discussion Tool.\n",
    "\n",
    "Events from the Reply Tool and New Discussion Tool should be logged as follows:\n",
    "\n",
    "* Reply Tool events: event.action = 'init', event.integration = 'discussiontools', event.init_type = 'page'\n",
    "* New Discussion Tool events: event.action = 'init', event.integration = 'discussiontools', event.init_type = 'section'\n",
    "\n",
    "The change to the the `init_type` field was made on 12 January 2021."
   ]
  },
  {
   "cell_type": "code",
   "execution_count": 56,
   "metadata": {},
   "outputs": [],
   "source": [
    "shhh <- function(expr) suppressPackageStartupMessages(suppressWarnings(suppressMessages(expr)))\n",
    "shhh({\n",
    "    library(magrittr); library(zeallot); library(glue); library(tidyverse); library(zoo); library(lubridate)\n",
    "    library(scales)\n",
    "})"
   ]
  },
  {
   "cell_type": "code",
   "execution_count": 87,
   "metadata": {},
   "outputs": [],
   "source": [
    "# Collect init events by discussion tool type\n",
    "query <-\n",
    "\"\n",
    "SELECT \n",
    "  CONCAT(year, '-', LPAD(month, 2, '0'), '-', LPAD(day, 2, '0')) as date,\n",
    "  wiki AS wiki,\n",
    "  event.editing_session_id AS session_id,\n",
    "  event.platform as platform,\n",
    "  event.editor_interface as interface,\n",
    "  event.init_mechanism as init_mechanism,\n",
    "  IF(event.init_type = 'section', 'new discussion tool', 'reply tool') as dt_type,\n",
    "  COUNT(*) as n_events\n",
    "FROM event.editattemptstep\n",
    "WHERE\n",
    "  event.action = 'init'\n",
    "  AND event.integration = 'discussiontools'\n",
    "  AND year = 2021\n",
    "  AND dt >= '2021-01-01'\n",
    "GROUP BY\n",
    "  CONCAT(year, '-', LPAD(month, 2, '0'), '-', LPAD(day, 2, '0')),\n",
    "  wiki, \n",
    "  event.editing_session_id,\n",
    "  event.init_mechanism,\n",
    "  event.platform,\n",
    "  event.editor_interface,\n",
    "  IF(event.init_type = 'section', 'new discussion tool', 'reply tool') \n",
    "\""
   ]
  },
  {
   "cell_type": "code",
   "execution_count": 88,
   "metadata": {},
   "outputs": [
    {
     "name": "stderr",
     "output_type": "stream",
     "text": [
      "Don't forget to authenticate with Kerberos using kinit\n",
      "\n"
     ]
    }
   ],
   "source": [
    "collect_init_events <- wmfdata::query_hive(query)"
   ]
  },
  {
   "cell_type": "markdown",
   "metadata": {},
   "source": [
    "## Reply Tool vs New Discussion Tool Events by Date "
   ]
  },
  {
   "cell_type": "code",
   "execution_count": 89,
   "metadata": {},
   "outputs": [
    {
     "name": "stderr",
     "output_type": "stream",
     "text": [
      "`summarise()` regrouping output by 'date' (override with `.groups` argument)\n",
      "\n"
     ]
    },
    {
     "data": {
      "text/html": [
       "<table>\n",
       "<caption>A grouped_df: 34 × 3</caption>\n",
       "<thead>\n",
       "\t<tr><th scope=col>date</th><th scope=col>dt_type</th><th scope=col>total_events</th></tr>\n",
       "\t<tr><th scope=col>&lt;chr&gt;</th><th scope=col>&lt;chr&gt;</th><th scope=col>&lt;int&gt;</th></tr>\n",
       "</thead>\n",
       "<tbody>\n",
       "\t<tr><td>2021-01-01</td><td>reply tool         </td><td> 80</td></tr>\n",
       "\t<tr><td>2021-01-02</td><td>reply tool         </td><td> 83</td></tr>\n",
       "\t<tr><td>2021-01-03</td><td>reply tool         </td><td> 91</td></tr>\n",
       "\t<tr><td>2021-01-04</td><td>reply tool         </td><td> 78</td></tr>\n",
       "\t<tr><td>2021-01-05</td><td>reply tool         </td><td> 89</td></tr>\n",
       "\t<tr><td>2021-01-06</td><td>reply tool         </td><td> 76</td></tr>\n",
       "\t<tr><td>2021-01-07</td><td>reply tool         </td><td> 68</td></tr>\n",
       "\t<tr><td>2021-01-08</td><td>reply tool         </td><td> 64</td></tr>\n",
       "\t<tr><td>2021-01-09</td><td>reply tool         </td><td> 59</td></tr>\n",
       "\t<tr><td>2021-01-10</td><td>reply tool         </td><td> 79</td></tr>\n",
       "\t<tr><td>2021-01-11</td><td>reply tool         </td><td> 58</td></tr>\n",
       "\t<tr><td>2021-01-12</td><td>reply tool         </td><td> 79</td></tr>\n",
       "\t<tr><td>2021-01-13</td><td>reply tool         </td><td> 53</td></tr>\n",
       "\t<tr><td>2021-01-14</td><td>reply tool         </td><td> 66</td></tr>\n",
       "\t<tr><td>2021-01-15</td><td>reply tool         </td><td> 87</td></tr>\n",
       "\t<tr><td>2021-01-16</td><td>reply tool         </td><td> 87</td></tr>\n",
       "\t<tr><td>2021-01-17</td><td>reply tool         </td><td> 83</td></tr>\n",
       "\t<tr><td>2021-01-18</td><td>reply tool         </td><td> 57</td></tr>\n",
       "\t<tr><td>2021-01-19</td><td>reply tool         </td><td> 93</td></tr>\n",
       "\t<tr><td>2021-01-20</td><td>reply tool         </td><td> 67</td></tr>\n",
       "\t<tr><td>2021-01-21</td><td>new discussion tool</td><td>  1</td></tr>\n",
       "\t<tr><td>2021-01-21</td><td>reply tool         </td><td> 77</td></tr>\n",
       "\t<tr><td>2021-01-22</td><td>new discussion tool</td><td>  5</td></tr>\n",
       "\t<tr><td>2021-01-22</td><td>reply tool         </td><td> 80</td></tr>\n",
       "\t<tr><td>2021-01-23</td><td>new discussion tool</td><td> 10</td></tr>\n",
       "\t<tr><td>2021-01-23</td><td>reply tool         </td><td> 70</td></tr>\n",
       "\t<tr><td>2021-01-24</td><td>new discussion tool</td><td>  2</td></tr>\n",
       "\t<tr><td>2021-01-24</td><td>reply tool         </td><td> 74</td></tr>\n",
       "\t<tr><td>2021-01-25</td><td>new discussion tool</td><td>  1</td></tr>\n",
       "\t<tr><td>2021-01-25</td><td>reply tool         </td><td> 71</td></tr>\n",
       "\t<tr><td>2021-01-26</td><td>new discussion tool</td><td>  1</td></tr>\n",
       "\t<tr><td>2021-01-26</td><td>reply tool         </td><td>104</td></tr>\n",
       "\t<tr><td>2021-01-27</td><td>new discussion tool</td><td>  4</td></tr>\n",
       "\t<tr><td>2021-01-27</td><td>reply tool         </td><td> 81</td></tr>\n",
       "</tbody>\n",
       "</table>\n"
      ],
      "text/latex": [
       "A grouped\\_df: 34 × 3\n",
       "\\begin{tabular}{lll}\n",
       " date & dt\\_type & total\\_events\\\\\n",
       " <chr> & <chr> & <int>\\\\\n",
       "\\hline\n",
       "\t 2021-01-01 & reply tool          &  80\\\\\n",
       "\t 2021-01-02 & reply tool          &  83\\\\\n",
       "\t 2021-01-03 & reply tool          &  91\\\\\n",
       "\t 2021-01-04 & reply tool          &  78\\\\\n",
       "\t 2021-01-05 & reply tool          &  89\\\\\n",
       "\t 2021-01-06 & reply tool          &  76\\\\\n",
       "\t 2021-01-07 & reply tool          &  68\\\\\n",
       "\t 2021-01-08 & reply tool          &  64\\\\\n",
       "\t 2021-01-09 & reply tool          &  59\\\\\n",
       "\t 2021-01-10 & reply tool          &  79\\\\\n",
       "\t 2021-01-11 & reply tool          &  58\\\\\n",
       "\t 2021-01-12 & reply tool          &  79\\\\\n",
       "\t 2021-01-13 & reply tool          &  53\\\\\n",
       "\t 2021-01-14 & reply tool          &  66\\\\\n",
       "\t 2021-01-15 & reply tool          &  87\\\\\n",
       "\t 2021-01-16 & reply tool          &  87\\\\\n",
       "\t 2021-01-17 & reply tool          &  83\\\\\n",
       "\t 2021-01-18 & reply tool          &  57\\\\\n",
       "\t 2021-01-19 & reply tool          &  93\\\\\n",
       "\t 2021-01-20 & reply tool          &  67\\\\\n",
       "\t 2021-01-21 & new discussion tool &   1\\\\\n",
       "\t 2021-01-21 & reply tool          &  77\\\\\n",
       "\t 2021-01-22 & new discussion tool &   5\\\\\n",
       "\t 2021-01-22 & reply tool          &  80\\\\\n",
       "\t 2021-01-23 & new discussion tool &  10\\\\\n",
       "\t 2021-01-23 & reply tool          &  70\\\\\n",
       "\t 2021-01-24 & new discussion tool &   2\\\\\n",
       "\t 2021-01-24 & reply tool          &  74\\\\\n",
       "\t 2021-01-25 & new discussion tool &   1\\\\\n",
       "\t 2021-01-25 & reply tool          &  71\\\\\n",
       "\t 2021-01-26 & new discussion tool &   1\\\\\n",
       "\t 2021-01-26 & reply tool          & 104\\\\\n",
       "\t 2021-01-27 & new discussion tool &   4\\\\\n",
       "\t 2021-01-27 & reply tool          &  81\\\\\n",
       "\\end{tabular}\n"
      ],
      "text/markdown": [
       "\n",
       "A grouped_df: 34 × 3\n",
       "\n",
       "| date &lt;chr&gt; | dt_type &lt;chr&gt; | total_events &lt;int&gt; |\n",
       "|---|---|---|\n",
       "| 2021-01-01 | reply tool          |  80 |\n",
       "| 2021-01-02 | reply tool          |  83 |\n",
       "| 2021-01-03 | reply tool          |  91 |\n",
       "| 2021-01-04 | reply tool          |  78 |\n",
       "| 2021-01-05 | reply tool          |  89 |\n",
       "| 2021-01-06 | reply tool          |  76 |\n",
       "| 2021-01-07 | reply tool          |  68 |\n",
       "| 2021-01-08 | reply tool          |  64 |\n",
       "| 2021-01-09 | reply tool          |  59 |\n",
       "| 2021-01-10 | reply tool          |  79 |\n",
       "| 2021-01-11 | reply tool          |  58 |\n",
       "| 2021-01-12 | reply tool          |  79 |\n",
       "| 2021-01-13 | reply tool          |  53 |\n",
       "| 2021-01-14 | reply tool          |  66 |\n",
       "| 2021-01-15 | reply tool          |  87 |\n",
       "| 2021-01-16 | reply tool          |  87 |\n",
       "| 2021-01-17 | reply tool          |  83 |\n",
       "| 2021-01-18 | reply tool          |  57 |\n",
       "| 2021-01-19 | reply tool          |  93 |\n",
       "| 2021-01-20 | reply tool          |  67 |\n",
       "| 2021-01-21 | new discussion tool |   1 |\n",
       "| 2021-01-21 | reply tool          |  77 |\n",
       "| 2021-01-22 | new discussion tool |   5 |\n",
       "| 2021-01-22 | reply tool          |  80 |\n",
       "| 2021-01-23 | new discussion tool |  10 |\n",
       "| 2021-01-23 | reply tool          |  70 |\n",
       "| 2021-01-24 | new discussion tool |   2 |\n",
       "| 2021-01-24 | reply tool          |  74 |\n",
       "| 2021-01-25 | new discussion tool |   1 |\n",
       "| 2021-01-25 | reply tool          |  71 |\n",
       "| 2021-01-26 | new discussion tool |   1 |\n",
       "| 2021-01-26 | reply tool          | 104 |\n",
       "| 2021-01-27 | new discussion tool |   4 |\n",
       "| 2021-01-27 | reply tool          |  81 |\n",
       "\n"
      ],
      "text/plain": [
       "   date       dt_type             total_events\n",
       "1  2021-01-01 reply tool           80         \n",
       "2  2021-01-02 reply tool           83         \n",
       "3  2021-01-03 reply tool           91         \n",
       "4  2021-01-04 reply tool           78         \n",
       "5  2021-01-05 reply tool           89         \n",
       "6  2021-01-06 reply tool           76         \n",
       "7  2021-01-07 reply tool           68         \n",
       "8  2021-01-08 reply tool           64         \n",
       "9  2021-01-09 reply tool           59         \n",
       "10 2021-01-10 reply tool           79         \n",
       "11 2021-01-11 reply tool           58         \n",
       "12 2021-01-12 reply tool           79         \n",
       "13 2021-01-13 reply tool           53         \n",
       "14 2021-01-14 reply tool           66         \n",
       "15 2021-01-15 reply tool           87         \n",
       "16 2021-01-16 reply tool           87         \n",
       "17 2021-01-17 reply tool           83         \n",
       "18 2021-01-18 reply tool           57         \n",
       "19 2021-01-19 reply tool           93         \n",
       "20 2021-01-20 reply tool           67         \n",
       "21 2021-01-21 new discussion tool   1         \n",
       "22 2021-01-21 reply tool           77         \n",
       "23 2021-01-22 new discussion tool   5         \n",
       "24 2021-01-22 reply tool           80         \n",
       "25 2021-01-23 new discussion tool  10         \n",
       "26 2021-01-23 reply tool           70         \n",
       "27 2021-01-24 new discussion tool   2         \n",
       "28 2021-01-24 reply tool           74         \n",
       "29 2021-01-25 new discussion tool   1         \n",
       "30 2021-01-25 reply tool           71         \n",
       "31 2021-01-26 new discussion tool   1         \n",
       "32 2021-01-26 reply tool          104         \n",
       "33 2021-01-27 new discussion tool   4         \n",
       "34 2021-01-27 reply tool           81         "
      ]
     },
     "metadata": {},
     "output_type": "display_data"
    }
   ],
   "source": [
    "dt_events_bytype <- collect_init_events %>%\n",
    "    group_by(date, dt_type) %>%\n",
    "    summarise(total_events = sum(n_events))\n",
    "\n",
    "dt_events_bytype"
   ]
  },
  {
   "cell_type": "markdown",
   "metadata": {},
   "source": [
    "Both reply and new discussion tool events are being logged and it possible to differentiate based on the `init_type`. There are fewer `init_type = section` events as these are associated with the new discussion tool, which has not been deployed as long as the reply tool events. \n",
    "\n",
    "A total of 24 new discussion tool events have been logged since 21 January 2021 as expected.\n"
   ]
  },
  {
   "cell_type": "markdown",
   "metadata": {},
   "source": [
    "## Reply Tool vs New Discussion Tool Events by Platform and Editor Interface"
   ]
  },
  {
   "cell_type": "code",
   "execution_count": 90,
   "metadata": {},
   "outputs": [
    {
     "name": "stderr",
     "output_type": "stream",
     "text": [
      "`summarise()` regrouping output by 'dt_type', 'platform' (override with `.groups` argument)\n",
      "\n"
     ]
    },
    {
     "data": {
      "text/html": [
       "<table>\n",
       "<caption>A grouped_df: 4 × 4</caption>\n",
       "<thead>\n",
       "\t<tr><th scope=col>dt_type</th><th scope=col>platform</th><th scope=col>interface</th><th scope=col>total_events</th></tr>\n",
       "\t<tr><th scope=col>&lt;chr&gt;</th><th scope=col>&lt;chr&gt;</th><th scope=col>&lt;chr&gt;</th><th scope=col>&lt;int&gt;</th></tr>\n",
       "</thead>\n",
       "<tbody>\n",
       "\t<tr><td>new discussion tool</td><td>desktop</td><td>visualeditor</td><td>   8</td></tr>\n",
       "\t<tr><td>new discussion tool</td><td>desktop</td><td>wikitext    </td><td>  16</td></tr>\n",
       "\t<tr><td>reply tool         </td><td>desktop</td><td>visualeditor</td><td> 827</td></tr>\n",
       "\t<tr><td>reply tool         </td><td>desktop</td><td>wikitext    </td><td>1227</td></tr>\n",
       "</tbody>\n",
       "</table>\n"
      ],
      "text/latex": [
       "A grouped\\_df: 4 × 4\n",
       "\\begin{tabular}{llll}\n",
       " dt\\_type & platform & interface & total\\_events\\\\\n",
       " <chr> & <chr> & <chr> & <int>\\\\\n",
       "\\hline\n",
       "\t new discussion tool & desktop & visualeditor &    8\\\\\n",
       "\t new discussion tool & desktop & wikitext     &   16\\\\\n",
       "\t reply tool          & desktop & visualeditor &  827\\\\\n",
       "\t reply tool          & desktop & wikitext     & 1227\\\\\n",
       "\\end{tabular}\n"
      ],
      "text/markdown": [
       "\n",
       "A grouped_df: 4 × 4\n",
       "\n",
       "| dt_type &lt;chr&gt; | platform &lt;chr&gt; | interface &lt;chr&gt; | total_events &lt;int&gt; |\n",
       "|---|---|---|---|\n",
       "| new discussion tool | desktop | visualeditor |    8 |\n",
       "| new discussion tool | desktop | wikitext     |   16 |\n",
       "| reply tool          | desktop | visualeditor |  827 |\n",
       "| reply tool          | desktop | wikitext     | 1227 |\n",
       "\n"
      ],
      "text/plain": [
       "  dt_type             platform interface    total_events\n",
       "1 new discussion tool desktop  visualeditor    8        \n",
       "2 new discussion tool desktop  wikitext       16        \n",
       "3 reply tool          desktop  visualeditor  827        \n",
       "4 reply tool          desktop  wikitext     1227        "
      ]
     },
     "metadata": {},
     "output_type": "display_data"
    }
   ],
   "source": [
    "dt_events_byplatform <- collect_init_events %>%\n",
    "    group_by(dt_type, platform, interface) %>%\n",
    "    summarise(total_events = sum(n_events))\n",
    "\n",
    "dt_events_byplatform"
   ]
  },
  {
   "cell_type": "markdown",
   "metadata": {},
   "source": [
    "Events are recorded for both visualeditor and wikitext and only on platform as expected."
   ]
  },
  {
   "cell_type": "markdown",
   "metadata": {},
   "source": [
    "##  New Discussion Tool Events and Unique Sessions by Wiki"
   ]
  },
  {
   "cell_type": "code",
   "execution_count": 91,
   "metadata": {},
   "outputs": [
    {
     "name": "stderr",
     "output_type": "stream",
     "text": [
      "`summarise()` regrouping output by 'dt_type' (override with `.groups` argument)\n",
      "\n"
     ]
    },
    {
     "data": {
      "text/html": [
       "<table>\n",
       "<caption>A grouped_df: 3 × 4</caption>\n",
       "<thead>\n",
       "\t<tr><th scope=col>dt_type</th><th scope=col>wiki</th><th scope=col>total_events</th><th scope=col>distinct_sessions</th></tr>\n",
       "\t<tr><th scope=col>&lt;chr&gt;</th><th scope=col>&lt;chr&gt;</th><th scope=col>&lt;int&gt;</th><th scope=col>&lt;int&gt;</th></tr>\n",
       "</thead>\n",
       "<tbody>\n",
       "\t<tr><td>new discussion tool</td><td>cswiki    </td><td> 7</td><td> 7</td></tr>\n",
       "\t<tr><td>new discussion tool</td><td>cswikinews</td><td> 1</td><td> 1</td></tr>\n",
       "\t<tr><td>new discussion tool</td><td>enwiki    </td><td>16</td><td>16</td></tr>\n",
       "</tbody>\n",
       "</table>\n"
      ],
      "text/latex": [
       "A grouped\\_df: 3 × 4\n",
       "\\begin{tabular}{llll}\n",
       " dt\\_type & wiki & total\\_events & distinct\\_sessions\\\\\n",
       " <chr> & <chr> & <int> & <int>\\\\\n",
       "\\hline\n",
       "\t new discussion tool & cswiki     &  7 &  7\\\\\n",
       "\t new discussion tool & cswikinews &  1 &  1\\\\\n",
       "\t new discussion tool & enwiki     & 16 & 16\\\\\n",
       "\\end{tabular}\n"
      ],
      "text/markdown": [
       "\n",
       "A grouped_df: 3 × 4\n",
       "\n",
       "| dt_type &lt;chr&gt; | wiki &lt;chr&gt; | total_events &lt;int&gt; | distinct_sessions &lt;int&gt; |\n",
       "|---|---|---|---|\n",
       "| new discussion tool | cswiki     |  7 |  7 |\n",
       "| new discussion tool | cswikinews |  1 |  1 |\n",
       "| new discussion tool | enwiki     | 16 | 16 |\n",
       "\n"
      ],
      "text/plain": [
       "  dt_type             wiki       total_events distinct_sessions\n",
       "1 new discussion tool cswiki      7            7               \n",
       "2 new discussion tool cswikinews  1            1               \n",
       "3 new discussion tool enwiki     16           16               "
      ]
     },
     "metadata": {},
     "output_type": "display_data"
    }
   ],
   "source": [
    "dt_events_bywiki <- collect_init_events %>%\n",
    "    filter(dt_type == \"new discussion tool\") %>%\n",
    "    group_by(dt_type, wiki) %>%\n",
    "    summarise(total_events = sum(n_events),\n",
    "             distinct_sessions = n_distinct(session_id))\n",
    "\n",
    "dt_events_bywiki"
   ]
  },
  {
   "cell_type": "code",
   "execution_count": null,
   "metadata": {},
   "outputs": [],
   "source": [
    "New discussion tool events have been recorded on enwiki, cswikinews, and cswiki."
   ]
  },
  {
   "cell_type": "markdown",
   "metadata": {},
   "source": [
    "## Reply Tool vs New Discussion Tool Events by Init Mechanism"
   ]
  },
  {
   "cell_type": "code",
   "execution_count": 54,
   "metadata": {},
   "outputs": [
    {
     "name": "stderr",
     "output_type": "stream",
     "text": [
      "`summarise()` regrouping output by 'dt_type' (override with `.groups` argument)\n",
      "\n"
     ]
    },
    {
     "data": {
      "text/html": [
       "<table>\n",
       "<caption>A grouped_df: 2 × 3</caption>\n",
       "<thead>\n",
       "\t<tr><th scope=col>dt_type</th><th scope=col>init_mechanism</th><th scope=col>total_events</th></tr>\n",
       "\t<tr><th scope=col>&lt;chr&gt;</th><th scope=col>&lt;chr&gt;</th><th scope=col>&lt;int&gt;</th></tr>\n",
       "</thead>\n",
       "<tbody>\n",
       "\t<tr><td>new discussion tool</td><td>click</td><td>  24</td></tr>\n",
       "\t<tr><td>reply tool         </td><td>click</td><td>2048</td></tr>\n",
       "</tbody>\n",
       "</table>\n"
      ],
      "text/latex": [
       "A grouped\\_df: 2 × 3\n",
       "\\begin{tabular}{lll}\n",
       " dt\\_type & init\\_mechanism & total\\_events\\\\\n",
       " <chr> & <chr> & <int>\\\\\n",
       "\\hline\n",
       "\t new discussion tool & click &   24\\\\\n",
       "\t reply tool          & click & 2048\\\\\n",
       "\\end{tabular}\n"
      ],
      "text/markdown": [
       "\n",
       "A grouped_df: 2 × 3\n",
       "\n",
       "| dt_type &lt;chr&gt; | init_mechanism &lt;chr&gt; | total_events &lt;int&gt; |\n",
       "|---|---|---|\n",
       "| new discussion tool | click |   24 |\n",
       "| reply tool          | click | 2048 |\n",
       "\n"
      ],
      "text/plain": [
       "  dt_type             init_mechanism total_events\n",
       "1 new discussion tool click            24        \n",
       "2 reply tool          click          2048        "
      ]
     },
     "metadata": {},
     "output_type": "display_data"
    }
   ],
   "source": [
    "dt_events_bymechanism <- collect_init_events %>%\n",
    "    group_by(dt_type, init_mechanism) %>%\n",
    "    summarise(total_events = sum(n_events))\n",
    "\n",
    "dt_events_bymechanism "
   ]
  },
  {
   "cell_type": "markdown",
   "metadata": {},
   "source": [
    "Both the new discussion tool and reply tool events to date have been recorded as click events; however, `Init_mechanism` is not not needed to distinguish these two event types so this is fine. Changes will be needed to track new section events using the existing workflow, which will be done as part of [T272544](https://phabricator.wikimedia.org/T272544)"
   ]
  },
  {
   "cell_type": "markdown",
   "metadata": {},
   "source": [
    "## Reply Tool vs New Discussion Tool Edit Completion Rate\n",
    "\n",
    "Check to make sure it will be possible to calculate edit completion rate for each tool type, which is one of the key metrics for this tool."
   ]
  },
  {
   "cell_type": "code",
   "execution_count": 71,
   "metadata": {},
   "outputs": [],
   "source": [
    "query <- \n",
    "\"WITH init_sessions AS (\n",
    "--first find all dt and reply tool events based on init type\n",
    "SELECT \n",
    "  event.editing_session_id AS session_id,\n",
    "  IF(event.init_type = 'section', 'new discussion tool', 'reply tool') as dt_type,\n",
    "  wiki AS wiki\n",
    "FROM event.editattemptstep\n",
    "WHERE\n",
    "  year = 2021 \n",
    "  AND dt >= '2021-01-12'  -- when instrumetation was deployed\n",
    "  AND event.action = 'init'\n",
    "  AND event.integration= 'discussiontools'\n",
    ")\n",
    "\n",
    "-- Find associated savesuccess events\n",
    "SELECT\n",
    "  eas.event.user_editcount AS edit_count,\n",
    "  eas.event.user_id AS user,\n",
    "  init_sessions.dt_type as dt_type,\n",
    "  eas.event.editing_session_id AS session_id,\n",
    "  eas.wiki AS wiki,\n",
    "  COUNT(*) AS save_events\n",
    "FROM event.editattemptstep eas\n",
    "INNER JOIN\n",
    "    init_sessions \n",
    "    ON eas.event.editing_session_id = init_sessions.session_id \n",
    "    AND eas.wiki = init_sessions.wiki\n",
    "WHERE\n",
    "  year = 2021 \n",
    "-- events since deployment date\n",
    "  AND dt >= '2021-01-12'\n",
    "  AND eas.event.action = 'saveSuccess'\n",
    "  AND eas.event.integration= 'discussiontools'\n",
    "-- remove anonymous users\n",
    "  AND eas.event.user_id != 0\n",
    "GROUP BY \n",
    "  eas.event.user_id,\n",
    "  init_sessions.dt_type,\n",
    "  eas.event.user_editcount,\n",
    "  eas.event.editing_session_id,\n",
    "  eas.wiki\n",
    "\""
   ]
  },
  {
   "cell_type": "code",
   "execution_count": 72,
   "metadata": {},
   "outputs": [
    {
     "name": "stderr",
     "output_type": "stream",
     "text": [
      "Don't forget to authenticate with Kerberos using kinit\n",
      "\n"
     ]
    }
   ],
   "source": [
    "collect_savesuccess_events <- wmfdata::query_hive(query)"
   ]
  },
  {
   "cell_type": "code",
   "execution_count": 99,
   "metadata": {},
   "outputs": [
    {
     "name": "stderr",
     "output_type": "stream",
     "text": [
      "`summarise()` ungrouping output (override with `.groups` argument)\n",
      "\n"
     ]
    },
    {
     "data": {
      "text/html": [
       "<table>\n",
       "<caption>A tibble: 2 × 3</caption>\n",
       "<thead>\n",
       "\t<tr><th scope=col>dt_type</th><th scope=col>num_save_sessions</th><th scope=col>num_save_events</th></tr>\n",
       "\t<tr><th scope=col>&lt;chr&gt;</th><th scope=col>&lt;int&gt;</th><th scope=col>&lt;int&gt;</th></tr>\n",
       "</thead>\n",
       "<tbody>\n",
       "\t<tr><td>new discussion tool</td><td>  6</td><td>  6</td></tr>\n",
       "\t<tr><td>reply tool         </td><td>856</td><td>856</td></tr>\n",
       "</tbody>\n",
       "</table>\n"
      ],
      "text/latex": [
       "A tibble: 2 × 3\n",
       "\\begin{tabular}{lll}\n",
       " dt\\_type & num\\_save\\_sessions & num\\_save\\_events\\\\\n",
       " <chr> & <int> & <int>\\\\\n",
       "\\hline\n",
       "\t new discussion tool &   6 &   6\\\\\n",
       "\t reply tool          & 856 & 856\\\\\n",
       "\\end{tabular}\n"
      ],
      "text/markdown": [
       "\n",
       "A tibble: 2 × 3\n",
       "\n",
       "| dt_type &lt;chr&gt; | num_save_sessions &lt;int&gt; | num_save_events &lt;int&gt; |\n",
       "|---|---|---|\n",
       "| new discussion tool |   6 |   6 |\n",
       "| reply tool          | 856 | 856 |\n",
       "\n"
      ],
      "text/plain": [
       "  dt_type             num_save_sessions num_save_events\n",
       "1 new discussion tool   6                 6            \n",
       "2 reply tool          856               856            "
      ]
     },
     "metadata": {},
     "output_type": "display_data"
    }
   ],
   "source": [
    "dt_save_events_bytype <- collect_savesuccess_events %>%\n",
    "    group_by ( dt_type)  %>%\n",
    "    summarize (num_save_sessions = n_distinct(session_id),\n",
    "              num_save_events = sum(save_events))\n",
    "\n",
    "dt_save_events_bytype"
   ]
  },
  {
   "cell_type": "code",
   "execution_count": 100,
   "metadata": {},
   "outputs": [
    {
     "name": "stderr",
     "output_type": "stream",
     "text": [
      "`summarise()` regrouping output by 'wiki' (override with `.groups` argument)\n",
      "\n"
     ]
    },
    {
     "data": {
      "text/html": [
       "<table>\n",
       "<caption>A grouped_df: 2 × 3</caption>\n",
       "<thead>\n",
       "\t<tr><th scope=col>wiki</th><th scope=col>dt_type</th><th scope=col>num_save_sessions</th></tr>\n",
       "\t<tr><th scope=col>&lt;chr&gt;</th><th scope=col>&lt;chr&gt;</th><th scope=col>&lt;int&gt;</th></tr>\n",
       "</thead>\n",
       "<tbody>\n",
       "\t<tr><td>cswiki</td><td>new discussion tool</td><td>1</td></tr>\n",
       "\t<tr><td>enwiki</td><td>new discussion tool</td><td>5</td></tr>\n",
       "</tbody>\n",
       "</table>\n"
      ],
      "text/latex": [
       "A grouped\\_df: 2 × 3\n",
       "\\begin{tabular}{lll}\n",
       " wiki & dt\\_type & num\\_save\\_sessions\\\\\n",
       " <chr> & <chr> & <int>\\\\\n",
       "\\hline\n",
       "\t cswiki & new discussion tool & 1\\\\\n",
       "\t enwiki & new discussion tool & 5\\\\\n",
       "\\end{tabular}\n"
      ],
      "text/markdown": [
       "\n",
       "A grouped_df: 2 × 3\n",
       "\n",
       "| wiki &lt;chr&gt; | dt_type &lt;chr&gt; | num_save_sessions &lt;int&gt; |\n",
       "|---|---|---|\n",
       "| cswiki | new discussion tool | 1 |\n",
       "| enwiki | new discussion tool | 5 |\n",
       "\n"
      ],
      "text/plain": [
       "  wiki   dt_type             num_save_sessions\n",
       "1 cswiki new discussion tool 1                \n",
       "2 enwiki new discussion tool 5                "
      ]
     },
     "metadata": {},
     "output_type": "display_data"
    }
   ],
   "source": [
    "new_dt_save_events_bywiki <- collect_savesuccess_events %>%\n",
    "    filter(dt_type == 'new discussion tool') %>%\n",
    "    group_by (wiki, dt_type)  %>%\n",
    "    summarize (num_save_sessions = n_distinct(session_id))\n",
    "\n",
    "new_dt_save_events_bywiki"
   ]
  },
  {
   "cell_type": "markdown",
   "metadata": {},
   "source": [
    "A total of 6 new discussion tool sessions met `saveSuccess`. These are the same wikis where new discussion init events were also logged.\n"
   ]
  },
  {
   "cell_type": "markdown",
   "metadata": {},
   "source": [
    "# Differentiate between edits to existing sections and the creation of new sections\n",
    "\n",
    "[Task](https://phabricator.wikimedia.org/T272544)"
   ]
  },
  {
   "cell_type": "markdown",
   "metadata": {},
   "source": [
    "## Background\n",
    "\n",
    "New events were added to EditAttemptStep to enable the software to distinguish edits to existing sections from edits associated with the creation of new sections.\n",
    "\n",
    "Notes re instrumentation:\n",
    "- This is explicitly a change to the existing logging in VisualEditor / WikiEditor to get the semantics of init_mechanism tweaked so that (a) they're consistent, and (b) you can always tell whether there's a new section being created.\n",
    "- No impact or change to DiscussionTools instrumentation, unless and until we implement a takeover for the section=new URL.\n",
    "- These patches add a new possible value for `init_mechanism: 'url-new'`. It will be logged when direct navigation occurs to a URL that triggers an editor for either a new page or a new section.\n",
    "- The VE patch also makes its use of `init_mechanism=new` consistent with WikiEditor/the-schema-docs. It was previously not using new when you clicked the \"Create\" tab after navigating to a non-existent page. (You could still distinguish this case by looking for page_id=0.)\n",
    "\n",
    "\n",
    "\n"
   ]
  },
  {
   "cell_type": "code",
   "execution_count": 5,
   "metadata": {},
   "outputs": [],
   "source": [
    "# Collect all init events by date since deployment\n",
    "query <-\n",
    "\"\n",
    "SELECT \n",
    "  CONCAT(year, '-', LPAD(month, 2, '0'), '-', LPAD(day, 2, '0')) as edit_dt,\n",
    "  wiki AS wiki,\n",
    "  event.editing_session_id AS session_id,\n",
    "  event.editor_interface as interface,\n",
    "  event.init_mechanism as init_mechanism,\n",
    "  event.init_type as init_type,\n",
    "  event.integration as integration,\n",
    "  COUNT(*) as n_events\n",
    "FROM event.editattemptstep\n",
    "WHERE\n",
    "  event.action = 'init'\n",
    "  AND year = 2021\n",
    "-- review events following deployment\n",
    "  AND dt >= '2021-02-15'\n",
    "  AND event.platform = 'desktop'\n",
    "GROUP BY\n",
    "  CONCAT(year, '-', LPAD(month, 2, '0'), '-', LPAD(day, 2, '0')),\n",
    "  wiki, \n",
    "  event.editing_session_id,\n",
    "  event.init_mechanism,\n",
    "  event.editor_interface,\n",
    "  event.init_mechanism,\n",
    "  event.init_type,\n",
    "  event.integration\n",
    "\""
   ]
  },
  {
   "cell_type": "code",
   "execution_count": 6,
   "metadata": {},
   "outputs": [
    {
     "name": "stderr",
     "output_type": "stream",
     "text": [
      "Don't forget to authenticate with Kerberos using kinit\n",
      "\n"
     ]
    }
   ],
   "source": [
    "collect_init_events_all <- wmfdata::query_hive(query)"
   ]
  },
  {
   "cell_type": "markdown",
   "metadata": {},
   "source": [
    "## Init Events by Init Mechanism and Type\n"
   ]
  },
  {
   "cell_type": "code",
   "execution_count": 11,
   "metadata": {},
   "outputs": [
    {
     "name": "stderr",
     "output_type": "stream",
     "text": [
      "`summarise()` regrouping output by 'init_mechanism' (override with `.groups` argument)\n",
      "\n"
     ]
    },
    {
     "data": {
      "text/html": [
       "<table>\n",
       "<caption>A grouped_df: 8 × 3</caption>\n",
       "<thead>\n",
       "\t<tr><th scope=col>init_mechanism</th><th scope=col>init_type</th><th scope=col>n_events</th></tr>\n",
       "\t<tr><th scope=col>&lt;chr&gt;</th><th scope=col>&lt;chr&gt;</th><th scope=col>&lt;int&gt;</th></tr>\n",
       "</thead>\n",
       "<tbody>\n",
       "\t<tr><td>click  </td><td>page   </td><td>244735</td></tr>\n",
       "\t<tr><td>click  </td><td>section</td><td>181952</td></tr>\n",
       "\t<tr><td>new    </td><td>page   </td><td>156614</td></tr>\n",
       "\t<tr><td>new    </td><td>section</td><td>  7989</td></tr>\n",
       "\t<tr><td>url    </td><td>page   </td><td>112989</td></tr>\n",
       "\t<tr><td>url    </td><td>section</td><td>165317</td></tr>\n",
       "\t<tr><td>url-new</td><td>page   </td><td>223159</td></tr>\n",
       "\t<tr><td>url-new</td><td>section</td><td>  2285</td></tr>\n",
       "</tbody>\n",
       "</table>\n"
      ],
      "text/latex": [
       "A grouped\\_df: 8 × 3\n",
       "\\begin{tabular}{lll}\n",
       " init\\_mechanism & init\\_type & n\\_events\\\\\n",
       " <chr> & <chr> & <int>\\\\\n",
       "\\hline\n",
       "\t click   & page    & 244735\\\\\n",
       "\t click   & section & 181952\\\\\n",
       "\t new     & page    & 156614\\\\\n",
       "\t new     & section &   7989\\\\\n",
       "\t url     & page    & 112989\\\\\n",
       "\t url     & section & 165317\\\\\n",
       "\t url-new & page    & 223159\\\\\n",
       "\t url-new & section &   2285\\\\\n",
       "\\end{tabular}\n"
      ],
      "text/markdown": [
       "\n",
       "A grouped_df: 8 × 3\n",
       "\n",
       "| init_mechanism &lt;chr&gt; | init_type &lt;chr&gt; | n_events &lt;int&gt; |\n",
       "|---|---|---|\n",
       "| click   | page    | 244735 |\n",
       "| click   | section | 181952 |\n",
       "| new     | page    | 156614 |\n",
       "| new     | section |   7989 |\n",
       "| url     | page    | 112989 |\n",
       "| url     | section | 165317 |\n",
       "| url-new | page    | 223159 |\n",
       "| url-new | section |   2285 |\n",
       "\n"
      ],
      "text/plain": [
       "  init_mechanism init_type n_events\n",
       "1 click          page      244735  \n",
       "2 click          section   181952  \n",
       "3 new            page      156614  \n",
       "4 new            section     7989  \n",
       "5 url            page      112989  \n",
       "6 url            section   165317  \n",
       "7 url-new        page      223159  \n",
       "8 url-new        section     2285  "
      ]
     },
     "metadata": {},
     "output_type": "display_data"
    }
   ],
   "source": [
    "init_events_bymechanism <- collect_init_events_all %>%\n",
    "    group_by(init_mechanism, init_type) %>%\n",
    "    summarise(n_events = sum(n_events))\n",
    "\n",
    "init_events_bymechanism"
   ]
  },
  {
   "cell_type": "markdown",
   "metadata": {},
   "source": [
    "We are logging both `init_mechanism = 'url-new'` and `init_mechanism = 'url` events for page and section init_types. This will allow us to now distinguish between new and existing section or page edits that occur from direct naviagation to a URL from existing logging in VisualEditor/WikiEditor. \n",
    "\n",
    "The number of logged events for each init_mechanism type seem reasonable given the liklihood of occurrence. The majority of new section edits (78%) are created by clicking on a link to a page vs direct naviagation to a URL that triggers an editor for a new section. The majority of edits from direct navigation to a url (98.9%) are to `init_type = page` events.\n"
   ]
  },
  {
   "cell_type": "markdown",
   "metadata": {},
   "source": [
    "## Init Events By Integration Type"
   ]
  },
  {
   "cell_type": "code",
   "execution_count": 12,
   "metadata": {},
   "outputs": [
    {
     "name": "stderr",
     "output_type": "stream",
     "text": [
      "`summarise()` regrouping output by 'init_mechanism', 'init_type' (override with `.groups` argument)\n",
      "\n"
     ]
    },
    {
     "data": {
      "text/html": [
       "<table>\n",
       "<caption>A grouped_df: 10 × 4</caption>\n",
       "<thead>\n",
       "\t<tr><th scope=col>init_mechanism</th><th scope=col>init_type</th><th scope=col>integration</th><th scope=col>n_events</th></tr>\n",
       "\t<tr><th scope=col>&lt;chr&gt;</th><th scope=col>&lt;chr&gt;</th><th scope=col>&lt;chr&gt;</th><th scope=col>&lt;int&gt;</th></tr>\n",
       "</thead>\n",
       "<tbody>\n",
       "\t<tr><td>click  </td><td>page   </td><td>discussiontools</td><td>  9418</td></tr>\n",
       "\t<tr><td>click  </td><td>page   </td><td>page           </td><td>235317</td></tr>\n",
       "\t<tr><td>click  </td><td>section</td><td>discussiontools</td><td>   459</td></tr>\n",
       "\t<tr><td>click  </td><td>section</td><td>page           </td><td>181493</td></tr>\n",
       "\t<tr><td>new    </td><td>page   </td><td>page           </td><td>156614</td></tr>\n",
       "\t<tr><td>new    </td><td>section</td><td>page           </td><td>  7989</td></tr>\n",
       "\t<tr><td>url    </td><td>page   </td><td>page           </td><td>112989</td></tr>\n",
       "\t<tr><td>url    </td><td>section</td><td>page           </td><td>165317</td></tr>\n",
       "\t<tr><td>url-new</td><td>page   </td><td>page           </td><td>223159</td></tr>\n",
       "\t<tr><td>url-new</td><td>section</td><td>page           </td><td>  2285</td></tr>\n",
       "</tbody>\n",
       "</table>\n"
      ],
      "text/latex": [
       "A grouped\\_df: 10 × 4\n",
       "\\begin{tabular}{llll}\n",
       " init\\_mechanism & init\\_type & integration & n\\_events\\\\\n",
       " <chr> & <chr> & <chr> & <int>\\\\\n",
       "\\hline\n",
       "\t click   & page    & discussiontools &   9418\\\\\n",
       "\t click   & page    & page            & 235317\\\\\n",
       "\t click   & section & discussiontools &    459\\\\\n",
       "\t click   & section & page            & 181493\\\\\n",
       "\t new     & page    & page            & 156614\\\\\n",
       "\t new     & section & page            &   7989\\\\\n",
       "\t url     & page    & page            & 112989\\\\\n",
       "\t url     & section & page            & 165317\\\\\n",
       "\t url-new & page    & page            & 223159\\\\\n",
       "\t url-new & section & page            &   2285\\\\\n",
       "\\end{tabular}\n"
      ],
      "text/markdown": [
       "\n",
       "A grouped_df: 10 × 4\n",
       "\n",
       "| init_mechanism &lt;chr&gt; | init_type &lt;chr&gt; | integration &lt;chr&gt; | n_events &lt;int&gt; |\n",
       "|---|---|---|---|\n",
       "| click   | page    | discussiontools |   9418 |\n",
       "| click   | page    | page            | 235317 |\n",
       "| click   | section | discussiontools |    459 |\n",
       "| click   | section | page            | 181493 |\n",
       "| new     | page    | page            | 156614 |\n",
       "| new     | section | page            |   7989 |\n",
       "| url     | page    | page            | 112989 |\n",
       "| url     | section | page            | 165317 |\n",
       "| url-new | page    | page            | 223159 |\n",
       "| url-new | section | page            |   2285 |\n",
       "\n"
      ],
      "text/plain": [
       "   init_mechanism init_type integration     n_events\n",
       "1  click          page      discussiontools   9418  \n",
       "2  click          page      page            235317  \n",
       "3  click          section   discussiontools    459  \n",
       "4  click          section   page            181493  \n",
       "5  new            page      page            156614  \n",
       "6  new            section   page              7989  \n",
       "7  url            page      page            112989  \n",
       "8  url            section   page            165317  \n",
       "9  url-new        page      page            223159  \n",
       "10 url-new        section   page              2285  "
      ]
     },
     "metadata": {},
     "output_type": "display_data"
    }
   ],
   "source": [
    "init_events_byintegration <- collect_init_events_all %>%\n",
    "    group_by(init_mechanism, init_type, integration) %>%\n",
    "    summarise(n_events = sum(n_events))\n",
    "\n",
    "init_events_byintegration"
   ]
  },
  {
   "cell_type": "markdown",
   "metadata": {},
   "source": [
    "Discussion tool events (as indicated by `event.integration = 'discussiontools`) are only recorded for `init_mechnaism = click` events (No `event.mechanism = new` events were recorded for these events). THis is expected as per DLynch's comment, the changes were not implemented for DiscussionTools. We can still distinguish new vs existing events for discussion tools based on current instrumentation. See https://phabricator.wikimedia.org/T265099 for details. \n",
    "\n",
    "Non-Discussion tool events (as indicated by `event.integration = 'page`) are recorded for all expected init_mechamism types (click, new, url, and url-new) for both page and section types."
   ]
  },
  {
   "cell_type": "markdown",
   "metadata": {},
   "source": [
    "## Init Events By Editor Interface"
   ]
  },
  {
   "cell_type": "code",
   "execution_count": 13,
   "metadata": {},
   "outputs": [
    {
     "name": "stderr",
     "output_type": "stream",
     "text": [
      "`summarise()` regrouping output by 'init_mechanism', 'init_type' (override with `.groups` argument)\n",
      "\n"
     ]
    },
    {
     "data": {
      "text/html": [
       "<table>\n",
       "<caption>A grouped_df: 23 × 4</caption>\n",
       "<thead>\n",
       "\t<tr><th scope=col>init_mechanism</th><th scope=col>init_type</th><th scope=col>interface</th><th scope=col>n_events</th></tr>\n",
       "\t<tr><th scope=col>&lt;chr&gt;</th><th scope=col>&lt;chr&gt;</th><th scope=col>&lt;chr&gt;</th><th scope=col>&lt;int&gt;</th></tr>\n",
       "</thead>\n",
       "<tbody>\n",
       "\t<tr><td>click  </td><td>page   </td><td>visualeditor </td><td> 37021</td></tr>\n",
       "\t<tr><td>click  </td><td>page   </td><td>wikitext     </td><td>204263</td></tr>\n",
       "\t<tr><td>click  </td><td>page   </td><td>wikitext-2017</td><td>  3451</td></tr>\n",
       "\t<tr><td>click  </td><td>section</td><td>visualeditor </td><td> 20846</td></tr>\n",
       "\t<tr><td>click  </td><td>section</td><td>wikitext     </td><td>159063</td></tr>\n",
       "\t<tr><td>click  </td><td>section</td><td>wikitext-2017</td><td>  2043</td></tr>\n",
       "\t<tr><td>new    </td><td>page   </td><td>visualeditor </td><td>  3393</td></tr>\n",
       "\t<tr><td>new    </td><td>page   </td><td>wikitext     </td><td>153200</td></tr>\n",
       "\t<tr><td>new    </td><td>page   </td><td>wikitext-2017</td><td>    21</td></tr>\n",
       "\t<tr><td>new    </td><td>section</td><td>wikitext     </td><td>  7987</td></tr>\n",
       "\t<tr><td>new    </td><td>section</td><td>wikitext-2017</td><td>     2</td></tr>\n",
       "\t<tr><td>url    </td><td>page   </td><td>visualeditor </td><td> 37233</td></tr>\n",
       "\t<tr><td>url    </td><td>page   </td><td>wikitext     </td><td> 74549</td></tr>\n",
       "\t<tr><td>url    </td><td>page   </td><td>wikitext-2017</td><td>  1207</td></tr>\n",
       "\t<tr><td>url    </td><td>section</td><td>visualeditor </td><td>  3733</td></tr>\n",
       "\t<tr><td>url    </td><td>section</td><td>wikitext     </td><td>160839</td></tr>\n",
       "\t<tr><td>url    </td><td>section</td><td>wikitext-2017</td><td>   745</td></tr>\n",
       "\t<tr><td>url-new</td><td>page   </td><td>visualeditor </td><td>135645</td></tr>\n",
       "\t<tr><td>url-new</td><td>page   </td><td>wikitext     </td><td> 86788</td></tr>\n",
       "\t<tr><td>url-new</td><td>page   </td><td>wikitext-2017</td><td>   726</td></tr>\n",
       "\t<tr><td>url-new</td><td>section</td><td>visualeditor </td><td>    19</td></tr>\n",
       "\t<tr><td>url-new</td><td>section</td><td>wikitext     </td><td>  2070</td></tr>\n",
       "\t<tr><td>url-new</td><td>section</td><td>wikitext-2017</td><td>   196</td></tr>\n",
       "</tbody>\n",
       "</table>\n"
      ],
      "text/latex": [
       "A grouped\\_df: 23 × 4\n",
       "\\begin{tabular}{llll}\n",
       " init\\_mechanism & init\\_type & interface & n\\_events\\\\\n",
       " <chr> & <chr> & <chr> & <int>\\\\\n",
       "\\hline\n",
       "\t click   & page    & visualeditor  &  37021\\\\\n",
       "\t click   & page    & wikitext      & 204263\\\\\n",
       "\t click   & page    & wikitext-2017 &   3451\\\\\n",
       "\t click   & section & visualeditor  &  20846\\\\\n",
       "\t click   & section & wikitext      & 159063\\\\\n",
       "\t click   & section & wikitext-2017 &   2043\\\\\n",
       "\t new     & page    & visualeditor  &   3393\\\\\n",
       "\t new     & page    & wikitext      & 153200\\\\\n",
       "\t new     & page    & wikitext-2017 &     21\\\\\n",
       "\t new     & section & wikitext      &   7987\\\\\n",
       "\t new     & section & wikitext-2017 &      2\\\\\n",
       "\t url     & page    & visualeditor  &  37233\\\\\n",
       "\t url     & page    & wikitext      &  74549\\\\\n",
       "\t url     & page    & wikitext-2017 &   1207\\\\\n",
       "\t url     & section & visualeditor  &   3733\\\\\n",
       "\t url     & section & wikitext      & 160839\\\\\n",
       "\t url     & section & wikitext-2017 &    745\\\\\n",
       "\t url-new & page    & visualeditor  & 135645\\\\\n",
       "\t url-new & page    & wikitext      &  86788\\\\\n",
       "\t url-new & page    & wikitext-2017 &    726\\\\\n",
       "\t url-new & section & visualeditor  &     19\\\\\n",
       "\t url-new & section & wikitext      &   2070\\\\\n",
       "\t url-new & section & wikitext-2017 &    196\\\\\n",
       "\\end{tabular}\n"
      ],
      "text/markdown": [
       "\n",
       "A grouped_df: 23 × 4\n",
       "\n",
       "| init_mechanism &lt;chr&gt; | init_type &lt;chr&gt; | interface &lt;chr&gt; | n_events &lt;int&gt; |\n",
       "|---|---|---|---|\n",
       "| click   | page    | visualeditor  |  37021 |\n",
       "| click   | page    | wikitext      | 204263 |\n",
       "| click   | page    | wikitext-2017 |   3451 |\n",
       "| click   | section | visualeditor  |  20846 |\n",
       "| click   | section | wikitext      | 159063 |\n",
       "| click   | section | wikitext-2017 |   2043 |\n",
       "| new     | page    | visualeditor  |   3393 |\n",
       "| new     | page    | wikitext      | 153200 |\n",
       "| new     | page    | wikitext-2017 |     21 |\n",
       "| new     | section | wikitext      |   7987 |\n",
       "| new     | section | wikitext-2017 |      2 |\n",
       "| url     | page    | visualeditor  |  37233 |\n",
       "| url     | page    | wikitext      |  74549 |\n",
       "| url     | page    | wikitext-2017 |   1207 |\n",
       "| url     | section | visualeditor  |   3733 |\n",
       "| url     | section | wikitext      | 160839 |\n",
       "| url     | section | wikitext-2017 |    745 |\n",
       "| url-new | page    | visualeditor  | 135645 |\n",
       "| url-new | page    | wikitext      |  86788 |\n",
       "| url-new | page    | wikitext-2017 |    726 |\n",
       "| url-new | section | visualeditor  |     19 |\n",
       "| url-new | section | wikitext      |   2070 |\n",
       "| url-new | section | wikitext-2017 |    196 |\n",
       "\n"
      ],
      "text/plain": [
       "   init_mechanism init_type interface     n_events\n",
       "1  click          page      visualeditor   37021  \n",
       "2  click          page      wikitext      204263  \n",
       "3  click          page      wikitext-2017   3451  \n",
       "4  click          section   visualeditor   20846  \n",
       "5  click          section   wikitext      159063  \n",
       "6  click          section   wikitext-2017   2043  \n",
       "7  new            page      visualeditor    3393  \n",
       "8  new            page      wikitext      153200  \n",
       "9  new            page      wikitext-2017     21  \n",
       "10 new            section   wikitext        7987  \n",
       "11 new            section   wikitext-2017      2  \n",
       "12 url            page      visualeditor   37233  \n",
       "13 url            page      wikitext       74549  \n",
       "14 url            page      wikitext-2017   1207  \n",
       "15 url            section   visualeditor    3733  \n",
       "16 url            section   wikitext      160839  \n",
       "17 url            section   wikitext-2017    745  \n",
       "18 url-new        page      visualeditor  135645  \n",
       "19 url-new        page      wikitext       86788  \n",
       "20 url-new        page      wikitext-2017    726  \n",
       "21 url-new        section   visualeditor      19  \n",
       "22 url-new        section   wikitext        2070  \n",
       "23 url-new        section   wikitext-2017    196  "
      ]
     },
     "metadata": {},
     "output_type": "display_data"
    }
   ],
   "source": [
    "init_events_byinterface <- collect_init_events_all %>%\n",
    "    group_by(init_mechanism, init_type, interface) %>%\n",
    "    summarise(n_events = sum(n_events))\n",
    "\n",
    "init_events_byinterface"
   ]
  },
  {
   "cell_type": "markdown",
   "metadata": {},
   "source": [
    "All init_mecahnism types are recorded for all three editor interfaces as expected. The `init_mechanism = new` is now recorded for VisualEditor events. "
   ]
  },
  {
   "cell_type": "markdown",
   "metadata": {},
   "source": [
    "## Init Events on Talk Pages Only"
   ]
  },
  {
   "cell_type": "code",
   "execution_count": 19,
   "metadata": {},
   "outputs": [],
   "source": [
    "# Collect all init events on talk pages only by date since deployment\n",
    "query <-\n",
    "\"\n",
    "SELECT \n",
    "  CONCAT(year, '-', LPAD(month, 2, '0'), '-', LPAD(day, 2, '0')) as edit_dt,\n",
    "  wiki AS wiki,\n",
    "  event.editing_session_id AS session_id,\n",
    "  event.editor_interface as interface,\n",
    "  event.init_mechanism as init_mechanism,\n",
    "  event.init_type as init_type,\n",
    "  event.integration as integration,\n",
    "  COUNT(*) as n_events\n",
    "FROM event.editattemptstep\n",
    "WHERE\n",
    "  event.action = 'init'\n",
    "  AND year = 2021\n",
    "-- review events following deployment\n",
    "  AND dt >= '2021-02-15'\n",
    "  AND event.platform = 'desktop'\n",
    " -- review all talk namespaces\n",
    "  AND event.page_ns % 2 = 1\n",
    "GROUP BY\n",
    "  CONCAT(year, '-', LPAD(month, 2, '0'), '-', LPAD(day, 2, '0')),\n",
    "  wiki, \n",
    "  event.editing_session_id,\n",
    "  event.editor_interface,\n",
    "  event.init_mechanism,\n",
    "  event.editor_interface,\n",
    "  event.init_mechanism,\n",
    "  event.init_type,\n",
    "  event.integration\n",
    "\""
   ]
  },
  {
   "cell_type": "code",
   "execution_count": 20,
   "metadata": {},
   "outputs": [
    {
     "name": "stderr",
     "output_type": "stream",
     "text": [
      "Don't forget to authenticate with Kerberos using kinit\n",
      "\n"
     ]
    }
   ],
   "source": [
    "collect_init_events_talkonly <- wmfdata::query_hive(query)"
   ]
  },
  {
   "cell_type": "code",
   "execution_count": 21,
   "metadata": {},
   "outputs": [
    {
     "data": {
      "text/html": [
       "<table>\n",
       "<caption>A data.frame: 6 × 8</caption>\n",
       "<thead>\n",
       "\t<tr><th></th><th scope=col>edit_dt</th><th scope=col>wiki</th><th scope=col>session_id</th><th scope=col>interface</th><th scope=col>init_mechanism</th><th scope=col>init_type</th><th scope=col>integration</th><th scope=col>n_events</th></tr>\n",
       "\t<tr><th></th><th scope=col>&lt;chr&gt;</th><th scope=col>&lt;chr&gt;</th><th scope=col>&lt;chr&gt;</th><th scope=col>&lt;chr&gt;</th><th scope=col>&lt;chr&gt;</th><th scope=col>&lt;chr&gt;</th><th scope=col>&lt;chr&gt;</th><th scope=col>&lt;int&gt;</th></tr>\n",
       "</thead>\n",
       "<tbody>\n",
       "\t<tr><th scope=row>1</th><td>2021-02-15</td><td>abwiki      </td><td>92c42880482c2ee6e2a5afdce7aee3e4</td><td>wikitext</td><td>url    </td><td>page</td><td>page</td><td>1</td></tr>\n",
       "\t<tr><th scope=row>2</th><td>2021-02-15</td><td>acewiki     </td><td>10f0051052705382eaa8b72e6fb8848f</td><td>wikitext</td><td>url    </td><td>page</td><td>page</td><td>1</td></tr>\n",
       "\t<tr><th scope=row>3</th><td>2021-02-15</td><td>afwiki      </td><td>293c83b05e3e35449759039616f67fb3</td><td>wikitext</td><td>click  </td><td>page</td><td>page</td><td>1</td></tr>\n",
       "\t<tr><th scope=row>4</th><td>2021-02-15</td><td>afwiktionary</td><td>3561b9c0202922f1a30ab028fa056756</td><td>wikitext</td><td>url-new</td><td>page</td><td>page</td><td>1</td></tr>\n",
       "\t<tr><th scope=row>5</th><td>2021-02-15</td><td>arwiki      </td><td>1cb977f06ad501ba75cd26c1f6f7b6be</td><td>wikitext</td><td>new    </td><td>page</td><td>page</td><td>1</td></tr>\n",
       "\t<tr><th scope=row>6</th><td>2021-02-15</td><td>arwiki      </td><td>9648bf608a5058d0f2bfb8c0dda02692</td><td>wikitext</td><td>new    </td><td>page</td><td>page</td><td>1</td></tr>\n",
       "</tbody>\n",
       "</table>\n"
      ],
      "text/latex": [
       "A data.frame: 6 × 8\n",
       "\\begin{tabular}{r|llllllll}\n",
       "  & edit\\_dt & wiki & session\\_id & interface & init\\_mechanism & init\\_type & integration & n\\_events\\\\\n",
       "  & <chr> & <chr> & <chr> & <chr> & <chr> & <chr> & <chr> & <int>\\\\\n",
       "\\hline\n",
       "\t1 & 2021-02-15 & abwiki       & 92c42880482c2ee6e2a5afdce7aee3e4 & wikitext & url     & page & page & 1\\\\\n",
       "\t2 & 2021-02-15 & acewiki      & 10f0051052705382eaa8b72e6fb8848f & wikitext & url     & page & page & 1\\\\\n",
       "\t3 & 2021-02-15 & afwiki       & 293c83b05e3e35449759039616f67fb3 & wikitext & click   & page & page & 1\\\\\n",
       "\t4 & 2021-02-15 & afwiktionary & 3561b9c0202922f1a30ab028fa056756 & wikitext & url-new & page & page & 1\\\\\n",
       "\t5 & 2021-02-15 & arwiki       & 1cb977f06ad501ba75cd26c1f6f7b6be & wikitext & new     & page & page & 1\\\\\n",
       "\t6 & 2021-02-15 & arwiki       & 9648bf608a5058d0f2bfb8c0dda02692 & wikitext & new     & page & page & 1\\\\\n",
       "\\end{tabular}\n"
      ],
      "text/markdown": [
       "\n",
       "A data.frame: 6 × 8\n",
       "\n",
       "| <!--/--> | edit_dt &lt;chr&gt; | wiki &lt;chr&gt; | session_id &lt;chr&gt; | interface &lt;chr&gt; | init_mechanism &lt;chr&gt; | init_type &lt;chr&gt; | integration &lt;chr&gt; | n_events &lt;int&gt; |\n",
       "|---|---|---|---|---|---|---|---|---|\n",
       "| 1 | 2021-02-15 | abwiki       | 92c42880482c2ee6e2a5afdce7aee3e4 | wikitext | url     | page | page | 1 |\n",
       "| 2 | 2021-02-15 | acewiki      | 10f0051052705382eaa8b72e6fb8848f | wikitext | url     | page | page | 1 |\n",
       "| 3 | 2021-02-15 | afwiki       | 293c83b05e3e35449759039616f67fb3 | wikitext | click   | page | page | 1 |\n",
       "| 4 | 2021-02-15 | afwiktionary | 3561b9c0202922f1a30ab028fa056756 | wikitext | url-new | page | page | 1 |\n",
       "| 5 | 2021-02-15 | arwiki       | 1cb977f06ad501ba75cd26c1f6f7b6be | wikitext | new     | page | page | 1 |\n",
       "| 6 | 2021-02-15 | arwiki       | 9648bf608a5058d0f2bfb8c0dda02692 | wikitext | new     | page | page | 1 |\n",
       "\n"
      ],
      "text/plain": [
       "  edit_dt    wiki         session_id                       interface\n",
       "1 2021-02-15 abwiki       92c42880482c2ee6e2a5afdce7aee3e4 wikitext \n",
       "2 2021-02-15 acewiki      10f0051052705382eaa8b72e6fb8848f wikitext \n",
       "3 2021-02-15 afwiki       293c83b05e3e35449759039616f67fb3 wikitext \n",
       "4 2021-02-15 afwiktionary 3561b9c0202922f1a30ab028fa056756 wikitext \n",
       "5 2021-02-15 arwiki       1cb977f06ad501ba75cd26c1f6f7b6be wikitext \n",
       "6 2021-02-15 arwiki       9648bf608a5058d0f2bfb8c0dda02692 wikitext \n",
       "  init_mechanism init_type integration n_events\n",
       "1 url            page      page        1       \n",
       "2 url            page      page        1       \n",
       "3 click          page      page        1       \n",
       "4 url-new        page      page        1       \n",
       "5 new            page      page        1       \n",
       "6 new            page      page        1       "
      ]
     },
     "metadata": {},
     "output_type": "display_data"
    }
   ],
   "source": [
    "head(collect_init_events_talkonly)"
   ]
  },
  {
   "cell_type": "markdown",
   "metadata": {},
   "source": [
    "## Talk Page Init Events by Integration and Init Type"
   ]
  },
  {
   "cell_type": "code",
   "execution_count": 22,
   "metadata": {},
   "outputs": [
    {
     "name": "stderr",
     "output_type": "stream",
     "text": [
      "`summarise()` regrouping output by 'init_mechanism', 'init_type' (override with `.groups` argument)\n",
      "\n"
     ]
    },
    {
     "data": {
      "text/html": [
       "<table>\n",
       "<caption>A grouped_df: 10 × 4</caption>\n",
       "<thead>\n",
       "\t<tr><th scope=col>init_mechanism</th><th scope=col>init_type</th><th scope=col>integration</th><th scope=col>n_events</th></tr>\n",
       "\t<tr><th scope=col>&lt;chr&gt;</th><th scope=col>&lt;chr&gt;</th><th scope=col>&lt;chr&gt;</th><th scope=col>&lt;int&gt;</th></tr>\n",
       "</thead>\n",
       "<tbody>\n",
       "\t<tr><td>click  </td><td>page   </td><td>discussiontools</td><td> 6452</td></tr>\n",
       "\t<tr><td>click  </td><td>page   </td><td>page           </td><td> 7242</td></tr>\n",
       "\t<tr><td>click  </td><td>section</td><td>discussiontools</td><td>  443</td></tr>\n",
       "\t<tr><td>click  </td><td>section</td><td>page           </td><td> 7319</td></tr>\n",
       "\t<tr><td>new    </td><td>page   </td><td>page           </td><td>25091</td></tr>\n",
       "\t<tr><td>new    </td><td>section</td><td>page           </td><td> 6097</td></tr>\n",
       "\t<tr><td>url    </td><td>page   </td><td>page           </td><td> 4387</td></tr>\n",
       "\t<tr><td>url    </td><td>section</td><td>page           </td><td> 3226</td></tr>\n",
       "\t<tr><td>url-new</td><td>page   </td><td>page           </td><td>20379</td></tr>\n",
       "\t<tr><td>url-new</td><td>section</td><td>page           </td><td> 1543</td></tr>\n",
       "</tbody>\n",
       "</table>\n"
      ],
      "text/latex": [
       "A grouped\\_df: 10 × 4\n",
       "\\begin{tabular}{llll}\n",
       " init\\_mechanism & init\\_type & integration & n\\_events\\\\\n",
       " <chr> & <chr> & <chr> & <int>\\\\\n",
       "\\hline\n",
       "\t click   & page    & discussiontools &  6452\\\\\n",
       "\t click   & page    & page            &  7242\\\\\n",
       "\t click   & section & discussiontools &   443\\\\\n",
       "\t click   & section & page            &  7319\\\\\n",
       "\t new     & page    & page            & 25091\\\\\n",
       "\t new     & section & page            &  6097\\\\\n",
       "\t url     & page    & page            &  4387\\\\\n",
       "\t url     & section & page            &  3226\\\\\n",
       "\t url-new & page    & page            & 20379\\\\\n",
       "\t url-new & section & page            &  1543\\\\\n",
       "\\end{tabular}\n"
      ],
      "text/markdown": [
       "\n",
       "A grouped_df: 10 × 4\n",
       "\n",
       "| init_mechanism &lt;chr&gt; | init_type &lt;chr&gt; | integration &lt;chr&gt; | n_events &lt;int&gt; |\n",
       "|---|---|---|---|\n",
       "| click   | page    | discussiontools |  6452 |\n",
       "| click   | page    | page            |  7242 |\n",
       "| click   | section | discussiontools |   443 |\n",
       "| click   | section | page            |  7319 |\n",
       "| new     | page    | page            | 25091 |\n",
       "| new     | section | page            |  6097 |\n",
       "| url     | page    | page            |  4387 |\n",
       "| url     | section | page            |  3226 |\n",
       "| url-new | page    | page            | 20379 |\n",
       "| url-new | section | page            |  1543 |\n",
       "\n"
      ],
      "text/plain": [
       "   init_mechanism init_type integration     n_events\n",
       "1  click          page      discussiontools  6452   \n",
       "2  click          page      page             7242   \n",
       "3  click          section   discussiontools   443   \n",
       "4  click          section   page             7319   \n",
       "5  new            page      page            25091   \n",
       "6  new            section   page             6097   \n",
       "7  url            page      page             4387   \n",
       "8  url            section   page             3226   \n",
       "9  url-new        page      page            20379   \n",
       "10 url-new        section   page             1543   "
      ]
     },
     "metadata": {},
     "output_type": "display_data"
    }
   ],
   "source": [
    "talk_init_events_byintegration <- collect_init_events_talkonly %>%\n",
    "    group_by(init_mechanism, init_type, integration) %>%\n",
    "    summarise(n_events = sum(n_events))\n",
    "\n",
    "talk_init_events_byintegration"
   ]
  },
  {
   "cell_type": "markdown",
   "metadata": {},
   "source": [
    "All expected init types are logged on talk pages. The number of logged events for each init_mechanism type seem reasonable given the liklihood of occurrence. \n",
    "\n",
    "The majority of new section edits on talk pages (80%) are created by clicking on a link to a page vs direct naviagation to a URL that triggers an editor for a new section. The majority of edits from direct navigation to a url (92.9%) are to `init_type = page` events.\n",
    "\n"
   ]
  },
  {
   "cell_type": "markdown",
   "metadata": {},
   "source": [
    "## Talk Page Init Events by Editor Interface"
   ]
  },
  {
   "cell_type": "code",
   "execution_count": 25,
   "metadata": {},
   "outputs": [
    {
     "name": "stderr",
     "output_type": "stream",
     "text": [
      "`summarise()` regrouping output by 'integration', 'init_mechanism', 'init_type' (override with `.groups` argument)\n",
      "\n"
     ]
    },
    {
     "data": {
      "text/html": [
       "<table>\n",
       "<caption>A grouped_df: 23 × 5</caption>\n",
       "<thead>\n",
       "\t<tr><th scope=col>integration</th><th scope=col>init_mechanism</th><th scope=col>init_type</th><th scope=col>interface</th><th scope=col>n_events</th></tr>\n",
       "\t<tr><th scope=col>&lt;chr&gt;</th><th scope=col>&lt;chr&gt;</th><th scope=col>&lt;chr&gt;</th><th scope=col>&lt;chr&gt;</th><th scope=col>&lt;int&gt;</th></tr>\n",
       "</thead>\n",
       "<tbody>\n",
       "\t<tr><td>discussiontools</td><td>click  </td><td>page   </td><td>visualeditor </td><td> 2841</td></tr>\n",
       "\t<tr><td>discussiontools</td><td>click  </td><td>page   </td><td>wikitext     </td><td> 3611</td></tr>\n",
       "\t<tr><td>discussiontools</td><td>click  </td><td>section</td><td>visualeditor </td><td>  141</td></tr>\n",
       "\t<tr><td>discussiontools</td><td>click  </td><td>section</td><td>wikitext     </td><td>  302</td></tr>\n",
       "\t<tr><td>page           </td><td>click  </td><td>page   </td><td>visualeditor </td><td>    2</td></tr>\n",
       "\t<tr><td>page           </td><td>click  </td><td>page   </td><td>wikitext     </td><td> 7123</td></tr>\n",
       "\t<tr><td>page           </td><td>click  </td><td>page   </td><td>wikitext-2017</td><td>  117</td></tr>\n",
       "\t<tr><td>page           </td><td>click  </td><td>section</td><td>visualeditor </td><td>    1</td></tr>\n",
       "\t<tr><td>page           </td><td>click  </td><td>section</td><td>wikitext     </td><td> 7214</td></tr>\n",
       "\t<tr><td>page           </td><td>click  </td><td>section</td><td>wikitext-2017</td><td>  104</td></tr>\n",
       "\t<tr><td>page           </td><td>new    </td><td>page   </td><td>visualeditor </td><td>    1</td></tr>\n",
       "\t<tr><td>page           </td><td>new    </td><td>page   </td><td>wikitext     </td><td>25090</td></tr>\n",
       "\t<tr><td>page           </td><td>new    </td><td>section</td><td>wikitext     </td><td> 6097</td></tr>\n",
       "\t<tr><td>page           </td><td>url    </td><td>page   </td><td>visualeditor </td><td>    1</td></tr>\n",
       "\t<tr><td>page           </td><td>url    </td><td>page   </td><td>wikitext     </td><td> 4177</td></tr>\n",
       "\t<tr><td>page           </td><td>url    </td><td>page   </td><td>wikitext-2017</td><td>  209</td></tr>\n",
       "\t<tr><td>page           </td><td>url    </td><td>section</td><td>wikitext     </td><td> 2964</td></tr>\n",
       "\t<tr><td>page           </td><td>url    </td><td>section</td><td>wikitext-2017</td><td>  262</td></tr>\n",
       "\t<tr><td>page           </td><td>url-new</td><td>page   </td><td>visualeditor </td><td>    1</td></tr>\n",
       "\t<tr><td>page           </td><td>url-new</td><td>page   </td><td>wikitext     </td><td>20217</td></tr>\n",
       "\t<tr><td>page           </td><td>url-new</td><td>page   </td><td>wikitext-2017</td><td>  161</td></tr>\n",
       "\t<tr><td>page           </td><td>url-new</td><td>section</td><td>wikitext     </td><td> 1394</td></tr>\n",
       "\t<tr><td>page           </td><td>url-new</td><td>section</td><td>wikitext-2017</td><td>  149</td></tr>\n",
       "</tbody>\n",
       "</table>\n"
      ],
      "text/latex": [
       "A grouped\\_df: 23 × 5\n",
       "\\begin{tabular}{lllll}\n",
       " integration & init\\_mechanism & init\\_type & interface & n\\_events\\\\\n",
       " <chr> & <chr> & <chr> & <chr> & <int>\\\\\n",
       "\\hline\n",
       "\t discussiontools & click   & page    & visualeditor  &  2841\\\\\n",
       "\t discussiontools & click   & page    & wikitext      &  3611\\\\\n",
       "\t discussiontools & click   & section & visualeditor  &   141\\\\\n",
       "\t discussiontools & click   & section & wikitext      &   302\\\\\n",
       "\t page            & click   & page    & visualeditor  &     2\\\\\n",
       "\t page            & click   & page    & wikitext      &  7123\\\\\n",
       "\t page            & click   & page    & wikitext-2017 &   117\\\\\n",
       "\t page            & click   & section & visualeditor  &     1\\\\\n",
       "\t page            & click   & section & wikitext      &  7214\\\\\n",
       "\t page            & click   & section & wikitext-2017 &   104\\\\\n",
       "\t page            & new     & page    & visualeditor  &     1\\\\\n",
       "\t page            & new     & page    & wikitext      & 25090\\\\\n",
       "\t page            & new     & section & wikitext      &  6097\\\\\n",
       "\t page            & url     & page    & visualeditor  &     1\\\\\n",
       "\t page            & url     & page    & wikitext      &  4177\\\\\n",
       "\t page            & url     & page    & wikitext-2017 &   209\\\\\n",
       "\t page            & url     & section & wikitext      &  2964\\\\\n",
       "\t page            & url     & section & wikitext-2017 &   262\\\\\n",
       "\t page            & url-new & page    & visualeditor  &     1\\\\\n",
       "\t page            & url-new & page    & wikitext      & 20217\\\\\n",
       "\t page            & url-new & page    & wikitext-2017 &   161\\\\\n",
       "\t page            & url-new & section & wikitext      &  1394\\\\\n",
       "\t page            & url-new & section & wikitext-2017 &   149\\\\\n",
       "\\end{tabular}\n"
      ],
      "text/markdown": [
       "\n",
       "A grouped_df: 23 × 5\n",
       "\n",
       "| integration &lt;chr&gt; | init_mechanism &lt;chr&gt; | init_type &lt;chr&gt; | interface &lt;chr&gt; | n_events &lt;int&gt; |\n",
       "|---|---|---|---|---|\n",
       "| discussiontools | click   | page    | visualeditor  |  2841 |\n",
       "| discussiontools | click   | page    | wikitext      |  3611 |\n",
       "| discussiontools | click   | section | visualeditor  |   141 |\n",
       "| discussiontools | click   | section | wikitext      |   302 |\n",
       "| page            | click   | page    | visualeditor  |     2 |\n",
       "| page            | click   | page    | wikitext      |  7123 |\n",
       "| page            | click   | page    | wikitext-2017 |   117 |\n",
       "| page            | click   | section | visualeditor  |     1 |\n",
       "| page            | click   | section | wikitext      |  7214 |\n",
       "| page            | click   | section | wikitext-2017 |   104 |\n",
       "| page            | new     | page    | visualeditor  |     1 |\n",
       "| page            | new     | page    | wikitext      | 25090 |\n",
       "| page            | new     | section | wikitext      |  6097 |\n",
       "| page            | url     | page    | visualeditor  |     1 |\n",
       "| page            | url     | page    | wikitext      |  4177 |\n",
       "| page            | url     | page    | wikitext-2017 |   209 |\n",
       "| page            | url     | section | wikitext      |  2964 |\n",
       "| page            | url     | section | wikitext-2017 |   262 |\n",
       "| page            | url-new | page    | visualeditor  |     1 |\n",
       "| page            | url-new | page    | wikitext      | 20217 |\n",
       "| page            | url-new | page    | wikitext-2017 |   161 |\n",
       "| page            | url-new | section | wikitext      |  1394 |\n",
       "| page            | url-new | section | wikitext-2017 |   149 |\n",
       "\n"
      ],
      "text/plain": [
       "   integration     init_mechanism init_type interface     n_events\n",
       "1  discussiontools click          page      visualeditor   2841   \n",
       "2  discussiontools click          page      wikitext       3611   \n",
       "3  discussiontools click          section   visualeditor    141   \n",
       "4  discussiontools click          section   wikitext        302   \n",
       "5  page            click          page      visualeditor      2   \n",
       "6  page            click          page      wikitext       7123   \n",
       "7  page            click          page      wikitext-2017   117   \n",
       "8  page            click          section   visualeditor      1   \n",
       "9  page            click          section   wikitext       7214   \n",
       "10 page            click          section   wikitext-2017   104   \n",
       "11 page            new            page      visualeditor      1   \n",
       "12 page            new            page      wikitext      25090   \n",
       "13 page            new            section   wikitext       6097   \n",
       "14 page            url            page      visualeditor      1   \n",
       "15 page            url            page      wikitext       4177   \n",
       "16 page            url            page      wikitext-2017   209   \n",
       "17 page            url            section   wikitext       2964   \n",
       "18 page            url            section   wikitext-2017   262   \n",
       "19 page            url-new        page      visualeditor      1   \n",
       "20 page            url-new        page      wikitext      20217   \n",
       "21 page            url-new        page      wikitext-2017   161   \n",
       "22 page            url-new        section   wikitext       1394   \n",
       "23 page            url-new        section   wikitext-2017   149   "
      ]
     },
     "metadata": {},
     "output_type": "display_data"
    }
   ],
   "source": [
    "talk_init_events_byinterface <- collect_init_events_talkonly %>%\n",
    "    group_by(integration, init_mechanism, init_type, interface) %>%\n",
    "    summarise(n_events = sum(n_events))\n",
    "\n",
    "talk_init_events_byinterface"
   ]
  },
  {
   "cell_type": "markdown",
   "metadata": {},
   "source": [
    "Most all visual editor events on talk pages are recorded for discussiontools events as expected. "
   ]
  },
  {
   "cell_type": "markdown",
   "metadata": {},
   "source": [
    "## Summary of New and Existing Section Edits on Talk Pages"
   ]
  },
  {
   "cell_type": "code",
   "execution_count": 36,
   "metadata": {},
   "outputs": [
    {
     "name": "stderr",
     "output_type": "stream",
     "text": [
      "`summarise()` regrouping output by 'section_status' (override with `.groups` argument)\n",
      "\n"
     ]
    },
    {
     "data": {
      "text/html": [
       "<table>\n",
       "<caption>A grouped_df: 4 × 3</caption>\n",
       "<thead>\n",
       "\t<tr><th scope=col>section_status</th><th scope=col>init_mechanism</th><th scope=col>n_events</th></tr>\n",
       "\t<tr><th scope=col>&lt;chr&gt;</th><th scope=col>&lt;chr&gt;</th><th scope=col>&lt;int&gt;</th></tr>\n",
       "</thead>\n",
       "<tbody>\n",
       "\t<tr><td>existing</td><td>click  </td><td>7319</td></tr>\n",
       "\t<tr><td>existing</td><td>url    </td><td>3226</td></tr>\n",
       "\t<tr><td>new     </td><td>new    </td><td>6097</td></tr>\n",
       "\t<tr><td>new     </td><td>url-new</td><td>1543</td></tr>\n",
       "</tbody>\n",
       "</table>\n"
      ],
      "text/latex": [
       "A grouped\\_df: 4 × 3\n",
       "\\begin{tabular}{lll}\n",
       " section\\_status & init\\_mechanism & n\\_events\\\\\n",
       " <chr> & <chr> & <int>\\\\\n",
       "\\hline\n",
       "\t existing & click   & 7319\\\\\n",
       "\t existing & url     & 3226\\\\\n",
       "\t new      & new     & 6097\\\\\n",
       "\t new      & url-new & 1543\\\\\n",
       "\\end{tabular}\n"
      ],
      "text/markdown": [
       "\n",
       "A grouped_df: 4 × 3\n",
       "\n",
       "| section_status &lt;chr&gt; | init_mechanism &lt;chr&gt; | n_events &lt;int&gt; |\n",
       "|---|---|---|\n",
       "| existing | click   | 7319 |\n",
       "| existing | url     | 3226 |\n",
       "| new      | new     | 6097 |\n",
       "| new      | url-new | 1543 |\n",
       "\n"
      ],
      "text/plain": [
       "  section_status init_mechanism n_events\n",
       "1 existing       click          7319    \n",
       "2 existing       url            3226    \n",
       "3 new            new            6097    \n",
       "4 new            url-new        1543    "
      ]
     },
     "metadata": {},
     "output_type": "display_data"
    }
   ],
   "source": [
    "existing_vs_new_section_edits <- collect_init_events_talkonly %>%\n",
    "    filter(integration == 'page',\n",
    "           init_type == 'section') %>%\n",
    "    mutate(section_status = ifelse(init_mechanism == 'url-new'|init_mechanism == 'new', 'new', 'existing'))%>%\n",
    "    group_by(section_status, init_mechanism) %>%\n",
    "    summarise(n_events = sum(n_events))\n",
    "\n",
    "existing_vs_new_section_edits"
   ]
  },
  {
   "cell_type": "markdown",
   "metadata": {},
   "source": [
    "The table above shows the number of new vs existing section edits using current VisualEditor / WikiEditor section workflows (not disucssion tool related edits).\n",
    "\n",
    "The number of logged events for each section edit type seem reasonable given the liklihood of occurrence. Since deployment of the instrumentation changes, a slight majority of section edits on talk pages have been to existing sections (58%). \n",
    "\n",
    "Most edits (79.8%) to create new sections on talk pages are completed by clicking the link on the page vs direct navigation to a url as expected.\n"
   ]
  },
  {
   "cell_type": "markdown",
   "metadata": {},
   "source": [
    "# Confirm save_sucess_timing and other EditAttemptStep Events are logged for DT related events\n",
    "\n",
    "[Task](https://phabricator.wikimedia.org/T290931)\n",
    "Notes: Fix to log save_success_timing was deployed on 16 September 2021"
   ]
  },
  {
   "cell_type": "markdown",
   "metadata": {},
   "source": [
    "## Save Success Events"
   ]
  },
  {
   "cell_type": "code",
   "execution_count": 57,
   "metadata": {},
   "outputs": [],
   "source": [
    "# Collect savesuccess events by discussion tool type\n",
    "query <-\n",
    "\"\n",
    "SELECT \n",
    "  CONCAT(year, '-', LPAD(month, 2, '0'), '-', LPAD(day, 2, '0')) as `date`,\n",
    "  wiki AS wiki,\n",
    "  event.editing_session_id AS session_id,\n",
    "  event.platform as platform,\n",
    "  event.editor_interface as interface,\n",
    "  event.save_success_timing As save_success_timing\n",
    "FROM event.editattemptstep\n",
    "WHERE\n",
    "  event.action = 'saveSuccess'\n",
    "  AND event.integration = 'discussiontools'\n",
    "  AND year = 2021\n",
    "  AND dt >= '2021-09-16'\n",
    "\""
   ]
  },
  {
   "cell_type": "code",
   "execution_count": 58,
   "metadata": {},
   "outputs": [
    {
     "name": "stderr",
     "output_type": "stream",
     "text": [
      "Don't forget to authenticate with Kerberos using kinit\n",
      "\n"
     ]
    }
   ],
   "source": [
    "save_success_events <- wmfdata::query_hive(query)"
   ]
  },
  {
   "cell_type": "code",
   "execution_count": 59,
   "metadata": {},
   "outputs": [],
   "source": [
    "save_success_events$date <- as.Date(save_success_events$date, format = \"%Y-%m-%d\")"
   ]
  },
  {
   "cell_type": "code",
   "execution_count": 62,
   "metadata": {},
   "outputs": [
    {
     "data": {
      "text/html": [
       "<table>\n",
       "<caption>A data.frame: 2923 × 5</caption>\n",
       "<thead>\n",
       "\t<tr><th scope=col>date</th><th scope=col>wiki</th><th scope=col>platform</th><th scope=col>interface</th><th scope=col>save_success_timing</th></tr>\n",
       "\t<tr><th scope=col>&lt;date&gt;</th><th scope=col>&lt;chr&gt;</th><th scope=col>&lt;chr&gt;</th><th scope=col>&lt;chr&gt;</th><th scope=col>&lt;int&gt;</th></tr>\n",
       "</thead>\n",
       "<tbody>\n",
       "\t<tr><td>2021-09-16</td><td>fawiki    </td><td>desktop</td><td>visualeditor </td><td>   -1</td></tr>\n",
       "\t<tr><td>2021-09-16</td><td>simplewiki</td><td>desktop</td><td>wikitext-2017</td><td>   -1</td></tr>\n",
       "\t<tr><td>2021-09-16</td><td>hewiki    </td><td>desktop</td><td>wikitext-2017</td><td>18237</td></tr>\n",
       "\t<tr><td>2021-09-16</td><td>enwiki    </td><td>desktop</td><td>wikitext-2017</td><td>   -1</td></tr>\n",
       "\t<tr><td>2021-09-16</td><td>plwiki    </td><td>desktop</td><td>wikitext-2017</td><td>   -1</td></tr>\n",
       "\t<tr><td>2021-09-16</td><td>zhwiki    </td><td>desktop</td><td>wikitext-2017</td><td>   -1</td></tr>\n",
       "\t<tr><td>2021-09-16</td><td>itwiki    </td><td>desktop</td><td>wikitext-2017</td><td> 6455</td></tr>\n",
       "\t<tr><td>2021-09-16</td><td>simplewiki</td><td>desktop</td><td>wikitext-2017</td><td>   -1</td></tr>\n",
       "\t<tr><td>2021-09-16</td><td>arwiki    </td><td>desktop</td><td>visualeditor </td><td>   -1</td></tr>\n",
       "\t<tr><td>2021-09-16</td><td>frwiki    </td><td>desktop</td><td>wikitext-2017</td><td>   -1</td></tr>\n",
       "\t<tr><td>2021-09-16</td><td>fiwiki    </td><td>desktop</td><td>wikitext-2017</td><td>   -1</td></tr>\n",
       "\t<tr><td>2021-09-16</td><td>simplewiki</td><td>desktop</td><td>wikitext-2017</td><td>   -1</td></tr>\n",
       "\t<tr><td>2021-09-16</td><td>plwiki    </td><td>desktop</td><td>wikitext-2017</td><td>   -1</td></tr>\n",
       "\t<tr><td>2021-09-16</td><td>zhwiki    </td><td>desktop</td><td>wikitext-2017</td><td>   -1</td></tr>\n",
       "\t<tr><td>2021-09-16</td><td>arwiki    </td><td>desktop</td><td>wikitext-2017</td><td>   -1</td></tr>\n",
       "\t<tr><td>2021-09-16</td><td>plwiki    </td><td>desktop</td><td>visualeditor </td><td>   -1</td></tr>\n",
       "\t<tr><td>2021-09-16</td><td>bnwiki    </td><td>desktop</td><td>wikitext-2017</td><td>   -1</td></tr>\n",
       "\t<tr><td>2021-09-16</td><td>arwiki    </td><td>desktop</td><td>visualeditor </td><td>   -1</td></tr>\n",
       "\t<tr><td>2021-09-16</td><td>fiwiki    </td><td>desktop</td><td>wikitext-2017</td><td>   -1</td></tr>\n",
       "\t<tr><td>2021-09-16</td><td>enwiki    </td><td>desktop</td><td>wikitext-2017</td><td>   -1</td></tr>\n",
       "\t<tr><td>2021-09-16</td><td>frwiki    </td><td>desktop</td><td>wikitext-2017</td><td>   -1</td></tr>\n",
       "\t<tr><td>2021-09-16</td><td>enwiki    </td><td>desktop</td><td>wikitext-2017</td><td>   -1</td></tr>\n",
       "\t<tr><td>2021-09-16</td><td>enwiki    </td><td>desktop</td><td>wikitext-2017</td><td>   -1</td></tr>\n",
       "\t<tr><td>2021-09-16</td><td>enwiki    </td><td>desktop</td><td>wikitext-2017</td><td>   -1</td></tr>\n",
       "\t<tr><td>2021-09-16</td><td>enwiki    </td><td>desktop</td><td>wikitext-2017</td><td>   -1</td></tr>\n",
       "\t<tr><td>2021-09-16</td><td>fawiki    </td><td>desktop</td><td>visualeditor </td><td>   -1</td></tr>\n",
       "\t<tr><td>2021-09-16</td><td>enwiki    </td><td>desktop</td><td>wikitext-2017</td><td>   -1</td></tr>\n",
       "\t<tr><td>2021-09-16</td><td>jawiki    </td><td>desktop</td><td>wikitext-2017</td><td>   -1</td></tr>\n",
       "\t<tr><td>2021-09-16</td><td>frwiki    </td><td>desktop</td><td>wikitext-2017</td><td>   -1</td></tr>\n",
       "\t<tr><td>2021-09-16</td><td>enwiki    </td><td>desktop</td><td>wikitext-2017</td><td>   -1</td></tr>\n",
       "\t<tr><td>⋮</td><td>⋮</td><td>⋮</td><td>⋮</td><td>⋮</td></tr>\n",
       "\t<tr><td>2021-09-17</td><td>ukwiki      </td><td>desktop</td><td>wikitext-2017</td><td> 4702</td></tr>\n",
       "\t<tr><td>2021-09-17</td><td>huwiki      </td><td>desktop</td><td>wikitext-2017</td><td> 2300</td></tr>\n",
       "\t<tr><td>2021-09-17</td><td>itwiki      </td><td>desktop</td><td>visualeditor </td><td> 3338</td></tr>\n",
       "\t<tr><td>2021-09-17</td><td>cswiki      </td><td>desktop</td><td>wikitext-2017</td><td> 3051</td></tr>\n",
       "\t<tr><td>2021-09-17</td><td>enwikisource</td><td>desktop</td><td>wikitext-2017</td><td> 8688</td></tr>\n",
       "\t<tr><td>2021-09-17</td><td>zhwiki      </td><td>desktop</td><td>wikitext-2017</td><td>24229</td></tr>\n",
       "\t<tr><td>2021-09-17</td><td>enwiki      </td><td>desktop</td><td>wikitext-2017</td><td> 3905</td></tr>\n",
       "\t<tr><td>2021-09-17</td><td>enwikivoyage</td><td>desktop</td><td>wikitext-2017</td><td> 4172</td></tr>\n",
       "\t<tr><td>2021-09-17</td><td>ptwiki      </td><td>desktop</td><td>visualeditor </td><td> 4421</td></tr>\n",
       "\t<tr><td>2021-09-17</td><td>nlwiki      </td><td>desktop</td><td>wikitext-2017</td><td> 2745</td></tr>\n",
       "\t<tr><td>2021-09-17</td><td>zhwiki      </td><td>desktop</td><td>wikitext-2017</td><td> 8690</td></tr>\n",
       "\t<tr><td>2021-09-17</td><td>zhwiki      </td><td>desktop</td><td>wikitext-2017</td><td> 8817</td></tr>\n",
       "\t<tr><td>2021-09-17</td><td>hewiki      </td><td>desktop</td><td>wikitext-2017</td><td> 2100</td></tr>\n",
       "\t<tr><td>2021-09-17</td><td>zhwiki      </td><td>desktop</td><td>wikitext-2017</td><td> 7579</td></tr>\n",
       "\t<tr><td>2021-09-17</td><td>fiwiki      </td><td>desktop</td><td>wikitext-2017</td><td> 4770</td></tr>\n",
       "\t<tr><td>2021-09-17</td><td>enwiki      </td><td>desktop</td><td>wikitext-2017</td><td> 2760</td></tr>\n",
       "\t<tr><td>2021-09-17</td><td>ptwiki      </td><td>desktop</td><td>visualeditor </td><td> 5487</td></tr>\n",
       "\t<tr><td>2021-09-17</td><td>hewiki      </td><td>desktop</td><td>wikitext-2017</td><td> 3060</td></tr>\n",
       "\t<tr><td>2021-09-17</td><td>kowiki      </td><td>desktop</td><td>wikitext-2017</td><td> 2631</td></tr>\n",
       "\t<tr><td>2021-09-17</td><td>hewiki      </td><td>desktop</td><td>wikitext-2017</td><td> 1185</td></tr>\n",
       "\t<tr><td>2021-09-17</td><td>viwiki      </td><td>desktop</td><td>wikitext-2017</td><td>11569</td></tr>\n",
       "\t<tr><td>2021-09-17</td><td>hewiki      </td><td>desktop</td><td>wikitext-2017</td><td> 5376</td></tr>\n",
       "\t<tr><td>2021-09-17</td><td>jawiki      </td><td>desktop</td><td>wikitext-2017</td><td> 5095</td></tr>\n",
       "\t<tr><td>2021-09-17</td><td>enwiki      </td><td>desktop</td><td>wikitext-2017</td><td> 4465</td></tr>\n",
       "\t<tr><td>2021-09-17</td><td>plwiki      </td><td>desktop</td><td>visualeditor </td><td> 2784</td></tr>\n",
       "\t<tr><td>2021-09-17</td><td>zhwiki      </td><td>desktop</td><td>visualeditor </td><td>12121</td></tr>\n",
       "\t<tr><td>2021-09-17</td><td>ptwiki      </td><td>desktop</td><td>wikitext-2017</td><td> 6751</td></tr>\n",
       "\t<tr><td>2021-09-17</td><td>hewiki      </td><td>desktop</td><td>wikitext-2017</td><td>19180</td></tr>\n",
       "\t<tr><td>2021-09-17</td><td>hewiki      </td><td>desktop</td><td>visualeditor </td><td> 3390</td></tr>\n",
       "\t<tr><td>2021-09-17</td><td>enwiki      </td><td>desktop</td><td>wikitext-2017</td><td> 3034</td></tr>\n",
       "</tbody>\n",
       "</table>\n"
      ],
      "text/latex": [
       "A data.frame: 2923 × 5\n",
       "\\begin{tabular}{lllll}\n",
       " date & wiki & platform & interface & save\\_success\\_timing\\\\\n",
       " <date> & <chr> & <chr> & <chr> & <int>\\\\\n",
       "\\hline\n",
       "\t 2021-09-16 & fawiki     & desktop & visualeditor  &    -1\\\\\n",
       "\t 2021-09-16 & simplewiki & desktop & wikitext-2017 &    -1\\\\\n",
       "\t 2021-09-16 & hewiki     & desktop & wikitext-2017 & 18237\\\\\n",
       "\t 2021-09-16 & enwiki     & desktop & wikitext-2017 &    -1\\\\\n",
       "\t 2021-09-16 & plwiki     & desktop & wikitext-2017 &    -1\\\\\n",
       "\t 2021-09-16 & zhwiki     & desktop & wikitext-2017 &    -1\\\\\n",
       "\t 2021-09-16 & itwiki     & desktop & wikitext-2017 &  6455\\\\\n",
       "\t 2021-09-16 & simplewiki & desktop & wikitext-2017 &    -1\\\\\n",
       "\t 2021-09-16 & arwiki     & desktop & visualeditor  &    -1\\\\\n",
       "\t 2021-09-16 & frwiki     & desktop & wikitext-2017 &    -1\\\\\n",
       "\t 2021-09-16 & fiwiki     & desktop & wikitext-2017 &    -1\\\\\n",
       "\t 2021-09-16 & simplewiki & desktop & wikitext-2017 &    -1\\\\\n",
       "\t 2021-09-16 & plwiki     & desktop & wikitext-2017 &    -1\\\\\n",
       "\t 2021-09-16 & zhwiki     & desktop & wikitext-2017 &    -1\\\\\n",
       "\t 2021-09-16 & arwiki     & desktop & wikitext-2017 &    -1\\\\\n",
       "\t 2021-09-16 & plwiki     & desktop & visualeditor  &    -1\\\\\n",
       "\t 2021-09-16 & bnwiki     & desktop & wikitext-2017 &    -1\\\\\n",
       "\t 2021-09-16 & arwiki     & desktop & visualeditor  &    -1\\\\\n",
       "\t 2021-09-16 & fiwiki     & desktop & wikitext-2017 &    -1\\\\\n",
       "\t 2021-09-16 & enwiki     & desktop & wikitext-2017 &    -1\\\\\n",
       "\t 2021-09-16 & frwiki     & desktop & wikitext-2017 &    -1\\\\\n",
       "\t 2021-09-16 & enwiki     & desktop & wikitext-2017 &    -1\\\\\n",
       "\t 2021-09-16 & enwiki     & desktop & wikitext-2017 &    -1\\\\\n",
       "\t 2021-09-16 & enwiki     & desktop & wikitext-2017 &    -1\\\\\n",
       "\t 2021-09-16 & enwiki     & desktop & wikitext-2017 &    -1\\\\\n",
       "\t 2021-09-16 & fawiki     & desktop & visualeditor  &    -1\\\\\n",
       "\t 2021-09-16 & enwiki     & desktop & wikitext-2017 &    -1\\\\\n",
       "\t 2021-09-16 & jawiki     & desktop & wikitext-2017 &    -1\\\\\n",
       "\t 2021-09-16 & frwiki     & desktop & wikitext-2017 &    -1\\\\\n",
       "\t 2021-09-16 & enwiki     & desktop & wikitext-2017 &    -1\\\\\n",
       "\t ⋮ & ⋮ & ⋮ & ⋮ & ⋮\\\\\n",
       "\t 2021-09-17 & ukwiki       & desktop & wikitext-2017 &  4702\\\\\n",
       "\t 2021-09-17 & huwiki       & desktop & wikitext-2017 &  2300\\\\\n",
       "\t 2021-09-17 & itwiki       & desktop & visualeditor  &  3338\\\\\n",
       "\t 2021-09-17 & cswiki       & desktop & wikitext-2017 &  3051\\\\\n",
       "\t 2021-09-17 & enwikisource & desktop & wikitext-2017 &  8688\\\\\n",
       "\t 2021-09-17 & zhwiki       & desktop & wikitext-2017 & 24229\\\\\n",
       "\t 2021-09-17 & enwiki       & desktop & wikitext-2017 &  3905\\\\\n",
       "\t 2021-09-17 & enwikivoyage & desktop & wikitext-2017 &  4172\\\\\n",
       "\t 2021-09-17 & ptwiki       & desktop & visualeditor  &  4421\\\\\n",
       "\t 2021-09-17 & nlwiki       & desktop & wikitext-2017 &  2745\\\\\n",
       "\t 2021-09-17 & zhwiki       & desktop & wikitext-2017 &  8690\\\\\n",
       "\t 2021-09-17 & zhwiki       & desktop & wikitext-2017 &  8817\\\\\n",
       "\t 2021-09-17 & hewiki       & desktop & wikitext-2017 &  2100\\\\\n",
       "\t 2021-09-17 & zhwiki       & desktop & wikitext-2017 &  7579\\\\\n",
       "\t 2021-09-17 & fiwiki       & desktop & wikitext-2017 &  4770\\\\\n",
       "\t 2021-09-17 & enwiki       & desktop & wikitext-2017 &  2760\\\\\n",
       "\t 2021-09-17 & ptwiki       & desktop & visualeditor  &  5487\\\\\n",
       "\t 2021-09-17 & hewiki       & desktop & wikitext-2017 &  3060\\\\\n",
       "\t 2021-09-17 & kowiki       & desktop & wikitext-2017 &  2631\\\\\n",
       "\t 2021-09-17 & hewiki       & desktop & wikitext-2017 &  1185\\\\\n",
       "\t 2021-09-17 & viwiki       & desktop & wikitext-2017 & 11569\\\\\n",
       "\t 2021-09-17 & hewiki       & desktop & wikitext-2017 &  5376\\\\\n",
       "\t 2021-09-17 & jawiki       & desktop & wikitext-2017 &  5095\\\\\n",
       "\t 2021-09-17 & enwiki       & desktop & wikitext-2017 &  4465\\\\\n",
       "\t 2021-09-17 & plwiki       & desktop & visualeditor  &  2784\\\\\n",
       "\t 2021-09-17 & zhwiki       & desktop & visualeditor  & 12121\\\\\n",
       "\t 2021-09-17 & ptwiki       & desktop & wikitext-2017 &  6751\\\\\n",
       "\t 2021-09-17 & hewiki       & desktop & wikitext-2017 & 19180\\\\\n",
       "\t 2021-09-17 & hewiki       & desktop & visualeditor  &  3390\\\\\n",
       "\t 2021-09-17 & enwiki       & desktop & wikitext-2017 &  3034\\\\\n",
       "\\end{tabular}\n"
      ],
      "text/markdown": [
       "\n",
       "A data.frame: 2923 × 5\n",
       "\n",
       "| date &lt;date&gt; | wiki &lt;chr&gt; | platform &lt;chr&gt; | interface &lt;chr&gt; | save_success_timing &lt;int&gt; |\n",
       "|---|---|---|---|---|\n",
       "| 2021-09-16 | fawiki     | desktop | visualeditor  |    -1 |\n",
       "| 2021-09-16 | simplewiki | desktop | wikitext-2017 |    -1 |\n",
       "| 2021-09-16 | hewiki     | desktop | wikitext-2017 | 18237 |\n",
       "| 2021-09-16 | enwiki     | desktop | wikitext-2017 |    -1 |\n",
       "| 2021-09-16 | plwiki     | desktop | wikitext-2017 |    -1 |\n",
       "| 2021-09-16 | zhwiki     | desktop | wikitext-2017 |    -1 |\n",
       "| 2021-09-16 | itwiki     | desktop | wikitext-2017 |  6455 |\n",
       "| 2021-09-16 | simplewiki | desktop | wikitext-2017 |    -1 |\n",
       "| 2021-09-16 | arwiki     | desktop | visualeditor  |    -1 |\n",
       "| 2021-09-16 | frwiki     | desktop | wikitext-2017 |    -1 |\n",
       "| 2021-09-16 | fiwiki     | desktop | wikitext-2017 |    -1 |\n",
       "| 2021-09-16 | simplewiki | desktop | wikitext-2017 |    -1 |\n",
       "| 2021-09-16 | plwiki     | desktop | wikitext-2017 |    -1 |\n",
       "| 2021-09-16 | zhwiki     | desktop | wikitext-2017 |    -1 |\n",
       "| 2021-09-16 | arwiki     | desktop | wikitext-2017 |    -1 |\n",
       "| 2021-09-16 | plwiki     | desktop | visualeditor  |    -1 |\n",
       "| 2021-09-16 | bnwiki     | desktop | wikitext-2017 |    -1 |\n",
       "| 2021-09-16 | arwiki     | desktop | visualeditor  |    -1 |\n",
       "| 2021-09-16 | fiwiki     | desktop | wikitext-2017 |    -1 |\n",
       "| 2021-09-16 | enwiki     | desktop | wikitext-2017 |    -1 |\n",
       "| 2021-09-16 | frwiki     | desktop | wikitext-2017 |    -1 |\n",
       "| 2021-09-16 | enwiki     | desktop | wikitext-2017 |    -1 |\n",
       "| 2021-09-16 | enwiki     | desktop | wikitext-2017 |    -1 |\n",
       "| 2021-09-16 | enwiki     | desktop | wikitext-2017 |    -1 |\n",
       "| 2021-09-16 | enwiki     | desktop | wikitext-2017 |    -1 |\n",
       "| 2021-09-16 | fawiki     | desktop | visualeditor  |    -1 |\n",
       "| 2021-09-16 | enwiki     | desktop | wikitext-2017 |    -1 |\n",
       "| 2021-09-16 | jawiki     | desktop | wikitext-2017 |    -1 |\n",
       "| 2021-09-16 | frwiki     | desktop | wikitext-2017 |    -1 |\n",
       "| 2021-09-16 | enwiki     | desktop | wikitext-2017 |    -1 |\n",
       "| ⋮ | ⋮ | ⋮ | ⋮ | ⋮ |\n",
       "| 2021-09-17 | ukwiki       | desktop | wikitext-2017 |  4702 |\n",
       "| 2021-09-17 | huwiki       | desktop | wikitext-2017 |  2300 |\n",
       "| 2021-09-17 | itwiki       | desktop | visualeditor  |  3338 |\n",
       "| 2021-09-17 | cswiki       | desktop | wikitext-2017 |  3051 |\n",
       "| 2021-09-17 | enwikisource | desktop | wikitext-2017 |  8688 |\n",
       "| 2021-09-17 | zhwiki       | desktop | wikitext-2017 | 24229 |\n",
       "| 2021-09-17 | enwiki       | desktop | wikitext-2017 |  3905 |\n",
       "| 2021-09-17 | enwikivoyage | desktop | wikitext-2017 |  4172 |\n",
       "| 2021-09-17 | ptwiki       | desktop | visualeditor  |  4421 |\n",
       "| 2021-09-17 | nlwiki       | desktop | wikitext-2017 |  2745 |\n",
       "| 2021-09-17 | zhwiki       | desktop | wikitext-2017 |  8690 |\n",
       "| 2021-09-17 | zhwiki       | desktop | wikitext-2017 |  8817 |\n",
       "| 2021-09-17 | hewiki       | desktop | wikitext-2017 |  2100 |\n",
       "| 2021-09-17 | zhwiki       | desktop | wikitext-2017 |  7579 |\n",
       "| 2021-09-17 | fiwiki       | desktop | wikitext-2017 |  4770 |\n",
       "| 2021-09-17 | enwiki       | desktop | wikitext-2017 |  2760 |\n",
       "| 2021-09-17 | ptwiki       | desktop | visualeditor  |  5487 |\n",
       "| 2021-09-17 | hewiki       | desktop | wikitext-2017 |  3060 |\n",
       "| 2021-09-17 | kowiki       | desktop | wikitext-2017 |  2631 |\n",
       "| 2021-09-17 | hewiki       | desktop | wikitext-2017 |  1185 |\n",
       "| 2021-09-17 | viwiki       | desktop | wikitext-2017 | 11569 |\n",
       "| 2021-09-17 | hewiki       | desktop | wikitext-2017 |  5376 |\n",
       "| 2021-09-17 | jawiki       | desktop | wikitext-2017 |  5095 |\n",
       "| 2021-09-17 | enwiki       | desktop | wikitext-2017 |  4465 |\n",
       "| 2021-09-17 | plwiki       | desktop | visualeditor  |  2784 |\n",
       "| 2021-09-17 | zhwiki       | desktop | visualeditor  | 12121 |\n",
       "| 2021-09-17 | ptwiki       | desktop | wikitext-2017 |  6751 |\n",
       "| 2021-09-17 | hewiki       | desktop | wikitext-2017 | 19180 |\n",
       "| 2021-09-17 | hewiki       | desktop | visualeditor  |  3390 |\n",
       "| 2021-09-17 | enwiki       | desktop | wikitext-2017 |  3034 |\n",
       "\n"
      ],
      "text/plain": [
       "     date       wiki         platform interface     save_success_timing\n",
       "1    2021-09-16 fawiki       desktop  visualeditor     -1              \n",
       "2    2021-09-16 simplewiki   desktop  wikitext-2017    -1              \n",
       "3    2021-09-16 hewiki       desktop  wikitext-2017 18237              \n",
       "4    2021-09-16 enwiki       desktop  wikitext-2017    -1              \n",
       "5    2021-09-16 plwiki       desktop  wikitext-2017    -1              \n",
       "6    2021-09-16 zhwiki       desktop  wikitext-2017    -1              \n",
       "7    2021-09-16 itwiki       desktop  wikitext-2017  6455              \n",
       "8    2021-09-16 simplewiki   desktop  wikitext-2017    -1              \n",
       "9    2021-09-16 arwiki       desktop  visualeditor     -1              \n",
       "10   2021-09-16 frwiki       desktop  wikitext-2017    -1              \n",
       "11   2021-09-16 fiwiki       desktop  wikitext-2017    -1              \n",
       "12   2021-09-16 simplewiki   desktop  wikitext-2017    -1              \n",
       "13   2021-09-16 plwiki       desktop  wikitext-2017    -1              \n",
       "14   2021-09-16 zhwiki       desktop  wikitext-2017    -1              \n",
       "15   2021-09-16 arwiki       desktop  wikitext-2017    -1              \n",
       "16   2021-09-16 plwiki       desktop  visualeditor     -1              \n",
       "17   2021-09-16 bnwiki       desktop  wikitext-2017    -1              \n",
       "18   2021-09-16 arwiki       desktop  visualeditor     -1              \n",
       "19   2021-09-16 fiwiki       desktop  wikitext-2017    -1              \n",
       "20   2021-09-16 enwiki       desktop  wikitext-2017    -1              \n",
       "21   2021-09-16 frwiki       desktop  wikitext-2017    -1              \n",
       "22   2021-09-16 enwiki       desktop  wikitext-2017    -1              \n",
       "23   2021-09-16 enwiki       desktop  wikitext-2017    -1              \n",
       "24   2021-09-16 enwiki       desktop  wikitext-2017    -1              \n",
       "25   2021-09-16 enwiki       desktop  wikitext-2017    -1              \n",
       "26   2021-09-16 fawiki       desktop  visualeditor     -1              \n",
       "27   2021-09-16 enwiki       desktop  wikitext-2017    -1              \n",
       "28   2021-09-16 jawiki       desktop  wikitext-2017    -1              \n",
       "29   2021-09-16 frwiki       desktop  wikitext-2017    -1              \n",
       "30   2021-09-16 enwiki       desktop  wikitext-2017    -1              \n",
       "⋮    ⋮          ⋮            ⋮        ⋮             ⋮                  \n",
       "2894 2021-09-17 ukwiki       desktop  wikitext-2017  4702              \n",
       "2895 2021-09-17 huwiki       desktop  wikitext-2017  2300              \n",
       "2896 2021-09-17 itwiki       desktop  visualeditor   3338              \n",
       "2897 2021-09-17 cswiki       desktop  wikitext-2017  3051              \n",
       "2898 2021-09-17 enwikisource desktop  wikitext-2017  8688              \n",
       "2899 2021-09-17 zhwiki       desktop  wikitext-2017 24229              \n",
       "2900 2021-09-17 enwiki       desktop  wikitext-2017  3905              \n",
       "2901 2021-09-17 enwikivoyage desktop  wikitext-2017  4172              \n",
       "2902 2021-09-17 ptwiki       desktop  visualeditor   4421              \n",
       "2903 2021-09-17 nlwiki       desktop  wikitext-2017  2745              \n",
       "2904 2021-09-17 zhwiki       desktop  wikitext-2017  8690              \n",
       "2905 2021-09-17 zhwiki       desktop  wikitext-2017  8817              \n",
       "2906 2021-09-17 hewiki       desktop  wikitext-2017  2100              \n",
       "2907 2021-09-17 zhwiki       desktop  wikitext-2017  7579              \n",
       "2908 2021-09-17 fiwiki       desktop  wikitext-2017  4770              \n",
       "2909 2021-09-17 enwiki       desktop  wikitext-2017  2760              \n",
       "2910 2021-09-17 ptwiki       desktop  visualeditor   5487              \n",
       "2911 2021-09-17 hewiki       desktop  wikitext-2017  3060              \n",
       "2912 2021-09-17 kowiki       desktop  wikitext-2017  2631              \n",
       "2913 2021-09-17 hewiki       desktop  wikitext-2017  1185              \n",
       "2914 2021-09-17 viwiki       desktop  wikitext-2017 11569              \n",
       "2915 2021-09-17 hewiki       desktop  wikitext-2017  5376              \n",
       "2916 2021-09-17 jawiki       desktop  wikitext-2017  5095              \n",
       "2917 2021-09-17 enwiki       desktop  wikitext-2017  4465              \n",
       "2918 2021-09-17 plwiki       desktop  visualeditor   2784              \n",
       "2919 2021-09-17 zhwiki       desktop  visualeditor  12121              \n",
       "2920 2021-09-17 ptwiki       desktop  wikitext-2017  6751              \n",
       "2921 2021-09-17 hewiki       desktop  wikitext-2017 19180              \n",
       "2922 2021-09-17 hewiki       desktop  visualeditor   3390              \n",
       "2923 2021-09-17 enwiki       desktop  wikitext-2017  3034              "
      ]
     },
     "metadata": {},
     "output_type": "display_data"
    }
   ],
   "source": [
    "save_success_events %>%\n",
    "select(-3) %>%\n",
    "filter(date <= '2021-09-17')%>%\n",
    "arrange(date)"
   ]
  },
  {
   "cell_type": "markdown",
   "metadata": {},
   "source": [
    "Confirmed we start recorded save success timing for on 17 Setember 2021 for all save success discussion tool related events.\n",
    "\n",
    "Are there any NULL events recorded after 17 September 2021?"
   ]
  },
  {
   "cell_type": "code",
   "execution_count": 63,
   "metadata": {},
   "outputs": [
    {
     "data": {
      "text/html": [
       "<table>\n",
       "<caption>A data.frame: 1 × 6</caption>\n",
       "<thead>\n",
       "\t<tr><th scope=col>date</th><th scope=col>wiki</th><th scope=col>session_id</th><th scope=col>platform</th><th scope=col>interface</th><th scope=col>save_success_timing</th></tr>\n",
       "\t<tr><th scope=col>&lt;date&gt;</th><th scope=col>&lt;chr&gt;</th><th scope=col>&lt;chr&gt;</th><th scope=col>&lt;chr&gt;</th><th scope=col>&lt;chr&gt;</th><th scope=col>&lt;int&gt;</th></tr>\n",
       "</thead>\n",
       "<tbody>\n",
       "\t<tr><td>2021-09-18</td><td>nlwiki</td><td>8269305fab50769c18b0</td><td>desktop</td><td>visualeditor</td><td>-1</td></tr>\n",
       "</tbody>\n",
       "</table>\n"
      ],
      "text/latex": [
       "A data.frame: 1 × 6\n",
       "\\begin{tabular}{llllll}\n",
       " date & wiki & session\\_id & platform & interface & save\\_success\\_timing\\\\\n",
       " <date> & <chr> & <chr> & <chr> & <chr> & <int>\\\\\n",
       "\\hline\n",
       "\t 2021-09-18 & nlwiki & 8269305fab50769c18b0 & desktop & visualeditor & -1\\\\\n",
       "\\end{tabular}\n"
      ],
      "text/markdown": [
       "\n",
       "A data.frame: 1 × 6\n",
       "\n",
       "| date &lt;date&gt; | wiki &lt;chr&gt; | session_id &lt;chr&gt; | platform &lt;chr&gt; | interface &lt;chr&gt; | save_success_timing &lt;int&gt; |\n",
       "|---|---|---|---|---|---|\n",
       "| 2021-09-18 | nlwiki | 8269305fab50769c18b0 | desktop | visualeditor | -1 |\n",
       "\n"
      ],
      "text/plain": [
       "  date       wiki   session_id           platform interface   \n",
       "1 2021-09-18 nlwiki 8269305fab50769c18b0 desktop  visualeditor\n",
       "  save_success_timing\n",
       "1 -1                 "
      ]
     },
     "metadata": {},
     "output_type": "display_data"
    }
   ],
   "source": [
    "save_success_events %>%\n",
    "filter(date >= '2021-09-17',\n",
    "       save_success_timing == -1)"
   ]
  },
  {
   "cell_type": "markdown",
   "metadata": {},
   "source": [
    "There is one save success event missing save success timing but this field is populating for all other events as expected. Not sure what's happening here."
   ]
  },
  {
   "cell_type": "markdown",
   "metadata": {},
   "source": [
    "Next I'll take a quick look at all events logged for discussion tool events to confirm if any other fields are missing"
   ]
  },
  {
   "cell_type": "code",
   "execution_count": 28,
   "metadata": {},
   "outputs": [],
   "source": [
    "# collect day of all dt related events \n",
    "query <-\n",
    "\"\n",
    "SELECT \n",
    "  event.action,\n",
    "  event.init_type,\n",
    "  event.init_mechanism,\n",
    "  event.init_timing,\n",
    "  event.ready_timing,\n",
    "  event.loaded_timing,\n",
    "  event.first_change_timing,\n",
    "  event.save_intent_timing,\n",
    " event.save_attempt_timing,\n",
    "  event.save_success_timing,\n",
    "  event.save_failure_type,\n",
    "  event.save_failure_message,\n",
    "  event.abort_type,\n",
    "  event.abort_mechanism,\n",
    "  event.abort_timing,\n",
    " event.editor_interface,\n",
    "    event.platform,\n",
    "    event.page_id,\n",
    "    event.page_ns,\n",
    "    event.page_title\n",
    "FROM event.editattemptstep\n",
    "WHERE\n",
    " event.integration = 'discussiontools'\n",
    "  AND year = 2021\n",
    "  AND dt >= '2021-09-17'\n",
    "\""
   ]
  },
  {
   "cell_type": "code",
   "execution_count": 29,
   "metadata": {},
   "outputs": [
    {
     "name": "stderr",
     "output_type": "stream",
     "text": [
      "Don't forget to authenticate with Kerberos using kinit\n",
      "\n"
     ]
    }
   ],
   "source": [
    "all_dt_events <- wmfdata::query_hive(query)"
   ]
  },
  {
   "cell_type": "markdown",
   "metadata": {},
   "source": [
    "## Init events"
   ]
  },
  {
   "cell_type": "code",
   "execution_count": 42,
   "metadata": {},
   "outputs": [
    {
     "data": {
      "text/html": [
       "<table>\n",
       "<caption>A data.frame: 6 × 20</caption>\n",
       "<thead>\n",
       "\t<tr><th></th><th scope=col>action</th><th scope=col>init_type</th><th scope=col>init_mechanism</th><th scope=col>init_timing</th><th scope=col>ready_timing</th><th scope=col>loaded_timing</th><th scope=col>first_change_timing</th><th scope=col>save_intent_timing</th><th scope=col>save_attempt_timing</th><th scope=col>save_success_timing</th><th scope=col>save_failure_type</th><th scope=col>save_failure_message</th><th scope=col>abort_type</th><th scope=col>abort_mechanism</th><th scope=col>abort_timing</th><th scope=col>editor_interface</th><th scope=col>platform</th><th scope=col>page_id</th><th scope=col>page_ns</th><th scope=col>page_title</th></tr>\n",
       "\t<tr><th></th><th scope=col>&lt;chr&gt;</th><th scope=col>&lt;chr&gt;</th><th scope=col>&lt;chr&gt;</th><th scope=col>&lt;chr&gt;</th><th scope=col>&lt;chr&gt;</th><th scope=col>&lt;chr&gt;</th><th scope=col>&lt;chr&gt;</th><th scope=col>&lt;chr&gt;</th><th scope=col>&lt;chr&gt;</th><th scope=col>&lt;chr&gt;</th><th scope=col>&lt;chr&gt;</th><th scope=col>&lt;chr&gt;</th><th scope=col>&lt;chr&gt;</th><th scope=col>&lt;chr&gt;</th><th scope=col>&lt;chr&gt;</th><th scope=col>&lt;chr&gt;</th><th scope=col>&lt;chr&gt;</th><th scope=col>&lt;int&gt;</th><th scope=col>&lt;int&gt;</th><th scope=col>&lt;chr&gt;</th></tr>\n",
       "</thead>\n",
       "<tbody>\n",
       "\t<tr><th scope=row>1</th><td>init</td><td>page   </td><td>click</td><td>NULL</td><td>NULL</td><td>NULL</td><td>NULL</td><td>NULL</td><td>NULL</td><td>NULL</td><td>NULL</td><td>NULL</td><td>NULL</td><td>NULL</td><td>NULL</td><td>wikitext-2017</td><td>desktop</td><td> 2544264</td><td>3</td><td>بحث_کاربر:Jeeputer        </td></tr>\n",
       "\t<tr><th scope=row>2</th><td>init</td><td>page   </td><td>click</td><td>NULL</td><td>NULL</td><td>NULL</td><td>NULL</td><td>NULL</td><td>NULL</td><td>NULL</td><td>NULL</td><td>NULL</td><td>NULL</td><td>NULL</td><td>NULL</td><td>wikitext-2017</td><td>desktop</td><td>  202483</td><td>4</td><td>Wikipedia:管理员布告板/3RR</td></tr>\n",
       "\t<tr><th scope=row>3</th><td>init</td><td>page   </td><td>click</td><td>NULL</td><td>NULL</td><td>NULL</td><td>NULL</td><td>NULL</td><td>NULL</td><td>NULL</td><td>NULL</td><td>NULL</td><td>NULL</td><td>NULL</td><td>NULL</td><td>visualeditor </td><td>desktop</td><td> 4799201</td><td>1</td><td>Discussion:Rokhaya_Diallo </td></tr>\n",
       "\t<tr><th scope=row>4</th><td>init</td><td>page   </td><td>click</td><td>NULL</td><td>NULL</td><td>NULL</td><td>NULL</td><td>NULL</td><td>NULL</td><td>NULL</td><td>NULL</td><td>NULL</td><td>NULL</td><td>NULL</td><td>NULL</td><td>wikitext-2017</td><td>desktop</td><td>  255030</td><td>4</td><td>Wikipedia:優良條目評選    </td></tr>\n",
       "\t<tr><th scope=row>5</th><td>init</td><td>section</td><td>click</td><td>NULL</td><td>NULL</td><td>NULL</td><td>NULL</td><td>NULL</td><td>NULL</td><td>NULL</td><td>NULL</td><td>NULL</td><td>NULL</td><td>NULL</td><td>NULL</td><td>visualeditor </td><td>desktop</td><td>33864885</td><td>3</td><td>User_talk:Urbwek          </td></tr>\n",
       "\t<tr><th scope=row>6</th><td>init</td><td>section</td><td>click</td><td>NULL</td><td>NULL</td><td>NULL</td><td>NULL</td><td>NULL</td><td>NULL</td><td>NULL</td><td>NULL</td><td>NULL</td><td>NULL</td><td>NULL</td><td>NULL</td><td>wikitext-2017</td><td>desktop</td><td>       0</td><td>3</td><td>User_talk:135.0.163.150   </td></tr>\n",
       "</tbody>\n",
       "</table>\n"
      ],
      "text/latex": [
       "A data.frame: 6 × 20\n",
       "\\begin{tabular}{r|llllllllllllllllllll}\n",
       "  & action & init\\_type & init\\_mechanism & init\\_timing & ready\\_timing & loaded\\_timing & first\\_change\\_timing & save\\_intent\\_timing & save\\_attempt\\_timing & save\\_success\\_timing & save\\_failure\\_type & save\\_failure\\_message & abort\\_type & abort\\_mechanism & abort\\_timing & editor\\_interface & platform & page\\_id & page\\_ns & page\\_title\\\\\n",
       "  & <chr> & <chr> & <chr> & <chr> & <chr> & <chr> & <chr> & <chr> & <chr> & <chr> & <chr> & <chr> & <chr> & <chr> & <chr> & <chr> & <chr> & <int> & <int> & <chr>\\\\\n",
       "\\hline\n",
       "\t1 & init & page    & click & NULL & NULL & NULL & NULL & NULL & NULL & NULL & NULL & NULL & NULL & NULL & NULL & wikitext-2017 & desktop &  2544264 & 3 & بحث\\_کاربر:Jeeputer        \\\\\n",
       "\t2 & init & page    & click & NULL & NULL & NULL & NULL & NULL & NULL & NULL & NULL & NULL & NULL & NULL & NULL & wikitext-2017 & desktop &   202483 & 4 & Wikipedia:管理员布告板/3RR\\\\\n",
       "\t3 & init & page    & click & NULL & NULL & NULL & NULL & NULL & NULL & NULL & NULL & NULL & NULL & NULL & NULL & visualeditor  & desktop &  4799201 & 1 & Discussion:Rokhaya\\_Diallo \\\\\n",
       "\t4 & init & page    & click & NULL & NULL & NULL & NULL & NULL & NULL & NULL & NULL & NULL & NULL & NULL & NULL & wikitext-2017 & desktop &   255030 & 4 & Wikipedia:優良條目評選    \\\\\n",
       "\t5 & init & section & click & NULL & NULL & NULL & NULL & NULL & NULL & NULL & NULL & NULL & NULL & NULL & NULL & visualeditor  & desktop & 33864885 & 3 & User\\_talk:Urbwek          \\\\\n",
       "\t6 & init & section & click & NULL & NULL & NULL & NULL & NULL & NULL & NULL & NULL & NULL & NULL & NULL & NULL & wikitext-2017 & desktop &        0 & 3 & User\\_talk:135.0.163.150   \\\\\n",
       "\\end{tabular}\n"
      ],
      "text/markdown": [
       "\n",
       "A data.frame: 6 × 20\n",
       "\n",
       "| <!--/--> | action &lt;chr&gt; | init_type &lt;chr&gt; | init_mechanism &lt;chr&gt; | init_timing &lt;chr&gt; | ready_timing &lt;chr&gt; | loaded_timing &lt;chr&gt; | first_change_timing &lt;chr&gt; | save_intent_timing &lt;chr&gt; | save_attempt_timing &lt;chr&gt; | save_success_timing &lt;chr&gt; | save_failure_type &lt;chr&gt; | save_failure_message &lt;chr&gt; | abort_type &lt;chr&gt; | abort_mechanism &lt;chr&gt; | abort_timing &lt;chr&gt; | editor_interface &lt;chr&gt; | platform &lt;chr&gt; | page_id &lt;int&gt; | page_ns &lt;int&gt; | page_title &lt;chr&gt; |\n",
       "|---|---|---|---|---|---|---|---|---|---|---|---|---|---|---|---|---|---|---|---|---|\n",
       "| 1 | init | page    | click | NULL | NULL | NULL | NULL | NULL | NULL | NULL | NULL | NULL | NULL | NULL | NULL | wikitext-2017 | desktop |  2544264 | 3 | بحث_کاربر:Jeeputer         |\n",
       "| 2 | init | page    | click | NULL | NULL | NULL | NULL | NULL | NULL | NULL | NULL | NULL | NULL | NULL | NULL | wikitext-2017 | desktop |   202483 | 4 | Wikipedia:管理员布告板/3RR |\n",
       "| 3 | init | page    | click | NULL | NULL | NULL | NULL | NULL | NULL | NULL | NULL | NULL | NULL | NULL | NULL | visualeditor  | desktop |  4799201 | 1 | Discussion:Rokhaya_Diallo  |\n",
       "| 4 | init | page    | click | NULL | NULL | NULL | NULL | NULL | NULL | NULL | NULL | NULL | NULL | NULL | NULL | wikitext-2017 | desktop |   255030 | 4 | Wikipedia:優良條目評選     |\n",
       "| 5 | init | section | click | NULL | NULL | NULL | NULL | NULL | NULL | NULL | NULL | NULL | NULL | NULL | NULL | visualeditor  | desktop | 33864885 | 3 | User_talk:Urbwek           |\n",
       "| 6 | init | section | click | NULL | NULL | NULL | NULL | NULL | NULL | NULL | NULL | NULL | NULL | NULL | NULL | wikitext-2017 | desktop |        0 | 3 | User_talk:135.0.163.150    |\n",
       "\n"
      ],
      "text/plain": [
       "  action init_type init_mechanism init_timing ready_timing loaded_timing\n",
       "1 init   page      click          NULL        NULL         NULL         \n",
       "2 init   page      click          NULL        NULL         NULL         \n",
       "3 init   page      click          NULL        NULL         NULL         \n",
       "4 init   page      click          NULL        NULL         NULL         \n",
       "5 init   section   click          NULL        NULL         NULL         \n",
       "6 init   section   click          NULL        NULL         NULL         \n",
       "  first_change_timing save_intent_timing save_attempt_timing\n",
       "1 NULL                NULL               NULL               \n",
       "2 NULL                NULL               NULL               \n",
       "3 NULL                NULL               NULL               \n",
       "4 NULL                NULL               NULL               \n",
       "5 NULL                NULL               NULL               \n",
       "6 NULL                NULL               NULL               \n",
       "  save_success_timing save_failure_type save_failure_message abort_type\n",
       "1 NULL                NULL              NULL                 NULL      \n",
       "2 NULL                NULL              NULL                 NULL      \n",
       "3 NULL                NULL              NULL                 NULL      \n",
       "4 NULL                NULL              NULL                 NULL      \n",
       "5 NULL                NULL              NULL                 NULL      \n",
       "6 NULL                NULL              NULL                 NULL      \n",
       "  abort_mechanism abort_timing editor_interface platform page_id  page_ns\n",
       "1 NULL            NULL         wikitext-2017    desktop   2544264 3      \n",
       "2 NULL            NULL         wikitext-2017    desktop    202483 4      \n",
       "3 NULL            NULL         visualeditor     desktop   4799201 1      \n",
       "4 NULL            NULL         wikitext-2017    desktop    255030 4      \n",
       "5 NULL            NULL         visualeditor     desktop  33864885 3      \n",
       "6 NULL            NULL         wikitext-2017    desktop         0 3      \n",
       "  page_title                \n",
       "1 بحث_کاربر:Jeeputer        \n",
       "2 Wikipedia:管理员布告板/3RR\n",
       "3 Discussion:Rokhaya_Diallo \n",
       "4 Wikipedia:優良條目評選    \n",
       "5 User_talk:Urbwek          \n",
       "6 User_talk:135.0.163.150   "
      ]
     },
     "metadata": {},
     "output_type": "display_data"
    }
   ],
   "source": [
    "init_dt_events <- all_dt_events %>%\n",
    "    filter(action == 'init')\n",
    "\n",
    "head(init_dt_events)"
   ]
  },
  {
   "cell_type": "code",
   "execution_count": 43,
   "metadata": {},
   "outputs": [
    {
     "data": {
      "text/html": [
       "<table>\n",
       "<caption>A data.frame: 6 × 20</caption>\n",
       "<thead>\n",
       "\t<tr><th></th><th scope=col>action</th><th scope=col>init_type</th><th scope=col>init_mechanism</th><th scope=col>init_timing</th><th scope=col>ready_timing</th><th scope=col>loaded_timing</th><th scope=col>first_change_timing</th><th scope=col>save_intent_timing</th><th scope=col>save_attempt_timing</th><th scope=col>save_success_timing</th><th scope=col>save_failure_type</th><th scope=col>save_failure_message</th><th scope=col>abort_type</th><th scope=col>abort_mechanism</th><th scope=col>abort_timing</th><th scope=col>editor_interface</th><th scope=col>platform</th><th scope=col>page_id</th><th scope=col>page_ns</th><th scope=col>page_title</th></tr>\n",
       "\t<tr><th></th><th scope=col>&lt;chr&gt;</th><th scope=col>&lt;chr&gt;</th><th scope=col>&lt;chr&gt;</th><th scope=col>&lt;chr&gt;</th><th scope=col>&lt;chr&gt;</th><th scope=col>&lt;chr&gt;</th><th scope=col>&lt;chr&gt;</th><th scope=col>&lt;chr&gt;</th><th scope=col>&lt;chr&gt;</th><th scope=col>&lt;chr&gt;</th><th scope=col>&lt;chr&gt;</th><th scope=col>&lt;chr&gt;</th><th scope=col>&lt;chr&gt;</th><th scope=col>&lt;chr&gt;</th><th scope=col>&lt;chr&gt;</th><th scope=col>&lt;chr&gt;</th><th scope=col>&lt;chr&gt;</th><th scope=col>&lt;int&gt;</th><th scope=col>&lt;int&gt;</th><th scope=col>&lt;chr&gt;</th></tr>\n",
       "</thead>\n",
       "<tbody>\n",
       "\t<tr><th scope=row>1</th><td>ready</td><td>NULL</td><td>NULL</td><td>NULL</td><td>380  </td><td>NULL</td><td>NULL</td><td>NULL</td><td>NULL</td><td>NULL</td><td>NULL</td><td>NULL</td><td>NULL</td><td>NULL</td><td>NULL</td><td>wikitext-2017</td><td>desktop</td><td>  34015</td><td> 3</td><td>Brukerdiskusjon:Jon_Harald_Søby                       </td></tr>\n",
       "\t<tr><th scope=row>2</th><td>ready</td><td>NULL</td><td>NULL</td><td>NULL</td><td>266  </td><td>NULL</td><td>NULL</td><td>NULL</td><td>NULL</td><td>NULL</td><td>NULL</td><td>NULL</td><td>NULL</td><td>NULL</td><td>NULL</td><td>visualeditor </td><td>desktop</td><td>5478960</td><td> 4</td><td>ویکی‌پدیا:گزیدن_مقاله‌های_خوب/هیولا_(مجموعه_نمایش_خانگی)</td></tr>\n",
       "\t<tr><th scope=row>3</th><td>ready</td><td>NULL</td><td>NULL</td><td>NULL</td><td>174  </td><td>NULL</td><td>NULL</td><td>NULL</td><td>NULL</td><td>NULL</td><td>NULL</td><td>NULL</td><td>NULL</td><td>NULL</td><td>NULL</td><td>visualeditor </td><td>desktop</td><td>      0</td><td> 1</td><td>Diskuse:Kropáč_(zbraň)                                </td></tr>\n",
       "\t<tr><th scope=row>4</th><td>ready</td><td>NULL</td><td>NULL</td><td>NULL</td><td>170  </td><td>NULL</td><td>NULL</td><td>NULL</td><td>NULL</td><td>NULL</td><td>NULL</td><td>NULL</td><td>NULL</td><td>NULL</td><td>NULL</td><td>wikitext-2017</td><td>desktop</td><td>2023601</td><td>15</td><td>שיחת_קטגוריה:טיים_100_נקסט                            </td></tr>\n",
       "\t<tr><th scope=row>5</th><td>ready</td><td>NULL</td><td>NULL</td><td>NULL</td><td>86   </td><td>NULL</td><td>NULL</td><td>NULL</td><td>NULL</td><td>NULL</td><td>NULL</td><td>NULL</td><td>NULL</td><td>NULL</td><td>NULL</td><td>wikitext-2017</td><td>desktop</td><td>1772268</td><td> 1</td><td>Vita:A_bolgár_újjászületés_irodalma                   </td></tr>\n",
       "\t<tr><th scope=row>6</th><td>ready</td><td>NULL</td><td>NULL</td><td>NULL</td><td>25408</td><td>NULL</td><td>NULL</td><td>NULL</td><td>NULL</td><td>NULL</td><td>NULL</td><td>NULL</td><td>NULL</td><td>NULL</td><td>NULL</td><td>wikitext-2017</td><td>desktop</td><td>2544264</td><td> 3</td><td>بحث_کاربر:Jeeputer                                    </td></tr>\n",
       "</tbody>\n",
       "</table>\n"
      ],
      "text/latex": [
       "A data.frame: 6 × 20\n",
       "\\begin{tabular}{r|llllllllllllllllllll}\n",
       "  & action & init\\_type & init\\_mechanism & init\\_timing & ready\\_timing & loaded\\_timing & first\\_change\\_timing & save\\_intent\\_timing & save\\_attempt\\_timing & save\\_success\\_timing & save\\_failure\\_type & save\\_failure\\_message & abort\\_type & abort\\_mechanism & abort\\_timing & editor\\_interface & platform & page\\_id & page\\_ns & page\\_title\\\\\n",
       "  & <chr> & <chr> & <chr> & <chr> & <chr> & <chr> & <chr> & <chr> & <chr> & <chr> & <chr> & <chr> & <chr> & <chr> & <chr> & <chr> & <chr> & <int> & <int> & <chr>\\\\\n",
       "\\hline\n",
       "\t1 & ready & NULL & NULL & NULL & 380   & NULL & NULL & NULL & NULL & NULL & NULL & NULL & NULL & NULL & NULL & wikitext-2017 & desktop &   34015 &  3 & Brukerdiskusjon:Jon\\_Harald\\_Søby                       \\\\\n",
       "\t2 & ready & NULL & NULL & NULL & 266   & NULL & NULL & NULL & NULL & NULL & NULL & NULL & NULL & NULL & NULL & visualeditor  & desktop & 5478960 &  4 & ویکی‌پدیا:گزیدن\\_مقاله‌های\\_خوب/هیولا\\_(مجموعه\\_نمایش\\_خانگی)\\\\\n",
       "\t3 & ready & NULL & NULL & NULL & 174   & NULL & NULL & NULL & NULL & NULL & NULL & NULL & NULL & NULL & NULL & visualeditor  & desktop &       0 &  1 & Diskuse:Kropáč\\_(zbraň)                                \\\\\n",
       "\t4 & ready & NULL & NULL & NULL & 170   & NULL & NULL & NULL & NULL & NULL & NULL & NULL & NULL & NULL & NULL & wikitext-2017 & desktop & 2023601 & 15 & שיחת\\_קטגוריה:טיים\\_100\\_נקסט                            \\\\\n",
       "\t5 & ready & NULL & NULL & NULL & 86    & NULL & NULL & NULL & NULL & NULL & NULL & NULL & NULL & NULL & NULL & wikitext-2017 & desktop & 1772268 &  1 & Vita:A\\_bolgár\\_újjászületés\\_irodalma                   \\\\\n",
       "\t6 & ready & NULL & NULL & NULL & 25408 & NULL & NULL & NULL & NULL & NULL & NULL & NULL & NULL & NULL & NULL & wikitext-2017 & desktop & 2544264 &  3 & بحث\\_کاربر:Jeeputer                                    \\\\\n",
       "\\end{tabular}\n"
      ],
      "text/markdown": [
       "\n",
       "A data.frame: 6 × 20\n",
       "\n",
       "| <!--/--> | action &lt;chr&gt; | init_type &lt;chr&gt; | init_mechanism &lt;chr&gt; | init_timing &lt;chr&gt; | ready_timing &lt;chr&gt; | loaded_timing &lt;chr&gt; | first_change_timing &lt;chr&gt; | save_intent_timing &lt;chr&gt; | save_attempt_timing &lt;chr&gt; | save_success_timing &lt;chr&gt; | save_failure_type &lt;chr&gt; | save_failure_message &lt;chr&gt; | abort_type &lt;chr&gt; | abort_mechanism &lt;chr&gt; | abort_timing &lt;chr&gt; | editor_interface &lt;chr&gt; | platform &lt;chr&gt; | page_id &lt;int&gt; | page_ns &lt;int&gt; | page_title &lt;chr&gt; |\n",
       "|---|---|---|---|---|---|---|---|---|---|---|---|---|---|---|---|---|---|---|---|---|\n",
       "| 1 | ready | NULL | NULL | NULL | 380   | NULL | NULL | NULL | NULL | NULL | NULL | NULL | NULL | NULL | NULL | wikitext-2017 | desktop |   34015 |  3 | Brukerdiskusjon:Jon_Harald_Søby                        |\n",
       "| 2 | ready | NULL | NULL | NULL | 266   | NULL | NULL | NULL | NULL | NULL | NULL | NULL | NULL | NULL | NULL | visualeditor  | desktop | 5478960 |  4 | ویکی‌پدیا:گزیدن_مقاله‌های_خوب/هیولا_(مجموعه_نمایش_خانگی) |\n",
       "| 3 | ready | NULL | NULL | NULL | 174   | NULL | NULL | NULL | NULL | NULL | NULL | NULL | NULL | NULL | NULL | visualeditor  | desktop |       0 |  1 | Diskuse:Kropáč_(zbraň)                                 |\n",
       "| 4 | ready | NULL | NULL | NULL | 170   | NULL | NULL | NULL | NULL | NULL | NULL | NULL | NULL | NULL | NULL | wikitext-2017 | desktop | 2023601 | 15 | שיחת_קטגוריה:טיים_100_נקסט                             |\n",
       "| 5 | ready | NULL | NULL | NULL | 86    | NULL | NULL | NULL | NULL | NULL | NULL | NULL | NULL | NULL | NULL | wikitext-2017 | desktop | 1772268 |  1 | Vita:A_bolgár_újjászületés_irodalma                    |\n",
       "| 6 | ready | NULL | NULL | NULL | 25408 | NULL | NULL | NULL | NULL | NULL | NULL | NULL | NULL | NULL | NULL | wikitext-2017 | desktop | 2544264 |  3 | بحث_کاربر:Jeeputer                                     |\n",
       "\n"
      ],
      "text/plain": [
       "  action init_type init_mechanism init_timing ready_timing loaded_timing\n",
       "1 ready  NULL      NULL           NULL        380          NULL         \n",
       "2 ready  NULL      NULL           NULL        266          NULL         \n",
       "3 ready  NULL      NULL           NULL        174          NULL         \n",
       "4 ready  NULL      NULL           NULL        170          NULL         \n",
       "5 ready  NULL      NULL           NULL        86           NULL         \n",
       "6 ready  NULL      NULL           NULL        25408        NULL         \n",
       "  first_change_timing save_intent_timing save_attempt_timing\n",
       "1 NULL                NULL               NULL               \n",
       "2 NULL                NULL               NULL               \n",
       "3 NULL                NULL               NULL               \n",
       "4 NULL                NULL               NULL               \n",
       "5 NULL                NULL               NULL               \n",
       "6 NULL                NULL               NULL               \n",
       "  save_success_timing save_failure_type save_failure_message abort_type\n",
       "1 NULL                NULL              NULL                 NULL      \n",
       "2 NULL                NULL              NULL                 NULL      \n",
       "3 NULL                NULL              NULL                 NULL      \n",
       "4 NULL                NULL              NULL                 NULL      \n",
       "5 NULL                NULL              NULL                 NULL      \n",
       "6 NULL                NULL              NULL                 NULL      \n",
       "  abort_mechanism abort_timing editor_interface platform page_id page_ns\n",
       "1 NULL            NULL         wikitext-2017    desktop    34015  3     \n",
       "2 NULL            NULL         visualeditor     desktop  5478960  4     \n",
       "3 NULL            NULL         visualeditor     desktop        0  1     \n",
       "4 NULL            NULL         wikitext-2017    desktop  2023601 15     \n",
       "5 NULL            NULL         wikitext-2017    desktop  1772268  1     \n",
       "6 NULL            NULL         wikitext-2017    desktop  2544264  3     \n",
       "  page_title                                            \n",
       "1 Brukerdiskusjon:Jon_Harald_Søby                       \n",
       "2 ویکی‌پدیا:گزیدن_مقاله‌های_خوب/هیولا_(مجموعه_نمایش_خانگی)\n",
       "3 Diskuse:Kropáč_(zbraň)                                \n",
       "4 שיחת_קטגוריה:טיים_100_נקסט                            \n",
       "5 Vita:A_bolgár_újjászületés_irodalma                   \n",
       "6 بحث_کاربر:Jeeputer                                    "
      ]
     },
     "metadata": {},
     "output_type": "display_data"
    }
   ],
   "source": [
    "# Ready Events\n",
    "ready_dt_events <- all_dt_events %>%\n",
    "    filter(action == 'ready')\n",
    "\n",
    "head(ready_dt_events)"
   ]
  },
  {
   "cell_type": "code",
   "execution_count": 44,
   "metadata": {},
   "outputs": [
    {
     "data": {
      "text/html": [
       "<table>\n",
       "<caption>A data.frame: 6 × 20</caption>\n",
       "<thead>\n",
       "\t<tr><th></th><th scope=col>action</th><th scope=col>init_type</th><th scope=col>init_mechanism</th><th scope=col>init_timing</th><th scope=col>ready_timing</th><th scope=col>loaded_timing</th><th scope=col>first_change_timing</th><th scope=col>save_intent_timing</th><th scope=col>save_attempt_timing</th><th scope=col>save_success_timing</th><th scope=col>save_failure_type</th><th scope=col>save_failure_message</th><th scope=col>abort_type</th><th scope=col>abort_mechanism</th><th scope=col>abort_timing</th><th scope=col>editor_interface</th><th scope=col>platform</th><th scope=col>page_id</th><th scope=col>page_ns</th><th scope=col>page_title</th></tr>\n",
       "\t<tr><th></th><th scope=col>&lt;chr&gt;</th><th scope=col>&lt;chr&gt;</th><th scope=col>&lt;chr&gt;</th><th scope=col>&lt;chr&gt;</th><th scope=col>&lt;chr&gt;</th><th scope=col>&lt;chr&gt;</th><th scope=col>&lt;chr&gt;</th><th scope=col>&lt;chr&gt;</th><th scope=col>&lt;chr&gt;</th><th scope=col>&lt;chr&gt;</th><th scope=col>&lt;chr&gt;</th><th scope=col>&lt;chr&gt;</th><th scope=col>&lt;chr&gt;</th><th scope=col>&lt;chr&gt;</th><th scope=col>&lt;chr&gt;</th><th scope=col>&lt;chr&gt;</th><th scope=col>&lt;chr&gt;</th><th scope=col>&lt;int&gt;</th><th scope=col>&lt;int&gt;</th><th scope=col>&lt;chr&gt;</th></tr>\n",
       "</thead>\n",
       "<tbody>\n",
       "\t<tr><th scope=row>1</th><td>loaded</td><td>NULL</td><td>NULL</td><td>NULL</td><td>NULL</td><td>297</td><td>NULL</td><td>NULL</td><td>NULL</td><td>NULL</td><td>NULL</td><td>NULL</td><td>NULL</td><td>NULL</td><td>NULL</td><td>visualeditor </td><td>desktop</td><td>       0</td><td>15</td><td>نقاش_التصنيف:قبائل_العرب_في_الجاهلية                                                </td></tr>\n",
       "\t<tr><th scope=row>2</th><td>loaded</td><td>NULL</td><td>NULL</td><td>NULL</td><td>NULL</td><td>206</td><td>NULL</td><td>NULL</td><td>NULL</td><td>NULL</td><td>NULL</td><td>NULL</td><td>NULL</td><td>NULL</td><td>NULL</td><td>wikitext-2017</td><td>desktop</td><td>   34015</td><td> 3</td><td>Brukerdiskusjon:Jon_Harald_Søby                                                     </td></tr>\n",
       "\t<tr><th scope=row>3</th><td>loaded</td><td>NULL</td><td>NULL</td><td>NULL</td><td>NULL</td><td>82 </td><td>NULL</td><td>NULL</td><td>NULL</td><td>NULL</td><td>NULL</td><td>NULL</td><td>NULL</td><td>NULL</td><td>NULL</td><td>wikitext-2017</td><td>desktop</td><td>   13822</td><td> 4</td><td>ויקיפדיה:מזנון                                                                      </td></tr>\n",
       "\t<tr><th scope=row>4</th><td>loaded</td><td>NULL</td><td>NULL</td><td>NULL</td><td>NULL</td><td>121</td><td>NULL</td><td>NULL</td><td>NULL</td><td>NULL</td><td>NULL</td><td>NULL</td><td>NULL</td><td>NULL</td><td>NULL</td><td>wikitext-2017</td><td>desktop</td><td>10020594</td><td> 5</td><td>Wikipedia_discusión:Votaciones/2021/Solicitud_de_desactivación_de_miniatura_estática</td></tr>\n",
       "\t<tr><th scope=row>5</th><td>loaded</td><td>NULL</td><td>NULL</td><td>NULL</td><td>NULL</td><td>134</td><td>NULL</td><td>NULL</td><td>NULL</td><td>NULL</td><td>NULL</td><td>NULL</td><td>NULL</td><td>NULL</td><td>NULL</td><td>wikitext-2017</td><td>desktop</td><td> 3557124</td><td> 1</td><td>ノート:BanG_Dream!                                                                  </td></tr>\n",
       "\t<tr><th scope=row>6</th><td>loaded</td><td>NULL</td><td>NULL</td><td>NULL</td><td>NULL</td><td>688</td><td>NULL</td><td>NULL</td><td>NULL</td><td>NULL</td><td>NULL</td><td>NULL</td><td>NULL</td><td>NULL</td><td>NULL</td><td>wikitext-2017</td><td>desktop</td><td>  548007</td><td> 4</td><td>Wikipedia:Torget                                                                    </td></tr>\n",
       "</tbody>\n",
       "</table>\n"
      ],
      "text/latex": [
       "A data.frame: 6 × 20\n",
       "\\begin{tabular}{r|llllllllllllllllllll}\n",
       "  & action & init\\_type & init\\_mechanism & init\\_timing & ready\\_timing & loaded\\_timing & first\\_change\\_timing & save\\_intent\\_timing & save\\_attempt\\_timing & save\\_success\\_timing & save\\_failure\\_type & save\\_failure\\_message & abort\\_type & abort\\_mechanism & abort\\_timing & editor\\_interface & platform & page\\_id & page\\_ns & page\\_title\\\\\n",
       "  & <chr> & <chr> & <chr> & <chr> & <chr> & <chr> & <chr> & <chr> & <chr> & <chr> & <chr> & <chr> & <chr> & <chr> & <chr> & <chr> & <chr> & <int> & <int> & <chr>\\\\\n",
       "\\hline\n",
       "\t1 & loaded & NULL & NULL & NULL & NULL & 297 & NULL & NULL & NULL & NULL & NULL & NULL & NULL & NULL & NULL & visualeditor  & desktop &        0 & 15 & نقاش\\_التصنيف:قبائل\\_العرب\\_في\\_الجاهلية                                                \\\\\n",
       "\t2 & loaded & NULL & NULL & NULL & NULL & 206 & NULL & NULL & NULL & NULL & NULL & NULL & NULL & NULL & NULL & wikitext-2017 & desktop &    34015 &  3 & Brukerdiskusjon:Jon\\_Harald\\_Søby                                                     \\\\\n",
       "\t3 & loaded & NULL & NULL & NULL & NULL & 82  & NULL & NULL & NULL & NULL & NULL & NULL & NULL & NULL & NULL & wikitext-2017 & desktop &    13822 &  4 & ויקיפדיה:מזנון                                                                      \\\\\n",
       "\t4 & loaded & NULL & NULL & NULL & NULL & 121 & NULL & NULL & NULL & NULL & NULL & NULL & NULL & NULL & NULL & wikitext-2017 & desktop & 10020594 &  5 & Wikipedia\\_discusión:Votaciones/2021/Solicitud\\_de\\_desactivación\\_de\\_miniatura\\_estática\\\\\n",
       "\t5 & loaded & NULL & NULL & NULL & NULL & 134 & NULL & NULL & NULL & NULL & NULL & NULL & NULL & NULL & NULL & wikitext-2017 & desktop &  3557124 &  1 & ノート:BanG\\_Dream!                                                                  \\\\\n",
       "\t6 & loaded & NULL & NULL & NULL & NULL & 688 & NULL & NULL & NULL & NULL & NULL & NULL & NULL & NULL & NULL & wikitext-2017 & desktop &   548007 &  4 & Wikipedia:Torget                                                                    \\\\\n",
       "\\end{tabular}\n"
      ],
      "text/markdown": [
       "\n",
       "A data.frame: 6 × 20\n",
       "\n",
       "| <!--/--> | action &lt;chr&gt; | init_type &lt;chr&gt; | init_mechanism &lt;chr&gt; | init_timing &lt;chr&gt; | ready_timing &lt;chr&gt; | loaded_timing &lt;chr&gt; | first_change_timing &lt;chr&gt; | save_intent_timing &lt;chr&gt; | save_attempt_timing &lt;chr&gt; | save_success_timing &lt;chr&gt; | save_failure_type &lt;chr&gt; | save_failure_message &lt;chr&gt; | abort_type &lt;chr&gt; | abort_mechanism &lt;chr&gt; | abort_timing &lt;chr&gt; | editor_interface &lt;chr&gt; | platform &lt;chr&gt; | page_id &lt;int&gt; | page_ns &lt;int&gt; | page_title &lt;chr&gt; |\n",
       "|---|---|---|---|---|---|---|---|---|---|---|---|---|---|---|---|---|---|---|---|---|\n",
       "| 1 | loaded | NULL | NULL | NULL | NULL | 297 | NULL | NULL | NULL | NULL | NULL | NULL | NULL | NULL | NULL | visualeditor  | desktop |        0 | 15 | نقاش_التصنيف:قبائل_العرب_في_الجاهلية                                                 |\n",
       "| 2 | loaded | NULL | NULL | NULL | NULL | 206 | NULL | NULL | NULL | NULL | NULL | NULL | NULL | NULL | NULL | wikitext-2017 | desktop |    34015 |  3 | Brukerdiskusjon:Jon_Harald_Søby                                                      |\n",
       "| 3 | loaded | NULL | NULL | NULL | NULL | 82  | NULL | NULL | NULL | NULL | NULL | NULL | NULL | NULL | NULL | wikitext-2017 | desktop |    13822 |  4 | ויקיפדיה:מזנון                                                                       |\n",
       "| 4 | loaded | NULL | NULL | NULL | NULL | 121 | NULL | NULL | NULL | NULL | NULL | NULL | NULL | NULL | NULL | wikitext-2017 | desktop | 10020594 |  5 | Wikipedia_discusión:Votaciones/2021/Solicitud_de_desactivación_de_miniatura_estática |\n",
       "| 5 | loaded | NULL | NULL | NULL | NULL | 134 | NULL | NULL | NULL | NULL | NULL | NULL | NULL | NULL | NULL | wikitext-2017 | desktop |  3557124 |  1 | ノート:BanG_Dream!                                                                   |\n",
       "| 6 | loaded | NULL | NULL | NULL | NULL | 688 | NULL | NULL | NULL | NULL | NULL | NULL | NULL | NULL | NULL | wikitext-2017 | desktop |   548007 |  4 | Wikipedia:Torget                                                                     |\n",
       "\n"
      ],
      "text/plain": [
       "  action init_type init_mechanism init_timing ready_timing loaded_timing\n",
       "1 loaded NULL      NULL           NULL        NULL         297          \n",
       "2 loaded NULL      NULL           NULL        NULL         206          \n",
       "3 loaded NULL      NULL           NULL        NULL         82           \n",
       "4 loaded NULL      NULL           NULL        NULL         121          \n",
       "5 loaded NULL      NULL           NULL        NULL         134          \n",
       "6 loaded NULL      NULL           NULL        NULL         688          \n",
       "  first_change_timing save_intent_timing save_attempt_timing\n",
       "1 NULL                NULL               NULL               \n",
       "2 NULL                NULL               NULL               \n",
       "3 NULL                NULL               NULL               \n",
       "4 NULL                NULL               NULL               \n",
       "5 NULL                NULL               NULL               \n",
       "6 NULL                NULL               NULL               \n",
       "  save_success_timing save_failure_type save_failure_message abort_type\n",
       "1 NULL                NULL              NULL                 NULL      \n",
       "2 NULL                NULL              NULL                 NULL      \n",
       "3 NULL                NULL              NULL                 NULL      \n",
       "4 NULL                NULL              NULL                 NULL      \n",
       "5 NULL                NULL              NULL                 NULL      \n",
       "6 NULL                NULL              NULL                 NULL      \n",
       "  abort_mechanism abort_timing editor_interface platform page_id  page_ns\n",
       "1 NULL            NULL         visualeditor     desktop         0 15     \n",
       "2 NULL            NULL         wikitext-2017    desktop     34015  3     \n",
       "3 NULL            NULL         wikitext-2017    desktop     13822  4     \n",
       "4 NULL            NULL         wikitext-2017    desktop  10020594  5     \n",
       "5 NULL            NULL         wikitext-2017    desktop   3557124  1     \n",
       "6 NULL            NULL         wikitext-2017    desktop    548007  4     \n",
       "  page_title                                                                          \n",
       "1 نقاش_التصنيف:قبائل_العرب_في_الجاهلية                                                \n",
       "2 Brukerdiskusjon:Jon_Harald_Søby                                                     \n",
       "3 ויקיפדיה:מזנון                                                                      \n",
       "4 Wikipedia_discusión:Votaciones/2021/Solicitud_de_desactivación_de_miniatura_estática\n",
       "5 ノート:BanG_Dream!                                                                  \n",
       "6 Wikipedia:Torget                                                                    "
      ]
     },
     "metadata": {},
     "output_type": "display_data"
    }
   ],
   "source": [
    "# Loaded Events\n",
    "loaded_dt_events <- all_dt_events %>%\n",
    "    filter(action == 'loaded')\n",
    "\n",
    "head(loaded_dt_events)"
   ]
  },
  {
   "cell_type": "code",
   "execution_count": 36,
   "metadata": {},
   "outputs": [
    {
     "data": {
      "text/html": [
       "<table>\n",
       "<caption>A data.frame: 6 × 20</caption>\n",
       "<thead>\n",
       "\t<tr><th></th><th scope=col>action</th><th scope=col>init_type</th><th scope=col>init_mechanism</th><th scope=col>init_timing</th><th scope=col>ready_timing</th><th scope=col>loaded_timing</th><th scope=col>first_change_timing</th><th scope=col>save_intent_timing</th><th scope=col>save_attempt_timing</th><th scope=col>save_success_timing</th><th scope=col>save_failure_type</th><th scope=col>save_failure_message</th><th scope=col>abort_type</th><th scope=col>abort_mechanism</th><th scope=col>abort_timing</th><th scope=col>editor_interface</th><th scope=col>platform</th><th scope=col>page_id</th><th scope=col>page_ns</th><th scope=col>page_title</th></tr>\n",
       "\t<tr><th></th><th scope=col>&lt;chr&gt;</th><th scope=col>&lt;chr&gt;</th><th scope=col>&lt;chr&gt;</th><th scope=col>&lt;chr&gt;</th><th scope=col>&lt;chr&gt;</th><th scope=col>&lt;chr&gt;</th><th scope=col>&lt;chr&gt;</th><th scope=col>&lt;chr&gt;</th><th scope=col>&lt;chr&gt;</th><th scope=col>&lt;chr&gt;</th><th scope=col>&lt;chr&gt;</th><th scope=col>&lt;chr&gt;</th><th scope=col>&lt;chr&gt;</th><th scope=col>&lt;chr&gt;</th><th scope=col>&lt;chr&gt;</th><th scope=col>&lt;chr&gt;</th><th scope=col>&lt;chr&gt;</th><th scope=col>&lt;int&gt;</th><th scope=col>&lt;int&gt;</th><th scope=col>&lt;chr&gt;</th></tr>\n",
       "</thead>\n",
       "<tbody>\n",
       "\t<tr><th scope=row>1</th><td>firstChange</td><td>NULL</td><td>NULL</td><td>NULL</td><td>NULL</td><td>NULL</td><td>3979</td><td>NULL</td><td>NULL</td><td>NULL</td><td>NULL</td><td>NULL</td><td>NULL</td><td>NULL</td><td>NULL</td><td>wikitext-2017</td><td>desktop</td><td>4336380</td><td>1</td><td>Обговорення:Апостроф_TV      </td></tr>\n",
       "\t<tr><th scope=row>2</th><td>firstChange</td><td>NULL</td><td>NULL</td><td>NULL</td><td>NULL</td><td>NULL</td><td>1626</td><td>NULL</td><td>NULL</td><td>NULL</td><td>NULL</td><td>NULL</td><td>NULL</td><td>NULL</td><td>NULL</td><td>wikitext-2017</td><td>desktop</td><td> 534560</td><td>3</td><td>Overleg_gebruiker:Ecritures  </td></tr>\n",
       "\t<tr><th scope=row>3</th><td>firstChange</td><td>NULL</td><td>NULL</td><td>NULL</td><td>NULL</td><td>NULL</td><td>2602</td><td>NULL</td><td>NULL</td><td>NULL</td><td>NULL</td><td>NULL</td><td>NULL</td><td>NULL</td><td>NULL</td><td>wikitext-2017</td><td>desktop</td><td>2023686</td><td>1</td><td>שיחה:הרפובליקה_של_אי_הוורדים </td></tr>\n",
       "\t<tr><th scope=row>4</th><td>firstChange</td><td>NULL</td><td>NULL</td><td>NULL</td><td>NULL</td><td>NULL</td><td>3509</td><td>NULL</td><td>NULL</td><td>NULL</td><td>NULL</td><td>NULL</td><td>NULL</td><td>NULL</td><td>NULL</td><td>wikitext-2017</td><td>desktop</td><td>  69093</td><td>4</td><td>Wikipédia:Botgazdák_üzenőfala</td></tr>\n",
       "\t<tr><th scope=row>5</th><td>firstChange</td><td>NULL</td><td>NULL</td><td>NULL</td><td>NULL</td><td>NULL</td><td>2757</td><td>NULL</td><td>NULL</td><td>NULL</td><td>NULL</td><td>NULL</td><td>NULL</td><td>NULL</td><td>NULL</td><td>wikitext-2017</td><td>desktop</td><td>6389104</td><td>4</td><td>Wikipedia:可靠来源/布告板    </td></tr>\n",
       "\t<tr><th scope=row>6</th><td>firstChange</td><td>NULL</td><td>NULL</td><td>NULL</td><td>NULL</td><td>NULL</td><td>1472</td><td>NULL</td><td>NULL</td><td>NULL</td><td>NULL</td><td>NULL</td><td>NULL</td><td>NULL</td><td>NULL</td><td>wikitext-2017</td><td>desktop</td><td>2422050</td><td>1</td><td>Discussion:Groupe_Pictet     </td></tr>\n",
       "</tbody>\n",
       "</table>\n"
      ],
      "text/latex": [
       "A data.frame: 6 × 20\n",
       "\\begin{tabular}{r|llllllllllllllllllll}\n",
       "  & action & init\\_type & init\\_mechanism & init\\_timing & ready\\_timing & loaded\\_timing & first\\_change\\_timing & save\\_intent\\_timing & save\\_attempt\\_timing & save\\_success\\_timing & save\\_failure\\_type & save\\_failure\\_message & abort\\_type & abort\\_mechanism & abort\\_timing & editor\\_interface & platform & page\\_id & page\\_ns & page\\_title\\\\\n",
       "  & <chr> & <chr> & <chr> & <chr> & <chr> & <chr> & <chr> & <chr> & <chr> & <chr> & <chr> & <chr> & <chr> & <chr> & <chr> & <chr> & <chr> & <int> & <int> & <chr>\\\\\n",
       "\\hline\n",
       "\t1 & firstChange & NULL & NULL & NULL & NULL & NULL & 3979 & NULL & NULL & NULL & NULL & NULL & NULL & NULL & NULL & wikitext-2017 & desktop & 4336380 & 1 & Обговорення:Апостроф\\_TV      \\\\\n",
       "\t2 & firstChange & NULL & NULL & NULL & NULL & NULL & 1626 & NULL & NULL & NULL & NULL & NULL & NULL & NULL & NULL & wikitext-2017 & desktop &  534560 & 3 & Overleg\\_gebruiker:Ecritures  \\\\\n",
       "\t3 & firstChange & NULL & NULL & NULL & NULL & NULL & 2602 & NULL & NULL & NULL & NULL & NULL & NULL & NULL & NULL & wikitext-2017 & desktop & 2023686 & 1 & שיחה:הרפובליקה\\_של\\_אי\\_הוורדים \\\\\n",
       "\t4 & firstChange & NULL & NULL & NULL & NULL & NULL & 3509 & NULL & NULL & NULL & NULL & NULL & NULL & NULL & NULL & wikitext-2017 & desktop &   69093 & 4 & Wikipédia:Botgazdák\\_üzenőfala\\\\\n",
       "\t5 & firstChange & NULL & NULL & NULL & NULL & NULL & 2757 & NULL & NULL & NULL & NULL & NULL & NULL & NULL & NULL & wikitext-2017 & desktop & 6389104 & 4 & Wikipedia:可靠来源/布告板    \\\\\n",
       "\t6 & firstChange & NULL & NULL & NULL & NULL & NULL & 1472 & NULL & NULL & NULL & NULL & NULL & NULL & NULL & NULL & wikitext-2017 & desktop & 2422050 & 1 & Discussion:Groupe\\_Pictet     \\\\\n",
       "\\end{tabular}\n"
      ],
      "text/markdown": [
       "\n",
       "A data.frame: 6 × 20\n",
       "\n",
       "| <!--/--> | action &lt;chr&gt; | init_type &lt;chr&gt; | init_mechanism &lt;chr&gt; | init_timing &lt;chr&gt; | ready_timing &lt;chr&gt; | loaded_timing &lt;chr&gt; | first_change_timing &lt;chr&gt; | save_intent_timing &lt;chr&gt; | save_attempt_timing &lt;chr&gt; | save_success_timing &lt;chr&gt; | save_failure_type &lt;chr&gt; | save_failure_message &lt;chr&gt; | abort_type &lt;chr&gt; | abort_mechanism &lt;chr&gt; | abort_timing &lt;chr&gt; | editor_interface &lt;chr&gt; | platform &lt;chr&gt; | page_id &lt;int&gt; | page_ns &lt;int&gt; | page_title &lt;chr&gt; |\n",
       "|---|---|---|---|---|---|---|---|---|---|---|---|---|---|---|---|---|---|---|---|---|\n",
       "| 1 | firstChange | NULL | NULL | NULL | NULL | NULL | 3979 | NULL | NULL | NULL | NULL | NULL | NULL | NULL | NULL | wikitext-2017 | desktop | 4336380 | 1 | Обговорення:Апостроф_TV       |\n",
       "| 2 | firstChange | NULL | NULL | NULL | NULL | NULL | 1626 | NULL | NULL | NULL | NULL | NULL | NULL | NULL | NULL | wikitext-2017 | desktop |  534560 | 3 | Overleg_gebruiker:Ecritures   |\n",
       "| 3 | firstChange | NULL | NULL | NULL | NULL | NULL | 2602 | NULL | NULL | NULL | NULL | NULL | NULL | NULL | NULL | wikitext-2017 | desktop | 2023686 | 1 | שיחה:הרפובליקה_של_אי_הוורדים  |\n",
       "| 4 | firstChange | NULL | NULL | NULL | NULL | NULL | 3509 | NULL | NULL | NULL | NULL | NULL | NULL | NULL | NULL | wikitext-2017 | desktop |   69093 | 4 | Wikipédia:Botgazdák_üzenőfala |\n",
       "| 5 | firstChange | NULL | NULL | NULL | NULL | NULL | 2757 | NULL | NULL | NULL | NULL | NULL | NULL | NULL | NULL | wikitext-2017 | desktop | 6389104 | 4 | Wikipedia:可靠来源/布告板     |\n",
       "| 6 | firstChange | NULL | NULL | NULL | NULL | NULL | 1472 | NULL | NULL | NULL | NULL | NULL | NULL | NULL | NULL | wikitext-2017 | desktop | 2422050 | 1 | Discussion:Groupe_Pictet      |\n",
       "\n"
      ],
      "text/plain": [
       "  action      init_type init_mechanism init_timing ready_timing loaded_timing\n",
       "1 firstChange NULL      NULL           NULL        NULL         NULL         \n",
       "2 firstChange NULL      NULL           NULL        NULL         NULL         \n",
       "3 firstChange NULL      NULL           NULL        NULL         NULL         \n",
       "4 firstChange NULL      NULL           NULL        NULL         NULL         \n",
       "5 firstChange NULL      NULL           NULL        NULL         NULL         \n",
       "6 firstChange NULL      NULL           NULL        NULL         NULL         \n",
       "  first_change_timing save_intent_timing save_attempt_timing\n",
       "1 3979                NULL               NULL               \n",
       "2 1626                NULL               NULL               \n",
       "3 2602                NULL               NULL               \n",
       "4 3509                NULL               NULL               \n",
       "5 2757                NULL               NULL               \n",
       "6 1472                NULL               NULL               \n",
       "  save_success_timing save_failure_type save_failure_message abort_type\n",
       "1 NULL                NULL              NULL                 NULL      \n",
       "2 NULL                NULL              NULL                 NULL      \n",
       "3 NULL                NULL              NULL                 NULL      \n",
       "4 NULL                NULL              NULL                 NULL      \n",
       "5 NULL                NULL              NULL                 NULL      \n",
       "6 NULL                NULL              NULL                 NULL      \n",
       "  abort_mechanism abort_timing editor_interface platform page_id page_ns\n",
       "1 NULL            NULL         wikitext-2017    desktop  4336380 1      \n",
       "2 NULL            NULL         wikitext-2017    desktop   534560 3      \n",
       "3 NULL            NULL         wikitext-2017    desktop  2023686 1      \n",
       "4 NULL            NULL         wikitext-2017    desktop    69093 4      \n",
       "5 NULL            NULL         wikitext-2017    desktop  6389104 4      \n",
       "6 NULL            NULL         wikitext-2017    desktop  2422050 1      \n",
       "  page_title                   \n",
       "1 Обговорення:Апостроф_TV      \n",
       "2 Overleg_gebruiker:Ecritures  \n",
       "3 שיחה:הרפובליקה_של_אי_הוורדים \n",
       "4 Wikipédia:Botgazdák_üzenőfala\n",
       "5 Wikipedia:可靠来源/布告板    \n",
       "6 Discussion:Groupe_Pictet     "
      ]
     },
     "metadata": {},
     "output_type": "display_data"
    }
   ],
   "source": [
    "# First Change Events\n",
    "firstChange_dt_events <- all_dt_events %>%\n",
    "    filter(action == 'firstChange')\n",
    "\n",
    "head(firstChange_dt_events)"
   ]
  },
  {
   "cell_type": "code",
   "execution_count": 37,
   "metadata": {},
   "outputs": [
    {
     "data": {
      "text/html": [
       "<table>\n",
       "<caption>A data.frame: 6 × 20</caption>\n",
       "<thead>\n",
       "\t<tr><th></th><th scope=col>action</th><th scope=col>init_type</th><th scope=col>init_mechanism</th><th scope=col>init_timing</th><th scope=col>ready_timing</th><th scope=col>loaded_timing</th><th scope=col>first_change_timing</th><th scope=col>save_intent_timing</th><th scope=col>save_attempt_timing</th><th scope=col>save_success_timing</th><th scope=col>save_failure_type</th><th scope=col>save_failure_message</th><th scope=col>abort_type</th><th scope=col>abort_mechanism</th><th scope=col>abort_timing</th><th scope=col>editor_interface</th><th scope=col>platform</th><th scope=col>page_id</th><th scope=col>page_ns</th><th scope=col>page_title</th></tr>\n",
       "\t<tr><th></th><th scope=col>&lt;chr&gt;</th><th scope=col>&lt;chr&gt;</th><th scope=col>&lt;chr&gt;</th><th scope=col>&lt;chr&gt;</th><th scope=col>&lt;chr&gt;</th><th scope=col>&lt;chr&gt;</th><th scope=col>&lt;chr&gt;</th><th scope=col>&lt;chr&gt;</th><th scope=col>&lt;chr&gt;</th><th scope=col>&lt;chr&gt;</th><th scope=col>&lt;chr&gt;</th><th scope=col>&lt;chr&gt;</th><th scope=col>&lt;chr&gt;</th><th scope=col>&lt;chr&gt;</th><th scope=col>&lt;chr&gt;</th><th scope=col>&lt;chr&gt;</th><th scope=col>&lt;chr&gt;</th><th scope=col>&lt;int&gt;</th><th scope=col>&lt;int&gt;</th><th scope=col>&lt;chr&gt;</th></tr>\n",
       "</thead>\n",
       "<tbody>\n",
       "\t<tr><th scope=row>1</th><td>saveIntent</td><td>NULL</td><td>NULL</td><td>NULL</td><td>NULL</td><td>NULL</td><td>NULL</td><td>196479</td><td>NULL</td><td>NULL</td><td>NULL</td><td>NULL</td><td>NULL</td><td>NULL</td><td>NULL</td><td>wikitext-2017</td><td>desktop</td><td>  13822</td><td>4</td><td>ויקיפדיה:מזנון                 </td></tr>\n",
       "\t<tr><th scope=row>2</th><td>saveIntent</td><td>NULL</td><td>NULL</td><td>NULL</td><td>NULL</td><td>NULL</td><td>NULL</td><td>18022 </td><td>NULL</td><td>NULL</td><td>NULL</td><td>NULL</td><td>NULL</td><td>NULL</td><td>NULL</td><td>wikitext-2017</td><td>desktop</td><td> 703892</td><td>4</td><td>Wikipedie:Nástěnka_správců     </td></tr>\n",
       "\t<tr><th scope=row>3</th><td>saveIntent</td><td>NULL</td><td>NULL</td><td>NULL</td><td>NULL</td><td>NULL</td><td>NULL</td><td>32788 </td><td>NULL</td><td>NULL</td><td>NULL</td><td>NULL</td><td>NULL</td><td>NULL</td><td>NULL</td><td>wikitext-2017</td><td>desktop</td><td>      0</td><td>3</td><td>Benutzer_Diskussion:HoppyFloppy</td></tr>\n",
       "\t<tr><th scope=row>4</th><td>saveIntent</td><td>NULL</td><td>NULL</td><td>NULL</td><td>NULL</td><td>NULL</td><td>NULL</td><td>46054 </td><td>NULL</td><td>NULL</td><td>NULL</td><td>NULL</td><td>NULL</td><td>NULL</td><td>NULL</td><td>wikitext-2017</td><td>desktop</td><td>2068919</td><td>3</td><td>Dyskusja_wikipedysty:Piotrus   </td></tr>\n",
       "\t<tr><th scope=row>5</th><td>saveIntent</td><td>NULL</td><td>NULL</td><td>NULL</td><td>NULL</td><td>NULL</td><td>NULL</td><td>200911</td><td>NULL</td><td>NULL</td><td>NULL</td><td>NULL</td><td>NULL</td><td>NULL</td><td>NULL</td><td>wikitext-2017</td><td>desktop</td><td>  69093</td><td>4</td><td>Wikipédia:Botgazdák_üzenőfala  </td></tr>\n",
       "\t<tr><th scope=row>6</th><td>saveIntent</td><td>NULL</td><td>NULL</td><td>NULL</td><td>NULL</td><td>NULL</td><td>NULL</td><td>341297</td><td>NULL</td><td>NULL</td><td>NULL</td><td>NULL</td><td>NULL</td><td>NULL</td><td>NULL</td><td>wikitext-2017</td><td>desktop</td><td> 255030</td><td>4</td><td>Wikipedia:優良條目評選         </td></tr>\n",
       "</tbody>\n",
       "</table>\n"
      ],
      "text/latex": [
       "A data.frame: 6 × 20\n",
       "\\begin{tabular}{r|llllllllllllllllllll}\n",
       "  & action & init\\_type & init\\_mechanism & init\\_timing & ready\\_timing & loaded\\_timing & first\\_change\\_timing & save\\_intent\\_timing & save\\_attempt\\_timing & save\\_success\\_timing & save\\_failure\\_type & save\\_failure\\_message & abort\\_type & abort\\_mechanism & abort\\_timing & editor\\_interface & platform & page\\_id & page\\_ns & page\\_title\\\\\n",
       "  & <chr> & <chr> & <chr> & <chr> & <chr> & <chr> & <chr> & <chr> & <chr> & <chr> & <chr> & <chr> & <chr> & <chr> & <chr> & <chr> & <chr> & <int> & <int> & <chr>\\\\\n",
       "\\hline\n",
       "\t1 & saveIntent & NULL & NULL & NULL & NULL & NULL & NULL & 196479 & NULL & NULL & NULL & NULL & NULL & NULL & NULL & wikitext-2017 & desktop &   13822 & 4 & ויקיפדיה:מזנון                 \\\\\n",
       "\t2 & saveIntent & NULL & NULL & NULL & NULL & NULL & NULL & 18022  & NULL & NULL & NULL & NULL & NULL & NULL & NULL & wikitext-2017 & desktop &  703892 & 4 & Wikipedie:Nástěnka\\_správců     \\\\\n",
       "\t3 & saveIntent & NULL & NULL & NULL & NULL & NULL & NULL & 32788  & NULL & NULL & NULL & NULL & NULL & NULL & NULL & wikitext-2017 & desktop &       0 & 3 & Benutzer\\_Diskussion:HoppyFloppy\\\\\n",
       "\t4 & saveIntent & NULL & NULL & NULL & NULL & NULL & NULL & 46054  & NULL & NULL & NULL & NULL & NULL & NULL & NULL & wikitext-2017 & desktop & 2068919 & 3 & Dyskusja\\_wikipedysty:Piotrus   \\\\\n",
       "\t5 & saveIntent & NULL & NULL & NULL & NULL & NULL & NULL & 200911 & NULL & NULL & NULL & NULL & NULL & NULL & NULL & wikitext-2017 & desktop &   69093 & 4 & Wikipédia:Botgazdák\\_üzenőfala  \\\\\n",
       "\t6 & saveIntent & NULL & NULL & NULL & NULL & NULL & NULL & 341297 & NULL & NULL & NULL & NULL & NULL & NULL & NULL & wikitext-2017 & desktop &  255030 & 4 & Wikipedia:優良條目評選         \\\\\n",
       "\\end{tabular}\n"
      ],
      "text/markdown": [
       "\n",
       "A data.frame: 6 × 20\n",
       "\n",
       "| <!--/--> | action &lt;chr&gt; | init_type &lt;chr&gt; | init_mechanism &lt;chr&gt; | init_timing &lt;chr&gt; | ready_timing &lt;chr&gt; | loaded_timing &lt;chr&gt; | first_change_timing &lt;chr&gt; | save_intent_timing &lt;chr&gt; | save_attempt_timing &lt;chr&gt; | save_success_timing &lt;chr&gt; | save_failure_type &lt;chr&gt; | save_failure_message &lt;chr&gt; | abort_type &lt;chr&gt; | abort_mechanism &lt;chr&gt; | abort_timing &lt;chr&gt; | editor_interface &lt;chr&gt; | platform &lt;chr&gt; | page_id &lt;int&gt; | page_ns &lt;int&gt; | page_title &lt;chr&gt; |\n",
       "|---|---|---|---|---|---|---|---|---|---|---|---|---|---|---|---|---|---|---|---|---|\n",
       "| 1 | saveIntent | NULL | NULL | NULL | NULL | NULL | NULL | 196479 | NULL | NULL | NULL | NULL | NULL | NULL | NULL | wikitext-2017 | desktop |   13822 | 4 | ויקיפדיה:מזנון                  |\n",
       "| 2 | saveIntent | NULL | NULL | NULL | NULL | NULL | NULL | 18022  | NULL | NULL | NULL | NULL | NULL | NULL | NULL | wikitext-2017 | desktop |  703892 | 4 | Wikipedie:Nástěnka_správců      |\n",
       "| 3 | saveIntent | NULL | NULL | NULL | NULL | NULL | NULL | 32788  | NULL | NULL | NULL | NULL | NULL | NULL | NULL | wikitext-2017 | desktop |       0 | 3 | Benutzer_Diskussion:HoppyFloppy |\n",
       "| 4 | saveIntent | NULL | NULL | NULL | NULL | NULL | NULL | 46054  | NULL | NULL | NULL | NULL | NULL | NULL | NULL | wikitext-2017 | desktop | 2068919 | 3 | Dyskusja_wikipedysty:Piotrus    |\n",
       "| 5 | saveIntent | NULL | NULL | NULL | NULL | NULL | NULL | 200911 | NULL | NULL | NULL | NULL | NULL | NULL | NULL | wikitext-2017 | desktop |   69093 | 4 | Wikipédia:Botgazdák_üzenőfala   |\n",
       "| 6 | saveIntent | NULL | NULL | NULL | NULL | NULL | NULL | 341297 | NULL | NULL | NULL | NULL | NULL | NULL | NULL | wikitext-2017 | desktop |  255030 | 4 | Wikipedia:優良條目評選          |\n",
       "\n"
      ],
      "text/plain": [
       "  action     init_type init_mechanism init_timing ready_timing loaded_timing\n",
       "1 saveIntent NULL      NULL           NULL        NULL         NULL         \n",
       "2 saveIntent NULL      NULL           NULL        NULL         NULL         \n",
       "3 saveIntent NULL      NULL           NULL        NULL         NULL         \n",
       "4 saveIntent NULL      NULL           NULL        NULL         NULL         \n",
       "5 saveIntent NULL      NULL           NULL        NULL         NULL         \n",
       "6 saveIntent NULL      NULL           NULL        NULL         NULL         \n",
       "  first_change_timing save_intent_timing save_attempt_timing\n",
       "1 NULL                196479             NULL               \n",
       "2 NULL                18022              NULL               \n",
       "3 NULL                32788              NULL               \n",
       "4 NULL                46054              NULL               \n",
       "5 NULL                200911             NULL               \n",
       "6 NULL                341297             NULL               \n",
       "  save_success_timing save_failure_type save_failure_message abort_type\n",
       "1 NULL                NULL              NULL                 NULL      \n",
       "2 NULL                NULL              NULL                 NULL      \n",
       "3 NULL                NULL              NULL                 NULL      \n",
       "4 NULL                NULL              NULL                 NULL      \n",
       "5 NULL                NULL              NULL                 NULL      \n",
       "6 NULL                NULL              NULL                 NULL      \n",
       "  abort_mechanism abort_timing editor_interface platform page_id page_ns\n",
       "1 NULL            NULL         wikitext-2017    desktop    13822 4      \n",
       "2 NULL            NULL         wikitext-2017    desktop   703892 4      \n",
       "3 NULL            NULL         wikitext-2017    desktop        0 3      \n",
       "4 NULL            NULL         wikitext-2017    desktop  2068919 3      \n",
       "5 NULL            NULL         wikitext-2017    desktop    69093 4      \n",
       "6 NULL            NULL         wikitext-2017    desktop   255030 4      \n",
       "  page_title                     \n",
       "1 ויקיפדיה:מזנון                 \n",
       "2 Wikipedie:Nástěnka_správců     \n",
       "3 Benutzer_Diskussion:HoppyFloppy\n",
       "4 Dyskusja_wikipedysty:Piotrus   \n",
       "5 Wikipédia:Botgazdák_üzenőfala  \n",
       "6 Wikipedia:優良條目評選         "
      ]
     },
     "metadata": {},
     "output_type": "display_data"
    }
   ],
   "source": [
    "# Save Intent Events\n",
    "saveintent_dt_events <- all_dt_events %>%\n",
    "    filter(action == 'saveIntent')\n",
    "\n",
    "head(saveintent_dt_events)"
   ]
  },
  {
   "cell_type": "code",
   "execution_count": 38,
   "metadata": {},
   "outputs": [
    {
     "data": {
      "text/html": [
       "<table>\n",
       "<caption>A data.frame: 6 × 20</caption>\n",
       "<thead>\n",
       "\t<tr><th></th><th scope=col>action</th><th scope=col>init_type</th><th scope=col>init_mechanism</th><th scope=col>init_timing</th><th scope=col>ready_timing</th><th scope=col>loaded_timing</th><th scope=col>first_change_timing</th><th scope=col>save_intent_timing</th><th scope=col>save_attempt_timing</th><th scope=col>save_success_timing</th><th scope=col>save_failure_type</th><th scope=col>save_failure_message</th><th scope=col>abort_type</th><th scope=col>abort_mechanism</th><th scope=col>abort_timing</th><th scope=col>editor_interface</th><th scope=col>platform</th><th scope=col>page_id</th><th scope=col>page_ns</th><th scope=col>page_title</th></tr>\n",
       "\t<tr><th></th><th scope=col>&lt;chr&gt;</th><th scope=col>&lt;chr&gt;</th><th scope=col>&lt;chr&gt;</th><th scope=col>&lt;chr&gt;</th><th scope=col>&lt;chr&gt;</th><th scope=col>&lt;chr&gt;</th><th scope=col>&lt;chr&gt;</th><th scope=col>&lt;chr&gt;</th><th scope=col>&lt;chr&gt;</th><th scope=col>&lt;chr&gt;</th><th scope=col>&lt;chr&gt;</th><th scope=col>&lt;chr&gt;</th><th scope=col>&lt;chr&gt;</th><th scope=col>&lt;chr&gt;</th><th scope=col>&lt;chr&gt;</th><th scope=col>&lt;chr&gt;</th><th scope=col>&lt;chr&gt;</th><th scope=col>&lt;int&gt;</th><th scope=col>&lt;int&gt;</th><th scope=col>&lt;chr&gt;</th></tr>\n",
       "</thead>\n",
       "<tbody>\n",
       "\t<tr><th scope=row>1</th><td>saveAttempt</td><td>NULL</td><td>NULL</td><td>NULL</td><td>NULL</td><td>NULL</td><td>NULL</td><td>NULL</td><td>0</td><td>NULL</td><td>NULL</td><td>NULL</td><td>NULL</td><td>NULL</td><td>NULL</td><td>wikitext-2017</td><td>desktop</td><td>68745119</td><td> 3</td><td>User_talk:Ankitnaithani1999                          </td></tr>\n",
       "\t<tr><th scope=row>2</th><td>saveAttempt</td><td>NULL</td><td>NULL</td><td>NULL</td><td>NULL</td><td>NULL</td><td>NULL</td><td>NULL</td><td>0</td><td>NULL</td><td>NULL</td><td>NULL</td><td>NULL</td><td>NULL</td><td>NULL</td><td>wikitext-2017</td><td>desktop</td><td> 5150247</td><td> 4</td><td>Wikipedia:Poczekalnia/artykuły/2021:09:16:Pajdokracja</td></tr>\n",
       "\t<tr><th scope=row>3</th><td>saveAttempt</td><td>NULL</td><td>NULL</td><td>NULL</td><td>NULL</td><td>NULL</td><td>NULL</td><td>NULL</td><td>8</td><td>NULL</td><td>NULL</td><td>NULL</td><td>NULL</td><td>NULL</td><td>NULL</td><td>visualeditor </td><td>desktop</td><td>   13822</td><td> 4</td><td>ויקיפדיה:מזנון                                       </td></tr>\n",
       "\t<tr><th scope=row>4</th><td>saveAttempt</td><td>NULL</td><td>NULL</td><td>NULL</td><td>NULL</td><td>NULL</td><td>NULL</td><td>NULL</td><td>1</td><td>NULL</td><td>NULL</td><td>NULL</td><td>NULL</td><td>NULL</td><td>NULL</td><td>wikitext-2017</td><td>desktop</td><td> 4336380</td><td> 1</td><td>Обговорення:Апостроф_TV                              </td></tr>\n",
       "\t<tr><th scope=row>5</th><td>saveAttempt</td><td>NULL</td><td>NULL</td><td>NULL</td><td>NULL</td><td>NULL</td><td>NULL</td><td>NULL</td><td>0</td><td>NULL</td><td>NULL</td><td>NULL</td><td>NULL</td><td>NULL</td><td>NULL</td><td>wikitext-2017</td><td>desktop</td><td> 1518799</td><td> 3</td><td>שיחת_משתמש:62.219.74.216                             </td></tr>\n",
       "\t<tr><th scope=row>6</th><td>saveAttempt</td><td>NULL</td><td>NULL</td><td>NULL</td><td>NULL</td><td>NULL</td><td>NULL</td><td>NULL</td><td>3</td><td>NULL</td><td>NULL</td><td>NULL</td><td>NULL</td><td>NULL</td><td>NULL</td><td>wikitext-2017</td><td>desktop</td><td> 4197471</td><td>11</td><td>Discussioni_template:Imbarcazione_storica            </td></tr>\n",
       "</tbody>\n",
       "</table>\n"
      ],
      "text/latex": [
       "A data.frame: 6 × 20\n",
       "\\begin{tabular}{r|llllllllllllllllllll}\n",
       "  & action & init\\_type & init\\_mechanism & init\\_timing & ready\\_timing & loaded\\_timing & first\\_change\\_timing & save\\_intent\\_timing & save\\_attempt\\_timing & save\\_success\\_timing & save\\_failure\\_type & save\\_failure\\_message & abort\\_type & abort\\_mechanism & abort\\_timing & editor\\_interface & platform & page\\_id & page\\_ns & page\\_title\\\\\n",
       "  & <chr> & <chr> & <chr> & <chr> & <chr> & <chr> & <chr> & <chr> & <chr> & <chr> & <chr> & <chr> & <chr> & <chr> & <chr> & <chr> & <chr> & <int> & <int> & <chr>\\\\\n",
       "\\hline\n",
       "\t1 & saveAttempt & NULL & NULL & NULL & NULL & NULL & NULL & NULL & 0 & NULL & NULL & NULL & NULL & NULL & NULL & wikitext-2017 & desktop & 68745119 &  3 & User\\_talk:Ankitnaithani1999                          \\\\\n",
       "\t2 & saveAttempt & NULL & NULL & NULL & NULL & NULL & NULL & NULL & 0 & NULL & NULL & NULL & NULL & NULL & NULL & wikitext-2017 & desktop &  5150247 &  4 & Wikipedia:Poczekalnia/artykuły/2021:09:16:Pajdokracja\\\\\n",
       "\t3 & saveAttempt & NULL & NULL & NULL & NULL & NULL & NULL & NULL & 8 & NULL & NULL & NULL & NULL & NULL & NULL & visualeditor  & desktop &    13822 &  4 & ויקיפדיה:מזנון                                       \\\\\n",
       "\t4 & saveAttempt & NULL & NULL & NULL & NULL & NULL & NULL & NULL & 1 & NULL & NULL & NULL & NULL & NULL & NULL & wikitext-2017 & desktop &  4336380 &  1 & Обговорення:Апостроф\\_TV                              \\\\\n",
       "\t5 & saveAttempt & NULL & NULL & NULL & NULL & NULL & NULL & NULL & 0 & NULL & NULL & NULL & NULL & NULL & NULL & wikitext-2017 & desktop &  1518799 &  3 & שיחת\\_משתמש:62.219.74.216                             \\\\\n",
       "\t6 & saveAttempt & NULL & NULL & NULL & NULL & NULL & NULL & NULL & 3 & NULL & NULL & NULL & NULL & NULL & NULL & wikitext-2017 & desktop &  4197471 & 11 & Discussioni\\_template:Imbarcazione\\_storica            \\\\\n",
       "\\end{tabular}\n"
      ],
      "text/markdown": [
       "\n",
       "A data.frame: 6 × 20\n",
       "\n",
       "| <!--/--> | action &lt;chr&gt; | init_type &lt;chr&gt; | init_mechanism &lt;chr&gt; | init_timing &lt;chr&gt; | ready_timing &lt;chr&gt; | loaded_timing &lt;chr&gt; | first_change_timing &lt;chr&gt; | save_intent_timing &lt;chr&gt; | save_attempt_timing &lt;chr&gt; | save_success_timing &lt;chr&gt; | save_failure_type &lt;chr&gt; | save_failure_message &lt;chr&gt; | abort_type &lt;chr&gt; | abort_mechanism &lt;chr&gt; | abort_timing &lt;chr&gt; | editor_interface &lt;chr&gt; | platform &lt;chr&gt; | page_id &lt;int&gt; | page_ns &lt;int&gt; | page_title &lt;chr&gt; |\n",
       "|---|---|---|---|---|---|---|---|---|---|---|---|---|---|---|---|---|---|---|---|---|\n",
       "| 1 | saveAttempt | NULL | NULL | NULL | NULL | NULL | NULL | NULL | 0 | NULL | NULL | NULL | NULL | NULL | NULL | wikitext-2017 | desktop | 68745119 |  3 | User_talk:Ankitnaithani1999                           |\n",
       "| 2 | saveAttempt | NULL | NULL | NULL | NULL | NULL | NULL | NULL | 0 | NULL | NULL | NULL | NULL | NULL | NULL | wikitext-2017 | desktop |  5150247 |  4 | Wikipedia:Poczekalnia/artykuły/2021:09:16:Pajdokracja |\n",
       "| 3 | saveAttempt | NULL | NULL | NULL | NULL | NULL | NULL | NULL | 8 | NULL | NULL | NULL | NULL | NULL | NULL | visualeditor  | desktop |    13822 |  4 | ויקיפדיה:מזנון                                        |\n",
       "| 4 | saveAttempt | NULL | NULL | NULL | NULL | NULL | NULL | NULL | 1 | NULL | NULL | NULL | NULL | NULL | NULL | wikitext-2017 | desktop |  4336380 |  1 | Обговорення:Апостроф_TV                               |\n",
       "| 5 | saveAttempt | NULL | NULL | NULL | NULL | NULL | NULL | NULL | 0 | NULL | NULL | NULL | NULL | NULL | NULL | wikitext-2017 | desktop |  1518799 |  3 | שיחת_משתמש:62.219.74.216                              |\n",
       "| 6 | saveAttempt | NULL | NULL | NULL | NULL | NULL | NULL | NULL | 3 | NULL | NULL | NULL | NULL | NULL | NULL | wikitext-2017 | desktop |  4197471 | 11 | Discussioni_template:Imbarcazione_storica             |\n",
       "\n"
      ],
      "text/plain": [
       "  action      init_type init_mechanism init_timing ready_timing loaded_timing\n",
       "1 saveAttempt NULL      NULL           NULL        NULL         NULL         \n",
       "2 saveAttempt NULL      NULL           NULL        NULL         NULL         \n",
       "3 saveAttempt NULL      NULL           NULL        NULL         NULL         \n",
       "4 saveAttempt NULL      NULL           NULL        NULL         NULL         \n",
       "5 saveAttempt NULL      NULL           NULL        NULL         NULL         \n",
       "6 saveAttempt NULL      NULL           NULL        NULL         NULL         \n",
       "  first_change_timing save_intent_timing save_attempt_timing\n",
       "1 NULL                NULL               0                  \n",
       "2 NULL                NULL               0                  \n",
       "3 NULL                NULL               8                  \n",
       "4 NULL                NULL               1                  \n",
       "5 NULL                NULL               0                  \n",
       "6 NULL                NULL               3                  \n",
       "  save_success_timing save_failure_type save_failure_message abort_type\n",
       "1 NULL                NULL              NULL                 NULL      \n",
       "2 NULL                NULL              NULL                 NULL      \n",
       "3 NULL                NULL              NULL                 NULL      \n",
       "4 NULL                NULL              NULL                 NULL      \n",
       "5 NULL                NULL              NULL                 NULL      \n",
       "6 NULL                NULL              NULL                 NULL      \n",
       "  abort_mechanism abort_timing editor_interface platform page_id  page_ns\n",
       "1 NULL            NULL         wikitext-2017    desktop  68745119  3     \n",
       "2 NULL            NULL         wikitext-2017    desktop   5150247  4     \n",
       "3 NULL            NULL         visualeditor     desktop     13822  4     \n",
       "4 NULL            NULL         wikitext-2017    desktop   4336380  1     \n",
       "5 NULL            NULL         wikitext-2017    desktop   1518799  3     \n",
       "6 NULL            NULL         wikitext-2017    desktop   4197471 11     \n",
       "  page_title                                           \n",
       "1 User_talk:Ankitnaithani1999                          \n",
       "2 Wikipedia:Poczekalnia/artykuły/2021:09:16:Pajdokracja\n",
       "3 ויקיפדיה:מזנון                                       \n",
       "4 Обговорення:Апостроф_TV                              \n",
       "5 שיחת_משתמש:62.219.74.216                             \n",
       "6 Discussioni_template:Imbarcazione_storica            "
      ]
     },
     "metadata": {},
     "output_type": "display_data"
    }
   ],
   "source": [
    "# Save Attempt Events\n",
    "saveattempt_dt_events <- all_dt_events %>%\n",
    "    filter(action == 'saveAttempt')\n",
    "\n",
    "head(saveattempt_dt_events)"
   ]
  },
  {
   "cell_type": "code",
   "execution_count": 39,
   "metadata": {},
   "outputs": [
    {
     "data": {
      "text/html": [
       "<table>\n",
       "<caption>A data.frame: 6 × 20</caption>\n",
       "<thead>\n",
       "\t<tr><th></th><th scope=col>action</th><th scope=col>init_type</th><th scope=col>init_mechanism</th><th scope=col>init_timing</th><th scope=col>ready_timing</th><th scope=col>loaded_timing</th><th scope=col>first_change_timing</th><th scope=col>save_intent_timing</th><th scope=col>save_attempt_timing</th><th scope=col>save_success_timing</th><th scope=col>save_failure_type</th><th scope=col>save_failure_message</th><th scope=col>abort_type</th><th scope=col>abort_mechanism</th><th scope=col>abort_timing</th><th scope=col>editor_interface</th><th scope=col>platform</th><th scope=col>page_id</th><th scope=col>page_ns</th><th scope=col>page_title</th></tr>\n",
       "\t<tr><th></th><th scope=col>&lt;chr&gt;</th><th scope=col>&lt;chr&gt;</th><th scope=col>&lt;chr&gt;</th><th scope=col>&lt;chr&gt;</th><th scope=col>&lt;chr&gt;</th><th scope=col>&lt;chr&gt;</th><th scope=col>&lt;chr&gt;</th><th scope=col>&lt;chr&gt;</th><th scope=col>&lt;chr&gt;</th><th scope=col>&lt;chr&gt;</th><th scope=col>&lt;chr&gt;</th><th scope=col>&lt;chr&gt;</th><th scope=col>&lt;chr&gt;</th><th scope=col>&lt;chr&gt;</th><th scope=col>&lt;chr&gt;</th><th scope=col>&lt;chr&gt;</th><th scope=col>&lt;chr&gt;</th><th scope=col>&lt;int&gt;</th><th scope=col>&lt;int&gt;</th><th scope=col>&lt;chr&gt;</th></tr>\n",
       "</thead>\n",
       "<tbody>\n",
       "\t<tr><th scope=row>1</th><td>saveSuccess</td><td>NULL</td><td>NULL</td><td>NULL</td><td>NULL</td><td>NULL</td><td>NULL</td><td>NULL</td><td>NULL</td><td>4801 </td><td>NULL</td><td>NULL</td><td>NULL</td><td>NULL</td><td>NULL</td><td>wikitext-2017</td><td>desktop</td><td>19642030</td><td> 4</td><td>Wikipedia:Biểu_quyết_xoá_bài/Danh_sách_bản_quyền_thể_thao_tại_Việt_Nam</td></tr>\n",
       "\t<tr><th scope=row>2</th><td>saveSuccess</td><td>NULL</td><td>NULL</td><td>NULL</td><td>NULL</td><td>NULL</td><td>NULL</td><td>NULL</td><td>NULL</td><td>4889 </td><td>NULL</td><td>NULL</td><td>NULL</td><td>NULL</td><td>NULL</td><td>wikitext-2017</td><td>desktop</td><td> 1867796</td><td> 3</td><td>שיחת_משתמש:Neriah                                                     </td></tr>\n",
       "\t<tr><th scope=row>3</th><td>saveSuccess</td><td>NULL</td><td>NULL</td><td>NULL</td><td>NULL</td><td>NULL</td><td>NULL</td><td>NULL</td><td>NULL</td><td>5561 </td><td>NULL</td><td>NULL</td><td>NULL</td><td>NULL</td><td>NULL</td><td>visualeditor </td><td>desktop</td><td>  398195</td><td>12</td><td>Ajuda:Tire_suas_dúvidas                                               </td></tr>\n",
       "\t<tr><th scope=row>4</th><td>saveSuccess</td><td>NULL</td><td>NULL</td><td>NULL</td><td>NULL</td><td>NULL</td><td>NULL</td><td>NULL</td><td>NULL</td><td>15573</td><td>NULL</td><td>NULL</td><td>NULL</td><td>NULL</td><td>NULL</td><td>visualeditor </td><td>desktop</td><td>   24767</td><td> 4</td><td>Вікіпедія:Кнайпа_(різне)                                              </td></tr>\n",
       "\t<tr><th scope=row>5</th><td>saveSuccess</td><td>NULL</td><td>NULL</td><td>NULL</td><td>NULL</td><td>NULL</td><td>NULL</td><td>NULL</td><td>NULL</td><td>2638 </td><td>NULL</td><td>NULL</td><td>NULL</td><td>NULL</td><td>NULL</td><td>wikitext-2017</td><td>desktop</td><td> 4336380</td><td> 1</td><td>Обговорення:Апостроф_TV                                               </td></tr>\n",
       "\t<tr><th scope=row>6</th><td>saveSuccess</td><td>NULL</td><td>NULL</td><td>NULL</td><td>NULL</td><td>NULL</td><td>NULL</td><td>NULL</td><td>NULL</td><td>599  </td><td>NULL</td><td>NULL</td><td>NULL</td><td>NULL</td><td>NULL</td><td>wikitext-2017</td><td>desktop</td><td>11924196</td><td> 3</td><td>Benutzer_Diskussion:HoppyFloppy                                       </td></tr>\n",
       "</tbody>\n",
       "</table>\n"
      ],
      "text/latex": [
       "A data.frame: 6 × 20\n",
       "\\begin{tabular}{r|llllllllllllllllllll}\n",
       "  & action & init\\_type & init\\_mechanism & init\\_timing & ready\\_timing & loaded\\_timing & first\\_change\\_timing & save\\_intent\\_timing & save\\_attempt\\_timing & save\\_success\\_timing & save\\_failure\\_type & save\\_failure\\_message & abort\\_type & abort\\_mechanism & abort\\_timing & editor\\_interface & platform & page\\_id & page\\_ns & page\\_title\\\\\n",
       "  & <chr> & <chr> & <chr> & <chr> & <chr> & <chr> & <chr> & <chr> & <chr> & <chr> & <chr> & <chr> & <chr> & <chr> & <chr> & <chr> & <chr> & <int> & <int> & <chr>\\\\\n",
       "\\hline\n",
       "\t1 & saveSuccess & NULL & NULL & NULL & NULL & NULL & NULL & NULL & NULL & 4801  & NULL & NULL & NULL & NULL & NULL & wikitext-2017 & desktop & 19642030 &  4 & Wikipedia:Biểu\\_quyết\\_xoá\\_bài/Danh\\_sách\\_bản\\_quyền\\_thể\\_thao\\_tại\\_Việt\\_Nam\\\\\n",
       "\t2 & saveSuccess & NULL & NULL & NULL & NULL & NULL & NULL & NULL & NULL & 4889  & NULL & NULL & NULL & NULL & NULL & wikitext-2017 & desktop &  1867796 &  3 & שיחת\\_משתמש:Neriah                                                     \\\\\n",
       "\t3 & saveSuccess & NULL & NULL & NULL & NULL & NULL & NULL & NULL & NULL & 5561  & NULL & NULL & NULL & NULL & NULL & visualeditor  & desktop &   398195 & 12 & Ajuda:Tire\\_suas\\_dúvidas                                               \\\\\n",
       "\t4 & saveSuccess & NULL & NULL & NULL & NULL & NULL & NULL & NULL & NULL & 15573 & NULL & NULL & NULL & NULL & NULL & visualeditor  & desktop &    24767 &  4 & Вікіпедія:Кнайпа\\_(різне)                                              \\\\\n",
       "\t5 & saveSuccess & NULL & NULL & NULL & NULL & NULL & NULL & NULL & NULL & 2638  & NULL & NULL & NULL & NULL & NULL & wikitext-2017 & desktop &  4336380 &  1 & Обговорення:Апостроф\\_TV                                               \\\\\n",
       "\t6 & saveSuccess & NULL & NULL & NULL & NULL & NULL & NULL & NULL & NULL & 599   & NULL & NULL & NULL & NULL & NULL & wikitext-2017 & desktop & 11924196 &  3 & Benutzer\\_Diskussion:HoppyFloppy                                       \\\\\n",
       "\\end{tabular}\n"
      ],
      "text/markdown": [
       "\n",
       "A data.frame: 6 × 20\n",
       "\n",
       "| <!--/--> | action &lt;chr&gt; | init_type &lt;chr&gt; | init_mechanism &lt;chr&gt; | init_timing &lt;chr&gt; | ready_timing &lt;chr&gt; | loaded_timing &lt;chr&gt; | first_change_timing &lt;chr&gt; | save_intent_timing &lt;chr&gt; | save_attempt_timing &lt;chr&gt; | save_success_timing &lt;chr&gt; | save_failure_type &lt;chr&gt; | save_failure_message &lt;chr&gt; | abort_type &lt;chr&gt; | abort_mechanism &lt;chr&gt; | abort_timing &lt;chr&gt; | editor_interface &lt;chr&gt; | platform &lt;chr&gt; | page_id &lt;int&gt; | page_ns &lt;int&gt; | page_title &lt;chr&gt; |\n",
       "|---|---|---|---|---|---|---|---|---|---|---|---|---|---|---|---|---|---|---|---|---|\n",
       "| 1 | saveSuccess | NULL | NULL | NULL | NULL | NULL | NULL | NULL | NULL | 4801  | NULL | NULL | NULL | NULL | NULL | wikitext-2017 | desktop | 19642030 |  4 | Wikipedia:Biểu_quyết_xoá_bài/Danh_sách_bản_quyền_thể_thao_tại_Việt_Nam |\n",
       "| 2 | saveSuccess | NULL | NULL | NULL | NULL | NULL | NULL | NULL | NULL | 4889  | NULL | NULL | NULL | NULL | NULL | wikitext-2017 | desktop |  1867796 |  3 | שיחת_משתמש:Neriah                                                      |\n",
       "| 3 | saveSuccess | NULL | NULL | NULL | NULL | NULL | NULL | NULL | NULL | 5561  | NULL | NULL | NULL | NULL | NULL | visualeditor  | desktop |   398195 | 12 | Ajuda:Tire_suas_dúvidas                                                |\n",
       "| 4 | saveSuccess | NULL | NULL | NULL | NULL | NULL | NULL | NULL | NULL | 15573 | NULL | NULL | NULL | NULL | NULL | visualeditor  | desktop |    24767 |  4 | Вікіпедія:Кнайпа_(різне)                                               |\n",
       "| 5 | saveSuccess | NULL | NULL | NULL | NULL | NULL | NULL | NULL | NULL | 2638  | NULL | NULL | NULL | NULL | NULL | wikitext-2017 | desktop |  4336380 |  1 | Обговорення:Апостроф_TV                                                |\n",
       "| 6 | saveSuccess | NULL | NULL | NULL | NULL | NULL | NULL | NULL | NULL | 599   | NULL | NULL | NULL | NULL | NULL | wikitext-2017 | desktop | 11924196 |  3 | Benutzer_Diskussion:HoppyFloppy                                        |\n",
       "\n"
      ],
      "text/plain": [
       "  action      init_type init_mechanism init_timing ready_timing loaded_timing\n",
       "1 saveSuccess NULL      NULL           NULL        NULL         NULL         \n",
       "2 saveSuccess NULL      NULL           NULL        NULL         NULL         \n",
       "3 saveSuccess NULL      NULL           NULL        NULL         NULL         \n",
       "4 saveSuccess NULL      NULL           NULL        NULL         NULL         \n",
       "5 saveSuccess NULL      NULL           NULL        NULL         NULL         \n",
       "6 saveSuccess NULL      NULL           NULL        NULL         NULL         \n",
       "  first_change_timing save_intent_timing save_attempt_timing\n",
       "1 NULL                NULL               NULL               \n",
       "2 NULL                NULL               NULL               \n",
       "3 NULL                NULL               NULL               \n",
       "4 NULL                NULL               NULL               \n",
       "5 NULL                NULL               NULL               \n",
       "6 NULL                NULL               NULL               \n",
       "  save_success_timing save_failure_type save_failure_message abort_type\n",
       "1 4801                NULL              NULL                 NULL      \n",
       "2 4889                NULL              NULL                 NULL      \n",
       "3 5561                NULL              NULL                 NULL      \n",
       "4 15573               NULL              NULL                 NULL      \n",
       "5 2638                NULL              NULL                 NULL      \n",
       "6 599                 NULL              NULL                 NULL      \n",
       "  abort_mechanism abort_timing editor_interface platform page_id  page_ns\n",
       "1 NULL            NULL         wikitext-2017    desktop  19642030  4     \n",
       "2 NULL            NULL         wikitext-2017    desktop   1867796  3     \n",
       "3 NULL            NULL         visualeditor     desktop    398195 12     \n",
       "4 NULL            NULL         visualeditor     desktop     24767  4     \n",
       "5 NULL            NULL         wikitext-2017    desktop   4336380  1     \n",
       "6 NULL            NULL         wikitext-2017    desktop  11924196  3     \n",
       "  page_title                                                            \n",
       "1 Wikipedia:Biểu_quyết_xoá_bài/Danh_sách_bản_quyền_thể_thao_tại_Việt_Nam\n",
       "2 שיחת_משתמש:Neriah                                                     \n",
       "3 Ajuda:Tire_suas_dúvidas                                               \n",
       "4 Вікіпедія:Кнайпа_(різне)                                              \n",
       "5 Обговорення:Апостроф_TV                                               \n",
       "6 Benutzer_Diskussion:HoppyFloppy                                       "
      ]
     },
     "metadata": {},
     "output_type": "display_data"
    }
   ],
   "source": [
    "# Save Success Events\n",
    "savesuccess_dt_events <- all_dt_events %>%\n",
    "    filter(action == 'saveSuccess')\n",
    "\n",
    "head(savesuccess_dt_events)"
   ]
  },
  {
   "cell_type": "code",
   "execution_count": 40,
   "metadata": {},
   "outputs": [
    {
     "data": {
      "text/html": [
       "<table>\n",
       "<caption>A data.frame: 6 × 20</caption>\n",
       "<thead>\n",
       "\t<tr><th></th><th scope=col>action</th><th scope=col>init_type</th><th scope=col>init_mechanism</th><th scope=col>init_timing</th><th scope=col>ready_timing</th><th scope=col>loaded_timing</th><th scope=col>first_change_timing</th><th scope=col>save_intent_timing</th><th scope=col>save_attempt_timing</th><th scope=col>save_success_timing</th><th scope=col>save_failure_type</th><th scope=col>save_failure_message</th><th scope=col>abort_type</th><th scope=col>abort_mechanism</th><th scope=col>abort_timing</th><th scope=col>editor_interface</th><th scope=col>platform</th><th scope=col>page_id</th><th scope=col>page_ns</th><th scope=col>page_title</th></tr>\n",
       "\t<tr><th></th><th scope=col>&lt;chr&gt;</th><th scope=col>&lt;chr&gt;</th><th scope=col>&lt;chr&gt;</th><th scope=col>&lt;chr&gt;</th><th scope=col>&lt;chr&gt;</th><th scope=col>&lt;chr&gt;</th><th scope=col>&lt;chr&gt;</th><th scope=col>&lt;chr&gt;</th><th scope=col>&lt;chr&gt;</th><th scope=col>&lt;chr&gt;</th><th scope=col>&lt;chr&gt;</th><th scope=col>&lt;chr&gt;</th><th scope=col>&lt;chr&gt;</th><th scope=col>&lt;chr&gt;</th><th scope=col>&lt;chr&gt;</th><th scope=col>&lt;chr&gt;</th><th scope=col>&lt;chr&gt;</th><th scope=col>&lt;int&gt;</th><th scope=col>&lt;int&gt;</th><th scope=col>&lt;chr&gt;</th></tr>\n",
       "</thead>\n",
       "<tbody>\n",
       "\t<tr><th scope=row>1</th><td>saveFailure</td><td>NULL</td><td>NULL</td><td>NULL</td><td>NULL</td><td>NULL</td><td>NULL</td><td>NULL</td><td>NULL</td><td>NULL</td><td>responseUnknown</td><td>http-0</td><td>NULL</td><td>NULL</td><td>NULL</td><td>visualeditor </td><td>desktop</td><td>9122621</td><td>3</td><td>Discussioni_utente:Loffry_1     </td></tr>\n",
       "\t<tr><th scope=row>2</th><td>saveFailure</td><td>NULL</td><td>NULL</td><td>NULL</td><td>NULL</td><td>NULL</td><td>NULL</td><td>NULL</td><td>NULL</td><td>NULL</td><td>responseUnknown</td><td>http-0</td><td>NULL</td><td>NULL</td><td>NULL</td><td>wikitext-2017</td><td>desktop</td><td>5810790</td><td>3</td><td>بحث_کاربر:Prvizprvizi           </td></tr>\n",
       "\t<tr><th scope=row>3</th><td>saveFailure</td><td>NULL</td><td>NULL</td><td>NULL</td><td>NULL</td><td>NULL</td><td>NULL</td><td>NULL</td><td>NULL</td><td>NULL</td><td>responseUnknown</td><td>http-0</td><td>NULL</td><td>NULL</td><td>NULL</td><td>visualeditor </td><td>desktop</td><td>3878720</td><td>3</td><td>Discussioni_utente:Mmagalini    </td></tr>\n",
       "\t<tr><th scope=row>4</th><td>saveFailure</td><td>NULL</td><td>NULL</td><td>NULL</td><td>NULL</td><td>NULL</td><td>NULL</td><td>NULL</td><td>NULL</td><td>NULL</td><td>responseUnknown</td><td>http-0</td><td>NULL</td><td>NULL</td><td>NULL</td><td>wikitext-2017</td><td>desktop</td><td>3044602</td><td>3</td><td>사용자토론:211.217.64.35        </td></tr>\n",
       "\t<tr><th scope=row>5</th><td>saveFailure</td><td>NULL</td><td>NULL</td><td>NULL</td><td>NULL</td><td>NULL</td><td>NULL</td><td>NULL</td><td>NULL</td><td>NULL</td><td>responseUnknown</td><td>http-0</td><td>NULL</td><td>NULL</td><td>NULL</td><td>visualeditor </td><td>desktop</td><td>9122621</td><td>3</td><td>Discussioni_utente:Loffry_1     </td></tr>\n",
       "\t<tr><th scope=row>6</th><td>saveFailure</td><td>NULL</td><td>NULL</td><td>NULL</td><td>NULL</td><td>NULL</td><td>NULL</td><td>NULL</td><td>NULL</td><td>NULL</td><td>responseUnknown</td><td>http-0</td><td>NULL</td><td>NULL</td><td>NULL</td><td>visualeditor </td><td>desktop</td><td>9124823</td><td>3</td><td>Discussioni_utente:80.182.52.231</td></tr>\n",
       "</tbody>\n",
       "</table>\n"
      ],
      "text/latex": [
       "A data.frame: 6 × 20\n",
       "\\begin{tabular}{r|llllllllllllllllllll}\n",
       "  & action & init\\_type & init\\_mechanism & init\\_timing & ready\\_timing & loaded\\_timing & first\\_change\\_timing & save\\_intent\\_timing & save\\_attempt\\_timing & save\\_success\\_timing & save\\_failure\\_type & save\\_failure\\_message & abort\\_type & abort\\_mechanism & abort\\_timing & editor\\_interface & platform & page\\_id & page\\_ns & page\\_title\\\\\n",
       "  & <chr> & <chr> & <chr> & <chr> & <chr> & <chr> & <chr> & <chr> & <chr> & <chr> & <chr> & <chr> & <chr> & <chr> & <chr> & <chr> & <chr> & <int> & <int> & <chr>\\\\\n",
       "\\hline\n",
       "\t1 & saveFailure & NULL & NULL & NULL & NULL & NULL & NULL & NULL & NULL & NULL & responseUnknown & http-0 & NULL & NULL & NULL & visualeditor  & desktop & 9122621 & 3 & Discussioni\\_utente:Loffry\\_1     \\\\\n",
       "\t2 & saveFailure & NULL & NULL & NULL & NULL & NULL & NULL & NULL & NULL & NULL & responseUnknown & http-0 & NULL & NULL & NULL & wikitext-2017 & desktop & 5810790 & 3 & بحث\\_کاربر:Prvizprvizi           \\\\\n",
       "\t3 & saveFailure & NULL & NULL & NULL & NULL & NULL & NULL & NULL & NULL & NULL & responseUnknown & http-0 & NULL & NULL & NULL & visualeditor  & desktop & 3878720 & 3 & Discussioni\\_utente:Mmagalini    \\\\\n",
       "\t4 & saveFailure & NULL & NULL & NULL & NULL & NULL & NULL & NULL & NULL & NULL & responseUnknown & http-0 & NULL & NULL & NULL & wikitext-2017 & desktop & 3044602 & 3 & 사용자토론:211.217.64.35        \\\\\n",
       "\t5 & saveFailure & NULL & NULL & NULL & NULL & NULL & NULL & NULL & NULL & NULL & responseUnknown & http-0 & NULL & NULL & NULL & visualeditor  & desktop & 9122621 & 3 & Discussioni\\_utente:Loffry\\_1     \\\\\n",
       "\t6 & saveFailure & NULL & NULL & NULL & NULL & NULL & NULL & NULL & NULL & NULL & responseUnknown & http-0 & NULL & NULL & NULL & visualeditor  & desktop & 9124823 & 3 & Discussioni\\_utente:80.182.52.231\\\\\n",
       "\\end{tabular}\n"
      ],
      "text/markdown": [
       "\n",
       "A data.frame: 6 × 20\n",
       "\n",
       "| <!--/--> | action &lt;chr&gt; | init_type &lt;chr&gt; | init_mechanism &lt;chr&gt; | init_timing &lt;chr&gt; | ready_timing &lt;chr&gt; | loaded_timing &lt;chr&gt; | first_change_timing &lt;chr&gt; | save_intent_timing &lt;chr&gt; | save_attempt_timing &lt;chr&gt; | save_success_timing &lt;chr&gt; | save_failure_type &lt;chr&gt; | save_failure_message &lt;chr&gt; | abort_type &lt;chr&gt; | abort_mechanism &lt;chr&gt; | abort_timing &lt;chr&gt; | editor_interface &lt;chr&gt; | platform &lt;chr&gt; | page_id &lt;int&gt; | page_ns &lt;int&gt; | page_title &lt;chr&gt; |\n",
       "|---|---|---|---|---|---|---|---|---|---|---|---|---|---|---|---|---|---|---|---|---|\n",
       "| 1 | saveFailure | NULL | NULL | NULL | NULL | NULL | NULL | NULL | NULL | NULL | responseUnknown | http-0 | NULL | NULL | NULL | visualeditor  | desktop | 9122621 | 3 | Discussioni_utente:Loffry_1      |\n",
       "| 2 | saveFailure | NULL | NULL | NULL | NULL | NULL | NULL | NULL | NULL | NULL | responseUnknown | http-0 | NULL | NULL | NULL | wikitext-2017 | desktop | 5810790 | 3 | بحث_کاربر:Prvizprvizi            |\n",
       "| 3 | saveFailure | NULL | NULL | NULL | NULL | NULL | NULL | NULL | NULL | NULL | responseUnknown | http-0 | NULL | NULL | NULL | visualeditor  | desktop | 3878720 | 3 | Discussioni_utente:Mmagalini     |\n",
       "| 4 | saveFailure | NULL | NULL | NULL | NULL | NULL | NULL | NULL | NULL | NULL | responseUnknown | http-0 | NULL | NULL | NULL | wikitext-2017 | desktop | 3044602 | 3 | 사용자토론:211.217.64.35         |\n",
       "| 5 | saveFailure | NULL | NULL | NULL | NULL | NULL | NULL | NULL | NULL | NULL | responseUnknown | http-0 | NULL | NULL | NULL | visualeditor  | desktop | 9122621 | 3 | Discussioni_utente:Loffry_1      |\n",
       "| 6 | saveFailure | NULL | NULL | NULL | NULL | NULL | NULL | NULL | NULL | NULL | responseUnknown | http-0 | NULL | NULL | NULL | visualeditor  | desktop | 9124823 | 3 | Discussioni_utente:80.182.52.231 |\n",
       "\n"
      ],
      "text/plain": [
       "  action      init_type init_mechanism init_timing ready_timing loaded_timing\n",
       "1 saveFailure NULL      NULL           NULL        NULL         NULL         \n",
       "2 saveFailure NULL      NULL           NULL        NULL         NULL         \n",
       "3 saveFailure NULL      NULL           NULL        NULL         NULL         \n",
       "4 saveFailure NULL      NULL           NULL        NULL         NULL         \n",
       "5 saveFailure NULL      NULL           NULL        NULL         NULL         \n",
       "6 saveFailure NULL      NULL           NULL        NULL         NULL         \n",
       "  first_change_timing save_intent_timing save_attempt_timing\n",
       "1 NULL                NULL               NULL               \n",
       "2 NULL                NULL               NULL               \n",
       "3 NULL                NULL               NULL               \n",
       "4 NULL                NULL               NULL               \n",
       "5 NULL                NULL               NULL               \n",
       "6 NULL                NULL               NULL               \n",
       "  save_success_timing save_failure_type save_failure_message abort_type\n",
       "1 NULL                responseUnknown   http-0               NULL      \n",
       "2 NULL                responseUnknown   http-0               NULL      \n",
       "3 NULL                responseUnknown   http-0               NULL      \n",
       "4 NULL                responseUnknown   http-0               NULL      \n",
       "5 NULL                responseUnknown   http-0               NULL      \n",
       "6 NULL                responseUnknown   http-0               NULL      \n",
       "  abort_mechanism abort_timing editor_interface platform page_id page_ns\n",
       "1 NULL            NULL         visualeditor     desktop  9122621 3      \n",
       "2 NULL            NULL         wikitext-2017    desktop  5810790 3      \n",
       "3 NULL            NULL         visualeditor     desktop  3878720 3      \n",
       "4 NULL            NULL         wikitext-2017    desktop  3044602 3      \n",
       "5 NULL            NULL         visualeditor     desktop  9122621 3      \n",
       "6 NULL            NULL         visualeditor     desktop  9124823 3      \n",
       "  page_title                      \n",
       "1 Discussioni_utente:Loffry_1     \n",
       "2 بحث_کاربر:Prvizprvizi           \n",
       "3 Discussioni_utente:Mmagalini    \n",
       "4 사용자토론:211.217.64.35        \n",
       "5 Discussioni_utente:Loffry_1     \n",
       "6 Discussioni_utente:80.182.52.231"
      ]
     },
     "metadata": {},
     "output_type": "display_data"
    }
   ],
   "source": [
    "# Save Failure Events\n",
    "savefailure_dt_events <- all_dt_events %>%\n",
    "    filter(action == 'saveFailure')\n",
    "\n",
    "head(savefailure_dt_events)"
   ]
  },
  {
   "cell_type": "code",
   "execution_count": 41,
   "metadata": {},
   "outputs": [
    {
     "data": {
      "text/html": [
       "<table>\n",
       "<caption>A data.frame: 6 × 20</caption>\n",
       "<thead>\n",
       "\t<tr><th></th><th scope=col>action</th><th scope=col>init_type</th><th scope=col>init_mechanism</th><th scope=col>init_timing</th><th scope=col>ready_timing</th><th scope=col>loaded_timing</th><th scope=col>first_change_timing</th><th scope=col>save_intent_timing</th><th scope=col>save_attempt_timing</th><th scope=col>save_success_timing</th><th scope=col>save_failure_type</th><th scope=col>save_failure_message</th><th scope=col>abort_type</th><th scope=col>abort_mechanism</th><th scope=col>abort_timing</th><th scope=col>editor_interface</th><th scope=col>platform</th><th scope=col>page_id</th><th scope=col>page_ns</th><th scope=col>page_title</th></tr>\n",
       "\t<tr><th></th><th scope=col>&lt;chr&gt;</th><th scope=col>&lt;chr&gt;</th><th scope=col>&lt;chr&gt;</th><th scope=col>&lt;chr&gt;</th><th scope=col>&lt;chr&gt;</th><th scope=col>&lt;chr&gt;</th><th scope=col>&lt;chr&gt;</th><th scope=col>&lt;chr&gt;</th><th scope=col>&lt;chr&gt;</th><th scope=col>&lt;chr&gt;</th><th scope=col>&lt;chr&gt;</th><th scope=col>&lt;chr&gt;</th><th scope=col>&lt;chr&gt;</th><th scope=col>&lt;chr&gt;</th><th scope=col>&lt;chr&gt;</th><th scope=col>&lt;chr&gt;</th><th scope=col>&lt;chr&gt;</th><th scope=col>&lt;int&gt;</th><th scope=col>&lt;int&gt;</th><th scope=col>&lt;chr&gt;</th></tr>\n",
       "</thead>\n",
       "<tbody>\n",
       "\t<tr><th scope=row>1</th><td>abort</td><td>NULL</td><td>NULL</td><td>NULL</td><td>NULL</td><td>NULL</td><td>NULL</td><td>NULL</td><td>NULL</td><td>NULL</td><td>NULL</td><td>NULL</td><td>nochange</td><td>cancel  </td><td>2683 </td><td>wikitext-2017</td><td>desktop</td><td>   34015</td><td>3</td><td>Brukerdiskusjon:Jon_Harald_Søby          </td></tr>\n",
       "\t<tr><th scope=row>2</th><td>abort</td><td>NULL</td><td>NULL</td><td>NULL</td><td>NULL</td><td>NULL</td><td>NULL</td><td>NULL</td><td>NULL</td><td>NULL</td><td>NULL</td><td>NULL</td><td>nochange</td><td>cancel  </td><td>33352</td><td>wikitext-2017</td><td>desktop</td><td>   69093</td><td>4</td><td>Wikipédia:Botgazdák_üzenőfala            </td></tr>\n",
       "\t<tr><th scope=row>3</th><td>abort</td><td>NULL</td><td>NULL</td><td>NULL</td><td>NULL</td><td>NULL</td><td>NULL</td><td>NULL</td><td>NULL</td><td>NULL</td><td>NULL</td><td>NULL</td><td>nochange</td><td>cancel  </td><td>6432 </td><td>visualeditor </td><td>desktop</td><td>11105803</td><td>3</td><td>Benutzer_Diskussion:Julius2803           </td></tr>\n",
       "\t<tr><th scope=row>4</th><td>abort</td><td>NULL</td><td>NULL</td><td>NULL</td><td>NULL</td><td>NULL</td><td>NULL</td><td>NULL</td><td>NULL</td><td>NULL</td><td>NULL</td><td>NULL</td><td>nochange</td><td>cancel  </td><td>4760 </td><td>wikitext-2017</td><td>desktop</td><td> 7549798</td><td>4</td><td>Wikipedia:修订版本删除请求/存档/2021年7月</td></tr>\n",
       "\t<tr><th scope=row>5</th><td>abort</td><td>NULL</td><td>NULL</td><td>NULL</td><td>NULL</td><td>NULL</td><td>NULL</td><td>NULL</td><td>NULL</td><td>NULL</td><td>NULL</td><td>NULL</td><td>preinit </td><td>NULL    </td><td>44   </td><td>visualeditor </td><td>desktop</td><td>  403844</td><td>4</td><td>ويكيبيديا:طلبات_صلاحيات                  </td></tr>\n",
       "\t<tr><th scope=row>6</th><td>abort</td><td>NULL</td><td>NULL</td><td>NULL</td><td>NULL</td><td>NULL</td><td>NULL</td><td>NULL</td><td>NULL</td><td>NULL</td><td>NULL</td><td>NULL</td><td>nochange</td><td>navigate</td><td>14997</td><td>wikitext-2017</td><td>desktop</td><td>  635987</td><td>3</td><td>Keskustelu_käyttäjästä:137.163.31.188    </td></tr>\n",
       "</tbody>\n",
       "</table>\n"
      ],
      "text/latex": [
       "A data.frame: 6 × 20\n",
       "\\begin{tabular}{r|llllllllllllllllllll}\n",
       "  & action & init\\_type & init\\_mechanism & init\\_timing & ready\\_timing & loaded\\_timing & first\\_change\\_timing & save\\_intent\\_timing & save\\_attempt\\_timing & save\\_success\\_timing & save\\_failure\\_type & save\\_failure\\_message & abort\\_type & abort\\_mechanism & abort\\_timing & editor\\_interface & platform & page\\_id & page\\_ns & page\\_title\\\\\n",
       "  & <chr> & <chr> & <chr> & <chr> & <chr> & <chr> & <chr> & <chr> & <chr> & <chr> & <chr> & <chr> & <chr> & <chr> & <chr> & <chr> & <chr> & <int> & <int> & <chr>\\\\\n",
       "\\hline\n",
       "\t1 & abort & NULL & NULL & NULL & NULL & NULL & NULL & NULL & NULL & NULL & NULL & NULL & nochange & cancel   & 2683  & wikitext-2017 & desktop &    34015 & 3 & Brukerdiskusjon:Jon\\_Harald\\_Søby          \\\\\n",
       "\t2 & abort & NULL & NULL & NULL & NULL & NULL & NULL & NULL & NULL & NULL & NULL & NULL & nochange & cancel   & 33352 & wikitext-2017 & desktop &    69093 & 4 & Wikipédia:Botgazdák\\_üzenőfala            \\\\\n",
       "\t3 & abort & NULL & NULL & NULL & NULL & NULL & NULL & NULL & NULL & NULL & NULL & NULL & nochange & cancel   & 6432  & visualeditor  & desktop & 11105803 & 3 & Benutzer\\_Diskussion:Julius2803           \\\\\n",
       "\t4 & abort & NULL & NULL & NULL & NULL & NULL & NULL & NULL & NULL & NULL & NULL & NULL & nochange & cancel   & 4760  & wikitext-2017 & desktop &  7549798 & 4 & Wikipedia:修订版本删除请求/存档/2021年7月\\\\\n",
       "\t5 & abort & NULL & NULL & NULL & NULL & NULL & NULL & NULL & NULL & NULL & NULL & NULL & preinit  & NULL     & 44    & visualeditor  & desktop &   403844 & 4 & ويكيبيديا:طلبات\\_صلاحيات                  \\\\\n",
       "\t6 & abort & NULL & NULL & NULL & NULL & NULL & NULL & NULL & NULL & NULL & NULL & NULL & nochange & navigate & 14997 & wikitext-2017 & desktop &   635987 & 3 & Keskustelu\\_käyttäjästä:137.163.31.188    \\\\\n",
       "\\end{tabular}\n"
      ],
      "text/markdown": [
       "\n",
       "A data.frame: 6 × 20\n",
       "\n",
       "| <!--/--> | action &lt;chr&gt; | init_type &lt;chr&gt; | init_mechanism &lt;chr&gt; | init_timing &lt;chr&gt; | ready_timing &lt;chr&gt; | loaded_timing &lt;chr&gt; | first_change_timing &lt;chr&gt; | save_intent_timing &lt;chr&gt; | save_attempt_timing &lt;chr&gt; | save_success_timing &lt;chr&gt; | save_failure_type &lt;chr&gt; | save_failure_message &lt;chr&gt; | abort_type &lt;chr&gt; | abort_mechanism &lt;chr&gt; | abort_timing &lt;chr&gt; | editor_interface &lt;chr&gt; | platform &lt;chr&gt; | page_id &lt;int&gt; | page_ns &lt;int&gt; | page_title &lt;chr&gt; |\n",
       "|---|---|---|---|---|---|---|---|---|---|---|---|---|---|---|---|---|---|---|---|---|\n",
       "| 1 | abort | NULL | NULL | NULL | NULL | NULL | NULL | NULL | NULL | NULL | NULL | NULL | nochange | cancel   | 2683  | wikitext-2017 | desktop |    34015 | 3 | Brukerdiskusjon:Jon_Harald_Søby           |\n",
       "| 2 | abort | NULL | NULL | NULL | NULL | NULL | NULL | NULL | NULL | NULL | NULL | NULL | nochange | cancel   | 33352 | wikitext-2017 | desktop |    69093 | 4 | Wikipédia:Botgazdák_üzenőfala             |\n",
       "| 3 | abort | NULL | NULL | NULL | NULL | NULL | NULL | NULL | NULL | NULL | NULL | NULL | nochange | cancel   | 6432  | visualeditor  | desktop | 11105803 | 3 | Benutzer_Diskussion:Julius2803            |\n",
       "| 4 | abort | NULL | NULL | NULL | NULL | NULL | NULL | NULL | NULL | NULL | NULL | NULL | nochange | cancel   | 4760  | wikitext-2017 | desktop |  7549798 | 4 | Wikipedia:修订版本删除请求/存档/2021年7月 |\n",
       "| 5 | abort | NULL | NULL | NULL | NULL | NULL | NULL | NULL | NULL | NULL | NULL | NULL | preinit  | NULL     | 44    | visualeditor  | desktop |   403844 | 4 | ويكيبيديا:طلبات_صلاحيات                   |\n",
       "| 6 | abort | NULL | NULL | NULL | NULL | NULL | NULL | NULL | NULL | NULL | NULL | NULL | nochange | navigate | 14997 | wikitext-2017 | desktop |   635987 | 3 | Keskustelu_käyttäjästä:137.163.31.188     |\n",
       "\n"
      ],
      "text/plain": [
       "  action init_type init_mechanism init_timing ready_timing loaded_timing\n",
       "1 abort  NULL      NULL           NULL        NULL         NULL         \n",
       "2 abort  NULL      NULL           NULL        NULL         NULL         \n",
       "3 abort  NULL      NULL           NULL        NULL         NULL         \n",
       "4 abort  NULL      NULL           NULL        NULL         NULL         \n",
       "5 abort  NULL      NULL           NULL        NULL         NULL         \n",
       "6 abort  NULL      NULL           NULL        NULL         NULL         \n",
       "  first_change_timing save_intent_timing save_attempt_timing\n",
       "1 NULL                NULL               NULL               \n",
       "2 NULL                NULL               NULL               \n",
       "3 NULL                NULL               NULL               \n",
       "4 NULL                NULL               NULL               \n",
       "5 NULL                NULL               NULL               \n",
       "6 NULL                NULL               NULL               \n",
       "  save_success_timing save_failure_type save_failure_message abort_type\n",
       "1 NULL                NULL              NULL                 nochange  \n",
       "2 NULL                NULL              NULL                 nochange  \n",
       "3 NULL                NULL              NULL                 nochange  \n",
       "4 NULL                NULL              NULL                 nochange  \n",
       "5 NULL                NULL              NULL                 preinit   \n",
       "6 NULL                NULL              NULL                 nochange  \n",
       "  abort_mechanism abort_timing editor_interface platform page_id  page_ns\n",
       "1 cancel          2683         wikitext-2017    desktop     34015 3      \n",
       "2 cancel          33352        wikitext-2017    desktop     69093 4      \n",
       "3 cancel          6432         visualeditor     desktop  11105803 3      \n",
       "4 cancel          4760         wikitext-2017    desktop   7549798 4      \n",
       "5 NULL            44           visualeditor     desktop    403844 4      \n",
       "6 navigate        14997        wikitext-2017    desktop    635987 3      \n",
       "  page_title                               \n",
       "1 Brukerdiskusjon:Jon_Harald_Søby          \n",
       "2 Wikipédia:Botgazdák_üzenőfala            \n",
       "3 Benutzer_Diskussion:Julius2803           \n",
       "4 Wikipedia:修订版本删除请求/存档/2021年7月\n",
       "5 ويكيبيديا:طلبات_صلاحيات                  \n",
       "6 Keskustelu_käyttäjästä:137.163.31.188    "
      ]
     },
     "metadata": {},
     "output_type": "display_data"
    }
   ],
   "source": [
    "# Abort Events\n",
    "abort_dt_events <- all_dt_events %>%\n",
    "    filter(action == 'abort')\n",
    "\n",
    "head(abort_dt_events)"
   ]
  },
  {
   "cell_type": "markdown",
   "metadata": {},
   "source": [
    "Missing Fields:\n",
    "- init_timing is NUll for init events. Check if this is True for non dt events.\n",
    "- Ready_timing is filled.\n",
    "- Loaded_timing is filled.\n",
    "- FirstChange timing is filled.\n",
    "- SaveIntent timing is filled.\n",
    "- SaveAttempt timing is filled.\n",
    "- SaveSuccess timing is filled.\n",
    "- SaveFailurType and SaveFailure Message recorded for savefailure events\n",
    "- All Abort events fileed: abort_type, abort_mechanism, abort_timing\n",
    "\n"
   ]
  },
  {
   "cell_type": "code",
   "execution_count": null,
   "metadata": {},
   "outputs": [],
   "source": [
    "## Check if init_timing is missing for non-DT events as well"
   ]
  },
  {
   "cell_type": "code",
   "execution_count": 67,
   "metadata": {},
   "outputs": [],
   "source": [
    "# collect day of all init related events \n",
    "query <-\n",
    "\"\n",
    "SELECT \n",
    "  event.integration,\n",
    "  event.init_type,\n",
    "  event.init_mechanism,\n",
    "  event.init_timing,\n",
    " event.editor_interface,\n",
    "    event.platform\n",
    "FROM event.editattemptstep\n",
    "WHERE\n",
    "   year = 2021\n",
    "  AND dt >= '2021-09-01'\n",
    " AND event.action = 'init'\n",
    "\""
   ]
  },
  {
   "cell_type": "code",
   "execution_count": 68,
   "metadata": {},
   "outputs": [
    {
     "name": "stderr",
     "output_type": "stream",
     "text": [
      "Don't forget to authenticate with Kerberos using kinit\n",
      "\n"
     ]
    }
   ],
   "source": [
    "all_init_events <- wmfdata::query_hive(query)"
   ]
  },
  {
   "cell_type": "code",
   "execution_count": 69,
   "metadata": {},
   "outputs": [
    {
     "data": {
      "text/html": [
       "<table>\n",
       "<caption>A data.frame: 5485148 × 6</caption>\n",
       "<thead>\n",
       "\t<tr><th scope=col>integration</th><th scope=col>init_type</th><th scope=col>init_mechanism</th><th scope=col>init_timing</th><th scope=col>editor_interface</th><th scope=col>platform</th></tr>\n",
       "\t<tr><th scope=col>&lt;chr&gt;</th><th scope=col>&lt;chr&gt;</th><th scope=col>&lt;chr&gt;</th><th scope=col>&lt;chr&gt;</th><th scope=col>&lt;chr&gt;</th><th scope=col>&lt;chr&gt;</th></tr>\n",
       "</thead>\n",
       "<tbody>\n",
       "\t<tr><td>page</td><td>section</td><td>click  </td><td>NULL</td><td>wikitext    </td><td>phone  </td></tr>\n",
       "\t<tr><td>page</td><td>section</td><td>click  </td><td>NULL</td><td>visualeditor</td><td>phone  </td></tr>\n",
       "\t<tr><td>page</td><td>section</td><td>url    </td><td>NULL</td><td>wikitext    </td><td>desktop</td></tr>\n",
       "\t<tr><td>page</td><td>page   </td><td>click  </td><td>NULL</td><td>wikitext    </td><td>desktop</td></tr>\n",
       "\t<tr><td>page</td><td>section</td><td>click  </td><td>NULL</td><td>visualeditor</td><td>phone  </td></tr>\n",
       "\t<tr><td>page</td><td>section</td><td>click  </td><td>NULL</td><td>wikitext    </td><td>phone  </td></tr>\n",
       "\t<tr><td>page</td><td>section</td><td>click  </td><td>NULL</td><td>wikitext    </td><td>phone  </td></tr>\n",
       "\t<tr><td>page</td><td>page   </td><td>click  </td><td>NULL</td><td>wikitext    </td><td>desktop</td></tr>\n",
       "\t<tr><td>page</td><td>page   </td><td>click  </td><td>NULL</td><td>wikitext    </td><td>desktop</td></tr>\n",
       "\t<tr><td>page</td><td>section</td><td>click  </td><td>NULL</td><td>visualeditor</td><td>phone  </td></tr>\n",
       "\t<tr><td>page</td><td>page   </td><td>click  </td><td>NULL</td><td>wikitext    </td><td>desktop</td></tr>\n",
       "\t<tr><td>page</td><td>section</td><td>url    </td><td>NULL</td><td>wikitext    </td><td>desktop</td></tr>\n",
       "\t<tr><td>page</td><td>section</td><td>click  </td><td>NULL</td><td>visualeditor</td><td>phone  </td></tr>\n",
       "\t<tr><td>page</td><td>section</td><td>click  </td><td>NULL</td><td>visualeditor</td><td>phone  </td></tr>\n",
       "\t<tr><td>page</td><td>page   </td><td>url-new</td><td>NULL</td><td>visualeditor</td><td>desktop</td></tr>\n",
       "\t<tr><td>page</td><td>section</td><td>click  </td><td>NULL</td><td>wikitext    </td><td>desktop</td></tr>\n",
       "\t<tr><td>page</td><td>section</td><td>click  </td><td>NULL</td><td>visualeditor</td><td>phone  </td></tr>\n",
       "\t<tr><td>page</td><td>page   </td><td>click  </td><td>NULL</td><td>wikitext    </td><td>desktop</td></tr>\n",
       "\t<tr><td>page</td><td>section</td><td>click  </td><td>NULL</td><td>wikitext    </td><td>phone  </td></tr>\n",
       "\t<tr><td>page</td><td>section</td><td>click  </td><td>NULL</td><td>wikitext    </td><td>phone  </td></tr>\n",
       "\t<tr><td>page</td><td>page   </td><td>new    </td><td>NULL</td><td>wikitext    </td><td>desktop</td></tr>\n",
       "\t<tr><td>page</td><td>section</td><td>click  </td><td>NULL</td><td>wikitext    </td><td>phone  </td></tr>\n",
       "\t<tr><td>page</td><td>section</td><td>click  </td><td>NULL</td><td>wikitext    </td><td>phone  </td></tr>\n",
       "\t<tr><td>page</td><td>section</td><td>click  </td><td>NULL</td><td>wikitext    </td><td>phone  </td></tr>\n",
       "\t<tr><td>page</td><td>section</td><td>url    </td><td>NULL</td><td>wikitext    </td><td>desktop</td></tr>\n",
       "\t<tr><td>page</td><td>page   </td><td>url-new</td><td>NULL</td><td>wikitext    </td><td>desktop</td></tr>\n",
       "\t<tr><td>page</td><td>section</td><td>click  </td><td>NULL</td><td>wikitext    </td><td>desktop</td></tr>\n",
       "\t<tr><td>page</td><td>section</td><td>click  </td><td>NULL</td><td>wikitext    </td><td>phone  </td></tr>\n",
       "\t<tr><td>page</td><td>page   </td><td>click  </td><td>NULL</td><td>visualeditor</td><td>desktop</td></tr>\n",
       "\t<tr><td>page</td><td>page   </td><td>click  </td><td>NULL</td><td>wikitext    </td><td>desktop</td></tr>\n",
       "\t<tr><td>⋮</td><td>⋮</td><td>⋮</td><td>⋮</td><td>⋮</td><td>⋮</td></tr>\n",
       "\t<tr><td>page</td><td>section</td><td>click  </td><td>NULL</td><td>wikitext    </td><td>phone  </td></tr>\n",
       "\t<tr><td>page</td><td>section</td><td>click  </td><td>NULL</td><td>wikitext    </td><td>phone  </td></tr>\n",
       "\t<tr><td>page</td><td>page   </td><td>url    </td><td>NULL</td><td>wikitext    </td><td>desktop</td></tr>\n",
       "\t<tr><td>page</td><td>section</td><td>click  </td><td>NULL</td><td>visualeditor</td><td>phone  </td></tr>\n",
       "\t<tr><td>page</td><td>section</td><td>new    </td><td>NULL</td><td>wikitext    </td><td>phone  </td></tr>\n",
       "\t<tr><td>page</td><td>page   </td><td>url-new</td><td>NULL</td><td>visualeditor</td><td>desktop</td></tr>\n",
       "\t<tr><td>page</td><td>page   </td><td>url-new</td><td>NULL</td><td>wikitext    </td><td>desktop</td></tr>\n",
       "\t<tr><td>page</td><td>page   </td><td>url    </td><td>NULL</td><td>wikitext    </td><td>desktop</td></tr>\n",
       "\t<tr><td>page</td><td>page   </td><td>new    </td><td>NULL</td><td>wikitext    </td><td>desktop</td></tr>\n",
       "\t<tr><td>page</td><td>page   </td><td>url-new</td><td>NULL</td><td>visualeditor</td><td>desktop</td></tr>\n",
       "\t<tr><td>page</td><td>page   </td><td>url-new</td><td>NULL</td><td>wikitext    </td><td>desktop</td></tr>\n",
       "\t<tr><td>page</td><td>section</td><td>click  </td><td>NULL</td><td>wikitext    </td><td>desktop</td></tr>\n",
       "\t<tr><td>page</td><td>page   </td><td>click  </td><td>NULL</td><td>wikitext    </td><td>desktop</td></tr>\n",
       "\t<tr><td>page</td><td>section</td><td>click  </td><td>NULL</td><td>visualeditor</td><td>phone  </td></tr>\n",
       "\t<tr><td>page</td><td>page   </td><td>click  </td><td>NULL</td><td>wikitext    </td><td>desktop</td></tr>\n",
       "\t<tr><td>page</td><td>section</td><td>click  </td><td>NULL</td><td>wikitext    </td><td>phone  </td></tr>\n",
       "\t<tr><td>page</td><td>section</td><td>click  </td><td>NULL</td><td>wikitext    </td><td>phone  </td></tr>\n",
       "\t<tr><td>page</td><td>page   </td><td>url    </td><td>NULL</td><td>wikitext    </td><td>desktop</td></tr>\n",
       "\t<tr><td>page</td><td>section</td><td>url-new</td><td>NULL</td><td>wikitext    </td><td>desktop</td></tr>\n",
       "\t<tr><td>page</td><td>section</td><td>click  </td><td>NULL</td><td>visualeditor</td><td>phone  </td></tr>\n",
       "\t<tr><td>page</td><td>section</td><td>url    </td><td>NULL</td><td>wikitext    </td><td>desktop</td></tr>\n",
       "\t<tr><td>page</td><td>section</td><td>click  </td><td>NULL</td><td>wikitext    </td><td>desktop</td></tr>\n",
       "\t<tr><td>page</td><td>page   </td><td>url-new</td><td>NULL</td><td>wikitext    </td><td>desktop</td></tr>\n",
       "\t<tr><td>page</td><td>section</td><td>new    </td><td>NULL</td><td>visualeditor</td><td>phone  </td></tr>\n",
       "\t<tr><td>page</td><td>page   </td><td>url-new</td><td>NULL</td><td>wikitext    </td><td>desktop</td></tr>\n",
       "\t<tr><td>page</td><td>page   </td><td>url-new</td><td>NULL</td><td>wikitext    </td><td>desktop</td></tr>\n",
       "\t<tr><td>page</td><td>section</td><td>click  </td><td>NULL</td><td>wikitext    </td><td>phone  </td></tr>\n",
       "\t<tr><td>page</td><td>page   </td><td>url-new</td><td>NULL</td><td>visualeditor</td><td>desktop</td></tr>\n",
       "\t<tr><td>page</td><td>section</td><td>click  </td><td>NULL</td><td>wikitext    </td><td>phone  </td></tr>\n",
       "\t<tr><td>page</td><td>section</td><td>click  </td><td>NULL</td><td>wikitext    </td><td>phone  </td></tr>\n",
       "</tbody>\n",
       "</table>\n"
      ],
      "text/latex": [
       "A data.frame: 5485148 × 6\n",
       "\\begin{tabular}{llllll}\n",
       " integration & init\\_type & init\\_mechanism & init\\_timing & editor\\_interface & platform\\\\\n",
       " <chr> & <chr> & <chr> & <chr> & <chr> & <chr>\\\\\n",
       "\\hline\n",
       "\t page & section & click   & NULL & wikitext     & phone  \\\\\n",
       "\t page & section & click   & NULL & visualeditor & phone  \\\\\n",
       "\t page & section & url     & NULL & wikitext     & desktop\\\\\n",
       "\t page & page    & click   & NULL & wikitext     & desktop\\\\\n",
       "\t page & section & click   & NULL & visualeditor & phone  \\\\\n",
       "\t page & section & click   & NULL & wikitext     & phone  \\\\\n",
       "\t page & section & click   & NULL & wikitext     & phone  \\\\\n",
       "\t page & page    & click   & NULL & wikitext     & desktop\\\\\n",
       "\t page & page    & click   & NULL & wikitext     & desktop\\\\\n",
       "\t page & section & click   & NULL & visualeditor & phone  \\\\\n",
       "\t page & page    & click   & NULL & wikitext     & desktop\\\\\n",
       "\t page & section & url     & NULL & wikitext     & desktop\\\\\n",
       "\t page & section & click   & NULL & visualeditor & phone  \\\\\n",
       "\t page & section & click   & NULL & visualeditor & phone  \\\\\n",
       "\t page & page    & url-new & NULL & visualeditor & desktop\\\\\n",
       "\t page & section & click   & NULL & wikitext     & desktop\\\\\n",
       "\t page & section & click   & NULL & visualeditor & phone  \\\\\n",
       "\t page & page    & click   & NULL & wikitext     & desktop\\\\\n",
       "\t page & section & click   & NULL & wikitext     & phone  \\\\\n",
       "\t page & section & click   & NULL & wikitext     & phone  \\\\\n",
       "\t page & page    & new     & NULL & wikitext     & desktop\\\\\n",
       "\t page & section & click   & NULL & wikitext     & phone  \\\\\n",
       "\t page & section & click   & NULL & wikitext     & phone  \\\\\n",
       "\t page & section & click   & NULL & wikitext     & phone  \\\\\n",
       "\t page & section & url     & NULL & wikitext     & desktop\\\\\n",
       "\t page & page    & url-new & NULL & wikitext     & desktop\\\\\n",
       "\t page & section & click   & NULL & wikitext     & desktop\\\\\n",
       "\t page & section & click   & NULL & wikitext     & phone  \\\\\n",
       "\t page & page    & click   & NULL & visualeditor & desktop\\\\\n",
       "\t page & page    & click   & NULL & wikitext     & desktop\\\\\n",
       "\t ⋮ & ⋮ & ⋮ & ⋮ & ⋮ & ⋮\\\\\n",
       "\t page & section & click   & NULL & wikitext     & phone  \\\\\n",
       "\t page & section & click   & NULL & wikitext     & phone  \\\\\n",
       "\t page & page    & url     & NULL & wikitext     & desktop\\\\\n",
       "\t page & section & click   & NULL & visualeditor & phone  \\\\\n",
       "\t page & section & new     & NULL & wikitext     & phone  \\\\\n",
       "\t page & page    & url-new & NULL & visualeditor & desktop\\\\\n",
       "\t page & page    & url-new & NULL & wikitext     & desktop\\\\\n",
       "\t page & page    & url     & NULL & wikitext     & desktop\\\\\n",
       "\t page & page    & new     & NULL & wikitext     & desktop\\\\\n",
       "\t page & page    & url-new & NULL & visualeditor & desktop\\\\\n",
       "\t page & page    & url-new & NULL & wikitext     & desktop\\\\\n",
       "\t page & section & click   & NULL & wikitext     & desktop\\\\\n",
       "\t page & page    & click   & NULL & wikitext     & desktop\\\\\n",
       "\t page & section & click   & NULL & visualeditor & phone  \\\\\n",
       "\t page & page    & click   & NULL & wikitext     & desktop\\\\\n",
       "\t page & section & click   & NULL & wikitext     & phone  \\\\\n",
       "\t page & section & click   & NULL & wikitext     & phone  \\\\\n",
       "\t page & page    & url     & NULL & wikitext     & desktop\\\\\n",
       "\t page & section & url-new & NULL & wikitext     & desktop\\\\\n",
       "\t page & section & click   & NULL & visualeditor & phone  \\\\\n",
       "\t page & section & url     & NULL & wikitext     & desktop\\\\\n",
       "\t page & section & click   & NULL & wikitext     & desktop\\\\\n",
       "\t page & page    & url-new & NULL & wikitext     & desktop\\\\\n",
       "\t page & section & new     & NULL & visualeditor & phone  \\\\\n",
       "\t page & page    & url-new & NULL & wikitext     & desktop\\\\\n",
       "\t page & page    & url-new & NULL & wikitext     & desktop\\\\\n",
       "\t page & section & click   & NULL & wikitext     & phone  \\\\\n",
       "\t page & page    & url-new & NULL & visualeditor & desktop\\\\\n",
       "\t page & section & click   & NULL & wikitext     & phone  \\\\\n",
       "\t page & section & click   & NULL & wikitext     & phone  \\\\\n",
       "\\end{tabular}\n"
      ],
      "text/markdown": [
       "\n",
       "A data.frame: 5485148 × 6\n",
       "\n",
       "| integration &lt;chr&gt; | init_type &lt;chr&gt; | init_mechanism &lt;chr&gt; | init_timing &lt;chr&gt; | editor_interface &lt;chr&gt; | platform &lt;chr&gt; |\n",
       "|---|---|---|---|---|---|\n",
       "| page | section | click   | NULL | wikitext     | phone   |\n",
       "| page | section | click   | NULL | visualeditor | phone   |\n",
       "| page | section | url     | NULL | wikitext     | desktop |\n",
       "| page | page    | click   | NULL | wikitext     | desktop |\n",
       "| page | section | click   | NULL | visualeditor | phone   |\n",
       "| page | section | click   | NULL | wikitext     | phone   |\n",
       "| page | section | click   | NULL | wikitext     | phone   |\n",
       "| page | page    | click   | NULL | wikitext     | desktop |\n",
       "| page | page    | click   | NULL | wikitext     | desktop |\n",
       "| page | section | click   | NULL | visualeditor | phone   |\n",
       "| page | page    | click   | NULL | wikitext     | desktop |\n",
       "| page | section | url     | NULL | wikitext     | desktop |\n",
       "| page | section | click   | NULL | visualeditor | phone   |\n",
       "| page | section | click   | NULL | visualeditor | phone   |\n",
       "| page | page    | url-new | NULL | visualeditor | desktop |\n",
       "| page | section | click   | NULL | wikitext     | desktop |\n",
       "| page | section | click   | NULL | visualeditor | phone   |\n",
       "| page | page    | click   | NULL | wikitext     | desktop |\n",
       "| page | section | click   | NULL | wikitext     | phone   |\n",
       "| page | section | click   | NULL | wikitext     | phone   |\n",
       "| page | page    | new     | NULL | wikitext     | desktop |\n",
       "| page | section | click   | NULL | wikitext     | phone   |\n",
       "| page | section | click   | NULL | wikitext     | phone   |\n",
       "| page | section | click   | NULL | wikitext     | phone   |\n",
       "| page | section | url     | NULL | wikitext     | desktop |\n",
       "| page | page    | url-new | NULL | wikitext     | desktop |\n",
       "| page | section | click   | NULL | wikitext     | desktop |\n",
       "| page | section | click   | NULL | wikitext     | phone   |\n",
       "| page | page    | click   | NULL | visualeditor | desktop |\n",
       "| page | page    | click   | NULL | wikitext     | desktop |\n",
       "| ⋮ | ⋮ | ⋮ | ⋮ | ⋮ | ⋮ |\n",
       "| page | section | click   | NULL | wikitext     | phone   |\n",
       "| page | section | click   | NULL | wikitext     | phone   |\n",
       "| page | page    | url     | NULL | wikitext     | desktop |\n",
       "| page | section | click   | NULL | visualeditor | phone   |\n",
       "| page | section | new     | NULL | wikitext     | phone   |\n",
       "| page | page    | url-new | NULL | visualeditor | desktop |\n",
       "| page | page    | url-new | NULL | wikitext     | desktop |\n",
       "| page | page    | url     | NULL | wikitext     | desktop |\n",
       "| page | page    | new     | NULL | wikitext     | desktop |\n",
       "| page | page    | url-new | NULL | visualeditor | desktop |\n",
       "| page | page    | url-new | NULL | wikitext     | desktop |\n",
       "| page | section | click   | NULL | wikitext     | desktop |\n",
       "| page | page    | click   | NULL | wikitext     | desktop |\n",
       "| page | section | click   | NULL | visualeditor | phone   |\n",
       "| page | page    | click   | NULL | wikitext     | desktop |\n",
       "| page | section | click   | NULL | wikitext     | phone   |\n",
       "| page | section | click   | NULL | wikitext     | phone   |\n",
       "| page | page    | url     | NULL | wikitext     | desktop |\n",
       "| page | section | url-new | NULL | wikitext     | desktop |\n",
       "| page | section | click   | NULL | visualeditor | phone   |\n",
       "| page | section | url     | NULL | wikitext     | desktop |\n",
       "| page | section | click   | NULL | wikitext     | desktop |\n",
       "| page | page    | url-new | NULL | wikitext     | desktop |\n",
       "| page | section | new     | NULL | visualeditor | phone   |\n",
       "| page | page    | url-new | NULL | wikitext     | desktop |\n",
       "| page | page    | url-new | NULL | wikitext     | desktop |\n",
       "| page | section | click   | NULL | wikitext     | phone   |\n",
       "| page | page    | url-new | NULL | visualeditor | desktop |\n",
       "| page | section | click   | NULL | wikitext     | phone   |\n",
       "| page | section | click   | NULL | wikitext     | phone   |\n",
       "\n"
      ],
      "text/plain": [
       "        integration init_type init_mechanism init_timing editor_interface\n",
       "1       page        section   click          NULL        wikitext        \n",
       "2       page        section   click          NULL        visualeditor    \n",
       "3       page        section   url            NULL        wikitext        \n",
       "4       page        page      click          NULL        wikitext        \n",
       "5       page        section   click          NULL        visualeditor    \n",
       "6       page        section   click          NULL        wikitext        \n",
       "7       page        section   click          NULL        wikitext        \n",
       "8       page        page      click          NULL        wikitext        \n",
       "9       page        page      click          NULL        wikitext        \n",
       "10      page        section   click          NULL        visualeditor    \n",
       "11      page        page      click          NULL        wikitext        \n",
       "12      page        section   url            NULL        wikitext        \n",
       "13      page        section   click          NULL        visualeditor    \n",
       "14      page        section   click          NULL        visualeditor    \n",
       "15      page        page      url-new        NULL        visualeditor    \n",
       "16      page        section   click          NULL        wikitext        \n",
       "17      page        section   click          NULL        visualeditor    \n",
       "18      page        page      click          NULL        wikitext        \n",
       "19      page        section   click          NULL        wikitext        \n",
       "20      page        section   click          NULL        wikitext        \n",
       "21      page        page      new            NULL        wikitext        \n",
       "22      page        section   click          NULL        wikitext        \n",
       "23      page        section   click          NULL        wikitext        \n",
       "24      page        section   click          NULL        wikitext        \n",
       "25      page        section   url            NULL        wikitext        \n",
       "26      page        page      url-new        NULL        wikitext        \n",
       "27      page        section   click          NULL        wikitext        \n",
       "28      page        section   click          NULL        wikitext        \n",
       "29      page        page      click          NULL        visualeditor    \n",
       "30      page        page      click          NULL        wikitext        \n",
       "⋮       ⋮           ⋮         ⋮              ⋮           ⋮               \n",
       "5485119 page        section   click          NULL        wikitext        \n",
       "5485120 page        section   click          NULL        wikitext        \n",
       "5485121 page        page      url            NULL        wikitext        \n",
       "5485122 page        section   click          NULL        visualeditor    \n",
       "5485123 page        section   new            NULL        wikitext        \n",
       "5485124 page        page      url-new        NULL        visualeditor    \n",
       "5485125 page        page      url-new        NULL        wikitext        \n",
       "5485126 page        page      url            NULL        wikitext        \n",
       "5485127 page        page      new            NULL        wikitext        \n",
       "5485128 page        page      url-new        NULL        visualeditor    \n",
       "5485129 page        page      url-new        NULL        wikitext        \n",
       "5485130 page        section   click          NULL        wikitext        \n",
       "5485131 page        page      click          NULL        wikitext        \n",
       "5485132 page        section   click          NULL        visualeditor    \n",
       "5485133 page        page      click          NULL        wikitext        \n",
       "5485134 page        section   click          NULL        wikitext        \n",
       "5485135 page        section   click          NULL        wikitext        \n",
       "5485136 page        page      url            NULL        wikitext        \n",
       "5485137 page        section   url-new        NULL        wikitext        \n",
       "5485138 page        section   click          NULL        visualeditor    \n",
       "5485139 page        section   url            NULL        wikitext        \n",
       "5485140 page        section   click          NULL        wikitext        \n",
       "5485141 page        page      url-new        NULL        wikitext        \n",
       "5485142 page        section   new            NULL        visualeditor    \n",
       "5485143 page        page      url-new        NULL        wikitext        \n",
       "5485144 page        page      url-new        NULL        wikitext        \n",
       "5485145 page        section   click          NULL        wikitext        \n",
       "5485146 page        page      url-new        NULL        visualeditor    \n",
       "5485147 page        section   click          NULL        wikitext        \n",
       "5485148 page        section   click          NULL        wikitext        \n",
       "        platform\n",
       "1       phone   \n",
       "2       phone   \n",
       "3       desktop \n",
       "4       desktop \n",
       "5       phone   \n",
       "6       phone   \n",
       "7       phone   \n",
       "8       desktop \n",
       "9       desktop \n",
       "10      phone   \n",
       "11      desktop \n",
       "12      desktop \n",
       "13      phone   \n",
       "14      phone   \n",
       "15      desktop \n",
       "16      desktop \n",
       "17      phone   \n",
       "18      desktop \n",
       "19      phone   \n",
       "20      phone   \n",
       "21      desktop \n",
       "22      phone   \n",
       "23      phone   \n",
       "24      phone   \n",
       "25      desktop \n",
       "26      desktop \n",
       "27      desktop \n",
       "28      phone   \n",
       "29      desktop \n",
       "30      desktop \n",
       "⋮       ⋮       \n",
       "5485119 phone   \n",
       "5485120 phone   \n",
       "5485121 desktop \n",
       "5485122 phone   \n",
       "5485123 phone   \n",
       "5485124 desktop \n",
       "5485125 desktop \n",
       "5485126 desktop \n",
       "5485127 desktop \n",
       "5485128 desktop \n",
       "5485129 desktop \n",
       "5485130 desktop \n",
       "5485131 desktop \n",
       "5485132 phone   \n",
       "5485133 desktop \n",
       "5485134 phone   \n",
       "5485135 phone   \n",
       "5485136 desktop \n",
       "5485137 desktop \n",
       "5485138 phone   \n",
       "5485139 desktop \n",
       "5485140 desktop \n",
       "5485141 desktop \n",
       "5485142 phone   \n",
       "5485143 desktop \n",
       "5485144 desktop \n",
       "5485145 phone   \n",
       "5485146 desktop \n",
       "5485147 phone   \n",
       "5485148 phone   "
      ]
     },
     "metadata": {},
     "output_type": "display_data"
    }
   ],
   "source": [
    "all_init_events"
   ]
  },
  {
   "cell_type": "markdown",
   "metadata": {},
   "source": [
    "Init_timing is currently NULL for all events."
   ]
  },
  {
   "cell_type": "code",
   "execution_count": null,
   "metadata": {},
   "outputs": [],
   "source": []
  }
 ],
 "metadata": {
  "kernelspec": {
   "display_name": "R",
   "language": "R",
   "name": "ir"
  },
  "language_info": {
   "codemirror_mode": "r",
   "file_extension": ".r",
   "mimetype": "text/x-r-source",
   "name": "R",
   "pygments_lexer": "r",
   "version": "3.5.2"
  }
 },
 "nbformat": 4,
 "nbformat_minor": 4
}
