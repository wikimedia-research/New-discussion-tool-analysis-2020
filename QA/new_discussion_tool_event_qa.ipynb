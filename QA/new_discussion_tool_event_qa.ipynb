{
 "cells": [
  {
   "cell_type": "markdown",
   "metadata": {},
   "source": [
    "# New Discussion Tool Instrumentation QA"
   ]
  },
  {
   "cell_type": "markdown",
   "metadata": {},
   "source": [
    "1. [Differentiate between events emitted from the Reply Tool and the New Discussion Tool](#Differentiate-between-events-emitted-from-the-Reply-Tool-and-the-New-Discussion-Tool)\n",
    "2. [Differentiate between edits to existing sections and the creation of new sections](#Differentiate-between-edits-to-existing-sections-and-the-creation-of-new-sections)"
   ]
  },
  {
   "cell_type": "markdown",
   "metadata": {},
   "source": [
    "## Differentiate between events emitted from the Reply Tool and the New Discussion Tool\n",
    "\n",
    "[Task](https://phabricator.wikimedia.org/T265099)"
   ]
  },
  {
   "cell_type": "markdown",
   "metadata": {},
   "source": [
    "The EditAttemptStep schema's existing init_type field will be used to differentiate between events emitted from the Reply Tool and the New Discussion Tool.\n",
    "\n",
    "Events from the Reply Tool and New Discussion Tool should be logged as follows:\n",
    "\n",
    "* Reply Tool events: event.action = 'init', event.integration = 'discussiontools', event.init_type = 'page'\n",
    "* New Discussion Tool events: event.action = 'init', event.integration = 'discussiontools', event.init_type = 'section'\n",
    "\n",
    "The change to the the `init_type` field was made on 12 January 2021."
   ]
  },
  {
   "cell_type": "code",
   "execution_count": 9,
   "metadata": {},
   "outputs": [],
   "source": [
    "shhh <- function(expr) suppressPackageStartupMessages(suppressWarnings(suppressMessages(expr)))\n",
    "shhh({\n",
    "    library(magrittr); library(zeallot); library(glue); library(tidyverse); library(zoo); library(lubridate)\n",
    "    library(scales)\n",
    "})"
   ]
  },
  {
   "cell_type": "code",
   "execution_count": 87,
   "metadata": {},
   "outputs": [],
   "source": [
    "# Collect init events by discussion tool type\n",
    "query <-\n",
    "\"\n",
    "SELECT \n",
    "  CONCAT(year, '-', LPAD(month, 2, '0'), '-', LPAD(day, 2, '0')) as date,\n",
    "  wiki AS wiki,\n",
    "  event.editing_session_id AS session_id,\n",
    "  event.platform as platform,\n",
    "  event.editor_interface as interface,\n",
    "  event.init_mechanism as init_mechanism,\n",
    "  IF(event.init_type = 'section', 'new discussion tool', 'reply tool') as dt_type,\n",
    "  COUNT(*) as n_events\n",
    "FROM event.editattemptstep\n",
    "WHERE\n",
    "  event.action = 'init'\n",
    "  AND event.integration = 'discussiontools'\n",
    "  AND year = 2021\n",
    "  AND dt >= '2021-01-01'\n",
    "GROUP BY\n",
    "  CONCAT(year, '-', LPAD(month, 2, '0'), '-', LPAD(day, 2, '0')),\n",
    "  wiki, \n",
    "  event.editing_session_id,\n",
    "  event.init_mechanism,\n",
    "  event.platform,\n",
    "  event.editor_interface,\n",
    "  IF(event.init_type = 'section', 'new discussion tool', 'reply tool') \n",
    "\""
   ]
  },
  {
   "cell_type": "code",
   "execution_count": 88,
   "metadata": {},
   "outputs": [
    {
     "name": "stderr",
     "output_type": "stream",
     "text": [
      "Don't forget to authenticate with Kerberos using kinit\n",
      "\n"
     ]
    }
   ],
   "source": [
    "collect_init_events <- wmfdata::query_hive(query)"
   ]
  },
  {
   "cell_type": "markdown",
   "metadata": {},
   "source": [
    "## Reply Tool vs New Discussion Tool Events by Date "
   ]
  },
  {
   "cell_type": "code",
   "execution_count": 89,
   "metadata": {},
   "outputs": [
    {
     "name": "stderr",
     "output_type": "stream",
     "text": [
      "`summarise()` regrouping output by 'date' (override with `.groups` argument)\n",
      "\n"
     ]
    },
    {
     "data": {
      "text/html": [
       "<table>\n",
       "<caption>A grouped_df: 34 × 3</caption>\n",
       "<thead>\n",
       "\t<tr><th scope=col>date</th><th scope=col>dt_type</th><th scope=col>total_events</th></tr>\n",
       "\t<tr><th scope=col>&lt;chr&gt;</th><th scope=col>&lt;chr&gt;</th><th scope=col>&lt;int&gt;</th></tr>\n",
       "</thead>\n",
       "<tbody>\n",
       "\t<tr><td>2021-01-01</td><td>reply tool         </td><td> 80</td></tr>\n",
       "\t<tr><td>2021-01-02</td><td>reply tool         </td><td> 83</td></tr>\n",
       "\t<tr><td>2021-01-03</td><td>reply tool         </td><td> 91</td></tr>\n",
       "\t<tr><td>2021-01-04</td><td>reply tool         </td><td> 78</td></tr>\n",
       "\t<tr><td>2021-01-05</td><td>reply tool         </td><td> 89</td></tr>\n",
       "\t<tr><td>2021-01-06</td><td>reply tool         </td><td> 76</td></tr>\n",
       "\t<tr><td>2021-01-07</td><td>reply tool         </td><td> 68</td></tr>\n",
       "\t<tr><td>2021-01-08</td><td>reply tool         </td><td> 64</td></tr>\n",
       "\t<tr><td>2021-01-09</td><td>reply tool         </td><td> 59</td></tr>\n",
       "\t<tr><td>2021-01-10</td><td>reply tool         </td><td> 79</td></tr>\n",
       "\t<tr><td>2021-01-11</td><td>reply tool         </td><td> 58</td></tr>\n",
       "\t<tr><td>2021-01-12</td><td>reply tool         </td><td> 79</td></tr>\n",
       "\t<tr><td>2021-01-13</td><td>reply tool         </td><td> 53</td></tr>\n",
       "\t<tr><td>2021-01-14</td><td>reply tool         </td><td> 66</td></tr>\n",
       "\t<tr><td>2021-01-15</td><td>reply tool         </td><td> 87</td></tr>\n",
       "\t<tr><td>2021-01-16</td><td>reply tool         </td><td> 87</td></tr>\n",
       "\t<tr><td>2021-01-17</td><td>reply tool         </td><td> 83</td></tr>\n",
       "\t<tr><td>2021-01-18</td><td>reply tool         </td><td> 57</td></tr>\n",
       "\t<tr><td>2021-01-19</td><td>reply tool         </td><td> 93</td></tr>\n",
       "\t<tr><td>2021-01-20</td><td>reply tool         </td><td> 67</td></tr>\n",
       "\t<tr><td>2021-01-21</td><td>new discussion tool</td><td>  1</td></tr>\n",
       "\t<tr><td>2021-01-21</td><td>reply tool         </td><td> 77</td></tr>\n",
       "\t<tr><td>2021-01-22</td><td>new discussion tool</td><td>  5</td></tr>\n",
       "\t<tr><td>2021-01-22</td><td>reply tool         </td><td> 80</td></tr>\n",
       "\t<tr><td>2021-01-23</td><td>new discussion tool</td><td> 10</td></tr>\n",
       "\t<tr><td>2021-01-23</td><td>reply tool         </td><td> 70</td></tr>\n",
       "\t<tr><td>2021-01-24</td><td>new discussion tool</td><td>  2</td></tr>\n",
       "\t<tr><td>2021-01-24</td><td>reply tool         </td><td> 74</td></tr>\n",
       "\t<tr><td>2021-01-25</td><td>new discussion tool</td><td>  1</td></tr>\n",
       "\t<tr><td>2021-01-25</td><td>reply tool         </td><td> 71</td></tr>\n",
       "\t<tr><td>2021-01-26</td><td>new discussion tool</td><td>  1</td></tr>\n",
       "\t<tr><td>2021-01-26</td><td>reply tool         </td><td>104</td></tr>\n",
       "\t<tr><td>2021-01-27</td><td>new discussion tool</td><td>  4</td></tr>\n",
       "\t<tr><td>2021-01-27</td><td>reply tool         </td><td> 81</td></tr>\n",
       "</tbody>\n",
       "</table>\n"
      ],
      "text/latex": [
       "A grouped\\_df: 34 × 3\n",
       "\\begin{tabular}{lll}\n",
       " date & dt\\_type & total\\_events\\\\\n",
       " <chr> & <chr> & <int>\\\\\n",
       "\\hline\n",
       "\t 2021-01-01 & reply tool          &  80\\\\\n",
       "\t 2021-01-02 & reply tool          &  83\\\\\n",
       "\t 2021-01-03 & reply tool          &  91\\\\\n",
       "\t 2021-01-04 & reply tool          &  78\\\\\n",
       "\t 2021-01-05 & reply tool          &  89\\\\\n",
       "\t 2021-01-06 & reply tool          &  76\\\\\n",
       "\t 2021-01-07 & reply tool          &  68\\\\\n",
       "\t 2021-01-08 & reply tool          &  64\\\\\n",
       "\t 2021-01-09 & reply tool          &  59\\\\\n",
       "\t 2021-01-10 & reply tool          &  79\\\\\n",
       "\t 2021-01-11 & reply tool          &  58\\\\\n",
       "\t 2021-01-12 & reply tool          &  79\\\\\n",
       "\t 2021-01-13 & reply tool          &  53\\\\\n",
       "\t 2021-01-14 & reply tool          &  66\\\\\n",
       "\t 2021-01-15 & reply tool          &  87\\\\\n",
       "\t 2021-01-16 & reply tool          &  87\\\\\n",
       "\t 2021-01-17 & reply tool          &  83\\\\\n",
       "\t 2021-01-18 & reply tool          &  57\\\\\n",
       "\t 2021-01-19 & reply tool          &  93\\\\\n",
       "\t 2021-01-20 & reply tool          &  67\\\\\n",
       "\t 2021-01-21 & new discussion tool &   1\\\\\n",
       "\t 2021-01-21 & reply tool          &  77\\\\\n",
       "\t 2021-01-22 & new discussion tool &   5\\\\\n",
       "\t 2021-01-22 & reply tool          &  80\\\\\n",
       "\t 2021-01-23 & new discussion tool &  10\\\\\n",
       "\t 2021-01-23 & reply tool          &  70\\\\\n",
       "\t 2021-01-24 & new discussion tool &   2\\\\\n",
       "\t 2021-01-24 & reply tool          &  74\\\\\n",
       "\t 2021-01-25 & new discussion tool &   1\\\\\n",
       "\t 2021-01-25 & reply tool          &  71\\\\\n",
       "\t 2021-01-26 & new discussion tool &   1\\\\\n",
       "\t 2021-01-26 & reply tool          & 104\\\\\n",
       "\t 2021-01-27 & new discussion tool &   4\\\\\n",
       "\t 2021-01-27 & reply tool          &  81\\\\\n",
       "\\end{tabular}\n"
      ],
      "text/markdown": [
       "\n",
       "A grouped_df: 34 × 3\n",
       "\n",
       "| date &lt;chr&gt; | dt_type &lt;chr&gt; | total_events &lt;int&gt; |\n",
       "|---|---|---|\n",
       "| 2021-01-01 | reply tool          |  80 |\n",
       "| 2021-01-02 | reply tool          |  83 |\n",
       "| 2021-01-03 | reply tool          |  91 |\n",
       "| 2021-01-04 | reply tool          |  78 |\n",
       "| 2021-01-05 | reply tool          |  89 |\n",
       "| 2021-01-06 | reply tool          |  76 |\n",
       "| 2021-01-07 | reply tool          |  68 |\n",
       "| 2021-01-08 | reply tool          |  64 |\n",
       "| 2021-01-09 | reply tool          |  59 |\n",
       "| 2021-01-10 | reply tool          |  79 |\n",
       "| 2021-01-11 | reply tool          |  58 |\n",
       "| 2021-01-12 | reply tool          |  79 |\n",
       "| 2021-01-13 | reply tool          |  53 |\n",
       "| 2021-01-14 | reply tool          |  66 |\n",
       "| 2021-01-15 | reply tool          |  87 |\n",
       "| 2021-01-16 | reply tool          |  87 |\n",
       "| 2021-01-17 | reply tool          |  83 |\n",
       "| 2021-01-18 | reply tool          |  57 |\n",
       "| 2021-01-19 | reply tool          |  93 |\n",
       "| 2021-01-20 | reply tool          |  67 |\n",
       "| 2021-01-21 | new discussion tool |   1 |\n",
       "| 2021-01-21 | reply tool          |  77 |\n",
       "| 2021-01-22 | new discussion tool |   5 |\n",
       "| 2021-01-22 | reply tool          |  80 |\n",
       "| 2021-01-23 | new discussion tool |  10 |\n",
       "| 2021-01-23 | reply tool          |  70 |\n",
       "| 2021-01-24 | new discussion tool |   2 |\n",
       "| 2021-01-24 | reply tool          |  74 |\n",
       "| 2021-01-25 | new discussion tool |   1 |\n",
       "| 2021-01-25 | reply tool          |  71 |\n",
       "| 2021-01-26 | new discussion tool |   1 |\n",
       "| 2021-01-26 | reply tool          | 104 |\n",
       "| 2021-01-27 | new discussion tool |   4 |\n",
       "| 2021-01-27 | reply tool          |  81 |\n",
       "\n"
      ],
      "text/plain": [
       "   date       dt_type             total_events\n",
       "1  2021-01-01 reply tool           80         \n",
       "2  2021-01-02 reply tool           83         \n",
       "3  2021-01-03 reply tool           91         \n",
       "4  2021-01-04 reply tool           78         \n",
       "5  2021-01-05 reply tool           89         \n",
       "6  2021-01-06 reply tool           76         \n",
       "7  2021-01-07 reply tool           68         \n",
       "8  2021-01-08 reply tool           64         \n",
       "9  2021-01-09 reply tool           59         \n",
       "10 2021-01-10 reply tool           79         \n",
       "11 2021-01-11 reply tool           58         \n",
       "12 2021-01-12 reply tool           79         \n",
       "13 2021-01-13 reply tool           53         \n",
       "14 2021-01-14 reply tool           66         \n",
       "15 2021-01-15 reply tool           87         \n",
       "16 2021-01-16 reply tool           87         \n",
       "17 2021-01-17 reply tool           83         \n",
       "18 2021-01-18 reply tool           57         \n",
       "19 2021-01-19 reply tool           93         \n",
       "20 2021-01-20 reply tool           67         \n",
       "21 2021-01-21 new discussion tool   1         \n",
       "22 2021-01-21 reply tool           77         \n",
       "23 2021-01-22 new discussion tool   5         \n",
       "24 2021-01-22 reply tool           80         \n",
       "25 2021-01-23 new discussion tool  10         \n",
       "26 2021-01-23 reply tool           70         \n",
       "27 2021-01-24 new discussion tool   2         \n",
       "28 2021-01-24 reply tool           74         \n",
       "29 2021-01-25 new discussion tool   1         \n",
       "30 2021-01-25 reply tool           71         \n",
       "31 2021-01-26 new discussion tool   1         \n",
       "32 2021-01-26 reply tool          104         \n",
       "33 2021-01-27 new discussion tool   4         \n",
       "34 2021-01-27 reply tool           81         "
      ]
     },
     "metadata": {},
     "output_type": "display_data"
    }
   ],
   "source": [
    "dt_events_bytype <- collect_init_events %>%\n",
    "    group_by(date, dt_type) %>%\n",
    "    summarise(total_events = sum(n_events))\n",
    "\n",
    "dt_events_bytype"
   ]
  },
  {
   "cell_type": "markdown",
   "metadata": {},
   "source": [
    "Both reply and new discussion tool events are being logged and it possible to differentiate based on the `init_type`. There are fewer `init_type = section` events as these are associated with the new discussion tool, which has not been deployed as long as the reply tool events. \n",
    "\n",
    "A total of 24 new discussion tool events have been logged since 21 January 2021 as expected.\n"
   ]
  },
  {
   "cell_type": "markdown",
   "metadata": {},
   "source": [
    "## Reply Tool vs New Discussion Tool Events by Platform and Editor Interface"
   ]
  },
  {
   "cell_type": "code",
   "execution_count": 90,
   "metadata": {},
   "outputs": [
    {
     "name": "stderr",
     "output_type": "stream",
     "text": [
      "`summarise()` regrouping output by 'dt_type', 'platform' (override with `.groups` argument)\n",
      "\n"
     ]
    },
    {
     "data": {
      "text/html": [
       "<table>\n",
       "<caption>A grouped_df: 4 × 4</caption>\n",
       "<thead>\n",
       "\t<tr><th scope=col>dt_type</th><th scope=col>platform</th><th scope=col>interface</th><th scope=col>total_events</th></tr>\n",
       "\t<tr><th scope=col>&lt;chr&gt;</th><th scope=col>&lt;chr&gt;</th><th scope=col>&lt;chr&gt;</th><th scope=col>&lt;int&gt;</th></tr>\n",
       "</thead>\n",
       "<tbody>\n",
       "\t<tr><td>new discussion tool</td><td>desktop</td><td>visualeditor</td><td>   8</td></tr>\n",
       "\t<tr><td>new discussion tool</td><td>desktop</td><td>wikitext    </td><td>  16</td></tr>\n",
       "\t<tr><td>reply tool         </td><td>desktop</td><td>visualeditor</td><td> 827</td></tr>\n",
       "\t<tr><td>reply tool         </td><td>desktop</td><td>wikitext    </td><td>1227</td></tr>\n",
       "</tbody>\n",
       "</table>\n"
      ],
      "text/latex": [
       "A grouped\\_df: 4 × 4\n",
       "\\begin{tabular}{llll}\n",
       " dt\\_type & platform & interface & total\\_events\\\\\n",
       " <chr> & <chr> & <chr> & <int>\\\\\n",
       "\\hline\n",
       "\t new discussion tool & desktop & visualeditor &    8\\\\\n",
       "\t new discussion tool & desktop & wikitext     &   16\\\\\n",
       "\t reply tool          & desktop & visualeditor &  827\\\\\n",
       "\t reply tool          & desktop & wikitext     & 1227\\\\\n",
       "\\end{tabular}\n"
      ],
      "text/markdown": [
       "\n",
       "A grouped_df: 4 × 4\n",
       "\n",
       "| dt_type &lt;chr&gt; | platform &lt;chr&gt; | interface &lt;chr&gt; | total_events &lt;int&gt; |\n",
       "|---|---|---|---|\n",
       "| new discussion tool | desktop | visualeditor |    8 |\n",
       "| new discussion tool | desktop | wikitext     |   16 |\n",
       "| reply tool          | desktop | visualeditor |  827 |\n",
       "| reply tool          | desktop | wikitext     | 1227 |\n",
       "\n"
      ],
      "text/plain": [
       "  dt_type             platform interface    total_events\n",
       "1 new discussion tool desktop  visualeditor    8        \n",
       "2 new discussion tool desktop  wikitext       16        \n",
       "3 reply tool          desktop  visualeditor  827        \n",
       "4 reply tool          desktop  wikitext     1227        "
      ]
     },
     "metadata": {},
     "output_type": "display_data"
    }
   ],
   "source": [
    "dt_events_byplatform <- collect_init_events %>%\n",
    "    group_by(dt_type, platform, interface) %>%\n",
    "    summarise(total_events = sum(n_events))\n",
    "\n",
    "dt_events_byplatform"
   ]
  },
  {
   "cell_type": "markdown",
   "metadata": {},
   "source": [
    "Events are recorded for both visualeditor and wikitext and only on platform as expected."
   ]
  },
  {
   "cell_type": "markdown",
   "metadata": {},
   "source": [
    "##  New Discussion Tool Events and Unique Sessions by Wiki"
   ]
  },
  {
   "cell_type": "code",
   "execution_count": 91,
   "metadata": {},
   "outputs": [
    {
     "name": "stderr",
     "output_type": "stream",
     "text": [
      "`summarise()` regrouping output by 'dt_type' (override with `.groups` argument)\n",
      "\n"
     ]
    },
    {
     "data": {
      "text/html": [
       "<table>\n",
       "<caption>A grouped_df: 3 × 4</caption>\n",
       "<thead>\n",
       "\t<tr><th scope=col>dt_type</th><th scope=col>wiki</th><th scope=col>total_events</th><th scope=col>distinct_sessions</th></tr>\n",
       "\t<tr><th scope=col>&lt;chr&gt;</th><th scope=col>&lt;chr&gt;</th><th scope=col>&lt;int&gt;</th><th scope=col>&lt;int&gt;</th></tr>\n",
       "</thead>\n",
       "<tbody>\n",
       "\t<tr><td>new discussion tool</td><td>cswiki    </td><td> 7</td><td> 7</td></tr>\n",
       "\t<tr><td>new discussion tool</td><td>cswikinews</td><td> 1</td><td> 1</td></tr>\n",
       "\t<tr><td>new discussion tool</td><td>enwiki    </td><td>16</td><td>16</td></tr>\n",
       "</tbody>\n",
       "</table>\n"
      ],
      "text/latex": [
       "A grouped\\_df: 3 × 4\n",
       "\\begin{tabular}{llll}\n",
       " dt\\_type & wiki & total\\_events & distinct\\_sessions\\\\\n",
       " <chr> & <chr> & <int> & <int>\\\\\n",
       "\\hline\n",
       "\t new discussion tool & cswiki     &  7 &  7\\\\\n",
       "\t new discussion tool & cswikinews &  1 &  1\\\\\n",
       "\t new discussion tool & enwiki     & 16 & 16\\\\\n",
       "\\end{tabular}\n"
      ],
      "text/markdown": [
       "\n",
       "A grouped_df: 3 × 4\n",
       "\n",
       "| dt_type &lt;chr&gt; | wiki &lt;chr&gt; | total_events &lt;int&gt; | distinct_sessions &lt;int&gt; |\n",
       "|---|---|---|---|\n",
       "| new discussion tool | cswiki     |  7 |  7 |\n",
       "| new discussion tool | cswikinews |  1 |  1 |\n",
       "| new discussion tool | enwiki     | 16 | 16 |\n",
       "\n"
      ],
      "text/plain": [
       "  dt_type             wiki       total_events distinct_sessions\n",
       "1 new discussion tool cswiki      7            7               \n",
       "2 new discussion tool cswikinews  1            1               \n",
       "3 new discussion tool enwiki     16           16               "
      ]
     },
     "metadata": {},
     "output_type": "display_data"
    }
   ],
   "source": [
    "dt_events_bywiki <- collect_init_events %>%\n",
    "    filter(dt_type == \"new discussion tool\") %>%\n",
    "    group_by(dt_type, wiki) %>%\n",
    "    summarise(total_events = sum(n_events),\n",
    "             distinct_sessions = n_distinct(session_id))\n",
    "\n",
    "dt_events_bywiki"
   ]
  },
  {
   "cell_type": "code",
   "execution_count": null,
   "metadata": {},
   "outputs": [],
   "source": [
    "New discussion tool events have been recorded on enwiki, cswikinews, and cswiki."
   ]
  },
  {
   "cell_type": "markdown",
   "metadata": {},
   "source": [
    "## Reply Tool vs New Discussion Tool Events by Init Mechanism"
   ]
  },
  {
   "cell_type": "code",
   "execution_count": 54,
   "metadata": {},
   "outputs": [
    {
     "name": "stderr",
     "output_type": "stream",
     "text": [
      "`summarise()` regrouping output by 'dt_type' (override with `.groups` argument)\n",
      "\n"
     ]
    },
    {
     "data": {
      "text/html": [
       "<table>\n",
       "<caption>A grouped_df: 2 × 3</caption>\n",
       "<thead>\n",
       "\t<tr><th scope=col>dt_type</th><th scope=col>init_mechanism</th><th scope=col>total_events</th></tr>\n",
       "\t<tr><th scope=col>&lt;chr&gt;</th><th scope=col>&lt;chr&gt;</th><th scope=col>&lt;int&gt;</th></tr>\n",
       "</thead>\n",
       "<tbody>\n",
       "\t<tr><td>new discussion tool</td><td>click</td><td>  24</td></tr>\n",
       "\t<tr><td>reply tool         </td><td>click</td><td>2048</td></tr>\n",
       "</tbody>\n",
       "</table>\n"
      ],
      "text/latex": [
       "A grouped\\_df: 2 × 3\n",
       "\\begin{tabular}{lll}\n",
       " dt\\_type & init\\_mechanism & total\\_events\\\\\n",
       " <chr> & <chr> & <int>\\\\\n",
       "\\hline\n",
       "\t new discussion tool & click &   24\\\\\n",
       "\t reply tool          & click & 2048\\\\\n",
       "\\end{tabular}\n"
      ],
      "text/markdown": [
       "\n",
       "A grouped_df: 2 × 3\n",
       "\n",
       "| dt_type &lt;chr&gt; | init_mechanism &lt;chr&gt; | total_events &lt;int&gt; |\n",
       "|---|---|---|\n",
       "| new discussion tool | click |   24 |\n",
       "| reply tool          | click | 2048 |\n",
       "\n"
      ],
      "text/plain": [
       "  dt_type             init_mechanism total_events\n",
       "1 new discussion tool click            24        \n",
       "2 reply tool          click          2048        "
      ]
     },
     "metadata": {},
     "output_type": "display_data"
    }
   ],
   "source": [
    "dt_events_bymechanism <- collect_init_events %>%\n",
    "    group_by(dt_type, init_mechanism) %>%\n",
    "    summarise(total_events = sum(n_events))\n",
    "\n",
    "dt_events_bymechanism "
   ]
  },
  {
   "cell_type": "markdown",
   "metadata": {},
   "source": [
    "Both the new discussion tool and reply tool events to date have been recorded as click events; however, `Init_mechanism` is not not needed to distinguish these two event types so this is fine. Changes will be needed to track new section events using the existing workflow, which will be done as part of [T272544](https://phabricator.wikimedia.org/T272544)"
   ]
  },
  {
   "cell_type": "markdown",
   "metadata": {},
   "source": [
    "## Reply Tool vs New Discussion Tool Edit Completion Rate\n",
    "\n",
    "Check to make sure it will be possible to calculate edit completion rate for each tool type, which is one of the key metrics for this tool."
   ]
  },
  {
   "cell_type": "code",
   "execution_count": 71,
   "metadata": {},
   "outputs": [],
   "source": [
    "query <- \n",
    "\"WITH init_sessions AS (\n",
    "--first find all dt and reply tool events based on init type\n",
    "SELECT \n",
    "  event.editing_session_id AS session_id,\n",
    "  IF(event.init_type = 'section', 'new discussion tool', 'reply tool') as dt_type,\n",
    "  wiki AS wiki\n",
    "FROM event.editattemptstep\n",
    "WHERE\n",
    "  year = 2021 \n",
    "  AND dt >= '2021-01-12'  -- when instrumetation was deployed\n",
    "  AND event.action = 'init'\n",
    "  AND event.integration= 'discussiontools'\n",
    ")\n",
    "\n",
    "-- Find associated savesuccess events\n",
    "SELECT\n",
    "  eas.event.user_editcount AS edit_count,\n",
    "  eas.event.user_id AS user,\n",
    "  init_sessions.dt_type as dt_type,\n",
    "  eas.event.editing_session_id AS session_id,\n",
    "  eas.wiki AS wiki,\n",
    "  COUNT(*) AS save_events\n",
    "FROM event.editattemptstep eas\n",
    "INNER JOIN\n",
    "    init_sessions \n",
    "    ON eas.event.editing_session_id = init_sessions.session_id \n",
    "    AND eas.wiki = init_sessions.wiki\n",
    "WHERE\n",
    "  year = 2021 \n",
    "-- events since deployment date\n",
    "  AND dt >= '2021-01-12'\n",
    "  AND eas.event.action = 'saveSuccess'\n",
    "  AND eas.event.integration= 'discussiontools'\n",
    "-- remove anonymous users\n",
    "  AND eas.event.user_id != 0\n",
    "GROUP BY \n",
    "  eas.event.user_id,\n",
    "  init_sessions.dt_type,\n",
    "  eas.event.user_editcount,\n",
    "  eas.event.editing_session_id,\n",
    "  eas.wiki\n",
    "\""
   ]
  },
  {
   "cell_type": "code",
   "execution_count": 72,
   "metadata": {},
   "outputs": [
    {
     "name": "stderr",
     "output_type": "stream",
     "text": [
      "Don't forget to authenticate with Kerberos using kinit\n",
      "\n"
     ]
    }
   ],
   "source": [
    "collect_savesuccess_events <- wmfdata::query_hive(query)"
   ]
  },
  {
   "cell_type": "code",
   "execution_count": 99,
   "metadata": {},
   "outputs": [
    {
     "name": "stderr",
     "output_type": "stream",
     "text": [
      "`summarise()` ungrouping output (override with `.groups` argument)\n",
      "\n"
     ]
    },
    {
     "data": {
      "text/html": [
       "<table>\n",
       "<caption>A tibble: 2 × 3</caption>\n",
       "<thead>\n",
       "\t<tr><th scope=col>dt_type</th><th scope=col>num_save_sessions</th><th scope=col>num_save_events</th></tr>\n",
       "\t<tr><th scope=col>&lt;chr&gt;</th><th scope=col>&lt;int&gt;</th><th scope=col>&lt;int&gt;</th></tr>\n",
       "</thead>\n",
       "<tbody>\n",
       "\t<tr><td>new discussion tool</td><td>  6</td><td>  6</td></tr>\n",
       "\t<tr><td>reply tool         </td><td>856</td><td>856</td></tr>\n",
       "</tbody>\n",
       "</table>\n"
      ],
      "text/latex": [
       "A tibble: 2 × 3\n",
       "\\begin{tabular}{lll}\n",
       " dt\\_type & num\\_save\\_sessions & num\\_save\\_events\\\\\n",
       " <chr> & <int> & <int>\\\\\n",
       "\\hline\n",
       "\t new discussion tool &   6 &   6\\\\\n",
       "\t reply tool          & 856 & 856\\\\\n",
       "\\end{tabular}\n"
      ],
      "text/markdown": [
       "\n",
       "A tibble: 2 × 3\n",
       "\n",
       "| dt_type &lt;chr&gt; | num_save_sessions &lt;int&gt; | num_save_events &lt;int&gt; |\n",
       "|---|---|---|\n",
       "| new discussion tool |   6 |   6 |\n",
       "| reply tool          | 856 | 856 |\n",
       "\n"
      ],
      "text/plain": [
       "  dt_type             num_save_sessions num_save_events\n",
       "1 new discussion tool   6                 6            \n",
       "2 reply tool          856               856            "
      ]
     },
     "metadata": {},
     "output_type": "display_data"
    }
   ],
   "source": [
    "dt_save_events_bytype <- collect_savesuccess_events %>%\n",
    "    group_by ( dt_type)  %>%\n",
    "    summarize (num_save_sessions = n_distinct(session_id),\n",
    "              num_save_events = sum(save_events))\n",
    "\n",
    "dt_save_events_bytype"
   ]
  },
  {
   "cell_type": "code",
   "execution_count": 100,
   "metadata": {},
   "outputs": [
    {
     "name": "stderr",
     "output_type": "stream",
     "text": [
      "`summarise()` regrouping output by 'wiki' (override with `.groups` argument)\n",
      "\n"
     ]
    },
    {
     "data": {
      "text/html": [
       "<table>\n",
       "<caption>A grouped_df: 2 × 3</caption>\n",
       "<thead>\n",
       "\t<tr><th scope=col>wiki</th><th scope=col>dt_type</th><th scope=col>num_save_sessions</th></tr>\n",
       "\t<tr><th scope=col>&lt;chr&gt;</th><th scope=col>&lt;chr&gt;</th><th scope=col>&lt;int&gt;</th></tr>\n",
       "</thead>\n",
       "<tbody>\n",
       "\t<tr><td>cswiki</td><td>new discussion tool</td><td>1</td></tr>\n",
       "\t<tr><td>enwiki</td><td>new discussion tool</td><td>5</td></tr>\n",
       "</tbody>\n",
       "</table>\n"
      ],
      "text/latex": [
       "A grouped\\_df: 2 × 3\n",
       "\\begin{tabular}{lll}\n",
       " wiki & dt\\_type & num\\_save\\_sessions\\\\\n",
       " <chr> & <chr> & <int>\\\\\n",
       "\\hline\n",
       "\t cswiki & new discussion tool & 1\\\\\n",
       "\t enwiki & new discussion tool & 5\\\\\n",
       "\\end{tabular}\n"
      ],
      "text/markdown": [
       "\n",
       "A grouped_df: 2 × 3\n",
       "\n",
       "| wiki &lt;chr&gt; | dt_type &lt;chr&gt; | num_save_sessions &lt;int&gt; |\n",
       "|---|---|---|\n",
       "| cswiki | new discussion tool | 1 |\n",
       "| enwiki | new discussion tool | 5 |\n",
       "\n"
      ],
      "text/plain": [
       "  wiki   dt_type             num_save_sessions\n",
       "1 cswiki new discussion tool 1                \n",
       "2 enwiki new discussion tool 5                "
      ]
     },
     "metadata": {},
     "output_type": "display_data"
    }
   ],
   "source": [
    "new_dt_save_events_bywiki <- collect_savesuccess_events %>%\n",
    "    filter(dt_type == 'new discussion tool') %>%\n",
    "    group_by (wiki, dt_type)  %>%\n",
    "    summarize (num_save_sessions = n_distinct(session_id))\n",
    "\n",
    "new_dt_save_events_bywiki"
   ]
  },
  {
   "cell_type": "markdown",
   "metadata": {},
   "source": [
    "A total of 6 new discussion tool sessions met `saveSuccess`. These are the same wikis where new discussion init events were also logged.\n"
   ]
  },
  {
   "cell_type": "markdown",
   "metadata": {},
   "source": [
    "# Differentiate between edits to existing sections and the creation of new sections\n",
    "\n",
    "[Task](https://phabricator.wikimedia.org/T272544)"
   ]
  },
  {
   "cell_type": "markdown",
   "metadata": {},
   "source": [
    "## Background\n",
    "\n",
    "New events were added to EditAttemptStep to enable the software to distinguish edits to existing sections from edits associated with the creation of new sections.\n",
    "\n",
    "Notes re instrumentation:\n",
    "- This is explicitly a change to the existing logging in VisualEditor / WikiEditor to get the semantics of init_mechanism tweaked so that (a) they're consistent, and (b) you can always tell whether there's a new section being created.\n",
    "- No impact or change to DiscussionTools instrumentation, unless and until we implement a takeover for the section=new URL.\n",
    "- These patches add a new possible value for `init_mechanism: 'url-new'`. It will be logged when direct navigation occurs to a URL that triggers an editor for either a new page or a new section.\n",
    "- The VE patch also makes its use of `init_mechanism=new` consistent with WikiEditor/the-schema-docs. It was previously not using new when you clicked the \"Create\" tab after navigating to a non-existent page. (You could still distinguish this case by looking for page_id=0.)\n",
    "\n",
    "\n",
    "\n"
   ]
  },
  {
   "cell_type": "code",
   "execution_count": 5,
   "metadata": {},
   "outputs": [],
   "source": [
    "# Collect all init events by date since deployment\n",
    "query <-\n",
    "\"\n",
    "SELECT \n",
    "  CONCAT(year, '-', LPAD(month, 2, '0'), '-', LPAD(day, 2, '0')) as edit_dt,\n",
    "  wiki AS wiki,\n",
    "  event.editing_session_id AS session_id,\n",
    "  event.editor_interface as interface,\n",
    "  event.init_mechanism as init_mechanism,\n",
    "  event.init_type as init_type,\n",
    "  event.integration as integration,\n",
    "  COUNT(*) as n_events\n",
    "FROM event.editattemptstep\n",
    "WHERE\n",
    "  event.action = 'init'\n",
    "  AND year = 2021\n",
    "-- review events following deployment\n",
    "  AND dt >= '2021-02-15'\n",
    "  AND event.platform = 'desktop'\n",
    "GROUP BY\n",
    "  CONCAT(year, '-', LPAD(month, 2, '0'), '-', LPAD(day, 2, '0')),\n",
    "  wiki, \n",
    "  event.editing_session_id,\n",
    "  event.init_mechanism,\n",
    "  event.editor_interface,\n",
    "  event.init_mechanism,\n",
    "  event.init_type,\n",
    "  event.integration\n",
    "\""
   ]
  },
  {
   "cell_type": "code",
   "execution_count": 6,
   "metadata": {},
   "outputs": [
    {
     "name": "stderr",
     "output_type": "stream",
     "text": [
      "Don't forget to authenticate with Kerberos using kinit\n",
      "\n"
     ]
    }
   ],
   "source": [
    "collect_init_events_all <- wmfdata::query_hive(query)"
   ]
  },
  {
   "cell_type": "markdown",
   "metadata": {},
   "source": [
    "## Init Events by Init Mechanism and Type\n"
   ]
  },
  {
   "cell_type": "code",
   "execution_count": 11,
   "metadata": {},
   "outputs": [
    {
     "name": "stderr",
     "output_type": "stream",
     "text": [
      "`summarise()` regrouping output by 'init_mechanism' (override with `.groups` argument)\n",
      "\n"
     ]
    },
    {
     "data": {
      "text/html": [
       "<table>\n",
       "<caption>A grouped_df: 8 × 3</caption>\n",
       "<thead>\n",
       "\t<tr><th scope=col>init_mechanism</th><th scope=col>init_type</th><th scope=col>n_events</th></tr>\n",
       "\t<tr><th scope=col>&lt;chr&gt;</th><th scope=col>&lt;chr&gt;</th><th scope=col>&lt;int&gt;</th></tr>\n",
       "</thead>\n",
       "<tbody>\n",
       "\t<tr><td>click  </td><td>page   </td><td>244735</td></tr>\n",
       "\t<tr><td>click  </td><td>section</td><td>181952</td></tr>\n",
       "\t<tr><td>new    </td><td>page   </td><td>156614</td></tr>\n",
       "\t<tr><td>new    </td><td>section</td><td>  7989</td></tr>\n",
       "\t<tr><td>url    </td><td>page   </td><td>112989</td></tr>\n",
       "\t<tr><td>url    </td><td>section</td><td>165317</td></tr>\n",
       "\t<tr><td>url-new</td><td>page   </td><td>223159</td></tr>\n",
       "\t<tr><td>url-new</td><td>section</td><td>  2285</td></tr>\n",
       "</tbody>\n",
       "</table>\n"
      ],
      "text/latex": [
       "A grouped\\_df: 8 × 3\n",
       "\\begin{tabular}{lll}\n",
       " init\\_mechanism & init\\_type & n\\_events\\\\\n",
       " <chr> & <chr> & <int>\\\\\n",
       "\\hline\n",
       "\t click   & page    & 244735\\\\\n",
       "\t click   & section & 181952\\\\\n",
       "\t new     & page    & 156614\\\\\n",
       "\t new     & section &   7989\\\\\n",
       "\t url     & page    & 112989\\\\\n",
       "\t url     & section & 165317\\\\\n",
       "\t url-new & page    & 223159\\\\\n",
       "\t url-new & section &   2285\\\\\n",
       "\\end{tabular}\n"
      ],
      "text/markdown": [
       "\n",
       "A grouped_df: 8 × 3\n",
       "\n",
       "| init_mechanism &lt;chr&gt; | init_type &lt;chr&gt; | n_events &lt;int&gt; |\n",
       "|---|---|---|\n",
       "| click   | page    | 244735 |\n",
       "| click   | section | 181952 |\n",
       "| new     | page    | 156614 |\n",
       "| new     | section |   7989 |\n",
       "| url     | page    | 112989 |\n",
       "| url     | section | 165317 |\n",
       "| url-new | page    | 223159 |\n",
       "| url-new | section |   2285 |\n",
       "\n"
      ],
      "text/plain": [
       "  init_mechanism init_type n_events\n",
       "1 click          page      244735  \n",
       "2 click          section   181952  \n",
       "3 new            page      156614  \n",
       "4 new            section     7989  \n",
       "5 url            page      112989  \n",
       "6 url            section   165317  \n",
       "7 url-new        page      223159  \n",
       "8 url-new        section     2285  "
      ]
     },
     "metadata": {},
     "output_type": "display_data"
    }
   ],
   "source": [
    "init_events_bymechanism <- collect_init_events_all %>%\n",
    "    group_by(init_mechanism, init_type) %>%\n",
    "    summarise(n_events = sum(n_events))\n",
    "\n",
    "init_events_bymechanism"
   ]
  },
  {
   "cell_type": "markdown",
   "metadata": {},
   "source": [
    "We are logging both `init_mechanism = 'url-new'` and `init_mechanism = 'url` events for page and section init_types. This will allow us to now distinguish between new and existing section or page edits that occur from direct naviagation to a URL from existing logging in VisualEditor/WikiEditor. \n",
    "\n",
    "The number of logged events for each init_mechanism type seem reasonable given the liklihood of occurrence. The majority of new section edits (78%) are created by clicking on a link to a page vs direct naviagation to a URL that triggers an editor for a new section. The majority of edits from direct navigation to a url (98.9%) are to `init_type = page` events.\n"
   ]
  },
  {
   "cell_type": "markdown",
   "metadata": {},
   "source": [
    "## Init Events By Integration Type"
   ]
  },
  {
   "cell_type": "code",
   "execution_count": 12,
   "metadata": {},
   "outputs": [
    {
     "name": "stderr",
     "output_type": "stream",
     "text": [
      "`summarise()` regrouping output by 'init_mechanism', 'init_type' (override with `.groups` argument)\n",
      "\n"
     ]
    },
    {
     "data": {
      "text/html": [
       "<table>\n",
       "<caption>A grouped_df: 10 × 4</caption>\n",
       "<thead>\n",
       "\t<tr><th scope=col>init_mechanism</th><th scope=col>init_type</th><th scope=col>integration</th><th scope=col>n_events</th></tr>\n",
       "\t<tr><th scope=col>&lt;chr&gt;</th><th scope=col>&lt;chr&gt;</th><th scope=col>&lt;chr&gt;</th><th scope=col>&lt;int&gt;</th></tr>\n",
       "</thead>\n",
       "<tbody>\n",
       "\t<tr><td>click  </td><td>page   </td><td>discussiontools</td><td>  9418</td></tr>\n",
       "\t<tr><td>click  </td><td>page   </td><td>page           </td><td>235317</td></tr>\n",
       "\t<tr><td>click  </td><td>section</td><td>discussiontools</td><td>   459</td></tr>\n",
       "\t<tr><td>click  </td><td>section</td><td>page           </td><td>181493</td></tr>\n",
       "\t<tr><td>new    </td><td>page   </td><td>page           </td><td>156614</td></tr>\n",
       "\t<tr><td>new    </td><td>section</td><td>page           </td><td>  7989</td></tr>\n",
       "\t<tr><td>url    </td><td>page   </td><td>page           </td><td>112989</td></tr>\n",
       "\t<tr><td>url    </td><td>section</td><td>page           </td><td>165317</td></tr>\n",
       "\t<tr><td>url-new</td><td>page   </td><td>page           </td><td>223159</td></tr>\n",
       "\t<tr><td>url-new</td><td>section</td><td>page           </td><td>  2285</td></tr>\n",
       "</tbody>\n",
       "</table>\n"
      ],
      "text/latex": [
       "A grouped\\_df: 10 × 4\n",
       "\\begin{tabular}{llll}\n",
       " init\\_mechanism & init\\_type & integration & n\\_events\\\\\n",
       " <chr> & <chr> & <chr> & <int>\\\\\n",
       "\\hline\n",
       "\t click   & page    & discussiontools &   9418\\\\\n",
       "\t click   & page    & page            & 235317\\\\\n",
       "\t click   & section & discussiontools &    459\\\\\n",
       "\t click   & section & page            & 181493\\\\\n",
       "\t new     & page    & page            & 156614\\\\\n",
       "\t new     & section & page            &   7989\\\\\n",
       "\t url     & page    & page            & 112989\\\\\n",
       "\t url     & section & page            & 165317\\\\\n",
       "\t url-new & page    & page            & 223159\\\\\n",
       "\t url-new & section & page            &   2285\\\\\n",
       "\\end{tabular}\n"
      ],
      "text/markdown": [
       "\n",
       "A grouped_df: 10 × 4\n",
       "\n",
       "| init_mechanism &lt;chr&gt; | init_type &lt;chr&gt; | integration &lt;chr&gt; | n_events &lt;int&gt; |\n",
       "|---|---|---|---|\n",
       "| click   | page    | discussiontools |   9418 |\n",
       "| click   | page    | page            | 235317 |\n",
       "| click   | section | discussiontools |    459 |\n",
       "| click   | section | page            | 181493 |\n",
       "| new     | page    | page            | 156614 |\n",
       "| new     | section | page            |   7989 |\n",
       "| url     | page    | page            | 112989 |\n",
       "| url     | section | page            | 165317 |\n",
       "| url-new | page    | page            | 223159 |\n",
       "| url-new | section | page            |   2285 |\n",
       "\n"
      ],
      "text/plain": [
       "   init_mechanism init_type integration     n_events\n",
       "1  click          page      discussiontools   9418  \n",
       "2  click          page      page            235317  \n",
       "3  click          section   discussiontools    459  \n",
       "4  click          section   page            181493  \n",
       "5  new            page      page            156614  \n",
       "6  new            section   page              7989  \n",
       "7  url            page      page            112989  \n",
       "8  url            section   page            165317  \n",
       "9  url-new        page      page            223159  \n",
       "10 url-new        section   page              2285  "
      ]
     },
     "metadata": {},
     "output_type": "display_data"
    }
   ],
   "source": [
    "init_events_byintegration <- collect_init_events_all %>%\n",
    "    group_by(init_mechanism, init_type, integration) %>%\n",
    "    summarise(n_events = sum(n_events))\n",
    "\n",
    "init_events_byintegration"
   ]
  },
  {
   "cell_type": "markdown",
   "metadata": {},
   "source": [
    "Discussion tool events (as indicated by `event.integration = 'discussiontools`) are only recorded for `init_mechnaism = click` events (No `event.mechanism = new` events were recorded for these events). THis is expected as per DLynch's comment, the changes were not implemented for DiscussionTools. We can still distinguish new vs existing events for discussion tools based on current instrumentation. See https://phabricator.wikimedia.org/T265099 for details. \n",
    "\n",
    "Non-Discussion tool events (as indicated by `event.integration = 'page`) are recorded for all expected init_mechamism types (click, new, url, and url-new) for both page and section types."
   ]
  },
  {
   "cell_type": "markdown",
   "metadata": {},
   "source": [
    "## Init Events By Editor Interface"
   ]
  },
  {
   "cell_type": "code",
   "execution_count": 13,
   "metadata": {},
   "outputs": [
    {
     "name": "stderr",
     "output_type": "stream",
     "text": [
      "`summarise()` regrouping output by 'init_mechanism', 'init_type' (override with `.groups` argument)\n",
      "\n"
     ]
    },
    {
     "data": {
      "text/html": [
       "<table>\n",
       "<caption>A grouped_df: 23 × 4</caption>\n",
       "<thead>\n",
       "\t<tr><th scope=col>init_mechanism</th><th scope=col>init_type</th><th scope=col>interface</th><th scope=col>n_events</th></tr>\n",
       "\t<tr><th scope=col>&lt;chr&gt;</th><th scope=col>&lt;chr&gt;</th><th scope=col>&lt;chr&gt;</th><th scope=col>&lt;int&gt;</th></tr>\n",
       "</thead>\n",
       "<tbody>\n",
       "\t<tr><td>click  </td><td>page   </td><td>visualeditor </td><td> 37021</td></tr>\n",
       "\t<tr><td>click  </td><td>page   </td><td>wikitext     </td><td>204263</td></tr>\n",
       "\t<tr><td>click  </td><td>page   </td><td>wikitext-2017</td><td>  3451</td></tr>\n",
       "\t<tr><td>click  </td><td>section</td><td>visualeditor </td><td> 20846</td></tr>\n",
       "\t<tr><td>click  </td><td>section</td><td>wikitext     </td><td>159063</td></tr>\n",
       "\t<tr><td>click  </td><td>section</td><td>wikitext-2017</td><td>  2043</td></tr>\n",
       "\t<tr><td>new    </td><td>page   </td><td>visualeditor </td><td>  3393</td></tr>\n",
       "\t<tr><td>new    </td><td>page   </td><td>wikitext     </td><td>153200</td></tr>\n",
       "\t<tr><td>new    </td><td>page   </td><td>wikitext-2017</td><td>    21</td></tr>\n",
       "\t<tr><td>new    </td><td>section</td><td>wikitext     </td><td>  7987</td></tr>\n",
       "\t<tr><td>new    </td><td>section</td><td>wikitext-2017</td><td>     2</td></tr>\n",
       "\t<tr><td>url    </td><td>page   </td><td>visualeditor </td><td> 37233</td></tr>\n",
       "\t<tr><td>url    </td><td>page   </td><td>wikitext     </td><td> 74549</td></tr>\n",
       "\t<tr><td>url    </td><td>page   </td><td>wikitext-2017</td><td>  1207</td></tr>\n",
       "\t<tr><td>url    </td><td>section</td><td>visualeditor </td><td>  3733</td></tr>\n",
       "\t<tr><td>url    </td><td>section</td><td>wikitext     </td><td>160839</td></tr>\n",
       "\t<tr><td>url    </td><td>section</td><td>wikitext-2017</td><td>   745</td></tr>\n",
       "\t<tr><td>url-new</td><td>page   </td><td>visualeditor </td><td>135645</td></tr>\n",
       "\t<tr><td>url-new</td><td>page   </td><td>wikitext     </td><td> 86788</td></tr>\n",
       "\t<tr><td>url-new</td><td>page   </td><td>wikitext-2017</td><td>   726</td></tr>\n",
       "\t<tr><td>url-new</td><td>section</td><td>visualeditor </td><td>    19</td></tr>\n",
       "\t<tr><td>url-new</td><td>section</td><td>wikitext     </td><td>  2070</td></tr>\n",
       "\t<tr><td>url-new</td><td>section</td><td>wikitext-2017</td><td>   196</td></tr>\n",
       "</tbody>\n",
       "</table>\n"
      ],
      "text/latex": [
       "A grouped\\_df: 23 × 4\n",
       "\\begin{tabular}{llll}\n",
       " init\\_mechanism & init\\_type & interface & n\\_events\\\\\n",
       " <chr> & <chr> & <chr> & <int>\\\\\n",
       "\\hline\n",
       "\t click   & page    & visualeditor  &  37021\\\\\n",
       "\t click   & page    & wikitext      & 204263\\\\\n",
       "\t click   & page    & wikitext-2017 &   3451\\\\\n",
       "\t click   & section & visualeditor  &  20846\\\\\n",
       "\t click   & section & wikitext      & 159063\\\\\n",
       "\t click   & section & wikitext-2017 &   2043\\\\\n",
       "\t new     & page    & visualeditor  &   3393\\\\\n",
       "\t new     & page    & wikitext      & 153200\\\\\n",
       "\t new     & page    & wikitext-2017 &     21\\\\\n",
       "\t new     & section & wikitext      &   7987\\\\\n",
       "\t new     & section & wikitext-2017 &      2\\\\\n",
       "\t url     & page    & visualeditor  &  37233\\\\\n",
       "\t url     & page    & wikitext      &  74549\\\\\n",
       "\t url     & page    & wikitext-2017 &   1207\\\\\n",
       "\t url     & section & visualeditor  &   3733\\\\\n",
       "\t url     & section & wikitext      & 160839\\\\\n",
       "\t url     & section & wikitext-2017 &    745\\\\\n",
       "\t url-new & page    & visualeditor  & 135645\\\\\n",
       "\t url-new & page    & wikitext      &  86788\\\\\n",
       "\t url-new & page    & wikitext-2017 &    726\\\\\n",
       "\t url-new & section & visualeditor  &     19\\\\\n",
       "\t url-new & section & wikitext      &   2070\\\\\n",
       "\t url-new & section & wikitext-2017 &    196\\\\\n",
       "\\end{tabular}\n"
      ],
      "text/markdown": [
       "\n",
       "A grouped_df: 23 × 4\n",
       "\n",
       "| init_mechanism &lt;chr&gt; | init_type &lt;chr&gt; | interface &lt;chr&gt; | n_events &lt;int&gt; |\n",
       "|---|---|---|---|\n",
       "| click   | page    | visualeditor  |  37021 |\n",
       "| click   | page    | wikitext      | 204263 |\n",
       "| click   | page    | wikitext-2017 |   3451 |\n",
       "| click   | section | visualeditor  |  20846 |\n",
       "| click   | section | wikitext      | 159063 |\n",
       "| click   | section | wikitext-2017 |   2043 |\n",
       "| new     | page    | visualeditor  |   3393 |\n",
       "| new     | page    | wikitext      | 153200 |\n",
       "| new     | page    | wikitext-2017 |     21 |\n",
       "| new     | section | wikitext      |   7987 |\n",
       "| new     | section | wikitext-2017 |      2 |\n",
       "| url     | page    | visualeditor  |  37233 |\n",
       "| url     | page    | wikitext      |  74549 |\n",
       "| url     | page    | wikitext-2017 |   1207 |\n",
       "| url     | section | visualeditor  |   3733 |\n",
       "| url     | section | wikitext      | 160839 |\n",
       "| url     | section | wikitext-2017 |    745 |\n",
       "| url-new | page    | visualeditor  | 135645 |\n",
       "| url-new | page    | wikitext      |  86788 |\n",
       "| url-new | page    | wikitext-2017 |    726 |\n",
       "| url-new | section | visualeditor  |     19 |\n",
       "| url-new | section | wikitext      |   2070 |\n",
       "| url-new | section | wikitext-2017 |    196 |\n",
       "\n"
      ],
      "text/plain": [
       "   init_mechanism init_type interface     n_events\n",
       "1  click          page      visualeditor   37021  \n",
       "2  click          page      wikitext      204263  \n",
       "3  click          page      wikitext-2017   3451  \n",
       "4  click          section   visualeditor   20846  \n",
       "5  click          section   wikitext      159063  \n",
       "6  click          section   wikitext-2017   2043  \n",
       "7  new            page      visualeditor    3393  \n",
       "8  new            page      wikitext      153200  \n",
       "9  new            page      wikitext-2017     21  \n",
       "10 new            section   wikitext        7987  \n",
       "11 new            section   wikitext-2017      2  \n",
       "12 url            page      visualeditor   37233  \n",
       "13 url            page      wikitext       74549  \n",
       "14 url            page      wikitext-2017   1207  \n",
       "15 url            section   visualeditor    3733  \n",
       "16 url            section   wikitext      160839  \n",
       "17 url            section   wikitext-2017    745  \n",
       "18 url-new        page      visualeditor  135645  \n",
       "19 url-new        page      wikitext       86788  \n",
       "20 url-new        page      wikitext-2017    726  \n",
       "21 url-new        section   visualeditor      19  \n",
       "22 url-new        section   wikitext        2070  \n",
       "23 url-new        section   wikitext-2017    196  "
      ]
     },
     "metadata": {},
     "output_type": "display_data"
    }
   ],
   "source": [
    "init_events_byinterface <- collect_init_events_all %>%\n",
    "    group_by(init_mechanism, init_type, interface) %>%\n",
    "    summarise(n_events = sum(n_events))\n",
    "\n",
    "init_events_byinterface"
   ]
  },
  {
   "cell_type": "markdown",
   "metadata": {},
   "source": [
    "All init_mecahnism types are recorded for all three editor interfaces as expected. The `init_mechanism = new` is now recorded for VisualEditor events. "
   ]
  },
  {
   "cell_type": "markdown",
   "metadata": {},
   "source": [
    "## Init Events on Talk Pages Only"
   ]
  },
  {
   "cell_type": "code",
   "execution_count": 19,
   "metadata": {},
   "outputs": [],
   "source": [
    "# Collect all init events on talk pages only by date since deployment\n",
    "query <-\n",
    "\"\n",
    "SELECT \n",
    "  CONCAT(year, '-', LPAD(month, 2, '0'), '-', LPAD(day, 2, '0')) as edit_dt,\n",
    "  wiki AS wiki,\n",
    "  event.editing_session_id AS session_id,\n",
    "  event.editor_interface as interface,\n",
    "  event.init_mechanism as init_mechanism,\n",
    "  event.init_type as init_type,\n",
    "  event.integration as integration,\n",
    "  COUNT(*) as n_events\n",
    "FROM event.editattemptstep\n",
    "WHERE\n",
    "  event.action = 'init'\n",
    "  AND year = 2021\n",
    "-- review events following deployment\n",
    "  AND dt >= '2021-02-15'\n",
    "  AND event.platform = 'desktop'\n",
    " -- review all talk namespaces\n",
    "  AND event.page_ns % 2 = 1\n",
    "GROUP BY\n",
    "  CONCAT(year, '-', LPAD(month, 2, '0'), '-', LPAD(day, 2, '0')),\n",
    "  wiki, \n",
    "  event.editing_session_id,\n",
    "  event.editor_interface,\n",
    "  event.init_mechanism,\n",
    "  event.editor_interface,\n",
    "  event.init_mechanism,\n",
    "  event.init_type,\n",
    "  event.integration\n",
    "\""
   ]
  },
  {
   "cell_type": "code",
   "execution_count": 20,
   "metadata": {},
   "outputs": [
    {
     "name": "stderr",
     "output_type": "stream",
     "text": [
      "Don't forget to authenticate with Kerberos using kinit\n",
      "\n"
     ]
    }
   ],
   "source": [
    "collect_init_events_talkonly <- wmfdata::query_hive(query)"
   ]
  },
  {
   "cell_type": "code",
   "execution_count": 21,
   "metadata": {},
   "outputs": [
    {
     "data": {
      "text/html": [
       "<table>\n",
       "<caption>A data.frame: 6 × 8</caption>\n",
       "<thead>\n",
       "\t<tr><th></th><th scope=col>edit_dt</th><th scope=col>wiki</th><th scope=col>session_id</th><th scope=col>interface</th><th scope=col>init_mechanism</th><th scope=col>init_type</th><th scope=col>integration</th><th scope=col>n_events</th></tr>\n",
       "\t<tr><th></th><th scope=col>&lt;chr&gt;</th><th scope=col>&lt;chr&gt;</th><th scope=col>&lt;chr&gt;</th><th scope=col>&lt;chr&gt;</th><th scope=col>&lt;chr&gt;</th><th scope=col>&lt;chr&gt;</th><th scope=col>&lt;chr&gt;</th><th scope=col>&lt;int&gt;</th></tr>\n",
       "</thead>\n",
       "<tbody>\n",
       "\t<tr><th scope=row>1</th><td>2021-02-15</td><td>abwiki      </td><td>92c42880482c2ee6e2a5afdce7aee3e4</td><td>wikitext</td><td>url    </td><td>page</td><td>page</td><td>1</td></tr>\n",
       "\t<tr><th scope=row>2</th><td>2021-02-15</td><td>acewiki     </td><td>10f0051052705382eaa8b72e6fb8848f</td><td>wikitext</td><td>url    </td><td>page</td><td>page</td><td>1</td></tr>\n",
       "\t<tr><th scope=row>3</th><td>2021-02-15</td><td>afwiki      </td><td>293c83b05e3e35449759039616f67fb3</td><td>wikitext</td><td>click  </td><td>page</td><td>page</td><td>1</td></tr>\n",
       "\t<tr><th scope=row>4</th><td>2021-02-15</td><td>afwiktionary</td><td>3561b9c0202922f1a30ab028fa056756</td><td>wikitext</td><td>url-new</td><td>page</td><td>page</td><td>1</td></tr>\n",
       "\t<tr><th scope=row>5</th><td>2021-02-15</td><td>arwiki      </td><td>1cb977f06ad501ba75cd26c1f6f7b6be</td><td>wikitext</td><td>new    </td><td>page</td><td>page</td><td>1</td></tr>\n",
       "\t<tr><th scope=row>6</th><td>2021-02-15</td><td>arwiki      </td><td>9648bf608a5058d0f2bfb8c0dda02692</td><td>wikitext</td><td>new    </td><td>page</td><td>page</td><td>1</td></tr>\n",
       "</tbody>\n",
       "</table>\n"
      ],
      "text/latex": [
       "A data.frame: 6 × 8\n",
       "\\begin{tabular}{r|llllllll}\n",
       "  & edit\\_dt & wiki & session\\_id & interface & init\\_mechanism & init\\_type & integration & n\\_events\\\\\n",
       "  & <chr> & <chr> & <chr> & <chr> & <chr> & <chr> & <chr> & <int>\\\\\n",
       "\\hline\n",
       "\t1 & 2021-02-15 & abwiki       & 92c42880482c2ee6e2a5afdce7aee3e4 & wikitext & url     & page & page & 1\\\\\n",
       "\t2 & 2021-02-15 & acewiki      & 10f0051052705382eaa8b72e6fb8848f & wikitext & url     & page & page & 1\\\\\n",
       "\t3 & 2021-02-15 & afwiki       & 293c83b05e3e35449759039616f67fb3 & wikitext & click   & page & page & 1\\\\\n",
       "\t4 & 2021-02-15 & afwiktionary & 3561b9c0202922f1a30ab028fa056756 & wikitext & url-new & page & page & 1\\\\\n",
       "\t5 & 2021-02-15 & arwiki       & 1cb977f06ad501ba75cd26c1f6f7b6be & wikitext & new     & page & page & 1\\\\\n",
       "\t6 & 2021-02-15 & arwiki       & 9648bf608a5058d0f2bfb8c0dda02692 & wikitext & new     & page & page & 1\\\\\n",
       "\\end{tabular}\n"
      ],
      "text/markdown": [
       "\n",
       "A data.frame: 6 × 8\n",
       "\n",
       "| <!--/--> | edit_dt &lt;chr&gt; | wiki &lt;chr&gt; | session_id &lt;chr&gt; | interface &lt;chr&gt; | init_mechanism &lt;chr&gt; | init_type &lt;chr&gt; | integration &lt;chr&gt; | n_events &lt;int&gt; |\n",
       "|---|---|---|---|---|---|---|---|---|\n",
       "| 1 | 2021-02-15 | abwiki       | 92c42880482c2ee6e2a5afdce7aee3e4 | wikitext | url     | page | page | 1 |\n",
       "| 2 | 2021-02-15 | acewiki      | 10f0051052705382eaa8b72e6fb8848f | wikitext | url     | page | page | 1 |\n",
       "| 3 | 2021-02-15 | afwiki       | 293c83b05e3e35449759039616f67fb3 | wikitext | click   | page | page | 1 |\n",
       "| 4 | 2021-02-15 | afwiktionary | 3561b9c0202922f1a30ab028fa056756 | wikitext | url-new | page | page | 1 |\n",
       "| 5 | 2021-02-15 | arwiki       | 1cb977f06ad501ba75cd26c1f6f7b6be | wikitext | new     | page | page | 1 |\n",
       "| 6 | 2021-02-15 | arwiki       | 9648bf608a5058d0f2bfb8c0dda02692 | wikitext | new     | page | page | 1 |\n",
       "\n"
      ],
      "text/plain": [
       "  edit_dt    wiki         session_id                       interface\n",
       "1 2021-02-15 abwiki       92c42880482c2ee6e2a5afdce7aee3e4 wikitext \n",
       "2 2021-02-15 acewiki      10f0051052705382eaa8b72e6fb8848f wikitext \n",
       "3 2021-02-15 afwiki       293c83b05e3e35449759039616f67fb3 wikitext \n",
       "4 2021-02-15 afwiktionary 3561b9c0202922f1a30ab028fa056756 wikitext \n",
       "5 2021-02-15 arwiki       1cb977f06ad501ba75cd26c1f6f7b6be wikitext \n",
       "6 2021-02-15 arwiki       9648bf608a5058d0f2bfb8c0dda02692 wikitext \n",
       "  init_mechanism init_type integration n_events\n",
       "1 url            page      page        1       \n",
       "2 url            page      page        1       \n",
       "3 click          page      page        1       \n",
       "4 url-new        page      page        1       \n",
       "5 new            page      page        1       \n",
       "6 new            page      page        1       "
      ]
     },
     "metadata": {},
     "output_type": "display_data"
    }
   ],
   "source": [
    "head(collect_init_events_talkonly)"
   ]
  },
  {
   "cell_type": "markdown",
   "metadata": {},
   "source": [
    "## Talk Page Init Events by Integration and Init Type"
   ]
  },
  {
   "cell_type": "code",
   "execution_count": 22,
   "metadata": {},
   "outputs": [
    {
     "name": "stderr",
     "output_type": "stream",
     "text": [
      "`summarise()` regrouping output by 'init_mechanism', 'init_type' (override with `.groups` argument)\n",
      "\n"
     ]
    },
    {
     "data": {
      "text/html": [
       "<table>\n",
       "<caption>A grouped_df: 10 × 4</caption>\n",
       "<thead>\n",
       "\t<tr><th scope=col>init_mechanism</th><th scope=col>init_type</th><th scope=col>integration</th><th scope=col>n_events</th></tr>\n",
       "\t<tr><th scope=col>&lt;chr&gt;</th><th scope=col>&lt;chr&gt;</th><th scope=col>&lt;chr&gt;</th><th scope=col>&lt;int&gt;</th></tr>\n",
       "</thead>\n",
       "<tbody>\n",
       "\t<tr><td>click  </td><td>page   </td><td>discussiontools</td><td> 6452</td></tr>\n",
       "\t<tr><td>click  </td><td>page   </td><td>page           </td><td> 7242</td></tr>\n",
       "\t<tr><td>click  </td><td>section</td><td>discussiontools</td><td>  443</td></tr>\n",
       "\t<tr><td>click  </td><td>section</td><td>page           </td><td> 7319</td></tr>\n",
       "\t<tr><td>new    </td><td>page   </td><td>page           </td><td>25091</td></tr>\n",
       "\t<tr><td>new    </td><td>section</td><td>page           </td><td> 6097</td></tr>\n",
       "\t<tr><td>url    </td><td>page   </td><td>page           </td><td> 4387</td></tr>\n",
       "\t<tr><td>url    </td><td>section</td><td>page           </td><td> 3226</td></tr>\n",
       "\t<tr><td>url-new</td><td>page   </td><td>page           </td><td>20379</td></tr>\n",
       "\t<tr><td>url-new</td><td>section</td><td>page           </td><td> 1543</td></tr>\n",
       "</tbody>\n",
       "</table>\n"
      ],
      "text/latex": [
       "A grouped\\_df: 10 × 4\n",
       "\\begin{tabular}{llll}\n",
       " init\\_mechanism & init\\_type & integration & n\\_events\\\\\n",
       " <chr> & <chr> & <chr> & <int>\\\\\n",
       "\\hline\n",
       "\t click   & page    & discussiontools &  6452\\\\\n",
       "\t click   & page    & page            &  7242\\\\\n",
       "\t click   & section & discussiontools &   443\\\\\n",
       "\t click   & section & page            &  7319\\\\\n",
       "\t new     & page    & page            & 25091\\\\\n",
       "\t new     & section & page            &  6097\\\\\n",
       "\t url     & page    & page            &  4387\\\\\n",
       "\t url     & section & page            &  3226\\\\\n",
       "\t url-new & page    & page            & 20379\\\\\n",
       "\t url-new & section & page            &  1543\\\\\n",
       "\\end{tabular}\n"
      ],
      "text/markdown": [
       "\n",
       "A grouped_df: 10 × 4\n",
       "\n",
       "| init_mechanism &lt;chr&gt; | init_type &lt;chr&gt; | integration &lt;chr&gt; | n_events &lt;int&gt; |\n",
       "|---|---|---|---|\n",
       "| click   | page    | discussiontools |  6452 |\n",
       "| click   | page    | page            |  7242 |\n",
       "| click   | section | discussiontools |   443 |\n",
       "| click   | section | page            |  7319 |\n",
       "| new     | page    | page            | 25091 |\n",
       "| new     | section | page            |  6097 |\n",
       "| url     | page    | page            |  4387 |\n",
       "| url     | section | page            |  3226 |\n",
       "| url-new | page    | page            | 20379 |\n",
       "| url-new | section | page            |  1543 |\n",
       "\n"
      ],
      "text/plain": [
       "   init_mechanism init_type integration     n_events\n",
       "1  click          page      discussiontools  6452   \n",
       "2  click          page      page             7242   \n",
       "3  click          section   discussiontools   443   \n",
       "4  click          section   page             7319   \n",
       "5  new            page      page            25091   \n",
       "6  new            section   page             6097   \n",
       "7  url            page      page             4387   \n",
       "8  url            section   page             3226   \n",
       "9  url-new        page      page            20379   \n",
       "10 url-new        section   page             1543   "
      ]
     },
     "metadata": {},
     "output_type": "display_data"
    }
   ],
   "source": [
    "talk_init_events_byintegration <- collect_init_events_talkonly %>%\n",
    "    group_by(init_mechanism, init_type, integration) %>%\n",
    "    summarise(n_events = sum(n_events))\n",
    "\n",
    "talk_init_events_byintegration"
   ]
  },
  {
   "cell_type": "markdown",
   "metadata": {},
   "source": [
    "All expected init types are logged on talk pages. The number of logged events for each init_mechanism type seem reasonable given the liklihood of occurrence. \n",
    "\n",
    "The majority of new section edits on talk pages (80%) are created by clicking on a link to a page vs direct naviagation to a URL that triggers an editor for a new section. The majority of edits from direct navigation to a url (92.9%) are to `init_type = page` events.\n",
    "\n"
   ]
  },
  {
   "cell_type": "markdown",
   "metadata": {},
   "source": [
    "## Talk Page Init Events by Editor Interface"
   ]
  },
  {
   "cell_type": "code",
   "execution_count": 25,
   "metadata": {},
   "outputs": [
    {
     "name": "stderr",
     "output_type": "stream",
     "text": [
      "`summarise()` regrouping output by 'integration', 'init_mechanism', 'init_type' (override with `.groups` argument)\n",
      "\n"
     ]
    },
    {
     "data": {
      "text/html": [
       "<table>\n",
       "<caption>A grouped_df: 23 × 5</caption>\n",
       "<thead>\n",
       "\t<tr><th scope=col>integration</th><th scope=col>init_mechanism</th><th scope=col>init_type</th><th scope=col>interface</th><th scope=col>n_events</th></tr>\n",
       "\t<tr><th scope=col>&lt;chr&gt;</th><th scope=col>&lt;chr&gt;</th><th scope=col>&lt;chr&gt;</th><th scope=col>&lt;chr&gt;</th><th scope=col>&lt;int&gt;</th></tr>\n",
       "</thead>\n",
       "<tbody>\n",
       "\t<tr><td>discussiontools</td><td>click  </td><td>page   </td><td>visualeditor </td><td> 2841</td></tr>\n",
       "\t<tr><td>discussiontools</td><td>click  </td><td>page   </td><td>wikitext     </td><td> 3611</td></tr>\n",
       "\t<tr><td>discussiontools</td><td>click  </td><td>section</td><td>visualeditor </td><td>  141</td></tr>\n",
       "\t<tr><td>discussiontools</td><td>click  </td><td>section</td><td>wikitext     </td><td>  302</td></tr>\n",
       "\t<tr><td>page           </td><td>click  </td><td>page   </td><td>visualeditor </td><td>    2</td></tr>\n",
       "\t<tr><td>page           </td><td>click  </td><td>page   </td><td>wikitext     </td><td> 7123</td></tr>\n",
       "\t<tr><td>page           </td><td>click  </td><td>page   </td><td>wikitext-2017</td><td>  117</td></tr>\n",
       "\t<tr><td>page           </td><td>click  </td><td>section</td><td>visualeditor </td><td>    1</td></tr>\n",
       "\t<tr><td>page           </td><td>click  </td><td>section</td><td>wikitext     </td><td> 7214</td></tr>\n",
       "\t<tr><td>page           </td><td>click  </td><td>section</td><td>wikitext-2017</td><td>  104</td></tr>\n",
       "\t<tr><td>page           </td><td>new    </td><td>page   </td><td>visualeditor </td><td>    1</td></tr>\n",
       "\t<tr><td>page           </td><td>new    </td><td>page   </td><td>wikitext     </td><td>25090</td></tr>\n",
       "\t<tr><td>page           </td><td>new    </td><td>section</td><td>wikitext     </td><td> 6097</td></tr>\n",
       "\t<tr><td>page           </td><td>url    </td><td>page   </td><td>visualeditor </td><td>    1</td></tr>\n",
       "\t<tr><td>page           </td><td>url    </td><td>page   </td><td>wikitext     </td><td> 4177</td></tr>\n",
       "\t<tr><td>page           </td><td>url    </td><td>page   </td><td>wikitext-2017</td><td>  209</td></tr>\n",
       "\t<tr><td>page           </td><td>url    </td><td>section</td><td>wikitext     </td><td> 2964</td></tr>\n",
       "\t<tr><td>page           </td><td>url    </td><td>section</td><td>wikitext-2017</td><td>  262</td></tr>\n",
       "\t<tr><td>page           </td><td>url-new</td><td>page   </td><td>visualeditor </td><td>    1</td></tr>\n",
       "\t<tr><td>page           </td><td>url-new</td><td>page   </td><td>wikitext     </td><td>20217</td></tr>\n",
       "\t<tr><td>page           </td><td>url-new</td><td>page   </td><td>wikitext-2017</td><td>  161</td></tr>\n",
       "\t<tr><td>page           </td><td>url-new</td><td>section</td><td>wikitext     </td><td> 1394</td></tr>\n",
       "\t<tr><td>page           </td><td>url-new</td><td>section</td><td>wikitext-2017</td><td>  149</td></tr>\n",
       "</tbody>\n",
       "</table>\n"
      ],
      "text/latex": [
       "A grouped\\_df: 23 × 5\n",
       "\\begin{tabular}{lllll}\n",
       " integration & init\\_mechanism & init\\_type & interface & n\\_events\\\\\n",
       " <chr> & <chr> & <chr> & <chr> & <int>\\\\\n",
       "\\hline\n",
       "\t discussiontools & click   & page    & visualeditor  &  2841\\\\\n",
       "\t discussiontools & click   & page    & wikitext      &  3611\\\\\n",
       "\t discussiontools & click   & section & visualeditor  &   141\\\\\n",
       "\t discussiontools & click   & section & wikitext      &   302\\\\\n",
       "\t page            & click   & page    & visualeditor  &     2\\\\\n",
       "\t page            & click   & page    & wikitext      &  7123\\\\\n",
       "\t page            & click   & page    & wikitext-2017 &   117\\\\\n",
       "\t page            & click   & section & visualeditor  &     1\\\\\n",
       "\t page            & click   & section & wikitext      &  7214\\\\\n",
       "\t page            & click   & section & wikitext-2017 &   104\\\\\n",
       "\t page            & new     & page    & visualeditor  &     1\\\\\n",
       "\t page            & new     & page    & wikitext      & 25090\\\\\n",
       "\t page            & new     & section & wikitext      &  6097\\\\\n",
       "\t page            & url     & page    & visualeditor  &     1\\\\\n",
       "\t page            & url     & page    & wikitext      &  4177\\\\\n",
       "\t page            & url     & page    & wikitext-2017 &   209\\\\\n",
       "\t page            & url     & section & wikitext      &  2964\\\\\n",
       "\t page            & url     & section & wikitext-2017 &   262\\\\\n",
       "\t page            & url-new & page    & visualeditor  &     1\\\\\n",
       "\t page            & url-new & page    & wikitext      & 20217\\\\\n",
       "\t page            & url-new & page    & wikitext-2017 &   161\\\\\n",
       "\t page            & url-new & section & wikitext      &  1394\\\\\n",
       "\t page            & url-new & section & wikitext-2017 &   149\\\\\n",
       "\\end{tabular}\n"
      ],
      "text/markdown": [
       "\n",
       "A grouped_df: 23 × 5\n",
       "\n",
       "| integration &lt;chr&gt; | init_mechanism &lt;chr&gt; | init_type &lt;chr&gt; | interface &lt;chr&gt; | n_events &lt;int&gt; |\n",
       "|---|---|---|---|---|\n",
       "| discussiontools | click   | page    | visualeditor  |  2841 |\n",
       "| discussiontools | click   | page    | wikitext      |  3611 |\n",
       "| discussiontools | click   | section | visualeditor  |   141 |\n",
       "| discussiontools | click   | section | wikitext      |   302 |\n",
       "| page            | click   | page    | visualeditor  |     2 |\n",
       "| page            | click   | page    | wikitext      |  7123 |\n",
       "| page            | click   | page    | wikitext-2017 |   117 |\n",
       "| page            | click   | section | visualeditor  |     1 |\n",
       "| page            | click   | section | wikitext      |  7214 |\n",
       "| page            | click   | section | wikitext-2017 |   104 |\n",
       "| page            | new     | page    | visualeditor  |     1 |\n",
       "| page            | new     | page    | wikitext      | 25090 |\n",
       "| page            | new     | section | wikitext      |  6097 |\n",
       "| page            | url     | page    | visualeditor  |     1 |\n",
       "| page            | url     | page    | wikitext      |  4177 |\n",
       "| page            | url     | page    | wikitext-2017 |   209 |\n",
       "| page            | url     | section | wikitext      |  2964 |\n",
       "| page            | url     | section | wikitext-2017 |   262 |\n",
       "| page            | url-new | page    | visualeditor  |     1 |\n",
       "| page            | url-new | page    | wikitext      | 20217 |\n",
       "| page            | url-new | page    | wikitext-2017 |   161 |\n",
       "| page            | url-new | section | wikitext      |  1394 |\n",
       "| page            | url-new | section | wikitext-2017 |   149 |\n",
       "\n"
      ],
      "text/plain": [
       "   integration     init_mechanism init_type interface     n_events\n",
       "1  discussiontools click          page      visualeditor   2841   \n",
       "2  discussiontools click          page      wikitext       3611   \n",
       "3  discussiontools click          section   visualeditor    141   \n",
       "4  discussiontools click          section   wikitext        302   \n",
       "5  page            click          page      visualeditor      2   \n",
       "6  page            click          page      wikitext       7123   \n",
       "7  page            click          page      wikitext-2017   117   \n",
       "8  page            click          section   visualeditor      1   \n",
       "9  page            click          section   wikitext       7214   \n",
       "10 page            click          section   wikitext-2017   104   \n",
       "11 page            new            page      visualeditor      1   \n",
       "12 page            new            page      wikitext      25090   \n",
       "13 page            new            section   wikitext       6097   \n",
       "14 page            url            page      visualeditor      1   \n",
       "15 page            url            page      wikitext       4177   \n",
       "16 page            url            page      wikitext-2017   209   \n",
       "17 page            url            section   wikitext       2964   \n",
       "18 page            url            section   wikitext-2017   262   \n",
       "19 page            url-new        page      visualeditor      1   \n",
       "20 page            url-new        page      wikitext      20217   \n",
       "21 page            url-new        page      wikitext-2017   161   \n",
       "22 page            url-new        section   wikitext       1394   \n",
       "23 page            url-new        section   wikitext-2017   149   "
      ]
     },
     "metadata": {},
     "output_type": "display_data"
    }
   ],
   "source": [
    "talk_init_events_byinterface <- collect_init_events_talkonly %>%\n",
    "    group_by(integration, init_mechanism, init_type, interface) %>%\n",
    "    summarise(n_events = sum(n_events))\n",
    "\n",
    "talk_init_events_byinterface"
   ]
  },
  {
   "cell_type": "markdown",
   "metadata": {},
   "source": [
    "Most all visual editor events on talk pages are recorded for discussiontools events as expected. "
   ]
  },
  {
   "cell_type": "markdown",
   "metadata": {},
   "source": [
    "## Summary of New and Existing Section Edits on Talk Pages"
   ]
  },
  {
   "cell_type": "code",
   "execution_count": 36,
   "metadata": {},
   "outputs": [
    {
     "name": "stderr",
     "output_type": "stream",
     "text": [
      "`summarise()` regrouping output by 'section_status' (override with `.groups` argument)\n",
      "\n"
     ]
    },
    {
     "data": {
      "text/html": [
       "<table>\n",
       "<caption>A grouped_df: 4 × 3</caption>\n",
       "<thead>\n",
       "\t<tr><th scope=col>section_status</th><th scope=col>init_mechanism</th><th scope=col>n_events</th></tr>\n",
       "\t<tr><th scope=col>&lt;chr&gt;</th><th scope=col>&lt;chr&gt;</th><th scope=col>&lt;int&gt;</th></tr>\n",
       "</thead>\n",
       "<tbody>\n",
       "\t<tr><td>existing</td><td>click  </td><td>7319</td></tr>\n",
       "\t<tr><td>existing</td><td>url    </td><td>3226</td></tr>\n",
       "\t<tr><td>new     </td><td>new    </td><td>6097</td></tr>\n",
       "\t<tr><td>new     </td><td>url-new</td><td>1543</td></tr>\n",
       "</tbody>\n",
       "</table>\n"
      ],
      "text/latex": [
       "A grouped\\_df: 4 × 3\n",
       "\\begin{tabular}{lll}\n",
       " section\\_status & init\\_mechanism & n\\_events\\\\\n",
       " <chr> & <chr> & <int>\\\\\n",
       "\\hline\n",
       "\t existing & click   & 7319\\\\\n",
       "\t existing & url     & 3226\\\\\n",
       "\t new      & new     & 6097\\\\\n",
       "\t new      & url-new & 1543\\\\\n",
       "\\end{tabular}\n"
      ],
      "text/markdown": [
       "\n",
       "A grouped_df: 4 × 3\n",
       "\n",
       "| section_status &lt;chr&gt; | init_mechanism &lt;chr&gt; | n_events &lt;int&gt; |\n",
       "|---|---|---|\n",
       "| existing | click   | 7319 |\n",
       "| existing | url     | 3226 |\n",
       "| new      | new     | 6097 |\n",
       "| new      | url-new | 1543 |\n",
       "\n"
      ],
      "text/plain": [
       "  section_status init_mechanism n_events\n",
       "1 existing       click          7319    \n",
       "2 existing       url            3226    \n",
       "3 new            new            6097    \n",
       "4 new            url-new        1543    "
      ]
     },
     "metadata": {},
     "output_type": "display_data"
    }
   ],
   "source": [
    "existing_vs_new_section_edits <- collect_init_events_talkonly %>%\n",
    "    filter(integration == 'page',\n",
    "           init_type == 'section') %>%\n",
    "    mutate(section_status = ifelse(init_mechanism == 'url-new'|init_mechanism == 'new', 'new', 'existing'))%>%\n",
    "    group_by(section_status, init_mechanism) %>%\n",
    "    summarise(n_events = sum(n_events))\n",
    "\n",
    "existing_vs_new_section_edits"
   ]
  },
  {
   "cell_type": "markdown",
   "metadata": {},
   "source": [
    "The table above shows the number of new vs existing section edits using current VisualEditor / WikiEditor section workflows (not disucssion tool related edits).\n",
    "\n",
    "The number of logged events for each section edit type seem reasonable given the liklihood of occurrence. Since deployment of the instrumentation changes, a slight majority of section edits on talk pages have been to existing sections (58%). \n",
    "\n",
    "Most edits (79.8%) to create new sections on talk pages are completed by clicking the link on the page vs direct navigation to a url as expected.\n"
   ]
  }
 ],
 "metadata": {
  "kernelspec": {
   "display_name": "R",
   "language": "R",
   "name": "ir"
  },
  "language_info": {
   "codemirror_mode": "r",
   "file_extension": ".r",
   "mimetype": "text/x-r-source",
   "name": "R",
   "pygments_lexer": "r",
   "version": "3.5.2"
  }
 },
 "nbformat": 4,
 "nbformat_minor": 4
}
