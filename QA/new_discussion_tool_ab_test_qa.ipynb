{
 "cells": [
  {
   "cell_type": "markdown",
   "metadata": {},
   "source": [
    "# New Discussion Tool AB Test Post-Deployment QA\n",
    "\n",
    "22 February 2022\n",
    "[Task](https://phabricator.wikimedia.org/T291308)"
   ]
  },
  {
   "cell_type": "markdown",
   "metadata": {},
   "source": [
    "The purpose of this post-deployment QA is to confirm that events are logging as expected and needed to run the AB test."
   ]
  },
  {
   "cell_type": "code",
   "execution_count": 7,
   "metadata": {},
   "outputs": [],
   "source": [
    "shhh <- function(expr) suppressPackageStartupMessages(suppressWarnings(suppressMessages(expr)))\n",
    "shhh({\n",
    "    library(magrittr); library(zeallot); library(glue); library(tidyverse); library(zoo); library(lubridate)\n",
    "    library(scales)\n",
    "})"
   ]
  },
  {
   "cell_type": "markdown",
   "metadata": {},
   "source": [
    "# QA Checks\n",
    "- Test and control events recorded. Confirmed.\n",
    "- Buckets Balanced: Confirmed for Logged-In. Logged-Out now confirmed after patches below:\n",
    "  - Update: Patch backported on 3 Feb to fix bucketing for logged-out users\n",
    "  - Update: Patch deployed on 17 Feb to fix bucketing issue identifed for full-text logged out users. Fixes included providing anonymous user token and working for users that use  full-page\n",
    "wikitext editing. https://phabricator.wikimedia.org/T301497\n",
    "- Only at participating wikis. Confirmed. \n",
    "- Only desktop events. Confirmed.\n",
    "- New section events recored in test groups. Confirmed\n"
   ]
  },
  {
   "cell_type": "markdown",
   "metadata": {},
   "source": [
    "# Review of all edit sessions by AB test bucket"
   ]
  },
  {
   "cell_type": "code",
   "execution_count": 23,
   "metadata": {},
   "outputs": [],
   "source": [
    "#collect all test events\n",
    "query <-\n",
    "\"\n",
    "SELECT\n",
    "  date_format(dt, 'yyyy-MM-dd') as attempt_dt,\n",
    "  event.editing_session_id as edit_attempt_id,\n",
    "  wiki As wiki,\n",
    "  event.bucket AS experiment_group,\n",
    "  event.editor_interface as interface,\n",
    "  event.integration as integration,\n",
    "  if(event.user_id != 0, concat(wiki, '-', event.user_id), event.anonymous_user_token) as user_id,\n",
    "  event.user_id = 0 as user_is_anonymous_byid, \n",
    "  if(event.anonymous_user_token is NULL, false, true) as user_is_anonymous_bytoken, \n",
    "  if(event.page_ns % 2 = 1, true, false) as is_talk_page,\n",
    "  event.user_id != 0 as user_is_registered, \n",
    "  event.platform as platform, \n",
    "-- review participating wikis\n",
    "  IF( wiki IN ('amwiki', 'bnwiki', 'zhwiki', 'nlwiki', 'arzwiki', 'frwiki', 'hewiki', 'hiwiki',\n",
    "    'idwiki', 'itwiki', 'jawiki', 'kowiki', 'omwiki', 'fawiki', 'plwiki', 'ptwiki', 'eswiki', 'thwiki',\n",
    "    'ukwiki', 'viwiki'), 'TRUE', 'FALSE'\n",
    ") AS is_AB_test_wiki,\n",
    "  event.is_oversample AS is_oversample\n",
    "FROM event.editattemptstep\n",
    "WHERE\n",
    "-- since deployment\n",
    "  Year = 2022\n",
    "  AND ((month = 01 and day >= 27) OR (month = 02))\n",
    "  -- remove bots\n",
    "  AND useragent.is_bot = false\n",
    "-- only test events\n",
    "  AND event.bucket in ('test', 'control')\n",
    "\""
   ]
  },
  {
   "cell_type": "code",
   "execution_count": 24,
   "metadata": {},
   "outputs": [
    {
     "name": "stderr",
     "output_type": "stream",
     "text": [
      "Don't forget to authenticate with Kerberos using kinit\n",
      "\n"
     ]
    }
   ],
   "source": [
    "edit_sessions <- wmfdata::query_hive(query)"
   ]
  },
  {
   "cell_type": "markdown",
   "metadata": {},
   "source": [
    "# Sessions by Buckets Overall"
   ]
  },
  {
   "cell_type": "code",
   "execution_count": 92,
   "metadata": {},
   "outputs": [
    {
     "name": "stderr",
     "output_type": "stream",
     "text": [
      "`summarise()` ungrouping output (override with `.groups` argument)\n",
      "\n"
     ]
    },
    {
     "data": {
      "text/html": [
       "<table>\n",
       "<caption>A tibble: 2 × 3</caption>\n",
       "<thead>\n",
       "\t<tr><th scope=col>experiment_group</th><th scope=col>users</th><th scope=col>attempts</th></tr>\n",
       "\t<tr><th scope=col>&lt;chr&gt;</th><th scope=col>&lt;int&gt;</th><th scope=col>&lt;int&gt;</th></tr>\n",
       "</thead>\n",
       "<tbody>\n",
       "\t<tr><td>control</td><td>3407</td><td>15729</td></tr>\n",
       "\t<tr><td>test   </td><td>5301</td><td>17826</td></tr>\n",
       "</tbody>\n",
       "</table>\n"
      ],
      "text/latex": [
       "A tibble: 2 × 3\n",
       "\\begin{tabular}{lll}\n",
       " experiment\\_group & users & attempts\\\\\n",
       " <chr> & <int> & <int>\\\\\n",
       "\\hline\n",
       "\t control & 3407 & 15729\\\\\n",
       "\t test    & 5301 & 17826\\\\\n",
       "\\end{tabular}\n"
      ],
      "text/markdown": [
       "\n",
       "A tibble: 2 × 3\n",
       "\n",
       "| experiment_group &lt;chr&gt; | users &lt;int&gt; | attempts &lt;int&gt; |\n",
       "|---|---|---|\n",
       "| control | 3407 | 15729 |\n",
       "| test    | 5301 | 17826 |\n",
       "\n"
      ],
      "text/plain": [
       "  experiment_group users attempts\n",
       "1 control          3407  15729   \n",
       "2 test             5301  17826   "
      ]
     },
     "metadata": {},
     "output_type": "display_data"
    }
   ],
   "source": [
    "#check overall user bucket number to confirm if buckets are balanced\n",
    "\n",
    "sessions_by_bucket <- edit_sessions %>%\n",
    "  filter(is_ab_test_wiki == 'TRUE',\n",
    "        ) %>% # some test and control events recorded non ab_test_wikis\n",
    "  group_by(experiment_group) %>%\n",
    "  summarise(users = n_distinct(user_id),\n",
    "        attempts = n_distinct(edit_attempt_id))\n",
    "\n",
    "sessions_by_bucket"
   ]
  },
  {
   "cell_type": "markdown",
   "metadata": {},
   "source": [
    "Across all wikis, only 39.1% of users logged attempts in the control group. This is a little lower than expected based on a 50/50 split of users. "
   ]
  },
  {
   "cell_type": "markdown",
   "metadata": {},
   "source": [
    "# Sessions by Buckets and Wiki"
   ]
  },
  {
   "cell_type": "code",
   "execution_count": 63,
   "metadata": {},
   "outputs": [
    {
     "name": "stderr",
     "output_type": "stream",
     "text": [
      "`summarise()` regrouping output by 'experiment_group' (override with `.groups` argument)\n",
      "\n"
     ]
    },
    {
     "data": {
      "text/html": [
       "<table>\n",
       "<caption>A grouped_df: 37 × 4</caption>\n",
       "<thead>\n",
       "\t<tr><th scope=col>experiment_group</th><th scope=col>wiki</th><th scope=col>users</th><th scope=col>attempts</th></tr>\n",
       "\t<tr><th scope=col>&lt;chr&gt;</th><th scope=col>&lt;chr&gt;</th><th scope=col>&lt;int&gt;</th><th scope=col>&lt;int&gt;</th></tr>\n",
       "</thead>\n",
       "<tbody>\n",
       "\t<tr><td>test   </td><td>amwiki </td><td>  3</td><td>   7</td></tr>\n",
       "\t<tr><td>control</td><td>arzwiki</td><td>  2</td><td>   2</td></tr>\n",
       "\t<tr><td>test   </td><td>arzwiki</td><td>  5</td><td>  47</td></tr>\n",
       "\t<tr><td>control</td><td>bnwiki </td><td> 21</td><td>  38</td></tr>\n",
       "\t<tr><td>test   </td><td>bnwiki </td><td> 61</td><td>  92</td></tr>\n",
       "\t<tr><td>control</td><td>eswiki </td><td>445</td><td>1899</td></tr>\n",
       "\t<tr><td>test   </td><td>eswiki </td><td>670</td><td>2159</td></tr>\n",
       "\t<tr><td>control</td><td>fawiki </td><td> 88</td><td> 403</td></tr>\n",
       "\t<tr><td>test   </td><td>fawiki </td><td>224</td><td> 668</td></tr>\n",
       "\t<tr><td>control</td><td>frwiki </td><td>514</td><td>2074</td></tr>\n",
       "\t<tr><td>test   </td><td>frwiki </td><td>861</td><td>2816</td></tr>\n",
       "\t<tr><td>control</td><td>hewiki </td><td>187</td><td>1224</td></tr>\n",
       "\t<tr><td>test   </td><td>hewiki </td><td>251</td><td>1109</td></tr>\n",
       "\t<tr><td>control</td><td>hiwiki </td><td> 17</td><td>  39</td></tr>\n",
       "\t<tr><td>test   </td><td>hiwiki </td><td>122</td><td> 200</td></tr>\n",
       "\t<tr><td>control</td><td>idwiki </td><td> 66</td><td> 319</td></tr>\n",
       "\t<tr><td>test   </td><td>idwiki </td><td>102</td><td> 257</td></tr>\n",
       "\t<tr><td>control</td><td>itwiki </td><td>387</td><td>2075</td></tr>\n",
       "\t<tr><td>test   </td><td>itwiki </td><td>576</td><td>2113</td></tr>\n",
       "\t<tr><td>control</td><td>jawiki </td><td>506</td><td>1602</td></tr>\n",
       "\t<tr><td>test   </td><td>jawiki </td><td>700</td><td>2093</td></tr>\n",
       "\t<tr><td>control</td><td>kowiki </td><td> 58</td><td> 352</td></tr>\n",
       "\t<tr><td>test   </td><td>kowiki </td><td>122</td><td> 434</td></tr>\n",
       "\t<tr><td>control</td><td>nlwiki </td><td>194</td><td>1021</td></tr>\n",
       "\t<tr><td>test   </td><td>nlwiki </td><td>280</td><td> 900</td></tr>\n",
       "\t<tr><td>control</td><td>plwiki </td><td>247</td><td>1161</td></tr>\n",
       "\t<tr><td>test   </td><td>plwiki </td><td>285</td><td>1208</td></tr>\n",
       "\t<tr><td>control</td><td>ptwiki </td><td>194</td><td> 860</td></tr>\n",
       "\t<tr><td>test   </td><td>ptwiki </td><td>314</td><td> 973</td></tr>\n",
       "\t<tr><td>control</td><td>thwiki </td><td> 34</td><td> 280</td></tr>\n",
       "\t<tr><td>test   </td><td>thwiki </td><td> 51</td><td> 121</td></tr>\n",
       "\t<tr><td>control</td><td>ukwiki </td><td>146</td><td> 932</td></tr>\n",
       "\t<tr><td>test   </td><td>ukwiki </td><td>222</td><td> 956</td></tr>\n",
       "\t<tr><td>control</td><td>viwiki </td><td> 41</td><td> 207</td></tr>\n",
       "\t<tr><td>test   </td><td>viwiki </td><td>100</td><td> 358</td></tr>\n",
       "\t<tr><td>control</td><td>zhwiki </td><td>236</td><td>1099</td></tr>\n",
       "\t<tr><td>test   </td><td>zhwiki </td><td>311</td><td>1113</td></tr>\n",
       "</tbody>\n",
       "</table>\n"
      ],
      "text/latex": [
       "A grouped\\_df: 37 × 4\n",
       "\\begin{tabular}{llll}\n",
       " experiment\\_group & wiki & users & attempts\\\\\n",
       " <chr> & <chr> & <int> & <int>\\\\\n",
       "\\hline\n",
       "\t test    & amwiki  &   3 &    7\\\\\n",
       "\t control & arzwiki &   2 &    2\\\\\n",
       "\t test    & arzwiki &   5 &   47\\\\\n",
       "\t control & bnwiki  &  21 &   38\\\\\n",
       "\t test    & bnwiki  &  61 &   92\\\\\n",
       "\t control & eswiki  & 445 & 1899\\\\\n",
       "\t test    & eswiki  & 670 & 2159\\\\\n",
       "\t control & fawiki  &  88 &  403\\\\\n",
       "\t test    & fawiki  & 224 &  668\\\\\n",
       "\t control & frwiki  & 514 & 2074\\\\\n",
       "\t test    & frwiki  & 861 & 2816\\\\\n",
       "\t control & hewiki  & 187 & 1224\\\\\n",
       "\t test    & hewiki  & 251 & 1109\\\\\n",
       "\t control & hiwiki  &  17 &   39\\\\\n",
       "\t test    & hiwiki  & 122 &  200\\\\\n",
       "\t control & idwiki  &  66 &  319\\\\\n",
       "\t test    & idwiki  & 102 &  257\\\\\n",
       "\t control & itwiki  & 387 & 2075\\\\\n",
       "\t test    & itwiki  & 576 & 2113\\\\\n",
       "\t control & jawiki  & 506 & 1602\\\\\n",
       "\t test    & jawiki  & 700 & 2093\\\\\n",
       "\t control & kowiki  &  58 &  352\\\\\n",
       "\t test    & kowiki  & 122 &  434\\\\\n",
       "\t control & nlwiki  & 194 & 1021\\\\\n",
       "\t test    & nlwiki  & 280 &  900\\\\\n",
       "\t control & plwiki  & 247 & 1161\\\\\n",
       "\t test    & plwiki  & 285 & 1208\\\\\n",
       "\t control & ptwiki  & 194 &  860\\\\\n",
       "\t test    & ptwiki  & 314 &  973\\\\\n",
       "\t control & thwiki  &  34 &  280\\\\\n",
       "\t test    & thwiki  &  51 &  121\\\\\n",
       "\t control & ukwiki  & 146 &  932\\\\\n",
       "\t test    & ukwiki  & 222 &  956\\\\\n",
       "\t control & viwiki  &  41 &  207\\\\\n",
       "\t test    & viwiki  & 100 &  358\\\\\n",
       "\t control & zhwiki  & 236 & 1099\\\\\n",
       "\t test    & zhwiki  & 311 & 1113\\\\\n",
       "\\end{tabular}\n"
      ],
      "text/markdown": [
       "\n",
       "A grouped_df: 37 × 4\n",
       "\n",
       "| experiment_group &lt;chr&gt; | wiki &lt;chr&gt; | users &lt;int&gt; | attempts &lt;int&gt; |\n",
       "|---|---|---|---|\n",
       "| test    | amwiki  |   3 |    7 |\n",
       "| control | arzwiki |   2 |    2 |\n",
       "| test    | arzwiki |   5 |   47 |\n",
       "| control | bnwiki  |  21 |   38 |\n",
       "| test    | bnwiki  |  61 |   92 |\n",
       "| control | eswiki  | 445 | 1899 |\n",
       "| test    | eswiki  | 670 | 2159 |\n",
       "| control | fawiki  |  88 |  403 |\n",
       "| test    | fawiki  | 224 |  668 |\n",
       "| control | frwiki  | 514 | 2074 |\n",
       "| test    | frwiki  | 861 | 2816 |\n",
       "| control | hewiki  | 187 | 1224 |\n",
       "| test    | hewiki  | 251 | 1109 |\n",
       "| control | hiwiki  |  17 |   39 |\n",
       "| test    | hiwiki  | 122 |  200 |\n",
       "| control | idwiki  |  66 |  319 |\n",
       "| test    | idwiki  | 102 |  257 |\n",
       "| control | itwiki  | 387 | 2075 |\n",
       "| test    | itwiki  | 576 | 2113 |\n",
       "| control | jawiki  | 506 | 1602 |\n",
       "| test    | jawiki  | 700 | 2093 |\n",
       "| control | kowiki  |  58 |  352 |\n",
       "| test    | kowiki  | 122 |  434 |\n",
       "| control | nlwiki  | 194 | 1021 |\n",
       "| test    | nlwiki  | 280 |  900 |\n",
       "| control | plwiki  | 247 | 1161 |\n",
       "| test    | plwiki  | 285 | 1208 |\n",
       "| control | ptwiki  | 194 |  860 |\n",
       "| test    | ptwiki  | 314 |  973 |\n",
       "| control | thwiki  |  34 |  280 |\n",
       "| test    | thwiki  |  51 |  121 |\n",
       "| control | ukwiki  | 146 |  932 |\n",
       "| test    | ukwiki  | 222 |  956 |\n",
       "| control | viwiki  |  41 |  207 |\n",
       "| test    | viwiki  | 100 |  358 |\n",
       "| control | zhwiki  | 236 | 1099 |\n",
       "| test    | zhwiki  | 311 | 1113 |\n",
       "\n"
      ],
      "text/plain": [
       "   experiment_group wiki    users attempts\n",
       "1  test             amwiki    3      7    \n",
       "2  control          arzwiki   2      2    \n",
       "3  test             arzwiki   5     47    \n",
       "4  control          bnwiki   21     38    \n",
       "5  test             bnwiki   61     92    \n",
       "6  control          eswiki  445   1899    \n",
       "7  test             eswiki  670   2159    \n",
       "8  control          fawiki   88    403    \n",
       "9  test             fawiki  224    668    \n",
       "10 control          frwiki  514   2074    \n",
       "11 test             frwiki  861   2816    \n",
       "12 control          hewiki  187   1224    \n",
       "13 test             hewiki  251   1109    \n",
       "14 control          hiwiki   17     39    \n",
       "15 test             hiwiki  122    200    \n",
       "16 control          idwiki   66    319    \n",
       "17 test             idwiki  102    257    \n",
       "18 control          itwiki  387   2075    \n",
       "19 test             itwiki  576   2113    \n",
       "20 control          jawiki  506   1602    \n",
       "21 test             jawiki  700   2093    \n",
       "22 control          kowiki   58    352    \n",
       "23 test             kowiki  122    434    \n",
       "24 control          nlwiki  194   1021    \n",
       "25 test             nlwiki  280    900    \n",
       "26 control          plwiki  247   1161    \n",
       "27 test             plwiki  285   1208    \n",
       "28 control          ptwiki  194    860    \n",
       "29 test             ptwiki  314    973    \n",
       "30 control          thwiki   34    280    \n",
       "31 test             thwiki   51    121    \n",
       "32 control          ukwiki  146    932    \n",
       "33 test             ukwiki  222    956    \n",
       "34 control          viwiki   41    207    \n",
       "35 test             viwiki  100    358    \n",
       "36 control          zhwiki  236   1099    \n",
       "37 test             zhwiki  311   1113    "
      ]
     },
     "metadata": {},
     "output_type": "display_data"
    }
   ],
   "source": [
    "#check bucket numbers by wiki\n",
    "\n",
    "sessions_by_bucket_wiki <- edit_sessions %>%\n",
    "  filter(is_ab_test_wiki == 'TRUE') %>% # some test and control events recorded non ab_test_wikis\n",
    "  group_by(experiment_group, wiki) %>%\n",
    "  summarise(users = n_distinct(user_id),\n",
    "        attempts = n_distinct(edit_attempt_id)) %>%\n",
    "  arrange(wiki)\n",
    "\n",
    "sessions_by_bucket_wiki"
   ]
  },
  {
   "cell_type": "markdown",
   "metadata": {},
   "source": [
    "No attempts by bucketed users recorded for omwiki - expected as it's a smaller wiki and only been a few days. \n",
    "No control events recorded on am wiki. \n",
    "Control groups has fewer events across all the wikis."
   ]
  },
  {
   "cell_type": "markdown",
   "metadata": {},
   "source": [
    "## Are all events recorded on participating wikis"
   ]
  },
  {
   "cell_type": "code",
   "execution_count": 64,
   "metadata": {},
   "outputs": [
    {
     "name": "stderr",
     "output_type": "stream",
     "text": [
      "`summarise()` ungrouping output (override with `.groups` argument)\n",
      "\n"
     ]
    },
    {
     "data": {
      "text/html": [
       "<table>\n",
       "<caption>A tibble: 2 × 3</caption>\n",
       "<thead>\n",
       "\t<tr><th scope=col>experiment_group</th><th scope=col>users</th><th scope=col>attempts</th></tr>\n",
       "\t<tr><th scope=col>&lt;chr&gt;</th><th scope=col>&lt;int&gt;</th><th scope=col>&lt;int&gt;</th></tr>\n",
       "</thead>\n",
       "<tbody>\n",
       "\t<tr><td>control</td><td>5</td><td>54</td></tr>\n",
       "\t<tr><td>test   </td><td>4</td><td>31</td></tr>\n",
       "</tbody>\n",
       "</table>\n"
      ],
      "text/latex": [
       "A tibble: 2 × 3\n",
       "\\begin{tabular}{lll}\n",
       " experiment\\_group & users & attempts\\\\\n",
       " <chr> & <int> & <int>\\\\\n",
       "\\hline\n",
       "\t control & 5 & 54\\\\\n",
       "\t test    & 4 & 31\\\\\n",
       "\\end{tabular}\n"
      ],
      "text/markdown": [
       "\n",
       "A tibble: 2 × 3\n",
       "\n",
       "| experiment_group &lt;chr&gt; | users &lt;int&gt; | attempts &lt;int&gt; |\n",
       "|---|---|---|\n",
       "| control | 5 | 54 |\n",
       "| test    | 4 | 31 |\n",
       "\n"
      ],
      "text/plain": [
       "  experiment_group users attempts\n",
       "1 control          5     54      \n",
       "2 test             4     31      "
      ]
     },
     "metadata": {},
     "output_type": "display_data"
    }
   ],
   "source": [
    "# check only AB test wikis\n",
    "\n",
    "sessions_by_bucket_notestwikis <- edit_sessions %>%\n",
    "  filter(is_ab_test_wiki == 'FALSE')  %>%\n",
    "  group_by(experiment_group) %>%\n",
    "  summarise(users = n_distinct(user_id),\n",
    "        attempts = n_distinct(edit_attempt_id))\n",
    "\n",
    "sessions_by_bucket_notestwikis"
   ]
  },
  {
   "cell_type": "markdown",
   "metadata": {},
   "source": [
    "ISSUE: We are recording a few AB test and control events on non AB wikis. This might be leftover from a previous test. Need to investigate but the scope of these events won't impact the test. "
   ]
  },
  {
   "cell_type": "markdown",
   "metadata": {},
   "source": [
    "## Are all events on desktop?"
   ]
  },
  {
   "cell_type": "code",
   "execution_count": 66,
   "metadata": {},
   "outputs": [
    {
     "name": "stderr",
     "output_type": "stream",
     "text": [
      "`summarise()` regrouping output by 'experiment_group' (override with `.groups` argument)\n",
      "\n"
     ]
    },
    {
     "data": {
      "text/html": [
       "<table>\n",
       "<caption>A grouped_df: 2 × 4</caption>\n",
       "<thead>\n",
       "\t<tr><th scope=col>experiment_group</th><th scope=col>platform</th><th scope=col>users</th><th scope=col>attempts</th></tr>\n",
       "\t<tr><th scope=col>&lt;chr&gt;</th><th scope=col>&lt;chr&gt;</th><th scope=col>&lt;int&gt;</th><th scope=col>&lt;int&gt;</th></tr>\n",
       "</thead>\n",
       "<tbody>\n",
       "\t<tr><td>control</td><td>desktop</td><td>3388</td><td>15641</td></tr>\n",
       "\t<tr><td>test   </td><td>desktop</td><td>5264</td><td>17655</td></tr>\n",
       "</tbody>\n",
       "</table>\n"
      ],
      "text/latex": [
       "A grouped\\_df: 2 × 4\n",
       "\\begin{tabular}{llll}\n",
       " experiment\\_group & platform & users & attempts\\\\\n",
       " <chr> & <chr> & <int> & <int>\\\\\n",
       "\\hline\n",
       "\t control & desktop & 3388 & 15641\\\\\n",
       "\t test    & desktop & 5264 & 17655\\\\\n",
       "\\end{tabular}\n"
      ],
      "text/markdown": [
       "\n",
       "A grouped_df: 2 × 4\n",
       "\n",
       "| experiment_group &lt;chr&gt; | platform &lt;chr&gt; | users &lt;int&gt; | attempts &lt;int&gt; |\n",
       "|---|---|---|---|\n",
       "| control | desktop | 3388 | 15641 |\n",
       "| test    | desktop | 5264 | 17655 |\n",
       "\n"
      ],
      "text/plain": [
       "  experiment_group platform users attempts\n",
       "1 control          desktop  3388  15641   \n",
       "2 test             desktop  5264  17655   "
      ]
     },
     "metadata": {},
     "output_type": "display_data"
    }
   ],
   "source": [
    "sessions_by_bucket_platform <- edit_sessions %>%\n",
    "  group_by(experiment_group, platform) %>%\n",
    "  summarise(users = n_distinct(user_id),\n",
    "        attempts = n_distinct(edit_attempt_id))\n",
    "\n",
    "sessions_by_bucket_platform"
   ]
  },
  {
   "cell_type": "markdown",
   "metadata": {},
   "source": [
    "PASS: Confirmed only desktop users included in AB test"
   ]
  },
  {
   "cell_type": "markdown",
   "metadata": {},
   "source": [
    "## Are events recorded on all interface types?"
   ]
  },
  {
   "cell_type": "code",
   "execution_count": 67,
   "metadata": {},
   "outputs": [
    {
     "name": "stderr",
     "output_type": "stream",
     "text": [
      "`summarise()` regrouping output by 'experiment_group' (override with `.groups` argument)\n",
      "\n"
     ]
    },
    {
     "data": {
      "text/html": [
       "<table>\n",
       "<caption>A grouped_df: 6 × 4</caption>\n",
       "<thead>\n",
       "\t<tr><th scope=col>experiment_group</th><th scope=col>interface</th><th scope=col>users</th><th scope=col>attempts</th></tr>\n",
       "\t<tr><th scope=col>&lt;chr&gt;</th><th scope=col>&lt;chr&gt;</th><th scope=col>&lt;int&gt;</th><th scope=col>&lt;int&gt;</th></tr>\n",
       "</thead>\n",
       "<tbody>\n",
       "\t<tr><td>control</td><td>visualeditor </td><td>1001</td><td> 2108</td></tr>\n",
       "\t<tr><td>control</td><td>wikitext     </td><td>2299</td><td>11857</td></tr>\n",
       "\t<tr><td>control</td><td>wikitext-2017</td><td> 687</td><td> 2488</td></tr>\n",
       "\t<tr><td>test   </td><td>visualeditor </td><td>2264</td><td> 4045</td></tr>\n",
       "\t<tr><td>test   </td><td>wikitext     </td><td>2454</td><td>10508</td></tr>\n",
       "\t<tr><td>test   </td><td>wikitext-2017</td><td>1347</td><td> 3977</td></tr>\n",
       "</tbody>\n",
       "</table>\n"
      ],
      "text/latex": [
       "A grouped\\_df: 6 × 4\n",
       "\\begin{tabular}{llll}\n",
       " experiment\\_group & interface & users & attempts\\\\\n",
       " <chr> & <chr> & <int> & <int>\\\\\n",
       "\\hline\n",
       "\t control & visualeditor  & 1001 &  2108\\\\\n",
       "\t control & wikitext      & 2299 & 11857\\\\\n",
       "\t control & wikitext-2017 &  687 &  2488\\\\\n",
       "\t test    & visualeditor  & 2264 &  4045\\\\\n",
       "\t test    & wikitext      & 2454 & 10508\\\\\n",
       "\t test    & wikitext-2017 & 1347 &  3977\\\\\n",
       "\\end{tabular}\n"
      ],
      "text/markdown": [
       "\n",
       "A grouped_df: 6 × 4\n",
       "\n",
       "| experiment_group &lt;chr&gt; | interface &lt;chr&gt; | users &lt;int&gt; | attempts &lt;int&gt; |\n",
       "|---|---|---|---|\n",
       "| control | visualeditor  | 1001 |  2108 |\n",
       "| control | wikitext      | 2299 | 11857 |\n",
       "| control | wikitext-2017 |  687 |  2488 |\n",
       "| test    | visualeditor  | 2264 |  4045 |\n",
       "| test    | wikitext      | 2454 | 10508 |\n",
       "| test    | wikitext-2017 | 1347 |  3977 |\n",
       "\n"
      ],
      "text/plain": [
       "  experiment_group interface     users attempts\n",
       "1 control          visualeditor  1001   2108   \n",
       "2 control          wikitext      2299  11857   \n",
       "3 control          wikitext-2017  687   2488   \n",
       "4 test             visualeditor  2264   4045   \n",
       "5 test             wikitext      2454  10508   \n",
       "6 test             wikitext-2017 1347   3977   "
      ]
     },
     "metadata": {},
     "output_type": "display_data"
    }
   ],
   "source": [
    "sessions_by_bucket_interface <- edit_sessions %>%\n",
    "  group_by(experiment_group, interface) %>%\n",
    "  summarise(users = n_distinct(user_id),\n",
    "        attempts = n_distinct(edit_attempt_id))\n",
    "\n",
    "sessions_by_bucket_interface"
   ]
  },
  {
   "cell_type": "markdown",
   "metadata": {},
   "source": [
    "Confirmed that edit attempts in the test are recorded across all interfaces. \n",
    "For the control group, most attempts (58%) were recorded from the wikitext interface. "
   ]
  },
  {
   "cell_type": "markdown",
   "metadata": {},
   "source": [
    "## Are buckets balanced for logged-in and logged-out users?"
   ]
  },
  {
   "cell_type": "code",
   "execution_count": 25,
   "metadata": {},
   "outputs": [
    {
     "name": "stderr",
     "output_type": "stream",
     "text": [
      "`summarise()` regrouping output by 'experiment_group' (override with `.groups` argument)\n",
      "\n"
     ]
    },
    {
     "data": {
      "text/html": [
       "<table>\n",
       "<caption>A grouped_df: 4 × 4</caption>\n",
       "<thead>\n",
       "\t<tr><th scope=col>experiment_group</th><th scope=col>user_is_anonymous_byid</th><th scope=col>users</th><th scope=col>attempts</th></tr>\n",
       "\t<tr><th scope=col>&lt;chr&gt;</th><th scope=col>&lt;chr&gt;</th><th scope=col>&lt;int&gt;</th><th scope=col>&lt;int&gt;</th></tr>\n",
       "</thead>\n",
       "<tbody>\n",
       "\t<tr><td>control</td><td>false</td><td>14274</td><td>99911</td></tr>\n",
       "\t<tr><td>control</td><td>true </td><td> 6175</td><td>11265</td></tr>\n",
       "\t<tr><td>test   </td><td>false</td><td>15113</td><td>95935</td></tr>\n",
       "\t<tr><td>test   </td><td>true </td><td>11210</td><td>18145</td></tr>\n",
       "</tbody>\n",
       "</table>\n"
      ],
      "text/latex": [
       "A grouped\\_df: 4 × 4\n",
       "\\begin{tabular}{llll}\n",
       " experiment\\_group & user\\_is\\_anonymous\\_byid & users & attempts\\\\\n",
       " <chr> & <chr> & <int> & <int>\\\\\n",
       "\\hline\n",
       "\t control & false & 14274 & 99911\\\\\n",
       "\t control & true  &  6175 & 11265\\\\\n",
       "\t test    & false & 15113 & 95935\\\\\n",
       "\t test    & true  & 11210 & 18145\\\\\n",
       "\\end{tabular}\n"
      ],
      "text/markdown": [
       "\n",
       "A grouped_df: 4 × 4\n",
       "\n",
       "| experiment_group &lt;chr&gt; | user_is_anonymous_byid &lt;chr&gt; | users &lt;int&gt; | attempts &lt;int&gt; |\n",
       "|---|---|---|---|\n",
       "| control | false | 14274 | 99911 |\n",
       "| control | true  |  6175 | 11265 |\n",
       "| test    | false | 15113 | 95935 |\n",
       "| test    | true  | 11210 | 18145 |\n",
       "\n"
      ],
      "text/plain": [
       "  experiment_group user_is_anonymous_byid users attempts\n",
       "1 control          false                  14274 99911   \n",
       "2 control          true                    6175 11265   \n",
       "3 test             false                  15113 95935   \n",
       "4 test             true                   11210 18145   "
      ]
     },
     "metadata": {},
     "output_type": "display_data"
    }
   ],
   "source": [
    "# check by user_is_anonymous_byid\n",
    "\n",
    "sessions_by_bucket_anon_byid <- edit_sessions %>%\n",
    "  filter(is_ab_test_wiki == 'TRUE')  %>%\n",
    "  group_by(experiment_group, user_is_anonymous_byid) %>%\n",
    "  summarise(users = n_distinct(user_id),\n",
    "        attempts = n_distinct(edit_attempt_id))\n",
    "\n",
    "sessions_by_bucket_anon_byid "
   ]
  },
  {
   "cell_type": "code",
   "execution_count": 103,
   "metadata": {},
   "outputs": [
    {
     "name": "stderr",
     "output_type": "stream",
     "text": [
      "`summarise()` regrouping output by 'experiment_group' (override with `.groups` argument)\n",
      "\n"
     ]
    },
    {
     "data": {
      "text/html": [
       "<table>\n",
       "<caption>A grouped_df: 4 × 4</caption>\n",
       "<thead>\n",
       "\t<tr><th scope=col>experiment_group</th><th scope=col>user_is_anonymous_bytoken</th><th scope=col>users</th><th scope=col>attempts</th></tr>\n",
       "\t<tr><th scope=col>&lt;chr&gt;</th><th scope=col>&lt;chr&gt;</th><th scope=col>&lt;int&gt;</th><th scope=col>&lt;int&gt;</th></tr>\n",
       "</thead>\n",
       "<tbody>\n",
       "\t<tr><td>control</td><td>false</td><td>6175</td><td>36268</td></tr>\n",
       "\t<tr><td>control</td><td>true </td><td> 790</td><td> 1114</td></tr>\n",
       "\t<tr><td>test   </td><td>false</td><td>6860</td><td>33905</td></tr>\n",
       "\t<tr><td>test   </td><td>true </td><td>3040</td><td> 4028</td></tr>\n",
       "</tbody>\n",
       "</table>\n"
      ],
      "text/latex": [
       "A grouped\\_df: 4 × 4\n",
       "\\begin{tabular}{llll}\n",
       " experiment\\_group & user\\_is\\_anonymous\\_bytoken & users & attempts\\\\\n",
       " <chr> & <chr> & <int> & <int>\\\\\n",
       "\\hline\n",
       "\t control & false & 6175 & 36268\\\\\n",
       "\t control & true  &  790 &  1114\\\\\n",
       "\t test    & false & 6860 & 33905\\\\\n",
       "\t test    & true  & 3040 &  4028\\\\\n",
       "\\end{tabular}\n"
      ],
      "text/markdown": [
       "\n",
       "A grouped_df: 4 × 4\n",
       "\n",
       "| experiment_group &lt;chr&gt; | user_is_anonymous_bytoken &lt;chr&gt; | users &lt;int&gt; | attempts &lt;int&gt; |\n",
       "|---|---|---|---|\n",
       "| control | false | 6175 | 36268 |\n",
       "| control | true  |  790 |  1114 |\n",
       "| test    | false | 6860 | 33905 |\n",
       "| test    | true  | 3040 |  4028 |\n",
       "\n"
      ],
      "text/plain": [
       "  experiment_group user_is_anonymous_bytoken users attempts\n",
       "1 control          false                     6175  36268   \n",
       "2 control          true                       790   1114   \n",
       "3 test             false                     6860  33905   \n",
       "4 test             true                      3040   4028   "
      ]
     },
     "metadata": {},
     "output_type": "display_data"
    }
   ],
   "source": [
    "# by token\n",
    "\n",
    "sessions_by_bucket_anon_bytoken <- edit_sessions %>%\n",
    "  filter(is_ab_test_wiki == 'TRUE')  %>%\n",
    "  group_by(experiment_group, user_is_anonymous_bytoken) %>%\n",
    "  summarise(users = n_distinct(user_id),\n",
    "        attempts = n_distinct(edit_attempt_id))\n",
    "\n",
    "sessions_by_bucket_anon_bytoken"
   ]
  },
  {
   "cell_type": "code",
   "execution_count": 71,
   "metadata": {},
   "outputs": [
    {
     "name": "stderr",
     "output_type": "stream",
     "text": [
      "`summarise()` regrouping output by 'experiment_group' (override with `.groups` argument)\n",
      "\n"
     ]
    },
    {
     "data": {
      "text/html": [
       "<table>\n",
       "<caption>A grouped_df: 4 × 4</caption>\n",
       "<thead>\n",
       "\t<tr><th scope=col>experiment_group</th><th scope=col>user_is_registered</th><th scope=col>users</th><th scope=col>attempts</th></tr>\n",
       "\t<tr><th scope=col>&lt;chr&gt;</th><th scope=col>&lt;chr&gt;</th><th scope=col>&lt;int&gt;</th><th scope=col>&lt;int&gt;</th></tr>\n",
       "</thead>\n",
       "<tbody>\n",
       "\t<tr><td>control</td><td>false</td><td> 377</td><td>  555</td></tr>\n",
       "\t<tr><td>control</td><td>true </td><td>3006</td><td>15033</td></tr>\n",
       "\t<tr><td>test   </td><td>false</td><td>1627</td><td> 2156</td></tr>\n",
       "\t<tr><td>test   </td><td>true </td><td>3633</td><td>15468</td></tr>\n",
       "</tbody>\n",
       "</table>\n"
      ],
      "text/latex": [
       "A grouped\\_df: 4 × 4\n",
       "\\begin{tabular}{llll}\n",
       " experiment\\_group & user\\_is\\_registered & users & attempts\\\\\n",
       " <chr> & <chr> & <int> & <int>\\\\\n",
       "\\hline\n",
       "\t control & false &  377 &   555\\\\\n",
       "\t control & true  & 3006 & 15033\\\\\n",
       "\t test    & false & 1627 &  2156\\\\\n",
       "\t test    & true  & 3633 & 15468\\\\\n",
       "\\end{tabular}\n"
      ],
      "text/markdown": [
       "\n",
       "A grouped_df: 4 × 4\n",
       "\n",
       "| experiment_group &lt;chr&gt; | user_is_registered &lt;chr&gt; | users &lt;int&gt; | attempts &lt;int&gt; |\n",
       "|---|---|---|---|\n",
       "| control | false |  377 |   555 |\n",
       "| control | true  | 3006 | 15033 |\n",
       "| test    | false | 1627 |  2156 |\n",
       "| test    | true  | 3633 | 15468 |\n",
       "\n"
      ],
      "text/plain": [
       "  experiment_group user_is_registered users attempts\n",
       "1 control          false               377    555   \n",
       "2 control          true               3006  15033   \n",
       "3 test             false              1627   2156   \n",
       "4 test             true               3633  15468   "
      ]
     },
     "metadata": {},
     "output_type": "display_data"
    }
   ],
   "source": [
    "# by user is registered\n",
    "sessions_by_bucket_anon_registered <- edit_sessions %>%\n",
    "  filter(is_ab_test_wiki == 'TRUE')  %>%\n",
    "  group_by(experiment_group, user_is_registered) %>%\n",
    "  summarise(users = n_distinct(user_id),\n",
    "        attempts = n_distinct(edit_attempt_id))\n",
    "\n",
    "sessions_by_bucket_anon_registered"
   ]
  },
  {
   "cell_type": "markdown",
   "metadata": {},
   "source": [
    "Confirmed the attempts in the test group appear as expected based on a 50/50 split.\n",
    "ISSUE: It look like the imbalance is caused by the logged-out group. Only 19% of bucketedlogged-out users are included in the control group across all participating wikis. \n",
    "\n",
    "Update: Now 40% of users are in the control group"
   ]
  },
  {
   "cell_type": "code",
   "execution_count": 73,
   "metadata": {},
   "outputs": [
    {
     "name": "stderr",
     "output_type": "stream",
     "text": [
      "`summarise()` regrouping output by 'experiment_group', 'user_is_anonymous_byid' (override with `.groups` argument)\n",
      "\n"
     ]
    },
    {
     "data": {
      "text/html": [
       "<table>\n",
       "<caption>A grouped_df: 73 × 5</caption>\n",
       "<thead>\n",
       "\t<tr><th scope=col>experiment_group</th><th scope=col>user_is_anonymous_byid</th><th scope=col>wiki</th><th scope=col>users</th><th scope=col>attempts</th></tr>\n",
       "\t<tr><th scope=col>&lt;chr&gt;</th><th scope=col>&lt;chr&gt;</th><th scope=col>&lt;chr&gt;</th><th scope=col>&lt;int&gt;</th><th scope=col>&lt;int&gt;</th></tr>\n",
       "</thead>\n",
       "<tbody>\n",
       "\t<tr><td>test   </td><td>false</td><td>amwiki </td><td>  2</td><td>   6</td></tr>\n",
       "\t<tr><td>test   </td><td>true </td><td>amwiki </td><td>  1</td><td>   1</td></tr>\n",
       "\t<tr><td>control</td><td>false</td><td>arzwiki</td><td>  2</td><td>   2</td></tr>\n",
       "\t<tr><td>test   </td><td>false</td><td>arzwiki</td><td>  4</td><td>  46</td></tr>\n",
       "\t<tr><td>test   </td><td>true </td><td>arzwiki</td><td>  1</td><td>   1</td></tr>\n",
       "\t<tr><td>control</td><td>false</td><td>bnwiki </td><td> 17</td><td>  33</td></tr>\n",
       "\t<tr><td>control</td><td>true </td><td>bnwiki </td><td>  4</td><td>   5</td></tr>\n",
       "\t<tr><td>test   </td><td>false</td><td>bnwiki </td><td> 22</td><td>  52</td></tr>\n",
       "\t<tr><td>test   </td><td>true </td><td>bnwiki </td><td> 39</td><td>  40</td></tr>\n",
       "\t<tr><td>control</td><td>false</td><td>eswiki </td><td>404</td><td>1837</td></tr>\n",
       "\t<tr><td>control</td><td>true </td><td>eswiki </td><td> 41</td><td>  62</td></tr>\n",
       "\t<tr><td>test   </td><td>false</td><td>eswiki </td><td>461</td><td>1849</td></tr>\n",
       "\t<tr><td>test   </td><td>true </td><td>eswiki </td><td>209</td><td> 310</td></tr>\n",
       "\t<tr><td>control</td><td>false</td><td>fawiki </td><td> 77</td><td> 389</td></tr>\n",
       "\t<tr><td>control</td><td>true </td><td>fawiki </td><td> 11</td><td>  14</td></tr>\n",
       "\t<tr><td>test   </td><td>false</td><td>fawiki </td><td>142</td><td> 563</td></tr>\n",
       "\t<tr><td>test   </td><td>true </td><td>fawiki </td><td> 82</td><td> 105</td></tr>\n",
       "\t<tr><td>control</td><td>false</td><td>frwiki </td><td>466</td><td>2002</td></tr>\n",
       "\t<tr><td>control</td><td>true </td><td>frwiki </td><td> 48</td><td>  72</td></tr>\n",
       "\t<tr><td>test   </td><td>false</td><td>frwiki </td><td>562</td><td>2467</td></tr>\n",
       "\t<tr><td>test   </td><td>true </td><td>frwiki </td><td>299</td><td> 349</td></tr>\n",
       "\t<tr><td>control</td><td>false</td><td>hewiki </td><td>144</td><td>1158</td></tr>\n",
       "\t<tr><td>control</td><td>true </td><td>hewiki </td><td> 43</td><td>  66</td></tr>\n",
       "\t<tr><td>test   </td><td>false</td><td>hewiki </td><td>177</td><td> 968</td></tr>\n",
       "\t<tr><td>test   </td><td>true </td><td>hewiki </td><td> 74</td><td> 141</td></tr>\n",
       "\t<tr><td>control</td><td>false</td><td>hiwiki </td><td>  9</td><td>  31</td></tr>\n",
       "\t<tr><td>control</td><td>true </td><td>hiwiki </td><td>  8</td><td>   8</td></tr>\n",
       "\t<tr><td>test   </td><td>false</td><td>hiwiki </td><td> 14</td><td>  87</td></tr>\n",
       "\t<tr><td>test   </td><td>true </td><td>hiwiki </td><td>108</td><td> 113</td></tr>\n",
       "\t<tr><td>control</td><td>false</td><td>idwiki </td><td> 64</td><td> 317</td></tr>\n",
       "\t<tr><td>⋮</td><td>⋮</td><td>⋮</td><td>⋮</td><td>⋮</td></tr>\n",
       "\t<tr><td>test   </td><td>false</td><td>kowiki</td><td> 75</td><td> 352</td></tr>\n",
       "\t<tr><td>test   </td><td>true </td><td>kowiki</td><td> 47</td><td>  82</td></tr>\n",
       "\t<tr><td>control</td><td>false</td><td>nlwiki</td><td>172</td><td> 994</td></tr>\n",
       "\t<tr><td>control</td><td>true </td><td>nlwiki</td><td> 22</td><td>  27</td></tr>\n",
       "\t<tr><td>test   </td><td>false</td><td>nlwiki</td><td>206</td><td> 818</td></tr>\n",
       "\t<tr><td>test   </td><td>true </td><td>nlwiki</td><td> 74</td><td>  82</td></tr>\n",
       "\t<tr><td>control</td><td>false</td><td>plwiki</td><td>216</td><td>1125</td></tr>\n",
       "\t<tr><td>control</td><td>true </td><td>plwiki</td><td> 31</td><td>  37</td></tr>\n",
       "\t<tr><td>test   </td><td>false</td><td>plwiki</td><td>218</td><td>1110</td></tr>\n",
       "\t<tr><td>test   </td><td>true </td><td>plwiki</td><td> 67</td><td>  98</td></tr>\n",
       "\t<tr><td>control</td><td>false</td><td>ptwiki</td><td>179</td><td> 836</td></tr>\n",
       "\t<tr><td>control</td><td>true </td><td>ptwiki</td><td> 15</td><td>  24</td></tr>\n",
       "\t<tr><td>test   </td><td>false</td><td>ptwiki</td><td>237</td><td> 885</td></tr>\n",
       "\t<tr><td>test   </td><td>true </td><td>ptwiki</td><td> 77</td><td>  88</td></tr>\n",
       "\t<tr><td>control</td><td>false</td><td>thwiki</td><td> 31</td><td> 277</td></tr>\n",
       "\t<tr><td>control</td><td>true </td><td>thwiki</td><td>  3</td><td>   3</td></tr>\n",
       "\t<tr><td>test   </td><td>false</td><td>thwiki</td><td> 27</td><td>  97</td></tr>\n",
       "\t<tr><td>test   </td><td>true </td><td>thwiki</td><td> 24</td><td>  24</td></tr>\n",
       "\t<tr><td>control</td><td>false</td><td>ukwiki</td><td>136</td><td> 920</td></tr>\n",
       "\t<tr><td>control</td><td>true </td><td>ukwiki</td><td> 10</td><td>  12</td></tr>\n",
       "\t<tr><td>test   </td><td>false</td><td>ukwiki</td><td>198</td><td> 925</td></tr>\n",
       "\t<tr><td>test   </td><td>true </td><td>ukwiki</td><td> 24</td><td>  31</td></tr>\n",
       "\t<tr><td>control</td><td>false</td><td>viwiki</td><td> 37</td><td> 203</td></tr>\n",
       "\t<tr><td>control</td><td>true </td><td>viwiki</td><td>  4</td><td>   4</td></tr>\n",
       "\t<tr><td>test   </td><td>false</td><td>viwiki</td><td> 61</td><td> 296</td></tr>\n",
       "\t<tr><td>test   </td><td>true </td><td>viwiki</td><td> 39</td><td>  62</td></tr>\n",
       "\t<tr><td>control</td><td>false</td><td>zhwiki</td><td>219</td><td>1075</td></tr>\n",
       "\t<tr><td>control</td><td>true </td><td>zhwiki</td><td> 17</td><td>  24</td></tr>\n",
       "\t<tr><td>test   </td><td>false</td><td>zhwiki</td><td>273</td><td>1067</td></tr>\n",
       "\t<tr><td>test   </td><td>true </td><td>zhwiki</td><td> 38</td><td>  46</td></tr>\n",
       "</tbody>\n",
       "</table>\n"
      ],
      "text/latex": [
       "A grouped\\_df: 73 × 5\n",
       "\\begin{tabular}{lllll}\n",
       " experiment\\_group & user\\_is\\_anonymous\\_byid & wiki & users & attempts\\\\\n",
       " <chr> & <chr> & <chr> & <int> & <int>\\\\\n",
       "\\hline\n",
       "\t test    & false & amwiki  &   2 &    6\\\\\n",
       "\t test    & true  & amwiki  &   1 &    1\\\\\n",
       "\t control & false & arzwiki &   2 &    2\\\\\n",
       "\t test    & false & arzwiki &   4 &   46\\\\\n",
       "\t test    & true  & arzwiki &   1 &    1\\\\\n",
       "\t control & false & bnwiki  &  17 &   33\\\\\n",
       "\t control & true  & bnwiki  &   4 &    5\\\\\n",
       "\t test    & false & bnwiki  &  22 &   52\\\\\n",
       "\t test    & true  & bnwiki  &  39 &   40\\\\\n",
       "\t control & false & eswiki  & 404 & 1837\\\\\n",
       "\t control & true  & eswiki  &  41 &   62\\\\\n",
       "\t test    & false & eswiki  & 461 & 1849\\\\\n",
       "\t test    & true  & eswiki  & 209 &  310\\\\\n",
       "\t control & false & fawiki  &  77 &  389\\\\\n",
       "\t control & true  & fawiki  &  11 &   14\\\\\n",
       "\t test    & false & fawiki  & 142 &  563\\\\\n",
       "\t test    & true  & fawiki  &  82 &  105\\\\\n",
       "\t control & false & frwiki  & 466 & 2002\\\\\n",
       "\t control & true  & frwiki  &  48 &   72\\\\\n",
       "\t test    & false & frwiki  & 562 & 2467\\\\\n",
       "\t test    & true  & frwiki  & 299 &  349\\\\\n",
       "\t control & false & hewiki  & 144 & 1158\\\\\n",
       "\t control & true  & hewiki  &  43 &   66\\\\\n",
       "\t test    & false & hewiki  & 177 &  968\\\\\n",
       "\t test    & true  & hewiki  &  74 &  141\\\\\n",
       "\t control & false & hiwiki  &   9 &   31\\\\\n",
       "\t control & true  & hiwiki  &   8 &    8\\\\\n",
       "\t test    & false & hiwiki  &  14 &   87\\\\\n",
       "\t test    & true  & hiwiki  & 108 &  113\\\\\n",
       "\t control & false & idwiki  &  64 &  317\\\\\n",
       "\t ⋮ & ⋮ & ⋮ & ⋮ & ⋮\\\\\n",
       "\t test    & false & kowiki &  75 &  352\\\\\n",
       "\t test    & true  & kowiki &  47 &   82\\\\\n",
       "\t control & false & nlwiki & 172 &  994\\\\\n",
       "\t control & true  & nlwiki &  22 &   27\\\\\n",
       "\t test    & false & nlwiki & 206 &  818\\\\\n",
       "\t test    & true  & nlwiki &  74 &   82\\\\\n",
       "\t control & false & plwiki & 216 & 1125\\\\\n",
       "\t control & true  & plwiki &  31 &   37\\\\\n",
       "\t test    & false & plwiki & 218 & 1110\\\\\n",
       "\t test    & true  & plwiki &  67 &   98\\\\\n",
       "\t control & false & ptwiki & 179 &  836\\\\\n",
       "\t control & true  & ptwiki &  15 &   24\\\\\n",
       "\t test    & false & ptwiki & 237 &  885\\\\\n",
       "\t test    & true  & ptwiki &  77 &   88\\\\\n",
       "\t control & false & thwiki &  31 &  277\\\\\n",
       "\t control & true  & thwiki &   3 &    3\\\\\n",
       "\t test    & false & thwiki &  27 &   97\\\\\n",
       "\t test    & true  & thwiki &  24 &   24\\\\\n",
       "\t control & false & ukwiki & 136 &  920\\\\\n",
       "\t control & true  & ukwiki &  10 &   12\\\\\n",
       "\t test    & false & ukwiki & 198 &  925\\\\\n",
       "\t test    & true  & ukwiki &  24 &   31\\\\\n",
       "\t control & false & viwiki &  37 &  203\\\\\n",
       "\t control & true  & viwiki &   4 &    4\\\\\n",
       "\t test    & false & viwiki &  61 &  296\\\\\n",
       "\t test    & true  & viwiki &  39 &   62\\\\\n",
       "\t control & false & zhwiki & 219 & 1075\\\\\n",
       "\t control & true  & zhwiki &  17 &   24\\\\\n",
       "\t test    & false & zhwiki & 273 & 1067\\\\\n",
       "\t test    & true  & zhwiki &  38 &   46\\\\\n",
       "\\end{tabular}\n"
      ],
      "text/markdown": [
       "\n",
       "A grouped_df: 73 × 5\n",
       "\n",
       "| experiment_group &lt;chr&gt; | user_is_anonymous_byid &lt;chr&gt; | wiki &lt;chr&gt; | users &lt;int&gt; | attempts &lt;int&gt; |\n",
       "|---|---|---|---|---|\n",
       "| test    | false | amwiki  |   2 |    6 |\n",
       "| test    | true  | amwiki  |   1 |    1 |\n",
       "| control | false | arzwiki |   2 |    2 |\n",
       "| test    | false | arzwiki |   4 |   46 |\n",
       "| test    | true  | arzwiki |   1 |    1 |\n",
       "| control | false | bnwiki  |  17 |   33 |\n",
       "| control | true  | bnwiki  |   4 |    5 |\n",
       "| test    | false | bnwiki  |  22 |   52 |\n",
       "| test    | true  | bnwiki  |  39 |   40 |\n",
       "| control | false | eswiki  | 404 | 1837 |\n",
       "| control | true  | eswiki  |  41 |   62 |\n",
       "| test    | false | eswiki  | 461 | 1849 |\n",
       "| test    | true  | eswiki  | 209 |  310 |\n",
       "| control | false | fawiki  |  77 |  389 |\n",
       "| control | true  | fawiki  |  11 |   14 |\n",
       "| test    | false | fawiki  | 142 |  563 |\n",
       "| test    | true  | fawiki  |  82 |  105 |\n",
       "| control | false | frwiki  | 466 | 2002 |\n",
       "| control | true  | frwiki  |  48 |   72 |\n",
       "| test    | false | frwiki  | 562 | 2467 |\n",
       "| test    | true  | frwiki  | 299 |  349 |\n",
       "| control | false | hewiki  | 144 | 1158 |\n",
       "| control | true  | hewiki  |  43 |   66 |\n",
       "| test    | false | hewiki  | 177 |  968 |\n",
       "| test    | true  | hewiki  |  74 |  141 |\n",
       "| control | false | hiwiki  |   9 |   31 |\n",
       "| control | true  | hiwiki  |   8 |    8 |\n",
       "| test    | false | hiwiki  |  14 |   87 |\n",
       "| test    | true  | hiwiki  | 108 |  113 |\n",
       "| control | false | idwiki  |  64 |  317 |\n",
       "| ⋮ | ⋮ | ⋮ | ⋮ | ⋮ |\n",
       "| test    | false | kowiki |  75 |  352 |\n",
       "| test    | true  | kowiki |  47 |   82 |\n",
       "| control | false | nlwiki | 172 |  994 |\n",
       "| control | true  | nlwiki |  22 |   27 |\n",
       "| test    | false | nlwiki | 206 |  818 |\n",
       "| test    | true  | nlwiki |  74 |   82 |\n",
       "| control | false | plwiki | 216 | 1125 |\n",
       "| control | true  | plwiki |  31 |   37 |\n",
       "| test    | false | plwiki | 218 | 1110 |\n",
       "| test    | true  | plwiki |  67 |   98 |\n",
       "| control | false | ptwiki | 179 |  836 |\n",
       "| control | true  | ptwiki |  15 |   24 |\n",
       "| test    | false | ptwiki | 237 |  885 |\n",
       "| test    | true  | ptwiki |  77 |   88 |\n",
       "| control | false | thwiki |  31 |  277 |\n",
       "| control | true  | thwiki |   3 |    3 |\n",
       "| test    | false | thwiki |  27 |   97 |\n",
       "| test    | true  | thwiki |  24 |   24 |\n",
       "| control | false | ukwiki | 136 |  920 |\n",
       "| control | true  | ukwiki |  10 |   12 |\n",
       "| test    | false | ukwiki | 198 |  925 |\n",
       "| test    | true  | ukwiki |  24 |   31 |\n",
       "| control | false | viwiki |  37 |  203 |\n",
       "| control | true  | viwiki |   4 |    4 |\n",
       "| test    | false | viwiki |  61 |  296 |\n",
       "| test    | true  | viwiki |  39 |   62 |\n",
       "| control | false | zhwiki | 219 | 1075 |\n",
       "| control | true  | zhwiki |  17 |   24 |\n",
       "| test    | false | zhwiki | 273 | 1067 |\n",
       "| test    | true  | zhwiki |  38 |   46 |\n",
       "\n"
      ],
      "text/plain": [
       "   experiment_group user_is_anonymous_byid wiki    users attempts\n",
       "1  test             false                  amwiki    2      6    \n",
       "2  test             true                   amwiki    1      1    \n",
       "3  control          false                  arzwiki   2      2    \n",
       "4  test             false                  arzwiki   4     46    \n",
       "5  test             true                   arzwiki   1      1    \n",
       "6  control          false                  bnwiki   17     33    \n",
       "7  control          true                   bnwiki    4      5    \n",
       "8  test             false                  bnwiki   22     52    \n",
       "9  test             true                   bnwiki   39     40    \n",
       "10 control          false                  eswiki  404   1837    \n",
       "11 control          true                   eswiki   41     62    \n",
       "12 test             false                  eswiki  461   1849    \n",
       "13 test             true                   eswiki  209    310    \n",
       "14 control          false                  fawiki   77    389    \n",
       "15 control          true                   fawiki   11     14    \n",
       "16 test             false                  fawiki  142    563    \n",
       "17 test             true                   fawiki   82    105    \n",
       "18 control          false                  frwiki  466   2002    \n",
       "19 control          true                   frwiki   48     72    \n",
       "20 test             false                  frwiki  562   2467    \n",
       "21 test             true                   frwiki  299    349    \n",
       "22 control          false                  hewiki  144   1158    \n",
       "23 control          true                   hewiki   43     66    \n",
       "24 test             false                  hewiki  177    968    \n",
       "25 test             true                   hewiki   74    141    \n",
       "26 control          false                  hiwiki    9     31    \n",
       "27 control          true                   hiwiki    8      8    \n",
       "28 test             false                  hiwiki   14     87    \n",
       "29 test             true                   hiwiki  108    113    \n",
       "30 control          false                  idwiki   64    317    \n",
       "⋮  ⋮                ⋮                      ⋮       ⋮     ⋮       \n",
       "44 test             false                  kowiki   75    352    \n",
       "45 test             true                   kowiki   47     82    \n",
       "46 control          false                  nlwiki  172    994    \n",
       "47 control          true                   nlwiki   22     27    \n",
       "48 test             false                  nlwiki  206    818    \n",
       "49 test             true                   nlwiki   74     82    \n",
       "50 control          false                  plwiki  216   1125    \n",
       "51 control          true                   plwiki   31     37    \n",
       "52 test             false                  plwiki  218   1110    \n",
       "53 test             true                   plwiki   67     98    \n",
       "54 control          false                  ptwiki  179    836    \n",
       "55 control          true                   ptwiki   15     24    \n",
       "56 test             false                  ptwiki  237    885    \n",
       "57 test             true                   ptwiki   77     88    \n",
       "58 control          false                  thwiki   31    277    \n",
       "59 control          true                   thwiki    3      3    \n",
       "60 test             false                  thwiki   27     97    \n",
       "61 test             true                   thwiki   24     24    \n",
       "62 control          false                  ukwiki  136    920    \n",
       "63 control          true                   ukwiki   10     12    \n",
       "64 test             false                  ukwiki  198    925    \n",
       "65 test             true                   ukwiki   24     31    \n",
       "66 control          false                  viwiki   37    203    \n",
       "67 control          true                   viwiki    4      4    \n",
       "68 test             false                  viwiki   61    296    \n",
       "69 test             true                   viwiki   39     62    \n",
       "70 control          false                  zhwiki  219   1075    \n",
       "71 control          true                   zhwiki   17     24    \n",
       "72 test             false                  zhwiki  273   1067    \n",
       "73 test             true                   zhwiki   38     46    "
      ]
     },
     "metadata": {},
     "output_type": "display_data"
    }
   ],
   "source": [
    "# confirm if this is happening on 1 particular wiki\n",
    "\n",
    "sessions_by_bucket_anon_wiki <- edit_sessions %>%\n",
    "  filter(is_ab_test_wiki == 'TRUE')  %>%\n",
    "  group_by(experiment_group, user_is_anonymous_byid, wiki) %>%\n",
    "  summarise(users = n_distinct(user_id),\n",
    "        attempts = n_distinct(edit_attempt_id)) %>%\n",
    "  arrange(wiki)\n",
    "\n",
    "sessions_by_bucket_anon_wiki"
   ]
  },
  {
   "cell_type": "code",
   "execution_count": null,
   "metadata": {},
   "outputs": [],
   "source": [
    "Discrepancy appears to be happening across all wikis."
   ]
  },
  {
   "cell_type": "markdown",
   "metadata": {},
   "source": [
    "# Check Oversampling impact"
   ]
  },
  {
   "cell_type": "code",
   "execution_count": 93,
   "metadata": {},
   "outputs": [
    {
     "name": "stderr",
     "output_type": "stream",
     "text": [
      "`summarise()` regrouping output by 'experiment_group' (override with `.groups` argument)\n",
      "\n"
     ]
    },
    {
     "data": {
      "text/html": [
       "<table>\n",
       "<caption>A grouped_df: 4 × 4</caption>\n",
       "<thead>\n",
       "\t<tr><th scope=col>experiment_group</th><th scope=col>is_oversample</th><th scope=col>users</th><th scope=col>attempts</th></tr>\n",
       "\t<tr><th scope=col>&lt;chr&gt;</th><th scope=col>&lt;chr&gt;</th><th scope=col>&lt;int&gt;</th><th scope=col>&lt;int&gt;</th></tr>\n",
       "</thead>\n",
       "<tbody>\n",
       "\t<tr><td>control</td><td>false</td><td>2485</td><td>12190</td></tr>\n",
       "\t<tr><td>control</td><td>true </td><td>1297</td><td> 3540</td></tr>\n",
       "\t<tr><td>test   </td><td>false</td><td>2649</td><td>10986</td></tr>\n",
       "\t<tr><td>test   </td><td>true </td><td>3172</td><td> 6840</td></tr>\n",
       "</tbody>\n",
       "</table>\n"
      ],
      "text/latex": [
       "A grouped\\_df: 4 × 4\n",
       "\\begin{tabular}{llll}\n",
       " experiment\\_group & is\\_oversample & users & attempts\\\\\n",
       " <chr> & <chr> & <int> & <int>\\\\\n",
       "\\hline\n",
       "\t control & false & 2485 & 12190\\\\\n",
       "\t control & true  & 1297 &  3540\\\\\n",
       "\t test    & false & 2649 & 10986\\\\\n",
       "\t test    & true  & 3172 &  6840\\\\\n",
       "\\end{tabular}\n"
      ],
      "text/markdown": [
       "\n",
       "A grouped_df: 4 × 4\n",
       "\n",
       "| experiment_group &lt;chr&gt; | is_oversample &lt;chr&gt; | users &lt;int&gt; | attempts &lt;int&gt; |\n",
       "|---|---|---|---|\n",
       "| control | false | 2485 | 12190 |\n",
       "| control | true  | 1297 |  3540 |\n",
       "| test    | false | 2649 | 10986 |\n",
       "| test    | true  | 3172 |  6840 |\n",
       "\n"
      ],
      "text/plain": [
       "  experiment_group is_oversample users attempts\n",
       "1 control          false         2485  12190   \n",
       "2 control          true          1297   3540   \n",
       "3 test             false         2649  10986   \n",
       "4 test             true          3172   6840   "
      ]
     },
     "metadata": {},
     "output_type": "display_data"
    }
   ],
   "source": [
    "sessions_by_oversample <- edit_sessions %>%\n",
    "  filter(is_ab_test_wiki == 'TRUE') %>% # some test and control events recorded non ab_test_wikis\n",
    "  group_by(experiment_group, is_oversample) %>%\n",
    "  summarise(users = n_distinct(user_id),\n",
    "        attempts = n_distinct(edit_attempt_id))\n",
    "\n",
    "sessions_by_oversample"
   ]
  },
  {
   "cell_type": "code",
   "execution_count": null,
   "metadata": {},
   "outputs": [],
   "source": [
    "Fewer users in the control group that are oversampled. Might be something more to investigate here."
   ]
  },
  {
   "cell_type": "markdown",
   "metadata": {},
   "source": [
    "## Check attempts by integration"
   ]
  },
  {
   "cell_type": "code",
   "execution_count": null,
   "metadata": {},
   "outputs": [],
   "source": [
    "# by integration\n",
    "sessions_by_bucket_integration <- edit_sessions %>%\n",
    "  filter(is_ab_test_wiki == 'TRUE',\n",
    "        is_talk_page == 'true')  %>%\n",
    "  group_by(experiment_group, integration, user_is_registered) %>%\n",
    "  summarise(users = n_distinct(user_id),\n",
    "        attempts = n_distinct(edit_attempt_id))\n",
    "\n",
    "sessions_by_bucket_integration"
   ]
  },
  {
   "cell_type": "markdown",
   "metadata": {},
   "source": [
    "Only discussion tool events are being used by logged-out users."
   ]
  },
  {
   "cell_type": "markdown",
   "metadata": {},
   "source": [
    "## Check oversampling impact"
   ]
  },
  {
   "cell_type": "code",
   "execution_count": 89,
   "metadata": {},
   "outputs": [
    {
     "name": "stderr",
     "output_type": "stream",
     "text": [
      "`summarise()` regrouping output by 'experiment_group', 'integration', 'is_oversample' (override with `.groups` argument)\n",
      "\n"
     ]
    },
    {
     "data": {
      "text/html": [
       "<table>\n",
       "<caption>A grouped_df: 12 × 6</caption>\n",
       "<thead>\n",
       "\t<tr><th scope=col>experiment_group</th><th scope=col>integration</th><th scope=col>is_oversample</th><th scope=col>user_is_registered</th><th scope=col>users</th><th scope=col>attempts</th></tr>\n",
       "\t<tr><th scope=col>&lt;chr&gt;</th><th scope=col>&lt;chr&gt;</th><th scope=col>&lt;chr&gt;</th><th scope=col>&lt;chr&gt;</th><th scope=col>&lt;int&gt;</th><th scope=col>&lt;int&gt;</th></tr>\n",
       "</thead>\n",
       "<tbody>\n",
       "\t<tr><td>control</td><td>discussiontools</td><td>false</td><td>false</td><td>  28</td><td>  29</td></tr>\n",
       "\t<tr><td>control</td><td>discussiontools</td><td>false</td><td>true </td><td>  92</td><td> 139</td></tr>\n",
       "\t<tr><td>control</td><td>discussiontools</td><td>true </td><td>false</td><td> 289</td><td> 423</td></tr>\n",
       "\t<tr><td>control</td><td>discussiontools</td><td>true </td><td>true </td><td> 639</td><td>1887</td></tr>\n",
       "\t<tr><td>control</td><td>page           </td><td>false</td><td>true </td><td> 277</td><td> 530</td></tr>\n",
       "\t<tr><td>control</td><td>page           </td><td>true </td><td>true </td><td>  33</td><td>  56</td></tr>\n",
       "\t<tr><td>test   </td><td>discussiontools</td><td>false</td><td>false</td><td> 125</td><td> 134</td></tr>\n",
       "\t<tr><td>test   </td><td>discussiontools</td><td>false</td><td>true </td><td> 187</td><td> 248</td></tr>\n",
       "\t<tr><td>test   </td><td>discussiontools</td><td>true </td><td>false</td><td>1450</td><td>1891</td></tr>\n",
       "\t<tr><td>test   </td><td>discussiontools</td><td>true </td><td>true </td><td>1380</td><td>3778</td></tr>\n",
       "\t<tr><td>test   </td><td>page           </td><td>false</td><td>true </td><td> 244</td><td> 450</td></tr>\n",
       "\t<tr><td>test   </td><td>page           </td><td>true </td><td>true </td><td>  15</td><td>  25</td></tr>\n",
       "</tbody>\n",
       "</table>\n"
      ],
      "text/latex": [
       "A grouped\\_df: 12 × 6\n",
       "\\begin{tabular}{llllll}\n",
       " experiment\\_group & integration & is\\_oversample & user\\_is\\_registered & users & attempts\\\\\n",
       " <chr> & <chr> & <chr> & <chr> & <int> & <int>\\\\\n",
       "\\hline\n",
       "\t control & discussiontools & false & false &   28 &   29\\\\\n",
       "\t control & discussiontools & false & true  &   92 &  139\\\\\n",
       "\t control & discussiontools & true  & false &  289 &  423\\\\\n",
       "\t control & discussiontools & true  & true  &  639 & 1887\\\\\n",
       "\t control & page            & false & true  &  277 &  530\\\\\n",
       "\t control & page            & true  & true  &   33 &   56\\\\\n",
       "\t test    & discussiontools & false & false &  125 &  134\\\\\n",
       "\t test    & discussiontools & false & true  &  187 &  248\\\\\n",
       "\t test    & discussiontools & true  & false & 1450 & 1891\\\\\n",
       "\t test    & discussiontools & true  & true  & 1380 & 3778\\\\\n",
       "\t test    & page            & false & true  &  244 &  450\\\\\n",
       "\t test    & page            & true  & true  &   15 &   25\\\\\n",
       "\\end{tabular}\n"
      ],
      "text/markdown": [
       "\n",
       "A grouped_df: 12 × 6\n",
       "\n",
       "| experiment_group &lt;chr&gt; | integration &lt;chr&gt; | is_oversample &lt;chr&gt; | user_is_registered &lt;chr&gt; | users &lt;int&gt; | attempts &lt;int&gt; |\n",
       "|---|---|---|---|---|---|\n",
       "| control | discussiontools | false | false |   28 |   29 |\n",
       "| control | discussiontools | false | true  |   92 |  139 |\n",
       "| control | discussiontools | true  | false |  289 |  423 |\n",
       "| control | discussiontools | true  | true  |  639 | 1887 |\n",
       "| control | page            | false | true  |  277 |  530 |\n",
       "| control | page            | true  | true  |   33 |   56 |\n",
       "| test    | discussiontools | false | false |  125 |  134 |\n",
       "| test    | discussiontools | false | true  |  187 |  248 |\n",
       "| test    | discussiontools | true  | false | 1450 | 1891 |\n",
       "| test    | discussiontools | true  | true  | 1380 | 3778 |\n",
       "| test    | page            | false | true  |  244 |  450 |\n",
       "| test    | page            | true  | true  |   15 |   25 |\n",
       "\n"
      ],
      "text/plain": [
       "   experiment_group integration     is_oversample user_is_registered users\n",
       "1  control          discussiontools false         false                28 \n",
       "2  control          discussiontools false         true                 92 \n",
       "3  control          discussiontools true          false               289 \n",
       "4  control          discussiontools true          true                639 \n",
       "5  control          page            false         true                277 \n",
       "6  control          page            true          true                 33 \n",
       "7  test             discussiontools false         false               125 \n",
       "8  test             discussiontools false         true                187 \n",
       "9  test             discussiontools true          false              1450 \n",
       "10 test             discussiontools true          true               1380 \n",
       "11 test             page            false         true                244 \n",
       "12 test             page            true          true                 15 \n",
       "   attempts\n",
       "1    29    \n",
       "2   139    \n",
       "3   423    \n",
       "4  1887    \n",
       "5   530    \n",
       "6    56    \n",
       "7   134    \n",
       "8   248    \n",
       "9  1891    \n",
       "10 3778    \n",
       "11  450    \n",
       "12   25    "
      ]
     },
     "metadata": {},
     "output_type": "display_data"
    }
   ],
   "source": [
    "# by integration\n",
    "sessions_by_bucket_oversample <- edit_sessions %>%\n",
    "  filter(is_ab_test_wiki == 'TRUE',\n",
    "        is_talk_page == 'true')  %>%\n",
    "  group_by(experiment_group, integration, is_oversample, user_is_registered) %>%\n",
    "  summarise(users = n_distinct(user_id),\n",
    "        attempts = n_distinct(edit_attempt_id))\n",
    "\n",
    "sessions_by_bucket_oversample"
   ]
  },
  {
   "cell_type": "markdown",
   "metadata": {},
   "source": [
    "# Review Logged-Out User Bucketing"
   ]
  },
  {
   "cell_type": "code",
   "execution_count": 10,
   "metadata": {},
   "outputs": [],
   "source": [
    "#collect all test events\n",
    "query <-\n",
    "\"\n",
    "SELECT\n",
    "  event.editing_session_id as session_id,\n",
    "  wiki As wiki,\n",
    "  event.bucket AS experiment_group,\n",
    "  event.editor_interface as interface,\n",
    "  event.integration as integration,\n",
    "  event.anonymous_user_token as anon_token,\n",
    "-- check to make sure all anons have token assigned\n",
    "  if(event.anonymous_user_token is NULL, false, true) as user_is_anonymous_bytoken, \n",
    "  event.platform as platform, \n",
    "  event.is_oversample AS is_oversample\n",
    "FROM event.editattemptstep\n",
    "WHERE\n",
    "-- since deployment of patch\n",
    "  Year = 2022\n",
    "  AND (month = 02 and day >= 18) \n",
    "  -- remove bots\n",
    "  AND useragent.is_bot = false\n",
    "  AND event.user_id = 0 \n",
    "AND event.user_class = 'IP'\n",
    "-- only test events\n",
    "  AND event.bucket in ('test', 'control')\n",
    "-- only talk pages\n",
    "  AND event.page_ns % 2 = 1\n",
    "-- only anon user\n",
    "  AND event.platform = 'desktop'\n",
    "-- need to check bucketing on ready action as WikiEditor's server-side logging doesn't have access to the bucket or anonymous user ID for them\n",
    "  AND event.action = 'ready'\n",
    "-- partcipating wikis\n",
    "  AND wiki IN ('amwiki', 'bnwiki', 'zhwiki', 'nlwiki', 'arzwiki', 'frwiki', 'hewiki', 'hiwiki',\n",
    "    'idwiki', 'itwiki', 'jawiki', 'kowiki', 'omwiki', 'fawiki', 'plwiki', 'ptwiki', 'eswiki', 'thwiki',\n",
    "    'ukwiki', 'viwiki')\n",
    "\""
   ]
  },
  {
   "cell_type": "code",
   "execution_count": 11,
   "metadata": {},
   "outputs": [
    {
     "name": "stderr",
     "output_type": "stream",
     "text": [
      "Don't forget to authenticate with Kerberos using kinit\n",
      "\n"
     ]
    }
   ],
   "source": [
    "edit_sessions_anon <- wmfdata::query_hive(query)"
   ]
  },
  {
   "cell_type": "markdown",
   "metadata": {},
   "source": [
    "## Check that overall buckets are balanced"
   ]
  },
  {
   "cell_type": "code",
   "execution_count": 12,
   "metadata": {},
   "outputs": [
    {
     "name": "stderr",
     "output_type": "stream",
     "text": [
      "`summarise()` ungrouping output (override with `.groups` argument)\n",
      "\n"
     ]
    },
    {
     "data": {
      "text/html": [
       "<table>\n",
       "<caption>A tibble: 2 × 3</caption>\n",
       "<thead>\n",
       "\t<tr><th scope=col>experiment_group</th><th scope=col>users</th><th scope=col>attempts</th></tr>\n",
       "\t<tr><th scope=col>&lt;chr&gt;</th><th scope=col>&lt;int&gt;</th><th scope=col>&lt;int&gt;</th></tr>\n",
       "</thead>\n",
       "<tbody>\n",
       "\t<tr><td>control</td><td>1195</td><td>1302</td></tr>\n",
       "\t<tr><td>test   </td><td>1886</td><td>2183</td></tr>\n",
       "</tbody>\n",
       "</table>\n"
      ],
      "text/latex": [
       "A tibble: 2 × 3\n",
       "\\begin{tabular}{lll}\n",
       " experiment\\_group & users & attempts\\\\\n",
       " <chr> & <int> & <int>\\\\\n",
       "\\hline\n",
       "\t control & 1195 & 1302\\\\\n",
       "\t test    & 1886 & 2183\\\\\n",
       "\\end{tabular}\n"
      ],
      "text/markdown": [
       "\n",
       "A tibble: 2 × 3\n",
       "\n",
       "| experiment_group &lt;chr&gt; | users &lt;int&gt; | attempts &lt;int&gt; |\n",
       "|---|---|---|\n",
       "| control | 1195 | 1302 |\n",
       "| test    | 1886 | 2183 |\n",
       "\n"
      ],
      "text/plain": [
       "  experiment_group users attempts\n",
       "1 control          1195  1302    \n",
       "2 test             1886  2183    "
      ]
     },
     "metadata": {},
     "output_type": "display_data"
    }
   ],
   "source": [
    "\n",
    "sessions_by_bucket_anon <- edit_sessions_anon %>%\n",
    "  group_by(experiment_group) %>%\n",
    "  summarise(users = n_distinct(anon_token),\n",
    "        attempts = n_distinct(session_id))\n",
    "\n",
    "sessions_by_bucket_anon"
   ]
  },
  {
   "cell_type": "code",
   "execution_count": 13,
   "metadata": {},
   "outputs": [
    {
     "name": "stderr",
     "output_type": "stream",
     "text": [
      "`summarise()` regrouping output by 'experiment_group', 'integration', 'user_is_anonymous_bytoken' (override with `.groups` argument)\n",
      "\n"
     ]
    },
    {
     "data": {
      "text/html": [
       "<table>\n",
       "<caption>A grouped_df: 7 × 6</caption>\n",
       "<thead>\n",
       "\t<tr><th scope=col>experiment_group</th><th scope=col>integration</th><th scope=col>user_is_anonymous_bytoken</th><th scope=col>interface</th><th scope=col>users</th><th scope=col>attempts</th></tr>\n",
       "\t<tr><th scope=col>&lt;chr&gt;</th><th scope=col>&lt;chr&gt;</th><th scope=col>&lt;chr&gt;</th><th scope=col>&lt;chr&gt;</th><th scope=col>&lt;int&gt;</th><th scope=col>&lt;int&gt;</th></tr>\n",
       "</thead>\n",
       "<tbody>\n",
       "\t<tr><td>control</td><td>discussiontools</td><td>true</td><td>visualeditor </td><td> 128</td><td> 166</td></tr>\n",
       "\t<tr><td>control</td><td>discussiontools</td><td>true</td><td>wikitext-2017</td><td>  73</td><td> 102</td></tr>\n",
       "\t<tr><td>control</td><td>page           </td><td>true</td><td>wikitext     </td><td>1010</td><td>1034</td></tr>\n",
       "\t<tr><td>test   </td><td>discussiontools</td><td>true</td><td>visualeditor </td><td> 716</td><td> 847</td></tr>\n",
       "\t<tr><td>test   </td><td>discussiontools</td><td>true</td><td>wikitext     </td><td> 104</td><td> 122</td></tr>\n",
       "\t<tr><td>test   </td><td>discussiontools</td><td>true</td><td>wikitext-2017</td><td> 174</td><td> 252</td></tr>\n",
       "\t<tr><td>test   </td><td>page           </td><td>true</td><td>wikitext     </td><td> 933</td><td> 962</td></tr>\n",
       "</tbody>\n",
       "</table>\n"
      ],
      "text/latex": [
       "A grouped\\_df: 7 × 6\n",
       "\\begin{tabular}{llllll}\n",
       " experiment\\_group & integration & user\\_is\\_anonymous\\_bytoken & interface & users & attempts\\\\\n",
       " <chr> & <chr> & <chr> & <chr> & <int> & <int>\\\\\n",
       "\\hline\n",
       "\t control & discussiontools & true & visualeditor  &  128 &  166\\\\\n",
       "\t control & discussiontools & true & wikitext-2017 &   73 &  102\\\\\n",
       "\t control & page            & true & wikitext      & 1010 & 1034\\\\\n",
       "\t test    & discussiontools & true & visualeditor  &  716 &  847\\\\\n",
       "\t test    & discussiontools & true & wikitext      &  104 &  122\\\\\n",
       "\t test    & discussiontools & true & wikitext-2017 &  174 &  252\\\\\n",
       "\t test    & page            & true & wikitext      &  933 &  962\\\\\n",
       "\\end{tabular}\n"
      ],
      "text/markdown": [
       "\n",
       "A grouped_df: 7 × 6\n",
       "\n",
       "| experiment_group &lt;chr&gt; | integration &lt;chr&gt; | user_is_anonymous_bytoken &lt;chr&gt; | interface &lt;chr&gt; | users &lt;int&gt; | attempts &lt;int&gt; |\n",
       "|---|---|---|---|---|---|\n",
       "| control | discussiontools | true | visualeditor  |  128 |  166 |\n",
       "| control | discussiontools | true | wikitext-2017 |   73 |  102 |\n",
       "| control | page            | true | wikitext      | 1010 | 1034 |\n",
       "| test    | discussiontools | true | visualeditor  |  716 |  847 |\n",
       "| test    | discussiontools | true | wikitext      |  104 |  122 |\n",
       "| test    | discussiontools | true | wikitext-2017 |  174 |  252 |\n",
       "| test    | page            | true | wikitext      |  933 |  962 |\n",
       "\n"
      ],
      "text/plain": [
       "  experiment_group integration     user_is_anonymous_bytoken interface    \n",
       "1 control          discussiontools true                      visualeditor \n",
       "2 control          discussiontools true                      wikitext-2017\n",
       "3 control          page            true                      wikitext     \n",
       "4 test             discussiontools true                      visualeditor \n",
       "5 test             discussiontools true                      wikitext     \n",
       "6 test             discussiontools true                      wikitext-2017\n",
       "7 test             page            true                      wikitext     \n",
       "  users attempts\n",
       "1  128   166    \n",
       "2   73   102    \n",
       "3 1010  1034    \n",
       "4  716   847    \n",
       "5  104   122    \n",
       "6  174   252    \n",
       "7  933   962    "
      ]
     },
     "metadata": {},
     "output_type": "display_data"
    }
   ],
   "source": [
    "#check overall user bucket number to confirm if buckets are balanced\n",
    "\n",
    "sessions_by_bucket_anon <- edit_sessions_anon %>%\n",
    "  group_by(experiment_group, integration, user_is_anonymous_bytoken, interface) %>%\n",
    "  summarise(users = n_distinct(anon_token),\n",
    "        attempts = n_distinct(session_id))\n",
    "\n",
    "sessions_by_bucket_anon"
   ]
  },
  {
   "cell_type": "markdown",
   "metadata": {},
   "source": [
    "Update: After deployment of patch on 17 February 2022, I confirmed that the anonymous_user_token is being recorded for all logged-out users.\n"
   ]
  },
  {
   "cell_type": "markdown",
   "metadata": {},
   "source": [
    "There are a number of attempts assigned by users without a token in the test in both the test and control group. Do we know where these might be coming from?"
   ]
  },
  {
   "cell_type": "markdown",
   "metadata": {},
   "source": [
    "## Review by interface"
   ]
  },
  {
   "cell_type": "code",
   "execution_count": 30,
   "metadata": {},
   "outputs": [
    {
     "name": "stderr",
     "output_type": "stream",
     "text": [
      "`summarise()` regrouping output by 'experiment_group' (override with `.groups` argument)\n",
      "\n"
     ]
    },
    {
     "data": {
      "text/html": [
       "<table>\n",
       "<caption>A grouped_df: 6 × 4</caption>\n",
       "<thead>\n",
       "\t<tr><th scope=col>experiment_group</th><th scope=col>interface</th><th scope=col>users</th><th scope=col>attempts</th></tr>\n",
       "\t<tr><th scope=col>&lt;chr&gt;</th><th scope=col>&lt;chr&gt;</th><th scope=col>&lt;int&gt;</th><th scope=col>&lt;int&gt;</th></tr>\n",
       "</thead>\n",
       "<tbody>\n",
       "\t<tr><td>control</td><td>visualeditor </td><td> 128</td><td> 166</td></tr>\n",
       "\t<tr><td>control</td><td>wikitext     </td><td>1010</td><td>1034</td></tr>\n",
       "\t<tr><td>control</td><td>wikitext-2017</td><td>  73</td><td> 102</td></tr>\n",
       "\t<tr><td>test   </td><td>visualeditor </td><td> 716</td><td> 847</td></tr>\n",
       "\t<tr><td>test   </td><td>wikitext     </td><td>1035</td><td>1084</td></tr>\n",
       "\t<tr><td>test   </td><td>wikitext-2017</td><td> 174</td><td> 252</td></tr>\n",
       "</tbody>\n",
       "</table>\n"
      ],
      "text/latex": [
       "A grouped\\_df: 6 × 4\n",
       "\\begin{tabular}{llll}\n",
       " experiment\\_group & interface & users & attempts\\\\\n",
       " <chr> & <chr> & <int> & <int>\\\\\n",
       "\\hline\n",
       "\t control & visualeditor  &  128 &  166\\\\\n",
       "\t control & wikitext      & 1010 & 1034\\\\\n",
       "\t control & wikitext-2017 &   73 &  102\\\\\n",
       "\t test    & visualeditor  &  716 &  847\\\\\n",
       "\t test    & wikitext      & 1035 & 1084\\\\\n",
       "\t test    & wikitext-2017 &  174 &  252\\\\\n",
       "\\end{tabular}\n"
      ],
      "text/markdown": [
       "\n",
       "A grouped_df: 6 × 4\n",
       "\n",
       "| experiment_group &lt;chr&gt; | interface &lt;chr&gt; | users &lt;int&gt; | attempts &lt;int&gt; |\n",
       "|---|---|---|---|\n",
       "| control | visualeditor  |  128 |  166 |\n",
       "| control | wikitext      | 1010 | 1034 |\n",
       "| control | wikitext-2017 |   73 |  102 |\n",
       "| test    | visualeditor  |  716 |  847 |\n",
       "| test    | wikitext      | 1035 | 1084 |\n",
       "| test    | wikitext-2017 |  174 |  252 |\n",
       "\n"
      ],
      "text/plain": [
       "  experiment_group interface     users attempts\n",
       "1 control          visualeditor   128   166    \n",
       "2 control          wikitext      1010  1034    \n",
       "3 control          wikitext-2017   73   102    \n",
       "4 test             visualeditor   716   847    \n",
       "5 test             wikitext      1035  1084    \n",
       "6 test             wikitext-2017  174   252    "
      ]
     },
     "metadata": {},
     "output_type": "display_data"
    }
   ],
   "source": [
    "sessions_by_bucket_anon_interface <- edit_sessions_anon %>%\n",
    "  group_by(experiment_group, interface) %>%\n",
    "  summarise(users = n_distinct(anon_token),\n",
    "        attempts = n_distinct(session_id))\n",
    "\n",
    "sessions_by_bucket_anon_interface"
   ]
  },
  {
   "cell_type": "markdown",
   "metadata": {},
   "source": [
    "Data seems as expected. We'd expect more wikitext attempts in the control group."
   ]
  },
  {
   "cell_type": "markdown",
   "metadata": {},
   "source": [
    "# Review New Section Events by users in New Discussion Tool AB Test"
   ]
  },
  {
   "cell_type": "code",
   "execution_count": 94,
   "metadata": {},
   "outputs": [],
   "source": [
    "# collect all desktop edit attempts to create a new sectino by bucket/test group \n",
    "query <-\n",
    "\"\n",
    "SELECT\n",
    "  date_format(dt, 'yyyy-MM-dd') as attempt_dt,\n",
    "  event.editing_session_id as edit_attempt_id,\n",
    "  event.bucket AS experiment_group,\n",
    "  wiki As wiki,\n",
    "  event.integration AS event_type,\n",
    "if(event.user_id != 0, concat(wiki, '-', event.user_id), event.anonymous_user_token) as user_id,\n",
    "  event.user_id = 0 as user_is_anonymous_byid, \n",
    "  if(event.anonymous_user_token is NULL, false, true) as user_is_anonymous_bytoken, \n",
    "-- review participating wikis\n",
    "  IF( wiki IN ('amwiki', 'bnwiki', 'zhwiki', 'nlwiki', 'arzwiki', 'frwiki', 'hewiki', 'hiwiki',\n",
    "    'idwiki', 'itwiki', 'jawiki', 'kowiki', 'omwiki', 'fawiki', 'plwiki', 'ptwiki', 'eswiki', 'thwiki',\n",
    "    'ukwiki', 'viwiki'), 'TRUE', 'FALSE'\n",
    ") AS is_AB_test_wiki,\n",
    "  event.is_oversample AS is_oversample,\n",
    "  event.editor_interface AS editor_interface\n",
    "FROM event.editattemptstep\n",
    "WHERE\n",
    "-- Review data starting a few days prior to the AB test deployment on Feb 11th\n",
    "-- since deployment\n",
    "  Year = 2022\n",
    "  AND ((month = 01 and day >= 27) OR (month = 02))\n",
    "-- look at only desktop init section events\n",
    "  AND event.platform = 'desktop'\n",
    "  AND event.action = 'init'\n",
    "  AND event.init_type = 'section'\n",
    "-- only create new section events\n",
    "  -- remove bots\n",
    "  AND useragent.is_bot = false\n",
    "-- only talk page events\n",
    "  AND event.page_ns % 2 = 1\n",
    "AND event.bucket in ('test', 'control')\n",
    "\"\n",
    "\n",
    "#   AND event.init_mechanism IN ('url-new', 'new')"
   ]
  },
  {
   "cell_type": "code",
   "execution_count": 95,
   "metadata": {},
   "outputs": [
    {
     "name": "stderr",
     "output_type": "stream",
     "text": [
      "Don't forget to authenticate with Kerberos using kinit\n",
      "\n"
     ]
    }
   ],
   "source": [
    "collect_new_section_attempts <- wmfdata::query_hive(query)"
   ]
  },
  {
   "cell_type": "markdown",
   "metadata": {},
   "source": [
    "# New Section Events By Bucket"
   ]
  },
  {
   "cell_type": "code",
   "execution_count": 96,
   "metadata": {},
   "outputs": [
    {
     "name": "stderr",
     "output_type": "stream",
     "text": [
      "`summarise()` ungrouping output (override with `.groups` argument)\n",
      "\n"
     ]
    },
    {
     "data": {
      "text/html": [
       "<table>\n",
       "<caption>A tibble: 2 × 3</caption>\n",
       "<thead>\n",
       "\t<tr><th scope=col>experiment_group</th><th scope=col>users</th><th scope=col>attempts</th></tr>\n",
       "\t<tr><th scope=col>&lt;chr&gt;</th><th scope=col>&lt;int&gt;</th><th scope=col>&lt;int&gt;</th></tr>\n",
       "</thead>\n",
       "<tbody>\n",
       "\t<tr><td>control</td><td> 199</td><td> 402</td></tr>\n",
       "\t<tr><td>test   </td><td>2814</td><td>4925</td></tr>\n",
       "</tbody>\n",
       "</table>\n"
      ],
      "text/latex": [
       "A tibble: 2 × 3\n",
       "\\begin{tabular}{lll}\n",
       " experiment\\_group & users & attempts\\\\\n",
       " <chr> & <int> & <int>\\\\\n",
       "\\hline\n",
       "\t control &  199 &  402\\\\\n",
       "\t test    & 2814 & 4925\\\\\n",
       "\\end{tabular}\n"
      ],
      "text/markdown": [
       "\n",
       "A tibble: 2 × 3\n",
       "\n",
       "| experiment_group &lt;chr&gt; | users &lt;int&gt; | attempts &lt;int&gt; |\n",
       "|---|---|---|\n",
       "| control |  199 |  402 |\n",
       "| test    | 2814 | 4925 |\n",
       "\n"
      ],
      "text/plain": [
       "  experiment_group users attempts\n",
       "1 control           199   402    \n",
       "2 test             2814  4925    "
      ]
     },
     "metadata": {},
     "output_type": "display_data"
    }
   ],
   "source": [
    "#check overall user bucket number to confirm if buckets are balanced\n",
    "\n",
    "new_sections_by_bucket <- collect_new_section_attempts %>%\n",
    "  filter(is_ab_test_wiki == 'TRUE') %>% # some test and control events recorded non ab_test_wikis\n",
    "  group_by(experiment_group) %>%\n",
    "  summarise(users = n_distinct(user_id),\n",
    "        attempts = n_distinct(edit_attempt_id))\n",
    "\n",
    "new_sections_by_bucket"
   ]
  },
  {
   "cell_type": "code",
   "execution_count": 97,
   "metadata": {},
   "outputs": [
    {
     "name": "stderr",
     "output_type": "stream",
     "text": [
      "`summarise()` regrouping output by 'experiment_group' (override with `.groups` argument)\n",
      "\n"
     ]
    },
    {
     "data": {
      "text/html": [
       "<table>\n",
       "<caption>A grouped_df: 3 × 4</caption>\n",
       "<thead>\n",
       "\t<tr><th scope=col>experiment_group</th><th scope=col>user_is_anonymous_bytoken</th><th scope=col>users</th><th scope=col>attempts</th></tr>\n",
       "\t<tr><th scope=col>&lt;chr&gt;</th><th scope=col>&lt;chr&gt;</th><th scope=col>&lt;int&gt;</th><th scope=col>&lt;int&gt;</th></tr>\n",
       "</thead>\n",
       "<tbody>\n",
       "\t<tr><td>control</td><td>false</td><td> 199</td><td> 402</td></tr>\n",
       "\t<tr><td>test   </td><td>false</td><td>1307</td><td>3128</td></tr>\n",
       "\t<tr><td>test   </td><td>true </td><td>1507</td><td>1797</td></tr>\n",
       "</tbody>\n",
       "</table>\n"
      ],
      "text/latex": [
       "A grouped\\_df: 3 × 4\n",
       "\\begin{tabular}{llll}\n",
       " experiment\\_group & user\\_is\\_anonymous\\_bytoken & users & attempts\\\\\n",
       " <chr> & <chr> & <int> & <int>\\\\\n",
       "\\hline\n",
       "\t control & false &  199 &  402\\\\\n",
       "\t test    & false & 1307 & 3128\\\\\n",
       "\t test    & true  & 1507 & 1797\\\\\n",
       "\\end{tabular}\n"
      ],
      "text/markdown": [
       "\n",
       "A grouped_df: 3 × 4\n",
       "\n",
       "| experiment_group &lt;chr&gt; | user_is_anonymous_bytoken &lt;chr&gt; | users &lt;int&gt; | attempts &lt;int&gt; |\n",
       "|---|---|---|---|\n",
       "| control | false |  199 |  402 |\n",
       "| test    | false | 1307 | 3128 |\n",
       "| test    | true  | 1507 | 1797 |\n",
       "\n"
      ],
      "text/plain": [
       "  experiment_group user_is_anonymous_bytoken users attempts\n",
       "1 control          false                      199   402    \n",
       "2 test             false                     1307  3128    \n",
       "3 test             true                      1507  1797    "
      ]
     },
     "metadata": {},
     "output_type": "display_data"
    }
   ],
   "source": [
    "# By Logged in\n",
    "new_sections_by_bucket_anon <- collect_new_section_attempts %>%\n",
    "  filter(is_ab_test_wiki == 'TRUE') %>% # some test and control events recorded non ab_test_wikis\n",
    "  group_by(experiment_group, user_is_anonymous_bytoken) %>%\n",
    "  summarise(users = n_distinct(user_id),\n",
    "        attempts = n_distinct(edit_attempt_id))\n",
    "\n",
    "new_sections_by_bucket_anon"
   ]
  },
  {
   "cell_type": "markdown",
   "metadata": {},
   "source": [
    "No new section events by logged out users currently. Might be just an artifcat of user behavior - Are logged out users less likely to create a new section?"
   ]
  },
  {
   "cell_type": "markdown",
   "metadata": {},
   "source": [
    "# Review New Section Events by Logged-Out Users Following Patch"
   ]
  },
  {
   "cell_type": "markdown",
   "metadata": {},
   "source": [
    "# Notes\n",
    "* AB test details are only getting logged on the ones with init_type = section. For DT events, that includes section and reply usage (Not sure that's correct). For non DT events, that only includes section edits not page edits."
   ]
  },
  {
   "cell_type": "code",
   "execution_count": 16,
   "metadata": {},
   "outputs": [],
   "source": [
    "# Collect all desktop ready events following section init event session\n",
    "query <-\n",
    "\"\n",
    "\n",
    "WITH init_events AS (\n",
    "\n",
    "SELECT\n",
    "  event.editing_session_id as edit_attempt_id,\n",
    "  event.init_type as init_type,\n",
    "  wiki As init_wiki,\n",
    "  COUNT(*) as init_events\n",
    "FROM\n",
    "  event.editattemptstep\n",
    "WHERE\n",
    "-- following deployment of patch\n",
    "    YEAR = 2022\n",
    "    AND month = 02\n",
    "    AND day >= 18\n",
    "-- inits events on desktop\n",
    "    AND event.platform = 'desktop'\n",
    "    AND event.action = 'init'\n",
    "-- only talk pages\n",
    "    AND event.page_ns % 2 = 1\n",
    "--by anon not bot users\n",
    "    AND useragent.is_bot = false\n",
    "    AND event.user_id = 0 \n",
    "   AND event.user_class = 'IP'\n",
    "--- test wikis\n",
    "    AND wiki IN ('amwiki', 'bnwiki', 'zhwiki', 'nlwiki', 'arzwiki', 'frwiki', 'hewiki', 'hiwiki',\n",
    "    'idwiki', 'itwiki', 'jawiki', 'kowiki', 'omwiki', 'fawiki', 'plwiki', 'ptwiki', 'eswiki', 'thwiki',\n",
    "    'ukwiki', 'viwiki')\n",
    "GROUP BY\n",
    "    event.editing_session_id,\n",
    "    event.init_type,\n",
    "    wiki \n",
    ")\n",
    "\n",
    "SELECT\n",
    "  event.editing_session_id as edit_attempt_id,\n",
    "  event.bucket AS experiment_group,\n",
    "  wiki As wiki,\n",
    "  event.integration AS integration,\n",
    "  init_events.init_type AS init_type,\n",
    "  event.anonymous_user_token,\n",
    "  IF (event.anonymous_user_token IS NULL, 'false', 'true') AS user_is_anonymous_bytoken,\n",
    "  event.editor_interface AS editor_interface,\n",
    "COUNT(*) as ready_events\n",
    "FROM event.editattemptstep eas\n",
    "INNER JOIN init_events\n",
    "ON eas.event.editing_session_id = init_events.edit_attempt_id\n",
    "AND eas.wiki = init_events.init_wiki\n",
    "WHERE\n",
    "  YEAR = 2022\n",
    "    AND month = 02\n",
    "    AND day >= 18\n",
    "-- look at only desktop ready events\n",
    "  AND event.platform = 'desktop'\n",
    "  AND event.action = 'ready'\n",
    "--by anon not bot users\n",
    "    AND useragent.is_bot = false\n",
    "    AND event.user_id = 0 \n",
    "   AND event.user_class = 'IP'\n",
    "-- only talk page events\n",
    "  AND event.page_ns % 2 = 1\n",
    "-- bucketing applied on ready events\n",
    "AND event.bucket in ('test', 'control')\n",
    "-- test wikis\n",
    "AND wiki IN ('amwiki', 'bnwiki', 'zhwiki', 'nlwiki', 'arzwiki', 'frwiki', 'hewiki', 'hiwiki',\n",
    "    'idwiki', 'itwiki', 'jawiki', 'kowiki', 'omwiki', 'fawiki', 'plwiki', 'ptwiki', 'eswiki', 'thwiki',\n",
    "    'ukwiki', 'viwiki')\n",
    "GROUP BY\n",
    "event.editing_session_id,\n",
    "event.bucket,\n",
    "wiki,\n",
    "event.integration,\n",
    "init_events.init_type,\n",
    "event.anonymous_user_token,\n",
    "IF (event.anonymous_user_token IS NULL, 'false', 'true'),\n",
    "  event.editor_interface\n",
    "\"\n",
    " "
   ]
  },
  {
   "cell_type": "code",
   "execution_count": 17,
   "metadata": {},
   "outputs": [
    {
     "name": "stderr",
     "output_type": "stream",
     "text": [
      "Don't forget to authenticate with Kerberos using kinit\n",
      "\n"
     ]
    }
   ],
   "source": [
    "collect_new_section_anon <- wmfdata::query_hive(query)"
   ]
  },
  {
   "cell_type": "code",
   "execution_count": 26,
   "metadata": {},
   "outputs": [
    {
     "name": "stderr",
     "output_type": "stream",
     "text": [
      "`summarise()` regrouping output by 'experiment_group' (override with `.groups` argument)\n",
      "\n"
     ]
    },
    {
     "data": {
      "text/html": [
       "<table>\n",
       "<caption>A grouped_df: 4 × 4</caption>\n",
       "<thead>\n",
       "\t<tr><th scope=col>experiment_group</th><th scope=col>init_type</th><th scope=col>attempts</th><th scope=col>users</th></tr>\n",
       "\t<tr><th scope=col>&lt;chr&gt;</th><th scope=col>&lt;chr&gt;</th><th scope=col>&lt;int&gt;</th><th scope=col>&lt;int&gt;</th></tr>\n",
       "</thead>\n",
       "<tbody>\n",
       "\t<tr><td>control</td><td>page   </td><td>1197</td><td>1109</td></tr>\n",
       "\t<tr><td>control</td><td>section</td><td>  85</td><td>  83</td></tr>\n",
       "\t<tr><td>test   </td><td>page   </td><td>1218</td><td>1096</td></tr>\n",
       "\t<tr><td>test   </td><td>section</td><td> 951</td><td> 826</td></tr>\n",
       "</tbody>\n",
       "</table>\n"
      ],
      "text/latex": [
       "A grouped\\_df: 4 × 4\n",
       "\\begin{tabular}{llll}\n",
       " experiment\\_group & init\\_type & attempts & users\\\\\n",
       " <chr> & <chr> & <int> & <int>\\\\\n",
       "\\hline\n",
       "\t control & page    & 1197 & 1109\\\\\n",
       "\t control & section &   85 &   83\\\\\n",
       "\t test    & page    & 1218 & 1096\\\\\n",
       "\t test    & section &  951 &  826\\\\\n",
       "\\end{tabular}\n"
      ],
      "text/markdown": [
       "\n",
       "A grouped_df: 4 × 4\n",
       "\n",
       "| experiment_group &lt;chr&gt; | init_type &lt;chr&gt; | attempts &lt;int&gt; | users &lt;int&gt; |\n",
       "|---|---|---|---|\n",
       "| control | page    | 1197 | 1109 |\n",
       "| control | section |   85 |   83 |\n",
       "| test    | page    | 1218 | 1096 |\n",
       "| test    | section |  951 |  826 |\n",
       "\n"
      ],
      "text/plain": [
       "  experiment_group init_type attempts users\n",
       "1 control          page      1197     1109 \n",
       "2 control          section     85       83 \n",
       "3 test             page      1218     1096 \n",
       "4 test             section    951      826 "
      ]
     },
     "metadata": {},
     "output_type": "display_data"
    }
   ],
   "source": [
    "#check overall user bucket number to confirm if buckets are balanced\n",
    "\n",
    "new_sections_anon_bucket <- collect_new_section_anon  %>%\n",
    "  group_by(experiment_group, init_type) %>%\n",
    "  summarise(\n",
    "        attempts = n_distinct(edit_attempt_id),\n",
    "        users = n_distinct(anonymous_user_token) )\n",
    "\n",
    "new_sections_anon_bucket"
   ]
  },
  {
   "cell_type": "code",
   "execution_count": null,
   "metadata": {},
   "outputs": [],
   "source": []
  }
 ],
 "metadata": {
  "kernelspec": {
   "display_name": "R",
   "language": "R",
   "name": "ir"
  },
  "language_info": {
   "codemirror_mode": "r",
   "file_extension": ".r",
   "mimetype": "text/x-r-source",
   "name": "R",
   "pygments_lexer": "r",
   "version": "3.5.2"
  }
 },
 "nbformat": 4,
 "nbformat_minor": 4
}
