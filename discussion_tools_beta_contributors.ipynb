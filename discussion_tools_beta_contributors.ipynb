{
 "cells": [
  {
   "cell_type": "markdown",
   "metadata": {},
   "source": [
    "# What is the makeup of people who have adjusted the state of the Discussion tools beta feature?\n",
    "\n",
    "[Task](https://phabricator.wikimedia.org/T297714)\n",
    "\n",
    "To inform the design of the design of the New Discussion Tools Beta feature, we are interested in determining the following: Of the people who have explicitly adjusted the state of the Discussion tools beta feature within Special:Preferences#mw-prefsection-betafeatures, what percentage of these people are Junior Contributors and what percentage of these people are Senior Contributors?"
   ]
  },
  {
   "cell_type": "code",
   "execution_count": 1,
   "metadata": {},
   "outputs": [],
   "source": [
    "import pandas as pd\n",
    "import numpy as np\n",
    "\n",
    "import datetime as dt\n",
    "\n",
    "from wmfdata import hive, mariadb"
   ]
  },
  {
   "cell_type": "code",
   "execution_count": 4,
   "metadata": {},
   "outputs": [],
   "source": [
    "HIVE_SNAPSHOT = \"2021-11\"\n",
    "START_OF_DATA = \"2021-02-18\"\n",
    "END_OF_DATA = \"2021-12-01\""
   ]
  },
  {
   "cell_type": "code",
   "execution_count": 88,
   "metadata": {},
   "outputs": [],
   "source": [
    "# Collect all users that have made an edit since deployment of the tool grouped by experience\n",
    "query = \"\"\"\n",
    "\n",
    "SELECT\n",
    "    event_user_id as contributor,\n",
    "    wiki_db as wiki,\n",
    "    CASE\n",
    "        WHEN min(event_user_revision_count) < 100 THEN 'under 100'\n",
    "        WHEN (min(event_user_revision_count) >=100 AND min(event_user_revision_count <= 500)) THEN '100-500'\n",
    "        ELSE 'over 500'\n",
    "        END AS edit_count_group\n",
    "FROM wmf.mediawiki_history AS mh\n",
    "WHERE \n",
    "    snapshot = '2021-11' \n",
    "-- date first deployed\n",
    "    AND event_timestamp >= '2021-02-18'  \n",
    "    AND event_timestamp < '2021-12-01'   \n",
    "-- only on desktop\n",
    "    AND NOT array_contains(revision_tags, 'iOS')\n",
    "    AND NOT array_contains(revision_tags, 'Android')\n",
    "    AND NOT array_contains(revision_tags, 'Mobile Web')\n",
    "    AND event_entity = 'revision' AND \n",
    "    event_type = 'create'\n",
    "    AND event_user_is_anonymous = FALSE\n",
    "   -- find all edits on talk pages \n",
    "    AND page_namespace_historical % 2 = 1\n",
    "    AND SIZE(event_user_is_bot_by_historical) = 0  -- not a bot\n",
    "    AND NOT (revision_is_identity_reverted AND \n",
    "            revision_seconds_to_identity_revert <= 172800) -- not reverted within 48 hours\n",
    "GROUP BY\n",
    "    event_user_id,\n",
    "    wiki_db\n",
    "\"\"\""
   ]
  },
  {
   "cell_type": "code",
   "execution_count": 89,
   "metadata": {},
   "outputs": [],
   "source": [
    "contributors = hive.run(\n",
    "    query.format(\n",
    "        hive_snapshot = HIVE_SNAPSHOT,\n",
    "        START_OF_DATA= START_OF_DATA,\n",
    "        END_OF_DATA=END_OF_DATA\n",
    "    )\n",
    ")"
   ]
  },
  {
   "cell_type": "code",
   "execution_count": 90,
   "metadata": {},
   "outputs": [
    {
     "name": "stdout",
     "output_type": "stream",
     "text": [
      "Total number of contributors for whom we will be checking beta preferences: 355945\n"
     ]
    }
   ],
   "source": [
    "#Total contributors\n",
    "\n",
    "Total_contributors = contributors['contributor'].count()\n",
    "\n",
    "print('Total number of contributors for whom we will be checking beta preferences:' , Total_contributors)"
   ]
  },
  {
   "cell_type": "code",
   "execution_count": 91,
   "metadata": {},
   "outputs": [
    {
     "data": {
      "text/html": [
       "<div>\n",
       "<style scoped>\n",
       "    .dataframe tbody tr th:only-of-type {\n",
       "        vertical-align: middle;\n",
       "    }\n",
       "\n",
       "    .dataframe tbody tr th {\n",
       "        vertical-align: top;\n",
       "    }\n",
       "\n",
       "    .dataframe thead th {\n",
       "        text-align: right;\n",
       "    }\n",
       "</style>\n",
       "<table border=\"1\" class=\"dataframe\">\n",
       "  <thead>\n",
       "    <tr style=\"text-align: right;\">\n",
       "      <th></th>\n",
       "      <th>contributor</th>\n",
       "      <th>wiki</th>\n",
       "      <th>edit_count_group</th>\n",
       "    </tr>\n",
       "  </thead>\n",
       "  <tbody>\n",
       "    <tr>\n",
       "      <th>0</th>\n",
       "      <td>153</td>\n",
       "      <td>mediawikiwiki</td>\n",
       "      <td>100-500</td>\n",
       "    </tr>\n",
       "    <tr>\n",
       "      <th>1</th>\n",
       "      <td>191</td>\n",
       "      <td>suwiktionary</td>\n",
       "      <td>100-500</td>\n",
       "    </tr>\n",
       "    <tr>\n",
       "      <th>2</th>\n",
       "      <td>1084</td>\n",
       "      <td>lawiki</td>\n",
       "      <td>over 500</td>\n",
       "    </tr>\n",
       "    <tr>\n",
       "      <th>3</th>\n",
       "      <td>1173</td>\n",
       "      <td>plwiki</td>\n",
       "      <td>over 500</td>\n",
       "    </tr>\n",
       "    <tr>\n",
       "      <th>4</th>\n",
       "      <td>2009</td>\n",
       "      <td>uawikimedia</td>\n",
       "      <td>over 500</td>\n",
       "    </tr>\n",
       "  </tbody>\n",
       "</table>\n",
       "</div>"
      ],
      "text/plain": [
       "   contributor           wiki edit_count_group\n",
       "0          153  mediawikiwiki          100-500\n",
       "1          191   suwiktionary          100-500\n",
       "2         1084         lawiki         over 500\n",
       "3         1173         plwiki         over 500\n",
       "4         2009    uawikimedia         over 500"
      ]
     },
     "execution_count": 91,
     "metadata": {},
     "output_type": "execute_result"
    }
   ],
   "source": [
    "contributors.head()"
   ]
  },
  {
   "cell_type": "markdown",
   "metadata": {},
   "source": [
    "# Discussion Tool Beta Preference\n",
    "\n",
    "Find the status of the discussion tool beta preference for all contributors"
   ]
  },
  {
   "cell_type": "markdown",
   "metadata": {},
   "source": [
    "## Quick look at all users (not just contributors) that have adjusted the feature"
   ]
  },
  {
   "cell_type": "code",
   "execution_count": 81,
   "metadata": {},
   "outputs": [],
   "source": [
    "query = \"\"\" \n",
    "    SELECT\n",
    "        DISTINCT database_code\n",
    "    FROM canonical_data.wikis\n",
    "    WHERE\n",
    "    database_code NOT IN ('labswiki', 'labtestwiki')\n",
    "   \"\"\""
   ]
  },
  {
   "cell_type": "code",
   "execution_count": 82,
   "metadata": {},
   "outputs": [],
   "source": [
    "wikis = hive.run(query)"
   ]
  },
  {
   "cell_type": "code",
   "execution_count": 83,
   "metadata": {},
   "outputs": [],
   "source": [
    "wiki_list=wikis['database_code'].unique()"
   ]
  },
  {
   "cell_type": "code",
   "execution_count": 84,
   "metadata": {},
   "outputs": [],
   "source": [
    "query='''\n",
    "SELECT COUNT(*) \n",
    "FROM user_properties \n",
    "WHERE up_property=\"discussiontools-betaenable\"\n",
    "'''"
   ]
  },
  {
   "cell_type": "code",
   "execution_count": 85,
   "metadata": {},
   "outputs": [],
   "source": [
    "all_dt_beta_users = mariadb.run(commands = query, dbs = wiki_list, use_x1=False, format=\"pandas\")"
   ]
  },
  {
   "cell_type": "code",
   "execution_count": 87,
   "metadata": {},
   "outputs": [
    {
     "data": {
      "text/plain": [
       "COUNT(*)    290842\n",
       "dtype: int64"
      ]
     },
     "execution_count": 87,
     "metadata": {},
     "output_type": "execute_result"
    }
   ],
   "source": [
    "all_dt_beta_users.sum()"
   ]
  },
  {
   "cell_type": "markdown",
   "metadata": {},
   "source": [
    "There are a total of 290,842 users that have explicitly adjusted the beta feature across all wikis.  "
   ]
  },
  {
   "cell_type": "markdown",
   "metadata": {},
   "source": [
    "## Discussion Tool Beta Feature Preference by Talk Page Contributors"
   ]
  },
  {
   "cell_type": "code",
   "execution_count": 92,
   "metadata": {},
   "outputs": [],
   "source": [
    "query='''\n",
    "SELECT \n",
    "  user_properties.up_value AS preference,\n",
    "  user_properties.up_user AS `user`\n",
    "FROM user_properties \n",
    "WHERE user_properties.up_user in ({users})\n",
    "AND up_property = \"discussiontools-betaenable\"\n",
    "'''    "
   ]
  },
  {
   "cell_type": "code",
   "execution_count": 93,
   "metadata": {},
   "outputs": [],
   "source": [
    "# Looping through each wiki to find users that have the discussiontools-beta enable preference set\n",
    "\n",
    "wikis = contributors['wiki'].unique()\n",
    "up_pref=list()\n",
    "for wiki in wikis:\n",
    "    user_ids = contributors[contributors['wiki'] == wiki][\"contributor\"]\n",
    "    user_list = ','.join([str(u) for u in user_ids])\n",
    "    prefs = mariadb.run(\n",
    "      query.format(users=user_list),\n",
    "      wiki\n",
    "    )\n",
    "    up_pref.append(prefs)\n",
    "\n",
    "pref= pd.concat(up_pref)"
   ]
  },
  {
   "cell_type": "code",
   "execution_count": 94,
   "metadata": {},
   "outputs": [],
   "source": [
    "# Join with edit count data from mediawiki_history\n",
    "contributor_beta_pref = contributors.join(pref.set_index('user'), on = 'contributor', how = 'left')"
   ]
  },
  {
   "cell_type": "code",
   "execution_count": 95,
   "metadata": {},
   "outputs": [
    {
     "data": {
      "text/html": [
       "<div>\n",
       "<style scoped>\n",
       "    .dataframe tbody tr th:only-of-type {\n",
       "        vertical-align: middle;\n",
       "    }\n",
       "\n",
       "    .dataframe tbody tr th {\n",
       "        vertical-align: top;\n",
       "    }\n",
       "\n",
       "    .dataframe thead th {\n",
       "        text-align: right;\n",
       "    }\n",
       "</style>\n",
       "<table border=\"1\" class=\"dataframe\">\n",
       "  <thead>\n",
       "    <tr style=\"text-align: right;\">\n",
       "      <th></th>\n",
       "      <th>contributor</th>\n",
       "      <th>wiki</th>\n",
       "      <th>edit_count_group</th>\n",
       "      <th>preference</th>\n",
       "    </tr>\n",
       "  </thead>\n",
       "  <tbody>\n",
       "    <tr>\n",
       "      <th>0</th>\n",
       "      <td>153</td>\n",
       "      <td>mediawikiwiki</td>\n",
       "      <td>100-500</td>\n",
       "      <td>b'0'</td>\n",
       "    </tr>\n",
       "    <tr>\n",
       "      <th>0</th>\n",
       "      <td>153</td>\n",
       "      <td>mediawikiwiki</td>\n",
       "      <td>100-500</td>\n",
       "      <td>b'0'</td>\n",
       "    </tr>\n",
       "    <tr>\n",
       "      <th>1</th>\n",
       "      <td>191</td>\n",
       "      <td>suwiktionary</td>\n",
       "      <td>100-500</td>\n",
       "      <td>b'0'</td>\n",
       "    </tr>\n",
       "    <tr>\n",
       "      <th>2</th>\n",
       "      <td>1084</td>\n",
       "      <td>lawiki</td>\n",
       "      <td>over 500</td>\n",
       "      <td>NaN</td>\n",
       "    </tr>\n",
       "    <tr>\n",
       "      <th>3</th>\n",
       "      <td>1173</td>\n",
       "      <td>plwiki</td>\n",
       "      <td>over 500</td>\n",
       "      <td>b'1'</td>\n",
       "    </tr>\n",
       "  </tbody>\n",
       "</table>\n",
       "</div>"
      ],
      "text/plain": [
       "   contributor           wiki edit_count_group preference\n",
       "0          153  mediawikiwiki          100-500       b'0'\n",
       "0          153  mediawikiwiki          100-500       b'0'\n",
       "1          191   suwiktionary          100-500       b'0'\n",
       "2         1084         lawiki         over 500        NaN\n",
       "3         1173         plwiki         over 500       b'1'"
      ]
     },
     "execution_count": 95,
     "metadata": {},
     "output_type": "execute_result"
    }
   ],
   "source": [
    "contributor_beta_pref.head()"
   ]
  },
  {
   "cell_type": "code",
   "execution_count": 96,
   "metadata": {},
   "outputs": [],
   "source": [
    "# convert preference column to string type \n",
    "contributor_beta_pref['preference'] = contributor_beta_pref['preference'].astype(str)"
   ]
  },
  {
   "cell_type": "code",
   "execution_count": 97,
   "metadata": {},
   "outputs": [],
   "source": [
    "# rename values. \n",
    "pref_aliases = {\n",
    "    \"b\\'0\\'\":\"explicitly disabled beta preference\",\n",
    "    \"b\\'1\\'\":\"explicitly enabled beta preference\",\n",
    "    \"nan\": \"no local preference recorded\"\n",
    "}\n",
    "\n",
    "contributor_beta_pref= contributor_beta_pref.replace({\"preference\": pref_aliases})"
   ]
  },
  {
   "cell_type": "code",
   "execution_count": 98,
   "metadata": {},
   "outputs": [],
   "source": [
    "# Overall Opt Out Rate"
   ]
  },
  {
   "cell_type": "code",
   "execution_count": 99,
   "metadata": {},
   "outputs": [
    {
     "data": {
      "text/html": [
       "<div>\n",
       "<style scoped>\n",
       "    .dataframe tbody tr th:only-of-type {\n",
       "        vertical-align: middle;\n",
       "    }\n",
       "\n",
       "    .dataframe tbody tr th {\n",
       "        vertical-align: top;\n",
       "    }\n",
       "\n",
       "    .dataframe thead th {\n",
       "        text-align: right;\n",
       "    }\n",
       "</style>\n",
       "<table border=\"1\" class=\"dataframe\">\n",
       "  <thead>\n",
       "    <tr style=\"text-align: right;\">\n",
       "      <th></th>\n",
       "      <th>contributor</th>\n",
       "    </tr>\n",
       "    <tr>\n",
       "      <th>preference</th>\n",
       "      <th></th>\n",
       "    </tr>\n",
       "  </thead>\n",
       "  <tbody>\n",
       "    <tr>\n",
       "      <th>explicitly disabled beta preference</th>\n",
       "      <td>44546</td>\n",
       "    </tr>\n",
       "    <tr>\n",
       "      <th>explicitly enabled beta preference</th>\n",
       "      <td>18690</td>\n",
       "    </tr>\n",
       "    <tr>\n",
       "      <th>no local preference recorded</th>\n",
       "      <td>295215</td>\n",
       "    </tr>\n",
       "  </tbody>\n",
       "</table>\n",
       "</div>"
      ],
      "text/plain": [
       "                                     contributor\n",
       "preference                                      \n",
       "explicitly disabled beta preference        44546\n",
       "explicitly enabled beta preference         18690\n",
       "no local preference recorded              295215"
      ]
     },
     "execution_count": 99,
     "metadata": {},
     "output_type": "execute_result"
    }
   ],
   "source": [
    "contributor_beta_pref_overall= contributor_beta_pref[['preference', 'contributor']].groupby('preference').count()\n",
    "\n",
    "contributor_beta_pref_overall"
   ]
  },
  {
   "cell_type": "code",
   "execution_count": 100,
   "metadata": {},
   "outputs": [
    {
     "data": {
      "text/html": [
       "<div>\n",
       "<style scoped>\n",
       "    .dataframe tbody tr th:only-of-type {\n",
       "        vertical-align: middle;\n",
       "    }\n",
       "\n",
       "    .dataframe tbody tr th {\n",
       "        vertical-align: top;\n",
       "    }\n",
       "\n",
       "    .dataframe thead th {\n",
       "        text-align: right;\n",
       "    }\n",
       "</style>\n",
       "<table border=\"1\" class=\"dataframe\">\n",
       "  <thead>\n",
       "    <tr style=\"text-align: right;\">\n",
       "      <th></th>\n",
       "      <th>contributor</th>\n",
       "    </tr>\n",
       "    <tr>\n",
       "      <th>preference</th>\n",
       "      <th></th>\n",
       "    </tr>\n",
       "  </thead>\n",
       "  <tbody>\n",
       "    <tr>\n",
       "      <th>no local preference recorded</th>\n",
       "      <td>82.36%</td>\n",
       "    </tr>\n",
       "    <tr>\n",
       "      <th>explicitly enabled beta preference</th>\n",
       "      <td>5.21%</td>\n",
       "    </tr>\n",
       "    <tr>\n",
       "      <th>explicitly disabled beta preference</th>\n",
       "      <td>12.43%</td>\n",
       "    </tr>\n",
       "  </tbody>\n",
       "</table>\n",
       "</div>"
      ],
      "text/plain": [
       "                                    contributor\n",
       "preference                                     \n",
       "no local preference recorded             82.36%\n",
       "explicitly enabled beta preference        5.21%\n",
       "explicitly disabled beta preference      12.43%"
      ]
     },
     "execution_count": 100,
     "metadata": {},
     "output_type": "execute_result"
    }
   ],
   "source": [
    "pct_beta_opt_rate =(100. * contributor_beta_pref_overall / contributor_beta_pref_overall.sum()).round(2).astype(str) + '%'\n",
    "pct_beta_opt_rate.sort_values(by=['contributor'],ascending=False)"
   ]
  },
  {
   "cell_type": "markdown",
   "metadata": {},
   "source": [
    "Of all talk page contributors, around 17% have explicitly adjusted the DiscussionTools Beta Preference since deployed."
   ]
  },
  {
   "cell_type": "markdown",
   "metadata": {},
   "source": [
    "# By Experience Level\n",
    "\n",
    "We are only interested in the makeup of users that have explcitily adjusted the DT beta preference. "
   ]
  },
  {
   "cell_type": "code",
   "execution_count": 101,
   "metadata": {},
   "outputs": [
    {
     "data": {
      "text/html": [
       "<div>\n",
       "<style scoped>\n",
       "    .dataframe tbody tr th:only-of-type {\n",
       "        vertical-align: middle;\n",
       "    }\n",
       "\n",
       "    .dataframe tbody tr th {\n",
       "        vertical-align: top;\n",
       "    }\n",
       "\n",
       "    .dataframe thead th {\n",
       "        text-align: right;\n",
       "    }\n",
       "</style>\n",
       "<table border=\"1\" class=\"dataframe\">\n",
       "  <thead>\n",
       "    <tr style=\"text-align: right;\">\n",
       "      <th></th>\n",
       "      <th>contributor</th>\n",
       "      <th>wiki</th>\n",
       "      <th>edit_count_group</th>\n",
       "      <th>preference</th>\n",
       "    </tr>\n",
       "  </thead>\n",
       "  <tbody>\n",
       "    <tr>\n",
       "      <th>0</th>\n",
       "      <td>153</td>\n",
       "      <td>mediawikiwiki</td>\n",
       "      <td>100-500</td>\n",
       "      <td>explicitly disabled beta preference</td>\n",
       "    </tr>\n",
       "    <tr>\n",
       "      <th>0</th>\n",
       "      <td>153</td>\n",
       "      <td>mediawikiwiki</td>\n",
       "      <td>100-500</td>\n",
       "      <td>explicitly disabled beta preference</td>\n",
       "    </tr>\n",
       "    <tr>\n",
       "      <th>1</th>\n",
       "      <td>191</td>\n",
       "      <td>suwiktionary</td>\n",
       "      <td>100-500</td>\n",
       "      <td>explicitly disabled beta preference</td>\n",
       "    </tr>\n",
       "    <tr>\n",
       "      <th>2</th>\n",
       "      <td>1084</td>\n",
       "      <td>lawiki</td>\n",
       "      <td>over 500</td>\n",
       "      <td>no local preference recorded</td>\n",
       "    </tr>\n",
       "    <tr>\n",
       "      <th>3</th>\n",
       "      <td>1173</td>\n",
       "      <td>plwiki</td>\n",
       "      <td>over 500</td>\n",
       "      <td>explicitly enabled beta preference</td>\n",
       "    </tr>\n",
       "  </tbody>\n",
       "</table>\n",
       "</div>"
      ],
      "text/plain": [
       "   contributor           wiki edit_count_group  \\\n",
       "0          153  mediawikiwiki          100-500   \n",
       "0          153  mediawikiwiki          100-500   \n",
       "1          191   suwiktionary          100-500   \n",
       "2         1084         lawiki         over 500   \n",
       "3         1173         plwiki         over 500   \n",
       "\n",
       "                            preference  \n",
       "0  explicitly disabled beta preference  \n",
       "0  explicitly disabled beta preference  \n",
       "1  explicitly disabled beta preference  \n",
       "2         no local preference recorded  \n",
       "3   explicitly enabled beta preference  "
      ]
     },
     "execution_count": 101,
     "metadata": {},
     "output_type": "execute_result"
    }
   ],
   "source": [
    "contributor_beta_pref.head()"
   ]
  },
  {
   "cell_type": "code",
   "execution_count": 102,
   "metadata": {},
   "outputs": [],
   "source": [
    "contributor_beta_pref_adjusted = contributor_beta_pref[contributor_beta_pref['preference'] != 'no local preference recorded']"
   ]
  },
  {
   "cell_type": "markdown",
   "metadata": {},
   "source": [
    "# Percentages of all talk page contributors that have adjusted the beta preference"
   ]
  },
  {
   "cell_type": "code",
   "execution_count": 104,
   "metadata": {},
   "outputs": [
    {
     "data": {
      "text/html": [
       "<div>\n",
       "<style scoped>\n",
       "    .dataframe tbody tr th:only-of-type {\n",
       "        vertical-align: middle;\n",
       "    }\n",
       "\n",
       "    .dataframe tbody tr th {\n",
       "        vertical-align: top;\n",
       "    }\n",
       "\n",
       "    .dataframe thead th {\n",
       "        text-align: right;\n",
       "    }\n",
       "</style>\n",
       "<table border=\"1\" class=\"dataframe\">\n",
       "  <thead>\n",
       "    <tr style=\"text-align: right;\">\n",
       "      <th></th>\n",
       "      <th>contributor</th>\n",
       "    </tr>\n",
       "    <tr>\n",
       "      <th>edit_count_group</th>\n",
       "      <th></th>\n",
       "    </tr>\n",
       "  </thead>\n",
       "  <tbody>\n",
       "    <tr>\n",
       "      <th>100-500</th>\n",
       "      <td>6800</td>\n",
       "    </tr>\n",
       "    <tr>\n",
       "      <th>over 500</th>\n",
       "      <td>23812</td>\n",
       "    </tr>\n",
       "    <tr>\n",
       "      <th>under 100</th>\n",
       "      <td>32624</td>\n",
       "    </tr>\n",
       "  </tbody>\n",
       "</table>\n",
       "</div>"
      ],
      "text/plain": [
       "                  contributor\n",
       "edit_count_group             \n",
       "100-500                  6800\n",
       "over 500                23812\n",
       "under 100               32624"
      ]
     },
     "execution_count": 104,
     "metadata": {},
     "output_type": "execute_result"
    }
   ],
   "source": [
    "# calculate total enabled and disabled\n",
    "contributor_beta_pref_byexp = contributor_beta_pref_adjusted[['edit_count_group' ,'contributor']].groupby(['edit_count_group']).count()\n",
    "\n",
    "contributor_beta_pref_byexp"
   ]
  },
  {
   "cell_type": "code",
   "execution_count": 105,
   "metadata": {},
   "outputs": [
    {
     "data": {
      "text/html": [
       "<div>\n",
       "<style scoped>\n",
       "    .dataframe tbody tr th:only-of-type {\n",
       "        vertical-align: middle;\n",
       "    }\n",
       "\n",
       "    .dataframe tbody tr th {\n",
       "        vertical-align: top;\n",
       "    }\n",
       "\n",
       "    .dataframe thead th {\n",
       "        text-align: right;\n",
       "    }\n",
       "</style>\n",
       "<table border=\"1\" class=\"dataframe\">\n",
       "  <thead>\n",
       "    <tr style=\"text-align: right;\">\n",
       "      <th></th>\n",
       "      <th>contributor</th>\n",
       "    </tr>\n",
       "    <tr>\n",
       "      <th>edit_count_group</th>\n",
       "      <th></th>\n",
       "    </tr>\n",
       "  </thead>\n",
       "  <tbody>\n",
       "    <tr>\n",
       "      <th>100-500</th>\n",
       "      <td>10.75%</td>\n",
       "    </tr>\n",
       "    <tr>\n",
       "      <th>over 500</th>\n",
       "      <td>37.66%</td>\n",
       "    </tr>\n",
       "    <tr>\n",
       "      <th>under 100</th>\n",
       "      <td>51.59%</td>\n",
       "    </tr>\n",
       "  </tbody>\n",
       "</table>\n",
       "</div>"
      ],
      "text/plain": [
       "                 contributor\n",
       "edit_count_group            \n",
       "100-500               10.75%\n",
       "over 500              37.66%\n",
       "under 100             51.59%"
      ]
     },
     "execution_count": 105,
     "metadata": {},
     "output_type": "execute_result"
    }
   ],
   "source": [
    "pct_beta_opt_rate_byexp =(100. * contributor_beta_pref_byexp/ contributor_beta_pref_byexp.sum()).round(2).astype(str) + '%'\n",
    "pct_beta_opt_rate_byexp"
   ]
  },
  {
   "cell_type": "code",
   "execution_count": null,
   "metadata": {},
   "outputs": [],
   "source": []
  }
 ],
 "metadata": {
  "kernelspec": {
   "display_name": "Python 3",
   "language": "python",
   "name": "python3"
  },
  "language_info": {
   "codemirror_mode": {
    "name": "ipython",
    "version": 3
   },
   "file_extension": ".py",
   "mimetype": "text/x-python",
   "name": "python",
   "nbconvert_exporter": "python",
   "pygments_lexer": "ipython3",
   "version": "3.7.8"
  }
 },
 "nbformat": 4,
 "nbformat_minor": 4
}
