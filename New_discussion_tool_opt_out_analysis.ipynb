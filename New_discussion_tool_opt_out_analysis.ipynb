{
 "cells": [
  {
   "cell_type": "markdown",
   "metadata": {},
   "source": [
    "# New Discussion Tool Contributor Opt-Out Analysis"
   ]
  },
  {
   "cell_type": "markdown",
   "metadata": {},
   "source": [
    "## Data:\n",
    "\n",
    "I reviewed the mediawiki [user_properties table](https://www.mediawiki.org/wiki/Manual:User_properties_table) to determine the current number of new discussion tool users that have the `discussiontools-betaenable` property currently disabled.\n",
    "\n",
    "Some notes regarding this dataset:\n",
    "* This reflects all current nondefault user preferences.  User property records are added to the database when they differ from their default value.\n",
    "* Data reflects the current state and does not account for users that have changed this preference multiple times.\n",
    "* There are contributors that have used the new discussion tool but don't have a preference set in the user properties table. Upon further investigation, these are predominately users that disabled the setting by selecting 'restore all default preferences' in their user preferences. The analysis below distinguishes between these two methods of disabling the feature. "
   ]
  },
  {
   "cell_type": "code",
   "execution_count": 132,
   "metadata": {},
   "outputs": [],
   "source": [
    "import pandas as pd\n",
    "import numpy as np\n",
    "\n",
    "import datetime as dt\n",
    "\n",
    "from wmfdata import hive, mariadb"
   ]
  },
  {
   "cell_type": "code",
   "execution_count": 133,
   "metadata": {},
   "outputs": [],
   "source": [
    "HIVE_SNAPSHOT = \"2021-07\"\n",
    "START_OF_DATA = \"2021-02-18\"\n",
    "END_OF_DATA = \"2021-08-01\""
   ]
  },
  {
   "cell_type": "markdown",
   "metadata": {},
   "source": [
    "## Collect new discussion tool contributors"
   ]
  },
  {
   "cell_type": "code",
   "execution_count": 135,
   "metadata": {},
   "outputs": [],
   "source": [
    "#all users that made at least 1 edit with the new discussion tool since deployment\n",
    "\n",
    "query = \"\"\"\n",
    "\n",
    "SELECT\n",
    "    event_user_id as new_dt_user,\n",
    "    wiki_db as wiki,\n",
    "    CASE\n",
    "        WHEN min(event_user_revision_count) < 100 THEN 'under 100'\n",
    "        WHEN (min(event_user_revision_count) >=100 AND min(event_user_revision_count <= 500)) THEN '100-500'\n",
    "        ELSE 'over 500'\n",
    "        END AS edit_count_group\n",
    "FROM wmf.mediawiki_history AS mh\n",
    "WHERE \n",
    "    ARRAY_CONTAINS(revision_tags, 'discussiontools-newtopic') \n",
    "    AND snapshot = '2021-07' \n",
    "-- date first deployed\n",
    "    AND event_timestamp >= '2021-02-18'  \n",
    "    AND event_timestamp <= '2021-07-31'  \n",
    "-- only on desktop\n",
    "    AND NOT array_contains(revision_tags, 'iOS')\n",
    "    AND NOT array_contains(revision_tags, 'Android')\n",
    "    AND NOT array_contains(revision_tags, 'Mobile Web')\n",
    "     -- find all edits on talk pages \n",
    "    AND page_namespace_historical % 2 = 1\n",
    "    AND event_entity = 'revision' AND \n",
    "    event_type = 'create'\n",
    "    AND event_user_is_anonymous = FALSE\n",
    "GROUP BY\n",
    "    event_user_id,\n",
    "    wiki_db\n",
    "\"\"\""
   ]
  },
  {
   "cell_type": "code",
   "execution_count": 136,
   "metadata": {},
   "outputs": [],
   "source": [
    "new_dt_user = hive.run(\n",
    "    query.format(\n",
    "        hive_snapshot = HIVE_SNAPSHOT,\n",
    "        START_OF_DATA= START_OF_DATA,\n",
    "        END_OF_DATA=END_OF_DATA\n",
    "    )\n",
    ")"
   ]
  },
  {
   "cell_type": "code",
   "execution_count": 137,
   "metadata": {},
   "outputs": [
    {
     "data": {
      "text/html": [
       "<div>\n",
       "<style scoped>\n",
       "    .dataframe tbody tr th:only-of-type {\n",
       "        vertical-align: middle;\n",
       "    }\n",
       "\n",
       "    .dataframe tbody tr th {\n",
       "        vertical-align: top;\n",
       "    }\n",
       "\n",
       "    .dataframe thead th {\n",
       "        text-align: right;\n",
       "    }\n",
       "</style>\n",
       "<table border=\"1\" class=\"dataframe\">\n",
       "  <thead>\n",
       "    <tr style=\"text-align: right;\">\n",
       "      <th></th>\n",
       "      <th>new_dt_user</th>\n",
       "      <th>wiki</th>\n",
       "      <th>edit_count_group</th>\n",
       "    </tr>\n",
       "  </thead>\n",
       "  <tbody>\n",
       "    <tr>\n",
       "      <th>0</th>\n",
       "      <td>59964</td>\n",
       "      <td>zhwiki</td>\n",
       "      <td>over 500</td>\n",
       "    </tr>\n",
       "    <tr>\n",
       "      <th>1</th>\n",
       "      <td>908882</td>\n",
       "      <td>fawiki</td>\n",
       "      <td>over 500</td>\n",
       "    </tr>\n",
       "    <tr>\n",
       "      <th>2</th>\n",
       "      <td>2120174</td>\n",
       "      <td>arwiki</td>\n",
       "      <td>under 100</td>\n",
       "    </tr>\n",
       "    <tr>\n",
       "      <th>3</th>\n",
       "      <td>3843845</td>\n",
       "      <td>commonswiki</td>\n",
       "      <td>under 100</td>\n",
       "    </tr>\n",
       "    <tr>\n",
       "      <th>4</th>\n",
       "      <td>23458</td>\n",
       "      <td>eswiki</td>\n",
       "      <td>over 500</td>\n",
       "    </tr>\n",
       "  </tbody>\n",
       "</table>\n",
       "</div>"
      ],
      "text/plain": [
       "   new_dt_user         wiki edit_count_group\n",
       "0        59964       zhwiki         over 500\n",
       "1       908882       fawiki         over 500\n",
       "2      2120174       arwiki        under 100\n",
       "3      3843845  commonswiki        under 100\n",
       "4        23458       eswiki         over 500"
      ]
     },
     "execution_count": 137,
     "metadata": {},
     "output_type": "execute_result"
    }
   ],
   "source": [
    "new_dt_user.head()"
   ]
  },
  {
   "cell_type": "code",
   "execution_count": 138,
   "metadata": {},
   "outputs": [
    {
     "name": "stdout",
     "output_type": "stream",
     "text": [
      "Total number of new discussion users for whom we will be checking beta preferences: 5392\n"
     ]
    }
   ],
   "source": [
    "#Total new dt users\n",
    "\n",
    "Total_dt_users = new_dt_user['new_dt_user'].count()\n",
    "\n",
    "print('Total number of new discussion users for whom we will be checking beta preferences:' , Total_dt_users)"
   ]
  },
  {
   "cell_type": "markdown",
   "metadata": {},
   "source": [
    "## New Discussion Tool Users Current Preference Status"
   ]
  },
  {
   "cell_type": "code",
   "execution_count": 172,
   "metadata": {},
   "outputs": [],
   "source": [
    "#Querying user_properties for getting the discussion tools preference set by the new dt contributors we got in the above query\n",
    "\n",
    "query='''\n",
    "SELECT \n",
    "  up_value AS preference,\n",
    "  up_user AS user\n",
    "FROM user_properties\n",
    "WHERE up_user in ({users})\n",
    "AND up_property = \"discussiontools-betaenable\"\n",
    "'''"
   ]
  },
  {
   "cell_type": "code",
   "execution_count": 173,
   "metadata": {},
   "outputs": [],
   "source": [
    "# Looping through each wiki for the list of users for each skin\n",
    "\n",
    "wikis = new_dt_user['wiki'].unique()\n",
    "up_pref=list()\n",
    "for wiki in wikis:\n",
    "    user_ids = new_dt_user[new_dt_user['wiki'] == wiki][\"new_dt_user\"]\n",
    "    user_list = ','.join([str(u) for u in user_ids])\n",
    "    prefs = mariadb.run(\n",
    "      query.format(users=user_list),\n",
    "      wiki\n",
    "    )\n",
    "    up_pref.append(prefs)\n",
    "\n",
    "pref= pd.concat(up_pref)"
   ]
  },
  {
   "cell_type": "code",
   "execution_count": 174,
   "metadata": {},
   "outputs": [],
   "source": [
    "# Join with edit count data from mediawiki_history\n",
    "new_dt_user_pref = new_dt_user.join(pref.set_index('user'), on = 'new_dt_user', how = 'left')"
   ]
  },
  {
   "cell_type": "code",
   "execution_count": 175,
   "metadata": {},
   "outputs": [],
   "source": [
    "# covert skin column to string type \n",
    "new_dt_user_pref['preference'] = new_dt_user_pref['preference'].astype(str)"
   ]
  },
  {
   "cell_type": "code",
   "execution_count": 176,
   "metadata": {},
   "outputs": [],
   "source": [
    "# rename values. \n",
    "pref_aliases = {\n",
    "    \"b\\'0\\'\":\"explicitly disabled\",\n",
    "    \"b\\'1\\'\":\"explicitly enabled\",\n",
    "    \"nan\": \"disabled by restoring all default settings\"\n",
    "}\n",
    "\n",
    "new_dt_user_pref= new_dt_user_pref.replace({\"preference\": pref_aliases})"
   ]
  },
  {
   "cell_type": "markdown",
   "metadata": {},
   "source": [
    "Note: There are a large number new discussion tool contributors who do not have data for discussiontool-betaenable preferences currently set in the user_preference table indicating that there preference change was deleted from the user_properties table. Upon further investigation, it appears that at least one of the reasons this occurs is because the user disabled the feature by selecting \"restore all default settings\" in their preferences instead of explcilty disabling the discussions tools beta feature. \n",
    "\n",
    "These users are indicated as \"disabled by restoring all default settings\" "
   ]
  },
  {
   "cell_type": "markdown",
   "metadata": {},
   "source": [
    "## Overall Opt-In Rate"
   ]
  },
  {
   "cell_type": "code",
   "execution_count": 177,
   "metadata": {},
   "outputs": [
    {
     "data": {
      "text/html": [
       "<div>\n",
       "<style scoped>\n",
       "    .dataframe tbody tr th:only-of-type {\n",
       "        vertical-align: middle;\n",
       "    }\n",
       "\n",
       "    .dataframe tbody tr th {\n",
       "        vertical-align: top;\n",
       "    }\n",
       "\n",
       "    .dataframe thead th {\n",
       "        text-align: right;\n",
       "    }\n",
       "</style>\n",
       "<table border=\"1\" class=\"dataframe\">\n",
       "  <thead>\n",
       "    <tr style=\"text-align: right;\">\n",
       "      <th></th>\n",
       "      <th>new_dt_user</th>\n",
       "    </tr>\n",
       "    <tr>\n",
       "      <th>preference</th>\n",
       "      <th></th>\n",
       "    </tr>\n",
       "  </thead>\n",
       "  <tbody>\n",
       "    <tr>\n",
       "      <th>disabled by restoring all default settings</th>\n",
       "      <td>1469</td>\n",
       "    </tr>\n",
       "    <tr>\n",
       "      <th>explicitly disabled</th>\n",
       "      <td>324</td>\n",
       "    </tr>\n",
       "    <tr>\n",
       "      <th>explicitly enabled</th>\n",
       "      <td>3609</td>\n",
       "    </tr>\n",
       "  </tbody>\n",
       "</table>\n",
       "</div>"
      ],
      "text/plain": [
       "                                            new_dt_user\n",
       "preference                                             \n",
       "disabled by restoring all default settings         1469\n",
       "explicitly disabled                                 324\n",
       "explicitly enabled                                 3609"
      ]
     },
     "execution_count": 177,
     "metadata": {},
     "output_type": "execute_result"
    }
   ],
   "source": [
    "new_dt_pref_overall= new_dt_user_pref[['preference', 'new_dt_user']].groupby('preference').count()\n",
    "\n",
    "new_dt_pref_overall"
   ]
  },
  {
   "cell_type": "code",
   "execution_count": 178,
   "metadata": {},
   "outputs": [
    {
     "data": {
      "text/html": [
       "<div>\n",
       "<style scoped>\n",
       "    .dataframe tbody tr th:only-of-type {\n",
       "        vertical-align: middle;\n",
       "    }\n",
       "\n",
       "    .dataframe tbody tr th {\n",
       "        vertical-align: top;\n",
       "    }\n",
       "\n",
       "    .dataframe thead th {\n",
       "        text-align: right;\n",
       "    }\n",
       "</style>\n",
       "<table border=\"1\" class=\"dataframe\">\n",
       "  <thead>\n",
       "    <tr style=\"text-align: right;\">\n",
       "      <th></th>\n",
       "      <th>new_dt_user</th>\n",
       "    </tr>\n",
       "    <tr>\n",
       "      <th>preference</th>\n",
       "      <th></th>\n",
       "    </tr>\n",
       "  </thead>\n",
       "  <tbody>\n",
       "    <tr>\n",
       "      <th>explicitly enabled</th>\n",
       "      <td>66.81%</td>\n",
       "    </tr>\n",
       "    <tr>\n",
       "      <th>explicitly disabled</th>\n",
       "      <td>6.0%</td>\n",
       "    </tr>\n",
       "    <tr>\n",
       "      <th>disabled by restoring all default settings</th>\n",
       "      <td>27.19%</td>\n",
       "    </tr>\n",
       "  </tbody>\n",
       "</table>\n",
       "</div>"
      ],
      "text/plain": [
       "                                           new_dt_user\n",
       "preference                                            \n",
       "explicitly enabled                              66.81%\n",
       "explicitly disabled                               6.0%\n",
       "disabled by restoring all default settings      27.19%"
      ]
     },
     "execution_count": 178,
     "metadata": {},
     "output_type": "execute_result"
    }
   ],
   "source": [
    "pct_user_opt_rate =(100. * new_dt_pref_overall / new_dt_pref_overall.sum()).round(2).astype(str) + '%'\n",
    "pct_user_opt_rate.sort_values(by=['new_dt_user'],ascending=False)"
   ]
  },
  {
   "cell_type": "markdown",
   "metadata": {},
   "source": [
    "Overall, only 6% of all new discussion tool users currently have the 'discussiontool-betaenable' preference explicitly set as disabled in the User Properties table. "
   ]
  },
  {
   "cell_type": "markdown",
   "metadata": {},
   "source": [
    "## By Experience Level"
   ]
  },
  {
   "cell_type": "code",
   "execution_count": 179,
   "metadata": {},
   "outputs": [
    {
     "data": {
      "text/html": [
       "<div>\n",
       "<style scoped>\n",
       "    .dataframe tbody tr th:only-of-type {\n",
       "        vertical-align: middle;\n",
       "    }\n",
       "\n",
       "    .dataframe tbody tr th {\n",
       "        vertical-align: top;\n",
       "    }\n",
       "\n",
       "    .dataframe thead th {\n",
       "        text-align: right;\n",
       "    }\n",
       "</style>\n",
       "<table border=\"1\" class=\"dataframe\">\n",
       "  <thead>\n",
       "    <tr style=\"text-align: right;\">\n",
       "      <th></th>\n",
       "      <th></th>\n",
       "      <th>new_dt_user</th>\n",
       "    </tr>\n",
       "    <tr>\n",
       "      <th>edit_count_group</th>\n",
       "      <th>preference</th>\n",
       "      <th></th>\n",
       "    </tr>\n",
       "  </thead>\n",
       "  <tbody>\n",
       "    <tr>\n",
       "      <th rowspan=\"3\" valign=\"top\">100-500</th>\n",
       "      <th>disabled by restoring all default settings</th>\n",
       "      <td>205</td>\n",
       "    </tr>\n",
       "    <tr>\n",
       "      <th>explicitly disabled</th>\n",
       "      <td>22</td>\n",
       "    </tr>\n",
       "    <tr>\n",
       "      <th>explicitly enabled</th>\n",
       "      <td>483</td>\n",
       "    </tr>\n",
       "    <tr>\n",
       "      <th rowspan=\"3\" valign=\"top\">over 500</th>\n",
       "      <th>disabled by restoring all default settings</th>\n",
       "      <td>942</td>\n",
       "    </tr>\n",
       "    <tr>\n",
       "      <th>explicitly disabled</th>\n",
       "      <td>256</td>\n",
       "    </tr>\n",
       "    <tr>\n",
       "      <th>explicitly enabled</th>\n",
       "      <td>2357</td>\n",
       "    </tr>\n",
       "    <tr>\n",
       "      <th rowspan=\"3\" valign=\"top\">under 100</th>\n",
       "      <th>disabled by restoring all default settings</th>\n",
       "      <td>322</td>\n",
       "    </tr>\n",
       "    <tr>\n",
       "      <th>explicitly disabled</th>\n",
       "      <td>46</td>\n",
       "    </tr>\n",
       "    <tr>\n",
       "      <th>explicitly enabled</th>\n",
       "      <td>769</td>\n",
       "    </tr>\n",
       "  </tbody>\n",
       "</table>\n",
       "</div>"
      ],
      "text/plain": [
       "                                                             new_dt_user\n",
       "edit_count_group preference                                             \n",
       "100-500          disabled by restoring all default settings          205\n",
       "                 explicitly disabled                                  22\n",
       "                 explicitly enabled                                  483\n",
       "over 500         disabled by restoring all default settings          942\n",
       "                 explicitly disabled                                 256\n",
       "                 explicitly enabled                                 2357\n",
       "under 100        disabled by restoring all default settings          322\n",
       "                 explicitly disabled                                  46\n",
       "                 explicitly enabled                                  769"
      ]
     },
     "execution_count": 179,
     "metadata": {},
     "output_type": "execute_result"
    }
   ],
   "source": [
    "# calculate total enabled and disabled\n",
    "new_dt_pref_byexp = new_dt_user_pref[['preference', 'edit_count_group' ,'new_dt_user']].groupby(['edit_count_group','preference']).count()\n",
    "\n",
    "new_dt_pref_byexp"
   ]
  },
  {
   "cell_type": "code",
   "execution_count": 180,
   "metadata": {},
   "outputs": [
    {
     "data": {
      "text/html": [
       "<div>\n",
       "<style scoped>\n",
       "    .dataframe tbody tr th:only-of-type {\n",
       "        vertical-align: middle;\n",
       "    }\n",
       "\n",
       "    .dataframe tbody tr th {\n",
       "        vertical-align: top;\n",
       "    }\n",
       "\n",
       "    .dataframe thead th {\n",
       "        text-align: right;\n",
       "    }\n",
       "</style>\n",
       "<table border=\"1\" class=\"dataframe\">\n",
       "  <thead>\n",
       "    <tr style=\"text-align: right;\">\n",
       "      <th></th>\n",
       "      <th></th>\n",
       "      <th>new_dt_user</th>\n",
       "    </tr>\n",
       "    <tr>\n",
       "      <th>edit_count_group</th>\n",
       "      <th>preference</th>\n",
       "      <th></th>\n",
       "    </tr>\n",
       "  </thead>\n",
       "  <tbody>\n",
       "    <tr>\n",
       "      <th rowspan=\"3\" valign=\"top\">100-500</th>\n",
       "      <th>disabled by restoring all default settings</th>\n",
       "      <td>28.87%</td>\n",
       "    </tr>\n",
       "    <tr>\n",
       "      <th>explicitly disabled</th>\n",
       "      <td>3.1%</td>\n",
       "    </tr>\n",
       "    <tr>\n",
       "      <th>explicitly enabled</th>\n",
       "      <td>68.03%</td>\n",
       "    </tr>\n",
       "    <tr>\n",
       "      <th rowspan=\"3\" valign=\"top\">over 500</th>\n",
       "      <th>disabled by restoring all default settings</th>\n",
       "      <td>26.5%</td>\n",
       "    </tr>\n",
       "    <tr>\n",
       "      <th>explicitly disabled</th>\n",
       "      <td>7.2%</td>\n",
       "    </tr>\n",
       "    <tr>\n",
       "      <th>explicitly enabled</th>\n",
       "      <td>66.3%</td>\n",
       "    </tr>\n",
       "    <tr>\n",
       "      <th rowspan=\"3\" valign=\"top\">under 100</th>\n",
       "      <th>disabled by restoring all default settings</th>\n",
       "      <td>28.32%</td>\n",
       "    </tr>\n",
       "    <tr>\n",
       "      <th>explicitly disabled</th>\n",
       "      <td>4.05%</td>\n",
       "    </tr>\n",
       "    <tr>\n",
       "      <th>explicitly enabled</th>\n",
       "      <td>67.63%</td>\n",
       "    </tr>\n",
       "  </tbody>\n",
       "</table>\n",
       "</div>"
      ],
      "text/plain": [
       "                                                            new_dt_user\n",
       "edit_count_group preference                                            \n",
       "100-500          disabled by restoring all default settings      28.87%\n",
       "                 explicitly disabled                               3.1%\n",
       "                 explicitly enabled                              68.03%\n",
       "over 500         disabled by restoring all default settings       26.5%\n",
       "                 explicitly disabled                               7.2%\n",
       "                 explicitly enabled                               66.3%\n",
       "under 100        disabled by restoring all default settings      28.32%\n",
       "                 explicitly disabled                              4.05%\n",
       "                 explicitly enabled                              67.63%"
      ]
     },
     "execution_count": 180,
     "metadata": {},
     "output_type": "execute_result"
    }
   ],
   "source": [
    "pct_user_opt_rate_byexp =(100. * new_dt_pref_byexp/ new_dt_pref_byexp.groupby('edit_count_group').sum()).round(2).astype(str) + '%'\n",
    "pct_user_opt_rate_byexp"
   ]
  },
  {
   "cell_type": "markdown",
   "metadata": {},
   "source": [
    "## Arabic and Czech Wikipedias"
   ]
  },
  {
   "cell_type": "code",
   "execution_count": 181,
   "metadata": {},
   "outputs": [],
   "source": [
    "# filter to target wikis\n",
    "target_wiki = ['arwiki', 'cswiki']\n",
    "new_dt_user_pref_wiki= new_dt_user_pref[new_dt_user_pref['wiki'].isin(target_wiki)]\n"
   ]
  },
  {
   "cell_type": "code",
   "execution_count": 182,
   "metadata": {},
   "outputs": [
    {
     "data": {
      "text/html": [
       "<div>\n",
       "<style scoped>\n",
       "    .dataframe tbody tr th:only-of-type {\n",
       "        vertical-align: middle;\n",
       "    }\n",
       "\n",
       "    .dataframe tbody tr th {\n",
       "        vertical-align: top;\n",
       "    }\n",
       "\n",
       "    .dataframe thead th {\n",
       "        text-align: right;\n",
       "    }\n",
       "</style>\n",
       "<table border=\"1\" class=\"dataframe\">\n",
       "  <thead>\n",
       "    <tr style=\"text-align: right;\">\n",
       "      <th></th>\n",
       "      <th></th>\n",
       "      <th>new_dt_user</th>\n",
       "    </tr>\n",
       "    <tr>\n",
       "      <th>wiki</th>\n",
       "      <th>preference</th>\n",
       "      <th></th>\n",
       "    </tr>\n",
       "  </thead>\n",
       "  <tbody>\n",
       "    <tr>\n",
       "      <th rowspan=\"2\" valign=\"top\">arwiki</th>\n",
       "      <th>explicitly disabled</th>\n",
       "      <td>3</td>\n",
       "    </tr>\n",
       "    <tr>\n",
       "      <th>explicitly enabled</th>\n",
       "      <td>59</td>\n",
       "    </tr>\n",
       "    <tr>\n",
       "      <th rowspan=\"2\" valign=\"top\">cswiki</th>\n",
       "      <th>explicitly disabled</th>\n",
       "      <td>1</td>\n",
       "    </tr>\n",
       "    <tr>\n",
       "      <th>explicitly enabled</th>\n",
       "      <td>29</td>\n",
       "    </tr>\n",
       "  </tbody>\n",
       "</table>\n",
       "</div>"
      ],
      "text/plain": [
       "                            new_dt_user\n",
       "wiki   preference                      \n",
       "arwiki explicitly disabled            3\n",
       "       explicitly enabled            59\n",
       "cswiki explicitly disabled            1\n",
       "       explicitly enabled            29"
      ]
     },
     "execution_count": 182,
     "metadata": {},
     "output_type": "execute_result"
    }
   ],
   "source": [
    "# calculate total enabled and disabled\n",
    "new_dt_pref_wiki = new_dt_user_pref_wiki[['preference', 'wiki' ,'new_dt_user']].groupby(['wiki','preference']).count()\n",
    "\n",
    "new_dt_pref_wiki"
   ]
  },
  {
   "cell_type": "code",
   "execution_count": 183,
   "metadata": {},
   "outputs": [
    {
     "data": {
      "text/html": [
       "<div>\n",
       "<style scoped>\n",
       "    .dataframe tbody tr th:only-of-type {\n",
       "        vertical-align: middle;\n",
       "    }\n",
       "\n",
       "    .dataframe tbody tr th {\n",
       "        vertical-align: top;\n",
       "    }\n",
       "\n",
       "    .dataframe thead th {\n",
       "        text-align: right;\n",
       "    }\n",
       "</style>\n",
       "<table border=\"1\" class=\"dataframe\">\n",
       "  <thead>\n",
       "    <tr style=\"text-align: right;\">\n",
       "      <th></th>\n",
       "      <th></th>\n",
       "      <th>new_dt_user</th>\n",
       "    </tr>\n",
       "    <tr>\n",
       "      <th>wiki</th>\n",
       "      <th>preference</th>\n",
       "      <th></th>\n",
       "    </tr>\n",
       "  </thead>\n",
       "  <tbody>\n",
       "    <tr>\n",
       "      <th rowspan=\"2\" valign=\"top\">arwiki</th>\n",
       "      <th>explicitly disabled</th>\n",
       "      <td>4.84%</td>\n",
       "    </tr>\n",
       "    <tr>\n",
       "      <th>explicitly enabled</th>\n",
       "      <td>95.16%</td>\n",
       "    </tr>\n",
       "    <tr>\n",
       "      <th rowspan=\"2\" valign=\"top\">cswiki</th>\n",
       "      <th>explicitly disabled</th>\n",
       "      <td>3.33%</td>\n",
       "    </tr>\n",
       "    <tr>\n",
       "      <th>explicitly enabled</th>\n",
       "      <td>96.67%</td>\n",
       "    </tr>\n",
       "  </tbody>\n",
       "</table>\n",
       "</div>"
      ],
      "text/plain": [
       "                           new_dt_user\n",
       "wiki   preference                     \n",
       "arwiki explicitly disabled       4.84%\n",
       "       explicitly enabled       95.16%\n",
       "cswiki explicitly disabled       3.33%\n",
       "       explicitly enabled       96.67%"
      ]
     },
     "execution_count": 183,
     "metadata": {},
     "output_type": "execute_result"
    }
   ],
   "source": [
    "pct_user_opt_rate_wiki =(100. * new_dt_pref_wiki/ new_dt_pref_wiki.groupby('wiki').sum()).round(2).astype(str) + '%'\n",
    "pct_user_opt_rate_wiki"
   ]
  },
  {
   "cell_type": "code",
   "execution_count": null,
   "metadata": {},
   "outputs": [],
   "source": []
  }
 ],
 "metadata": {
  "kernelspec": {
   "display_name": "Python 3",
   "language": "python",
   "name": "python3"
  },
  "language_info": {
   "codemirror_mode": {
    "name": "ipython",
    "version": 3
   },
   "file_extension": ".py",
   "mimetype": "text/x-python",
   "name": "python",
   "nbconvert_exporter": "python",
   "pygments_lexer": "ipython3",
   "version": "3.7.8"
  }
 },
 "nbformat": 4,
 "nbformat_minor": 4
}
