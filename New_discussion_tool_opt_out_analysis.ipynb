{
 "cells": [
  {
   "cell_type": "markdown",
   "metadata": {},
   "source": [
    "# New Discussion Tool Contributor Opt-Out Analysis\n",
    "\n",
    "[Task](https://phabricator.wikimedia.org/T294491)"
   ]
  },
  {
   "cell_type": "markdown",
   "metadata": {},
   "source": [
    "The New Discussion Tool is currently available as a opt-in beta feature at all Wikis. Prior to starting the A/B test of the New Discussion Tool,  we would like to know whether a significant number of people disabled the tool as a preference after using it to publish an edit.\n",
    "\n",
    "**Requirements**: An analysis is done that enables us to see the percentage of contributors that explicitly disabled the New Discussion Tool after making at least one non-reverted edit with it, grouped by experience level and wiki.\n",
    "\n",
    "**Relevant Dates**:\n",
    "* 18 February 2021: Available at Arabic, Czech and Hungarian Wikipedias\n",
    "* 11 March 20201: At More Wikipedia\n",
    "* 16 March 2021: Available at English and Russian Wikipedias\n"
   ]
  },
  {
   "cell_type": "markdown",
   "metadata": {},
   "source": [
    "## Data:\n",
    "\n",
    "We reviewed the mediawiki [user_properties table](https://www.mediawiki.org/wiki/Manual:User_properties_table) to determine the current number of new discussion tool users that have the `discussiontools-betaenable` or `discussiontools-newtopictool` property currently disabled. \n",
    "\n",
    "Some notes regarding this dataset:\n",
    "* This reflects all current nondefault user preferences.  User property records are added to the database when they differ from their default value.\n",
    "* Data reflects the current state and does not account for users that have changed this preference multiple times.\n",
    "* There are contributors that have used the new discussion tool but don't have a preference set in the user properties table. Possible reasons for this include: (1) the user  disabled the setting by selecting 'restore all default preferences' in their user preferences; (2) the user enabled discussion tools in their global preferences but not in their local preferences; or (3) The user disabled all discussion tool preferences by opting out of the discussion tool beta preference (applicable for the `Enable quick topic adding` preference only)."
   ]
  },
  {
   "cell_type": "markdown",
   "metadata": {},
   "source": [
    "**Notes re how preference values are set**\n",
    "\n",
    "* When you go into beta features and enable, the new topic preference is enabled by default: beta preference set to 1; No preference recorded for new topic option\n",
    "* When you go into preferences and disable the new topic preference: beta preference set to 1: new topic pref set to 0\n",
    "* When you go into proferences and renable the new topic preference: beta preference set to 1: No preference recorded for new topic option \n",
    "* When you go into into beta preferences and disable all discussiontool beta preference: beta preference set to 0; No preference recorded for new topic option"
   ]
  },
  {
   "cell_type": "code",
   "execution_count": 29,
   "metadata": {},
   "outputs": [],
   "source": [
    "import pandas as pd\n",
    "import numpy as np\n",
    "\n",
    "import datetime as dt\n",
    "\n",
    "from wmfdata import hive, mariadb"
   ]
  },
  {
   "cell_type": "code",
   "execution_count": 30,
   "metadata": {},
   "outputs": [],
   "source": [
    "HIVE_SNAPSHOT = \"2021-11\"\n",
    "START_OF_DATA = \"2021-02-18\"\n",
    "END_OF_DATA = \"2021-12-01\""
   ]
  },
  {
   "cell_type": "markdown",
   "metadata": {},
   "source": [
    "## Collect new discussion tool contributors"
   ]
  },
  {
   "cell_type": "code",
   "execution_count": 49,
   "metadata": {},
   "outputs": [],
   "source": [
    "#all users that made at least one non reverted (within 48 hours) edit with the new discussion tool since deployment\n",
    "\n",
    "query = \"\"\"\n",
    "\n",
    "SELECT\n",
    "    event_user_id as new_dt_user,\n",
    "    wiki_db as wiki,\n",
    "    CASE\n",
    "        WHEN min(event_user_revision_count) < 100 THEN 'under 100'\n",
    "        WHEN (min(event_user_revision_count) >=100 AND min(event_user_revision_count <= 500)) THEN '100-500'\n",
    "        ELSE 'over 500'\n",
    "        END AS edit_count_group\n",
    "FROM wmf.mediawiki_history AS mh\n",
    "WHERE \n",
    "    ARRAY_CONTAINS(revision_tags, 'discussiontools-newtopic') \n",
    "    AND snapshot = '2021-11' \n",
    "-- date first deployed\n",
    "    AND event_timestamp >= '2021-02-18'  \n",
    "    AND event_timestamp < '2021-12-01'   \n",
    "-- only on desktop\n",
    "    AND NOT array_contains(revision_tags, 'iOS')\n",
    "    AND NOT array_contains(revision_tags, 'Android')\n",
    "    AND NOT array_contains(revision_tags, 'Mobile Web')\n",
    "     -- find all edits on talk pages \n",
    "    AND page_namespace_historical % 2 = 1\n",
    "    AND event_entity = 'revision' AND \n",
    "    event_type = 'create'\n",
    "    AND event_user_is_anonymous = FALSE\n",
    "    -- remove all bots\n",
    "    AND SIZE(event_user_is_bot_by_historical) = 0  -- not a bot\n",
    "    AND NOT (revision_is_identity_reverted AND \n",
    "            revision_seconds_to_identity_revert <= 172800) -- not reverted within 48 hours\n",
    "GROUP BY\n",
    "    event_user_id,\n",
    "    wiki_db\n",
    "\"\"\""
   ]
  },
  {
   "cell_type": "code",
   "execution_count": 50,
   "metadata": {},
   "outputs": [],
   "source": [
    "new_dt_user = hive.run(\n",
    "    query.format(\n",
    "        hive_snapshot = HIVE_SNAPSHOT,\n",
    "        START_OF_DATA= START_OF_DATA,\n",
    "        END_OF_DATA=END_OF_DATA\n",
    "    )\n",
    ")"
   ]
  },
  {
   "cell_type": "code",
   "execution_count": 51,
   "metadata": {},
   "outputs": [
    {
     "name": "stdout",
     "output_type": "stream",
     "text": [
      "Total number of new discussion users for whom we will be checking beta preferences: 9880\n"
     ]
    }
   ],
   "source": [
    "#Total new dt users\n",
    "\n",
    "Total_dt_users = new_dt_user['new_dt_user'].count()\n",
    "\n",
    "print('Total number of new discussion users for whom we will be checking beta preferences:' , Total_dt_users)"
   ]
  },
  {
   "cell_type": "markdown",
   "metadata": {},
   "source": [
    "## New Discussion Tool Users Current Preference Status"
   ]
  },
  {
   "cell_type": "markdown",
   "metadata": {},
   "source": [
    "The are two possible ways to disable the new discussion tool:\n",
    "(1) By explicilty disabling the `Enable quick topic adding` option in your preferences OR\n",
    "(2) By explcility disabling the discussion tool beta preference.\n",
    "\n",
    "We'll review the opt out rate by both of these methods."
   ]
  },
  {
   "cell_type": "markdown",
   "metadata": {},
   "source": [
    "### Percentage of Users that explicilty disable the `Enable quick topic adding` option "
   ]
  },
  {
   "cell_type": "code",
   "execution_count": 64,
   "metadata": {},
   "outputs": [],
   "source": [
    "#Querying user_properties for getting the new topic tools preference set by the new dt contributors we got in the above query\n",
    "\n",
    "query='''\n",
    "SELECT \n",
    "  user_properties.up_value AS preference,\n",
    "  user_properties.up_user AS `user`\n",
    "FROM user_properties \n",
    "WHERE user_properties.up_user in ({users})\n",
    "AND up_property = \"discussiontools-newtopictool\"\n",
    "'''"
   ]
  },
  {
   "cell_type": "code",
   "execution_count": 65,
   "metadata": {},
   "outputs": [],
   "source": [
    "# Looping through each wiki for the list of users for each skin\n",
    "\n",
    "wikis = new_dt_user['wiki'].unique()\n",
    "up_pref=list()\n",
    "for wiki in wikis:\n",
    "    user_ids = new_dt_user[new_dt_user['wiki'] == wiki][\"new_dt_user\"]\n",
    "    user_list = ','.join([str(u) for u in user_ids])\n",
    "    prefs = mariadb.run(\n",
    "      query.format(users=user_list),\n",
    "      wiki\n",
    "    )\n",
    "    up_pref.append(prefs)\n",
    "\n",
    "pref= pd.concat(up_pref)"
   ]
  },
  {
   "cell_type": "code",
   "execution_count": 66,
   "metadata": {},
   "outputs": [],
   "source": [
    "# Join with edit count data from mediawiki_history\n",
    "new_dt_user_pref = new_dt_user.join(pref.set_index('user'), on = 'new_dt_user', how = 'left')"
   ]
  },
  {
   "cell_type": "code",
   "execution_count": 67,
   "metadata": {},
   "outputs": [],
   "source": [
    "# covert skin column to string type \n",
    "new_dt_user_pref['preference'] = new_dt_user_pref['preference'].astype(str)"
   ]
  },
  {
   "cell_type": "code",
   "execution_count": 68,
   "metadata": {},
   "outputs": [],
   "source": [
    "# rename values. \n",
    "pref_aliases = {\n",
    "    \"b\\'0\\'\":\"explicitly disabled\",\n",
    "    \"nan\": \"enabled or no local preference recorded\"\n",
    "}\n",
    "\n",
    "new_dt_user_pref= new_dt_user_pref.replace({\"preference\": pref_aliases})"
   ]
  },
  {
   "cell_type": "markdown",
   "metadata": {},
   "source": [
    "#### Overall Opt-In Rate"
   ]
  },
  {
   "cell_type": "code",
   "execution_count": 69,
   "metadata": {},
   "outputs": [
    {
     "data": {
      "text/html": [
       "<div>\n",
       "<style scoped>\n",
       "    .dataframe tbody tr th:only-of-type {\n",
       "        vertical-align: middle;\n",
       "    }\n",
       "\n",
       "    .dataframe tbody tr th {\n",
       "        vertical-align: top;\n",
       "    }\n",
       "\n",
       "    .dataframe thead th {\n",
       "        text-align: right;\n",
       "    }\n",
       "</style>\n",
       "<table border=\"1\" class=\"dataframe\">\n",
       "  <thead>\n",
       "    <tr style=\"text-align: right;\">\n",
       "      <th></th>\n",
       "      <th>new_dt_user</th>\n",
       "    </tr>\n",
       "    <tr>\n",
       "      <th>preference</th>\n",
       "      <th></th>\n",
       "    </tr>\n",
       "  </thead>\n",
       "  <tbody>\n",
       "    <tr>\n",
       "      <th>enabled or no local preference recorded</th>\n",
       "      <td>9819</td>\n",
       "    </tr>\n",
       "    <tr>\n",
       "      <th>explicitly disabled</th>\n",
       "      <td>61</td>\n",
       "    </tr>\n",
       "  </tbody>\n",
       "</table>\n",
       "</div>"
      ],
      "text/plain": [
       "                                         new_dt_user\n",
       "preference                                          \n",
       "enabled or no local preference recorded         9819\n",
       "explicitly disabled                               61"
      ]
     },
     "execution_count": 69,
     "metadata": {},
     "output_type": "execute_result"
    }
   ],
   "source": [
    "new_dt_pref_overall= new_dt_user_pref[['preference', 'new_dt_user']].groupby('preference').count()\n",
    "\n",
    "new_dt_pref_overall"
   ]
  },
  {
   "cell_type": "code",
   "execution_count": 70,
   "metadata": {},
   "outputs": [
    {
     "data": {
      "text/html": [
       "<div>\n",
       "<style scoped>\n",
       "    .dataframe tbody tr th:only-of-type {\n",
       "        vertical-align: middle;\n",
       "    }\n",
       "\n",
       "    .dataframe tbody tr th {\n",
       "        vertical-align: top;\n",
       "    }\n",
       "\n",
       "    .dataframe thead th {\n",
       "        text-align: right;\n",
       "    }\n",
       "</style>\n",
       "<table border=\"1\" class=\"dataframe\">\n",
       "  <thead>\n",
       "    <tr style=\"text-align: right;\">\n",
       "      <th></th>\n",
       "      <th>new_dt_user</th>\n",
       "    </tr>\n",
       "    <tr>\n",
       "      <th>preference</th>\n",
       "      <th></th>\n",
       "    </tr>\n",
       "  </thead>\n",
       "  <tbody>\n",
       "    <tr>\n",
       "      <th>enabled or no local preference recorded</th>\n",
       "      <td>99.38%</td>\n",
       "    </tr>\n",
       "    <tr>\n",
       "      <th>explicitly disabled</th>\n",
       "      <td>0.62%</td>\n",
       "    </tr>\n",
       "  </tbody>\n",
       "</table>\n",
       "</div>"
      ],
      "text/plain": [
       "                                        new_dt_user\n",
       "preference                                         \n",
       "enabled or no local preference recorded      99.38%\n",
       "explicitly disabled                           0.62%"
      ]
     },
     "execution_count": 70,
     "metadata": {},
     "output_type": "execute_result"
    }
   ],
   "source": [
    "pct_user_opt_rate =(100. * new_dt_pref_overall / new_dt_pref_overall.sum()).round(2).astype(str) + '%'\n",
    "pct_user_opt_rate.sort_values(by=['new_dt_user'],ascending=False)"
   ]
  },
  {
   "cell_type": "markdown",
   "metadata": {},
   "source": [
    "Overall, only 0.6% of all new discussion tool users currently have the `discussiontool-newtopictool` preference explicitly set as disabled in the User Properties table. "
   ]
  },
  {
   "cell_type": "markdown",
   "metadata": {},
   "source": [
    "#### By Experience Level"
   ]
  },
  {
   "cell_type": "code",
   "execution_count": 71,
   "metadata": {},
   "outputs": [
    {
     "data": {
      "text/html": [
       "<div>\n",
       "<style scoped>\n",
       "    .dataframe tbody tr th:only-of-type {\n",
       "        vertical-align: middle;\n",
       "    }\n",
       "\n",
       "    .dataframe tbody tr th {\n",
       "        vertical-align: top;\n",
       "    }\n",
       "\n",
       "    .dataframe thead th {\n",
       "        text-align: right;\n",
       "    }\n",
       "</style>\n",
       "<table border=\"1\" class=\"dataframe\">\n",
       "  <thead>\n",
       "    <tr style=\"text-align: right;\">\n",
       "      <th></th>\n",
       "      <th></th>\n",
       "      <th>new_dt_user</th>\n",
       "    </tr>\n",
       "    <tr>\n",
       "      <th>edit_count_group</th>\n",
       "      <th>preference</th>\n",
       "      <th></th>\n",
       "    </tr>\n",
       "  </thead>\n",
       "  <tbody>\n",
       "    <tr>\n",
       "      <th rowspan=\"2\" valign=\"top\">100-500</th>\n",
       "      <th>enabled or no local preference recorded</th>\n",
       "      <td>1300</td>\n",
       "    </tr>\n",
       "    <tr>\n",
       "      <th>explicitly disabled</th>\n",
       "      <td>2</td>\n",
       "    </tr>\n",
       "    <tr>\n",
       "      <th rowspan=\"2\" valign=\"top\">over 500</th>\n",
       "      <th>enabled or no local preference recorded</th>\n",
       "      <td>5676</td>\n",
       "    </tr>\n",
       "    <tr>\n",
       "      <th>explicitly disabled</th>\n",
       "      <td>47</td>\n",
       "    </tr>\n",
       "    <tr>\n",
       "      <th rowspan=\"2\" valign=\"top\">under 100</th>\n",
       "      <th>enabled or no local preference recorded</th>\n",
       "      <td>2843</td>\n",
       "    </tr>\n",
       "    <tr>\n",
       "      <th>explicitly disabled</th>\n",
       "      <td>12</td>\n",
       "    </tr>\n",
       "  </tbody>\n",
       "</table>\n",
       "</div>"
      ],
      "text/plain": [
       "                                                          new_dt_user\n",
       "edit_count_group preference                                          \n",
       "100-500          enabled or no local preference recorded         1300\n",
       "                 explicitly disabled                                2\n",
       "over 500         enabled or no local preference recorded         5676\n",
       "                 explicitly disabled                               47\n",
       "under 100        enabled or no local preference recorded         2843\n",
       "                 explicitly disabled                               12"
      ]
     },
     "execution_count": 71,
     "metadata": {},
     "output_type": "execute_result"
    }
   ],
   "source": [
    "# calculate total enabled and disabled\n",
    "new_dt_pref_byexp = new_dt_user_pref[['preference', 'edit_count_group' ,'new_dt_user']].groupby(['edit_count_group','preference']).count()\n",
    "\n",
    "new_dt_pref_byexp"
   ]
  },
  {
   "cell_type": "code",
   "execution_count": 72,
   "metadata": {},
   "outputs": [
    {
     "data": {
      "text/html": [
       "<div>\n",
       "<style scoped>\n",
       "    .dataframe tbody tr th:only-of-type {\n",
       "        vertical-align: middle;\n",
       "    }\n",
       "\n",
       "    .dataframe tbody tr th {\n",
       "        vertical-align: top;\n",
       "    }\n",
       "\n",
       "    .dataframe thead th {\n",
       "        text-align: right;\n",
       "    }\n",
       "</style>\n",
       "<table border=\"1\" class=\"dataframe\">\n",
       "  <thead>\n",
       "    <tr style=\"text-align: right;\">\n",
       "      <th></th>\n",
       "      <th></th>\n",
       "      <th>new_dt_user</th>\n",
       "    </tr>\n",
       "    <tr>\n",
       "      <th>edit_count_group</th>\n",
       "      <th>preference</th>\n",
       "      <th></th>\n",
       "    </tr>\n",
       "  </thead>\n",
       "  <tbody>\n",
       "    <tr>\n",
       "      <th rowspan=\"2\" valign=\"top\">100-500</th>\n",
       "      <th>enabled or no local preference recorded</th>\n",
       "      <td>99.85%</td>\n",
       "    </tr>\n",
       "    <tr>\n",
       "      <th>explicitly disabled</th>\n",
       "      <td>0.15%</td>\n",
       "    </tr>\n",
       "    <tr>\n",
       "      <th rowspan=\"2\" valign=\"top\">over 500</th>\n",
       "      <th>enabled or no local preference recorded</th>\n",
       "      <td>99.18%</td>\n",
       "    </tr>\n",
       "    <tr>\n",
       "      <th>explicitly disabled</th>\n",
       "      <td>0.82%</td>\n",
       "    </tr>\n",
       "    <tr>\n",
       "      <th rowspan=\"2\" valign=\"top\">under 100</th>\n",
       "      <th>enabled or no local preference recorded</th>\n",
       "      <td>99.58%</td>\n",
       "    </tr>\n",
       "    <tr>\n",
       "      <th>explicitly disabled</th>\n",
       "      <td>0.42%</td>\n",
       "    </tr>\n",
       "  </tbody>\n",
       "</table>\n",
       "</div>"
      ],
      "text/plain": [
       "                                                         new_dt_user\n",
       "edit_count_group preference                                         \n",
       "100-500          enabled or no local preference recorded      99.85%\n",
       "                 explicitly disabled                           0.15%\n",
       "over 500         enabled or no local preference recorded      99.18%\n",
       "                 explicitly disabled                           0.82%\n",
       "under 100        enabled or no local preference recorded      99.58%\n",
       "                 explicitly disabled                           0.42%"
      ]
     },
     "execution_count": 72,
     "metadata": {},
     "output_type": "execute_result"
    }
   ],
   "source": [
    "pct_user_opt_rate_byexp =(100. * new_dt_pref_byexp/ new_dt_pref_byexp.groupby('edit_count_group').sum()).round(2).astype(str) + '%'\n",
    "pct_user_opt_rate_byexp"
   ]
  },
  {
   "cell_type": "markdown",
   "metadata": {},
   "source": [
    "#### Wikis with highest opt out rate"
   ]
  },
  {
   "cell_type": "code",
   "execution_count": 155,
   "metadata": {},
   "outputs": [],
   "source": [
    "# calculate total enabled and disabled\n",
    "new_dt_user_pref_bywiki = new_dt_user_pref[['preference', 'wiki' ,'new_dt_user']].groupby(['wiki','preference']).count()"
   ]
  },
  {
   "cell_type": "code",
   "execution_count": 156,
   "metadata": {},
   "outputs": [],
   "source": [
    "pct_user_opt_rate_bywiki =(100. * new_dt_user_pref_bywiki/ new_dt_user_pref_bywiki.groupby('wiki').sum()).round(2)"
   ]
  },
  {
   "cell_type": "code",
   "execution_count": 157,
   "metadata": {},
   "outputs": [
    {
     "data": {
      "text/html": [
       "<div>\n",
       "<style scoped>\n",
       "    .dataframe tbody tr th:only-of-type {\n",
       "        vertical-align: middle;\n",
       "    }\n",
       "\n",
       "    .dataframe tbody tr th {\n",
       "        vertical-align: top;\n",
       "    }\n",
       "\n",
       "    .dataframe thead th {\n",
       "        text-align: right;\n",
       "    }\n",
       "</style>\n",
       "<table border=\"1\" class=\"dataframe\">\n",
       "  <thead>\n",
       "    <tr style=\"text-align: right;\">\n",
       "      <th></th>\n",
       "      <th></th>\n",
       "      <th>new_dt_user</th>\n",
       "    </tr>\n",
       "    <tr>\n",
       "      <th>wiki</th>\n",
       "      <th>preference</th>\n",
       "      <th></th>\n",
       "    </tr>\n",
       "  </thead>\n",
       "  <tbody>\n",
       "    <tr>\n",
       "      <th>cowiki</th>\n",
       "      <th>explicitly disabled</th>\n",
       "      <td>100.00</td>\n",
       "    </tr>\n",
       "    <tr>\n",
       "      <th>test2wiki</th>\n",
       "      <th>explicitly disabled</th>\n",
       "      <td>100.00</td>\n",
       "    </tr>\n",
       "    <tr>\n",
       "      <th>viwikivoyage</th>\n",
       "      <th>explicitly disabled</th>\n",
       "      <td>33.33</td>\n",
       "    </tr>\n",
       "    <tr>\n",
       "      <th>glwiki</th>\n",
       "      <th>explicitly disabled</th>\n",
       "      <td>18.18</td>\n",
       "    </tr>\n",
       "    <tr>\n",
       "      <th>viwikibooks</th>\n",
       "      <th>explicitly disabled</th>\n",
       "      <td>12.50</td>\n",
       "    </tr>\n",
       "  </tbody>\n",
       "</table>\n",
       "</div>"
      ],
      "text/plain": [
       "                                  new_dt_user\n",
       "wiki         preference                      \n",
       "cowiki       explicitly disabled       100.00\n",
       "test2wiki    explicitly disabled       100.00\n",
       "viwikivoyage explicitly disabled        33.33\n",
       "glwiki       explicitly disabled        18.18\n",
       "viwikibooks  explicitly disabled        12.50"
      ]
     },
     "execution_count": 157,
     "metadata": {},
     "output_type": "execute_result"
    }
   ],
   "source": [
    "# View Wikis with Highest % of users that explciitly disabled the feature\n",
    "top_wikis = pct_user_opt_rate_bywiki.filter(like = \"disabled\", axis = 0).sort_values(by=['new_dt_user'], ascending = False)\n",
    "top_wikis.head()"
   ]
  },
  {
   "cell_type": "markdown",
   "metadata": {},
   "source": [
    "#### English and Spanish Wikipedias"
   ]
  },
  {
   "cell_type": "code",
   "execution_count": 73,
   "metadata": {},
   "outputs": [],
   "source": [
    "# filter to target wikis\n",
    "target_wiki = ['enwiki', 'eswiki']\n",
    "new_dt_user_pref_wiki= new_dt_user_pref[new_dt_user_pref['wiki'].isin(target_wiki)]\n"
   ]
  },
  {
   "cell_type": "code",
   "execution_count": 74,
   "metadata": {},
   "outputs": [
    {
     "data": {
      "text/html": [
       "<div>\n",
       "<style scoped>\n",
       "    .dataframe tbody tr th:only-of-type {\n",
       "        vertical-align: middle;\n",
       "    }\n",
       "\n",
       "    .dataframe tbody tr th {\n",
       "        vertical-align: top;\n",
       "    }\n",
       "\n",
       "    .dataframe thead th {\n",
       "        text-align: right;\n",
       "    }\n",
       "</style>\n",
       "<table border=\"1\" class=\"dataframe\">\n",
       "  <thead>\n",
       "    <tr style=\"text-align: right;\">\n",
       "      <th></th>\n",
       "      <th></th>\n",
       "      <th>new_dt_user</th>\n",
       "    </tr>\n",
       "    <tr>\n",
       "      <th>wiki</th>\n",
       "      <th>preference</th>\n",
       "      <th></th>\n",
       "    </tr>\n",
       "  </thead>\n",
       "  <tbody>\n",
       "    <tr>\n",
       "      <th rowspan=\"2\" valign=\"top\">enwiki</th>\n",
       "      <th>enabled or no local preference recorded</th>\n",
       "      <td>2165</td>\n",
       "    </tr>\n",
       "    <tr>\n",
       "      <th>explicitly disabled</th>\n",
       "      <td>14</td>\n",
       "    </tr>\n",
       "    <tr>\n",
       "      <th rowspan=\"2\" valign=\"top\">eswiki</th>\n",
       "      <th>enabled or no local preference recorded</th>\n",
       "      <td>610</td>\n",
       "    </tr>\n",
       "    <tr>\n",
       "      <th>explicitly disabled</th>\n",
       "      <td>3</td>\n",
       "    </tr>\n",
       "  </tbody>\n",
       "</table>\n",
       "</div>"
      ],
      "text/plain": [
       "                                                new_dt_user\n",
       "wiki   preference                                          \n",
       "enwiki enabled or no local preference recorded         2165\n",
       "       explicitly disabled                               14\n",
       "eswiki enabled or no local preference recorded          610\n",
       "       explicitly disabled                                3"
      ]
     },
     "execution_count": 74,
     "metadata": {},
     "output_type": "execute_result"
    }
   ],
   "source": [
    "# calculate total enabled and disabled\n",
    "new_dt_pref_wiki = new_dt_user_pref_wiki[['preference', 'wiki' ,'new_dt_user']].groupby(['wiki','preference']).count()\n",
    "\n",
    "new_dt_pref_wiki"
   ]
  },
  {
   "cell_type": "code",
   "execution_count": 75,
   "metadata": {},
   "outputs": [
    {
     "data": {
      "text/html": [
       "<div>\n",
       "<style scoped>\n",
       "    .dataframe tbody tr th:only-of-type {\n",
       "        vertical-align: middle;\n",
       "    }\n",
       "\n",
       "    .dataframe tbody tr th {\n",
       "        vertical-align: top;\n",
       "    }\n",
       "\n",
       "    .dataframe thead th {\n",
       "        text-align: right;\n",
       "    }\n",
       "</style>\n",
       "<table border=\"1\" class=\"dataframe\">\n",
       "  <thead>\n",
       "    <tr style=\"text-align: right;\">\n",
       "      <th></th>\n",
       "      <th></th>\n",
       "      <th>new_dt_user</th>\n",
       "    </tr>\n",
       "    <tr>\n",
       "      <th>wiki</th>\n",
       "      <th>preference</th>\n",
       "      <th></th>\n",
       "    </tr>\n",
       "  </thead>\n",
       "  <tbody>\n",
       "    <tr>\n",
       "      <th rowspan=\"2\" valign=\"top\">enwiki</th>\n",
       "      <th>enabled or no local preference recorded</th>\n",
       "      <td>99.36%</td>\n",
       "    </tr>\n",
       "    <tr>\n",
       "      <th>explicitly disabled</th>\n",
       "      <td>0.64%</td>\n",
       "    </tr>\n",
       "    <tr>\n",
       "      <th rowspan=\"2\" valign=\"top\">eswiki</th>\n",
       "      <th>enabled or no local preference recorded</th>\n",
       "      <td>99.51%</td>\n",
       "    </tr>\n",
       "    <tr>\n",
       "      <th>explicitly disabled</th>\n",
       "      <td>0.49%</td>\n",
       "    </tr>\n",
       "  </tbody>\n",
       "</table>\n",
       "</div>"
      ],
      "text/plain": [
       "                                               new_dt_user\n",
       "wiki   preference                                         \n",
       "enwiki enabled or no local preference recorded      99.36%\n",
       "       explicitly disabled                           0.64%\n",
       "eswiki enabled or no local preference recorded      99.51%\n",
       "       explicitly disabled                           0.49%"
      ]
     },
     "execution_count": 75,
     "metadata": {},
     "output_type": "execute_result"
    }
   ],
   "source": [
    "pct_user_opt_rate_wiki =(100. * new_dt_pref_wiki/ new_dt_pref_wiki.groupby('wiki').sum()).round(2).astype(str) + '%'\n",
    "pct_user_opt_rate_wiki"
   ]
  },
  {
   "cell_type": "markdown",
   "metadata": {},
   "source": [
    "### Percentage of Users that explicilty disable the Discussion Tools Beta Preference"
   ]
  },
  {
   "cell_type": "code",
   "execution_count": 91,
   "metadata": {},
   "outputs": [],
   "source": [
    "#Querying user_properties to obtain new dt contributors that disabled the Discussion Tools Beta Preference\n",
    "\n",
    "query='''\n",
    "SELECT \n",
    "  user_properties.up_value AS preference,\n",
    "  user_properties.up_user AS `user`\n",
    "FROM user_properties \n",
    "WHERE user_properties.up_user in ({users})\n",
    "AND up_property = \"discussiontools-betaenable\"\n",
    "'''              "
   ]
  },
  {
   "cell_type": "code",
   "execution_count": 92,
   "metadata": {},
   "outputs": [],
   "source": [
    "# Looping through each wiki for the list of users for each skin\n",
    "\n",
    "wikis = new_dt_user['wiki'].unique()\n",
    "up_pref=list()\n",
    "for wiki in wikis:\n",
    "    user_ids = new_dt_user[new_dt_user['wiki'] == wiki][\"new_dt_user\"]\n",
    "    user_list = ','.join([str(u) for u in user_ids])\n",
    "    prefs = mariadb.run(\n",
    "      query.format(users=user_list),\n",
    "      wiki\n",
    "    )\n",
    "    up_pref.append(prefs)\n",
    "\n",
    "pref= pd.concat(up_pref)"
   ]
  },
  {
   "cell_type": "code",
   "execution_count": 93,
   "metadata": {},
   "outputs": [],
   "source": [
    "# Join with edit count data from mediawiki_history\n",
    "new_dt_beta_pref = new_dt_user.join(pref.set_index('user'), on = 'new_dt_user', how = 'left')"
   ]
  },
  {
   "cell_type": "code",
   "execution_count": 94,
   "metadata": {},
   "outputs": [
    {
     "data": {
      "text/html": [
       "<div>\n",
       "<style scoped>\n",
       "    .dataframe tbody tr th:only-of-type {\n",
       "        vertical-align: middle;\n",
       "    }\n",
       "\n",
       "    .dataframe tbody tr th {\n",
       "        vertical-align: top;\n",
       "    }\n",
       "\n",
       "    .dataframe thead th {\n",
       "        text-align: right;\n",
       "    }\n",
       "</style>\n",
       "<table border=\"1\" class=\"dataframe\">\n",
       "  <thead>\n",
       "    <tr style=\"text-align: right;\">\n",
       "      <th></th>\n",
       "      <th>new_dt_user</th>\n",
       "      <th>wiki</th>\n",
       "      <th>edit_count_group</th>\n",
       "      <th>preference</th>\n",
       "    </tr>\n",
       "  </thead>\n",
       "  <tbody>\n",
       "    <tr>\n",
       "      <th>0</th>\n",
       "      <td>15871</td>\n",
       "      <td>nlwiki</td>\n",
       "      <td>over 500</td>\n",
       "      <td>b'1'</td>\n",
       "    </tr>\n",
       "    <tr>\n",
       "      <th>1</th>\n",
       "      <td>59964</td>\n",
       "      <td>zhwiki</td>\n",
       "      <td>over 500</td>\n",
       "      <td>b'0'</td>\n",
       "    </tr>\n",
       "    <tr>\n",
       "      <th>2</th>\n",
       "      <td>439868</td>\n",
       "      <td>itwiki</td>\n",
       "      <td>over 500</td>\n",
       "      <td>NaN</td>\n",
       "    </tr>\n",
       "    <tr>\n",
       "      <th>3</th>\n",
       "      <td>558149</td>\n",
       "      <td>cswiki</td>\n",
       "      <td>under 100</td>\n",
       "      <td>NaN</td>\n",
       "    </tr>\n",
       "    <tr>\n",
       "      <th>4</th>\n",
       "      <td>721473</td>\n",
       "      <td>viwiki</td>\n",
       "      <td>over 500</td>\n",
       "      <td>b'1'</td>\n",
       "    </tr>\n",
       "  </tbody>\n",
       "</table>\n",
       "</div>"
      ],
      "text/plain": [
       "   new_dt_user    wiki edit_count_group preference\n",
       "0        15871  nlwiki         over 500       b'1'\n",
       "1        59964  zhwiki         over 500       b'0'\n",
       "2       439868  itwiki         over 500        NaN\n",
       "3       558149  cswiki        under 100        NaN\n",
       "4       721473  viwiki         over 500       b'1'"
      ]
     },
     "execution_count": 94,
     "metadata": {},
     "output_type": "execute_result"
    }
   ],
   "source": [
    "new_dt_beta_pref.head()"
   ]
  },
  {
   "cell_type": "code",
   "execution_count": 96,
   "metadata": {},
   "outputs": [],
   "source": [
    "# covert skin column to string type \n",
    "new_dt_beta_pref['preference'] = new_dt_beta_pref['preference'].astype(str)"
   ]
  },
  {
   "cell_type": "code",
   "execution_count": 97,
   "metadata": {},
   "outputs": [],
   "source": [
    "# rename values. \n",
    "pref_aliases = {\n",
    "    \"b\\'0\\'\":\"explicitly disabled beta preference\",\n",
    "    \"b\\'1\\'\":\"explicitly enabled beta preference\",\n",
    "    \"nan\": \"no local preference recorded\"\n",
    "}\n",
    "\n",
    "new_dt_beta_pref= new_dt_beta_pref.replace({\"preference\": pref_aliases})"
   ]
  },
  {
   "cell_type": "markdown",
   "metadata": {},
   "source": [
    "#### Overall Opt In Rate"
   ]
  },
  {
   "cell_type": "code",
   "execution_count": 98,
   "metadata": {},
   "outputs": [
    {
     "data": {
      "text/html": [
       "<div>\n",
       "<style scoped>\n",
       "    .dataframe tbody tr th:only-of-type {\n",
       "        vertical-align: middle;\n",
       "    }\n",
       "\n",
       "    .dataframe tbody tr th {\n",
       "        vertical-align: top;\n",
       "    }\n",
       "\n",
       "    .dataframe thead th {\n",
       "        text-align: right;\n",
       "    }\n",
       "</style>\n",
       "<table border=\"1\" class=\"dataframe\">\n",
       "  <thead>\n",
       "    <tr style=\"text-align: right;\">\n",
       "      <th></th>\n",
       "      <th>new_dt_user</th>\n",
       "    </tr>\n",
       "    <tr>\n",
       "      <th>preference</th>\n",
       "      <th></th>\n",
       "    </tr>\n",
       "  </thead>\n",
       "  <tbody>\n",
       "    <tr>\n",
       "      <th>explicitly disabled beta preference</th>\n",
       "      <td>742</td>\n",
       "    </tr>\n",
       "    <tr>\n",
       "      <th>explicitly enabled beta preference</th>\n",
       "      <td>6301</td>\n",
       "    </tr>\n",
       "    <tr>\n",
       "      <th>no local preference recorded</th>\n",
       "      <td>2883</td>\n",
       "    </tr>\n",
       "  </tbody>\n",
       "</table>\n",
       "</div>"
      ],
      "text/plain": [
       "                                     new_dt_user\n",
       "preference                                      \n",
       "explicitly disabled beta preference          742\n",
       "explicitly enabled beta preference          6301\n",
       "no local preference recorded                2883"
      ]
     },
     "execution_count": 98,
     "metadata": {},
     "output_type": "execute_result"
    }
   ],
   "source": [
    "new_dt_beta_pref_overall= new_dt_beta_pref[['preference', 'new_dt_user']].groupby('preference').count()\n",
    "\n",
    "new_dt_beta_pref_overall"
   ]
  },
  {
   "cell_type": "code",
   "execution_count": 99,
   "metadata": {},
   "outputs": [
    {
     "data": {
      "text/html": [
       "<div>\n",
       "<style scoped>\n",
       "    .dataframe tbody tr th:only-of-type {\n",
       "        vertical-align: middle;\n",
       "    }\n",
       "\n",
       "    .dataframe tbody tr th {\n",
       "        vertical-align: top;\n",
       "    }\n",
       "\n",
       "    .dataframe thead th {\n",
       "        text-align: right;\n",
       "    }\n",
       "</style>\n",
       "<table border=\"1\" class=\"dataframe\">\n",
       "  <thead>\n",
       "    <tr style=\"text-align: right;\">\n",
       "      <th></th>\n",
       "      <th>new_dt_user</th>\n",
       "    </tr>\n",
       "    <tr>\n",
       "      <th>preference</th>\n",
       "      <th></th>\n",
       "    </tr>\n",
       "  </thead>\n",
       "  <tbody>\n",
       "    <tr>\n",
       "      <th>explicitly disabled beta preference</th>\n",
       "      <td>7.48%</td>\n",
       "    </tr>\n",
       "    <tr>\n",
       "      <th>explicitly enabled beta preference</th>\n",
       "      <td>63.48%</td>\n",
       "    </tr>\n",
       "    <tr>\n",
       "      <th>no local preference recorded</th>\n",
       "      <td>29.04%</td>\n",
       "    </tr>\n",
       "  </tbody>\n",
       "</table>\n",
       "</div>"
      ],
      "text/plain": [
       "                                    new_dt_user\n",
       "preference                                     \n",
       "explicitly disabled beta preference       7.48%\n",
       "explicitly enabled beta preference       63.48%\n",
       "no local preference recorded             29.04%"
      ]
     },
     "execution_count": 99,
     "metadata": {},
     "output_type": "execute_result"
    }
   ],
   "source": [
    "pct_beta_opt_rate =(100. * new_dt_beta_pref_overall / new_dt_beta_pref_overall.sum()).round(2).astype(str) + '%'\n",
    "pct_beta_opt_rate.sort_values(by=['new_dt_user'],ascending=False)"
   ]
  },
  {
   "cell_type": "markdown",
   "metadata": {},
   "source": [
    "#### By Experience Level"
   ]
  },
  {
   "cell_type": "code",
   "execution_count": 83,
   "metadata": {},
   "outputs": [
    {
     "data": {
      "text/html": [
       "<div>\n",
       "<style scoped>\n",
       "    .dataframe tbody tr th:only-of-type {\n",
       "        vertical-align: middle;\n",
       "    }\n",
       "\n",
       "    .dataframe tbody tr th {\n",
       "        vertical-align: top;\n",
       "    }\n",
       "\n",
       "    .dataframe thead th {\n",
       "        text-align: right;\n",
       "    }\n",
       "</style>\n",
       "<table border=\"1\" class=\"dataframe\">\n",
       "  <thead>\n",
       "    <tr style=\"text-align: right;\">\n",
       "      <th></th>\n",
       "      <th></th>\n",
       "      <th>new_dt_user</th>\n",
       "    </tr>\n",
       "    <tr>\n",
       "      <th>edit_count_group</th>\n",
       "      <th>preference</th>\n",
       "      <th></th>\n",
       "    </tr>\n",
       "  </thead>\n",
       "  <tbody>\n",
       "    <tr>\n",
       "      <th rowspan=\"3\" valign=\"top\">100-500</th>\n",
       "      <th>explicitly disabled beta preference</th>\n",
       "      <td>61</td>\n",
       "    </tr>\n",
       "    <tr>\n",
       "      <th>explicitly enabled beta preference</th>\n",
       "      <td>887</td>\n",
       "    </tr>\n",
       "    <tr>\n",
       "      <th>no local preference recorded</th>\n",
       "      <td>358</td>\n",
       "    </tr>\n",
       "    <tr>\n",
       "      <th rowspan=\"3\" valign=\"top\">over 500</th>\n",
       "      <th>explicitly disabled beta preference</th>\n",
       "      <td>529</td>\n",
       "    </tr>\n",
       "    <tr>\n",
       "      <th>explicitly enabled beta preference</th>\n",
       "      <td>3770</td>\n",
       "    </tr>\n",
       "    <tr>\n",
       "      <th>no local preference recorded</th>\n",
       "      <td>1461</td>\n",
       "    </tr>\n",
       "    <tr>\n",
       "      <th rowspan=\"3\" valign=\"top\">under 100</th>\n",
       "      <th>explicitly disabled beta preference</th>\n",
       "      <td>151</td>\n",
       "    </tr>\n",
       "    <tr>\n",
       "      <th>explicitly enabled beta preference</th>\n",
       "      <td>1644</td>\n",
       "    </tr>\n",
       "    <tr>\n",
       "      <th>no local preference recorded</th>\n",
       "      <td>1065</td>\n",
       "    </tr>\n",
       "  </tbody>\n",
       "</table>\n",
       "</div>"
      ],
      "text/plain": [
       "                                                      new_dt_user\n",
       "edit_count_group preference                                      \n",
       "100-500          explicitly disabled beta preference           61\n",
       "                 explicitly enabled beta preference           887\n",
       "                 no local preference recorded                 358\n",
       "over 500         explicitly disabled beta preference          529\n",
       "                 explicitly enabled beta preference          3770\n",
       "                 no local preference recorded                1461\n",
       "under 100        explicitly disabled beta preference          151\n",
       "                 explicitly enabled beta preference          1644\n",
       "                 no local preference recorded                1065"
      ]
     },
     "execution_count": 83,
     "metadata": {},
     "output_type": "execute_result"
    }
   ],
   "source": [
    "# calculate total enabled and disabled\n",
    "new_dt_beta_pref_byexp = new_dt_beta_pref[['preference', 'edit_count_group' ,'new_dt_user']].groupby(['edit_count_group','preference']).count()\n",
    "\n",
    "new_dt_beta_pref_byexp"
   ]
  },
  {
   "cell_type": "code",
   "execution_count": 84,
   "metadata": {},
   "outputs": [
    {
     "data": {
      "text/html": [
       "<div>\n",
       "<style scoped>\n",
       "    .dataframe tbody tr th:only-of-type {\n",
       "        vertical-align: middle;\n",
       "    }\n",
       "\n",
       "    .dataframe tbody tr th {\n",
       "        vertical-align: top;\n",
       "    }\n",
       "\n",
       "    .dataframe thead th {\n",
       "        text-align: right;\n",
       "    }\n",
       "</style>\n",
       "<table border=\"1\" class=\"dataframe\">\n",
       "  <thead>\n",
       "    <tr style=\"text-align: right;\">\n",
       "      <th></th>\n",
       "      <th></th>\n",
       "      <th>new_dt_user</th>\n",
       "    </tr>\n",
       "    <tr>\n",
       "      <th>edit_count_group</th>\n",
       "      <th>preference</th>\n",
       "      <th></th>\n",
       "    </tr>\n",
       "  </thead>\n",
       "  <tbody>\n",
       "    <tr>\n",
       "      <th rowspan=\"3\" valign=\"top\">100-500</th>\n",
       "      <th>explicitly disabled beta preference</th>\n",
       "      <td>4.67%</td>\n",
       "    </tr>\n",
       "    <tr>\n",
       "      <th>explicitly enabled beta preference</th>\n",
       "      <td>67.92%</td>\n",
       "    </tr>\n",
       "    <tr>\n",
       "      <th>no local preference recorded</th>\n",
       "      <td>27.41%</td>\n",
       "    </tr>\n",
       "    <tr>\n",
       "      <th rowspan=\"3\" valign=\"top\">over 500</th>\n",
       "      <th>explicitly disabled beta preference</th>\n",
       "      <td>9.18%</td>\n",
       "    </tr>\n",
       "    <tr>\n",
       "      <th>explicitly enabled beta preference</th>\n",
       "      <td>65.45%</td>\n",
       "    </tr>\n",
       "    <tr>\n",
       "      <th>no local preference recorded</th>\n",
       "      <td>25.36%</td>\n",
       "    </tr>\n",
       "    <tr>\n",
       "      <th rowspan=\"3\" valign=\"top\">under 100</th>\n",
       "      <th>explicitly disabled beta preference</th>\n",
       "      <td>5.28%</td>\n",
       "    </tr>\n",
       "    <tr>\n",
       "      <th>explicitly enabled beta preference</th>\n",
       "      <td>57.48%</td>\n",
       "    </tr>\n",
       "    <tr>\n",
       "      <th>no local preference recorded</th>\n",
       "      <td>37.24%</td>\n",
       "    </tr>\n",
       "  </tbody>\n",
       "</table>\n",
       "</div>"
      ],
      "text/plain": [
       "                                                     new_dt_user\n",
       "edit_count_group preference                                     \n",
       "100-500          explicitly disabled beta preference       4.67%\n",
       "                 explicitly enabled beta preference       67.92%\n",
       "                 no local preference recorded             27.41%\n",
       "over 500         explicitly disabled beta preference       9.18%\n",
       "                 explicitly enabled beta preference       65.45%\n",
       "                 no local preference recorded             25.36%\n",
       "under 100        explicitly disabled beta preference       5.28%\n",
       "                 explicitly enabled beta preference       57.48%\n",
       "                 no local preference recorded             37.24%"
      ]
     },
     "execution_count": 84,
     "metadata": {},
     "output_type": "execute_result"
    }
   ],
   "source": [
    "pct_beta_opt_rate_byexp =(100. * new_dt_beta_pref_byexp/ new_dt_beta_pref_byexp.groupby('edit_count_group').sum()).round(2).astype(str) + '%'\n",
    "pct_beta_opt_rate_byexp"
   ]
  },
  {
   "cell_type": "markdown",
   "metadata": {},
   "source": [
    "# Wikis with the highest opt-out rate"
   ]
  },
  {
   "cell_type": "code",
   "execution_count": 158,
   "metadata": {},
   "outputs": [],
   "source": [
    "# calculate total enabled and disabled\n",
    "new_dt_beta_pref_bywiki = new_dt_beta_pref[['preference', 'wiki' ,'new_dt_user']].groupby(['wiki','preference']).count()"
   ]
  },
  {
   "cell_type": "code",
   "execution_count": 159,
   "metadata": {},
   "outputs": [],
   "source": [
    "pct_beta_opt_rate_bywiki =(100. * new_dt_beta_pref_bywiki/ new_dt_beta_pref_bywiki.groupby('wiki').sum()).round(2)\n"
   ]
  },
  {
   "cell_type": "code",
   "execution_count": 161,
   "metadata": {},
   "outputs": [
    {
     "data": {
      "text/html": [
       "<div>\n",
       "<style scoped>\n",
       "    .dataframe tbody tr th:only-of-type {\n",
       "        vertical-align: middle;\n",
       "    }\n",
       "\n",
       "    .dataframe tbody tr th {\n",
       "        vertical-align: top;\n",
       "    }\n",
       "\n",
       "    .dataframe thead th {\n",
       "        text-align: right;\n",
       "    }\n",
       "</style>\n",
       "<table border=\"1\" class=\"dataframe\">\n",
       "  <thead>\n",
       "    <tr style=\"text-align: right;\">\n",
       "      <th></th>\n",
       "      <th></th>\n",
       "      <th>new_dt_user</th>\n",
       "    </tr>\n",
       "    <tr>\n",
       "      <th>wiki</th>\n",
       "      <th>preference</th>\n",
       "      <th></th>\n",
       "    </tr>\n",
       "  </thead>\n",
       "  <tbody>\n",
       "    <tr>\n",
       "      <th>wuuwiki</th>\n",
       "      <th>explicitly disabled beta preference</th>\n",
       "      <td>100.00</td>\n",
       "    </tr>\n",
       "    <tr>\n",
       "      <th>vecwiki</th>\n",
       "      <th>explicitly disabled beta preference</th>\n",
       "      <td>100.00</td>\n",
       "    </tr>\n",
       "    <tr>\n",
       "      <th>knwiki</th>\n",
       "      <th>explicitly disabled beta preference</th>\n",
       "      <td>50.00</td>\n",
       "    </tr>\n",
       "    <tr>\n",
       "      <th>ruwikibooks</th>\n",
       "      <th>explicitly disabled beta preference</th>\n",
       "      <td>50.00</td>\n",
       "    </tr>\n",
       "    <tr>\n",
       "      <th>ruwikisource</th>\n",
       "      <th>explicitly disabled beta preference</th>\n",
       "      <td>50.00</td>\n",
       "    </tr>\n",
       "    <tr>\n",
       "      <th>siwiki</th>\n",
       "      <th>explicitly disabled beta preference</th>\n",
       "      <td>50.00</td>\n",
       "    </tr>\n",
       "    <tr>\n",
       "      <th>urwiki</th>\n",
       "      <th>explicitly disabled beta preference</th>\n",
       "      <td>50.00</td>\n",
       "    </tr>\n",
       "    <tr>\n",
       "      <th>jawikibooks</th>\n",
       "      <th>explicitly disabled beta preference</th>\n",
       "      <td>33.33</td>\n",
       "    </tr>\n",
       "    <tr>\n",
       "      <th>cswiki</th>\n",
       "      <th>explicitly disabled beta preference</th>\n",
       "      <td>29.15</td>\n",
       "    </tr>\n",
       "    <tr>\n",
       "      <th>banwiki</th>\n",
       "      <th>explicitly disabled beta preference</th>\n",
       "      <td>25.00</td>\n",
       "    </tr>\n",
       "  </tbody>\n",
       "</table>\n",
       "</div>"
      ],
      "text/plain": [
       "                                                  new_dt_user\n",
       "wiki         preference                                      \n",
       "wuuwiki      explicitly disabled beta preference       100.00\n",
       "vecwiki      explicitly disabled beta preference       100.00\n",
       "knwiki       explicitly disabled beta preference        50.00\n",
       "ruwikibooks  explicitly disabled beta preference        50.00\n",
       "ruwikisource explicitly disabled beta preference        50.00\n",
       "siwiki       explicitly disabled beta preference        50.00\n",
       "urwiki       explicitly disabled beta preference        50.00\n",
       "jawikibooks  explicitly disabled beta preference        33.33\n",
       "cswiki       explicitly disabled beta preference        29.15\n",
       "banwiki      explicitly disabled beta preference        25.00"
      ]
     },
     "execution_count": 161,
     "metadata": {},
     "output_type": "execute_result"
    }
   ],
   "source": [
    "# View Wikis with Highest % of users that explciitly disabled the feature\n",
    "top_wikis = pct_beta_opt_rate_bywiki.filter(like = \"disabled\", axis = 0).sort_values(by=['new_dt_user'], ascending = False)\n",
    "top_wikis.head(10)"
   ]
  },
  {
   "cell_type": "markdown",
   "metadata": {},
   "source": []
  }
 ],
 "metadata": {
  "kernelspec": {
   "display_name": "Python 3",
   "language": "python",
   "name": "python3"
  },
  "language_info": {
   "codemirror_mode": {
    "name": "ipython",
    "version": 3
   },
   "file_extension": ".py",
   "mimetype": "text/x-python",
   "name": "python",
   "nbconvert_exporter": "python",
   "pygments_lexer": "ipython3",
   "version": "3.7.8"
  }
 },
 "nbformat": 4,
 "nbformat_minor": 4
}
