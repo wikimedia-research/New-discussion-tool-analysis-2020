{
 "cells": [
  {
   "cell_type": "markdown",
   "metadata": {},
   "source": [
    "# New Discussion Tool Contributor Opt-Out Analysis"
   ]
  },
  {
   "cell_type": "markdown",
   "metadata": {},
   "source": [
    "## Data:\n",
    "\n",
    "We reviewed the mediawiki [user_properties table](https://www.mediawiki.org/wiki/Manual:User_properties_table) to determine the current number of new discussion tool users that have the `discussiontools-betaenable` property currently disabled.\n",
    "\n",
    "Some notes regarding this dataset:\n",
    "* This reflects all current nondefault user preferences.  User property records are added to the database when they differ from their default value.\n",
    "* Data reflects the current state and does not account for users that have changed this preference multiple times.\n",
    "* There are contributors that have used the new discussion tool but don't have a preference set in the user properties table. Possible reasons for this include: (1) the user  disabled the setting by selecting 'restore all default preferences' in their user preferences or (2) the user enabled discussion tools in their global preferences but not in their local preferences. "
   ]
  },
  {
   "cell_type": "code",
   "execution_count": 4,
   "metadata": {},
   "outputs": [],
   "source": [
    "import pandas as pd\n",
    "import numpy as np\n",
    "\n",
    "import datetime as dt\n",
    "\n",
    "from wmfdata import hive, mariadb"
   ]
  },
  {
   "cell_type": "code",
   "execution_count": 5,
   "metadata": {},
   "outputs": [],
   "source": [
    "HIVE_SNAPSHOT = \"2021-07\"\n",
    "START_OF_DATA = \"2021-02-18\"\n",
    "END_OF_DATA = \"2021-08-01\""
   ]
  },
  {
   "cell_type": "markdown",
   "metadata": {},
   "source": [
    "## Collect new discussion tool contributors"
   ]
  },
  {
   "cell_type": "code",
   "execution_count": 6,
   "metadata": {},
   "outputs": [],
   "source": [
    "#all users that made at least 1 edit with the new discussion tool since deployment\n",
    "\n",
    "query = \"\"\"\n",
    "\n",
    "SELECT\n",
    "    event_user_id as new_dt_user,\n",
    "    wiki_db as wiki,\n",
    "    CASE\n",
    "        WHEN min(event_user_revision_count) < 100 THEN 'under 100'\n",
    "        WHEN (min(event_user_revision_count) >=100 AND min(event_user_revision_count <= 500)) THEN '100-500'\n",
    "        ELSE 'over 500'\n",
    "        END AS edit_count_group\n",
    "FROM wmf.mediawiki_history AS mh\n",
    "WHERE \n",
    "    ARRAY_CONTAINS(revision_tags, 'discussiontools-newtopic') \n",
    "    AND snapshot = '2021-07' \n",
    "-- date first deployed\n",
    "    AND event_timestamp >= '2021-02-18'  \n",
    "    AND event_timestamp <= '2021-07-31'  \n",
    "-- only on desktop\n",
    "    AND NOT array_contains(revision_tags, 'iOS')\n",
    "    AND NOT array_contains(revision_tags, 'Android')\n",
    "    AND NOT array_contains(revision_tags, 'Mobile Web')\n",
    "     -- find all edits on talk pages \n",
    "    AND page_namespace_historical % 2 = 1\n",
    "    AND event_entity = 'revision' AND \n",
    "    event_type = 'create'\n",
    "    AND event_user_is_anonymous = FALSE\n",
    "GROUP BY\n",
    "    event_user_id,\n",
    "    wiki_db\n",
    "\"\"\""
   ]
  },
  {
   "cell_type": "code",
   "execution_count": 7,
   "metadata": {},
   "outputs": [],
   "source": [
    "new_dt_user = hive.run(\n",
    "    query.format(\n",
    "        hive_snapshot = HIVE_SNAPSHOT,\n",
    "        START_OF_DATA= START_OF_DATA,\n",
    "        END_OF_DATA=END_OF_DATA\n",
    "    )\n",
    ")"
   ]
  },
  {
   "cell_type": "code",
   "execution_count": 9,
   "metadata": {},
   "outputs": [
    {
     "name": "stdout",
     "output_type": "stream",
     "text": [
      "Total number of new discussion users for whom we will be checking beta preferences: 5392\n"
     ]
    }
   ],
   "source": [
    "#Total new dt users\n",
    "\n",
    "Total_dt_users = new_dt_user['new_dt_user'].count()\n",
    "\n",
    "print('Total number of new discussion users for whom we will be checking beta preferences:' , Total_dt_users)"
   ]
  },
  {
   "cell_type": "markdown",
   "metadata": {},
   "source": [
    "## New Discussion Tool Users Current Preference Status"
   ]
  },
  {
   "cell_type": "code",
   "execution_count": 10,
   "metadata": {},
   "outputs": [],
   "source": [
    "#Querying user_properties for getting the discussion tools preference set by the new dt contributors we got in the above query\n",
    "\n",
    "query='''\n",
    "SELECT \n",
    "  up_value AS preference,\n",
    "  up_user AS user\n",
    "FROM user_properties\n",
    "WHERE up_user in ({users})\n",
    "AND up_property = \"discussiontools-betaenable\"\n",
    "'''"
   ]
  },
  {
   "cell_type": "code",
   "execution_count": 11,
   "metadata": {},
   "outputs": [],
   "source": [
    "# Looping through each wiki for the list of users for each skin\n",
    "\n",
    "wikis = new_dt_user['wiki'].unique()\n",
    "up_pref=list()\n",
    "for wiki in wikis:\n",
    "    user_ids = new_dt_user[new_dt_user['wiki'] == wiki][\"new_dt_user\"]\n",
    "    user_list = ','.join([str(u) for u in user_ids])\n",
    "    prefs = mariadb.run(\n",
    "      query.format(users=user_list),\n",
    "      wiki\n",
    "    )\n",
    "    up_pref.append(prefs)\n",
    "\n",
    "pref= pd.concat(up_pref)"
   ]
  },
  {
   "cell_type": "code",
   "execution_count": 12,
   "metadata": {},
   "outputs": [],
   "source": [
    "# Join with edit count data from mediawiki_history\n",
    "new_dt_user_pref = new_dt_user.join(pref.set_index('user'), on = 'new_dt_user', how = 'left')"
   ]
  },
  {
   "cell_type": "code",
   "execution_count": 13,
   "metadata": {},
   "outputs": [],
   "source": [
    "# covert skin column to string type \n",
    "new_dt_user_pref['preference'] = new_dt_user_pref['preference'].astype(str)"
   ]
  },
  {
   "cell_type": "code",
   "execution_count": 14,
   "metadata": {},
   "outputs": [],
   "source": [
    "# rename values. \n",
    "pref_aliases = {\n",
    "    \"b\\'0\\'\":\"explicitly disabled\",\n",
    "    \"b\\'1\\'\":\"explicitly enabled\",\n",
    "    \"nan\": \"no local preference recorded\"\n",
    "}\n",
    "\n",
    "new_dt_user_pref= new_dt_user_pref.replace({\"preference\": pref_aliases})"
   ]
  },
  {
   "cell_type": "markdown",
   "metadata": {},
   "source": [
    "## Overall Opt-In Rate"
   ]
  },
  {
   "cell_type": "code",
   "execution_count": 15,
   "metadata": {},
   "outputs": [
    {
     "data": {
      "text/html": [
       "<div>\n",
       "<style scoped>\n",
       "    .dataframe tbody tr th:only-of-type {\n",
       "        vertical-align: middle;\n",
       "    }\n",
       "\n",
       "    .dataframe tbody tr th {\n",
       "        vertical-align: top;\n",
       "    }\n",
       "\n",
       "    .dataframe thead th {\n",
       "        text-align: right;\n",
       "    }\n",
       "</style>\n",
       "<table border=\"1\" class=\"dataframe\">\n",
       "  <thead>\n",
       "    <tr style=\"text-align: right;\">\n",
       "      <th></th>\n",
       "      <th>new_dt_user</th>\n",
       "    </tr>\n",
       "    <tr>\n",
       "      <th>preference</th>\n",
       "      <th></th>\n",
       "    </tr>\n",
       "  </thead>\n",
       "  <tbody>\n",
       "    <tr>\n",
       "      <th>explicitly disabled</th>\n",
       "      <td>327</td>\n",
       "    </tr>\n",
       "    <tr>\n",
       "      <th>explicitly enabled</th>\n",
       "      <td>3609</td>\n",
       "    </tr>\n",
       "    <tr>\n",
       "      <th>no local preference recorded</th>\n",
       "      <td>1466</td>\n",
       "    </tr>\n",
       "  </tbody>\n",
       "</table>\n",
       "</div>"
      ],
      "text/plain": [
       "                              new_dt_user\n",
       "preference                               \n",
       "explicitly disabled                   327\n",
       "explicitly enabled                   3609\n",
       "no local preference recorded         1466"
      ]
     },
     "execution_count": 15,
     "metadata": {},
     "output_type": "execute_result"
    }
   ],
   "source": [
    "new_dt_pref_overall= new_dt_user_pref[['preference', 'new_dt_user']].groupby('preference').count()\n",
    "\n",
    "new_dt_pref_overall"
   ]
  },
  {
   "cell_type": "code",
   "execution_count": 16,
   "metadata": {},
   "outputs": [
    {
     "data": {
      "text/html": [
       "<div>\n",
       "<style scoped>\n",
       "    .dataframe tbody tr th:only-of-type {\n",
       "        vertical-align: middle;\n",
       "    }\n",
       "\n",
       "    .dataframe tbody tr th {\n",
       "        vertical-align: top;\n",
       "    }\n",
       "\n",
       "    .dataframe thead th {\n",
       "        text-align: right;\n",
       "    }\n",
       "</style>\n",
       "<table border=\"1\" class=\"dataframe\">\n",
       "  <thead>\n",
       "    <tr style=\"text-align: right;\">\n",
       "      <th></th>\n",
       "      <th>new_dt_user</th>\n",
       "    </tr>\n",
       "    <tr>\n",
       "      <th>preference</th>\n",
       "      <th></th>\n",
       "    </tr>\n",
       "  </thead>\n",
       "  <tbody>\n",
       "    <tr>\n",
       "      <th>explicitly enabled</th>\n",
       "      <td>66.81%</td>\n",
       "    </tr>\n",
       "    <tr>\n",
       "      <th>explicitly disabled</th>\n",
       "      <td>6.05%</td>\n",
       "    </tr>\n",
       "    <tr>\n",
       "      <th>no local preference recorded</th>\n",
       "      <td>27.14%</td>\n",
       "    </tr>\n",
       "  </tbody>\n",
       "</table>\n",
       "</div>"
      ],
      "text/plain": [
       "                             new_dt_user\n",
       "preference                              \n",
       "explicitly enabled                66.81%\n",
       "explicitly disabled                6.05%\n",
       "no local preference recorded      27.14%"
      ]
     },
     "execution_count": 16,
     "metadata": {},
     "output_type": "execute_result"
    }
   ],
   "source": [
    "pct_user_opt_rate =(100. * new_dt_pref_overall / new_dt_pref_overall.sum()).round(2).astype(str) + '%'\n",
    "pct_user_opt_rate.sort_values(by=['new_dt_user'],ascending=False)"
   ]
  },
  {
   "cell_type": "markdown",
   "metadata": {},
   "source": [
    "Overall, only 6.05% of all new discussion tool users currently have the 'discussiontool-betaenable' preference explicitly set as disabled in the User Properties table. "
   ]
  },
  {
   "cell_type": "markdown",
   "metadata": {},
   "source": [
    "## By Experience Level"
   ]
  },
  {
   "cell_type": "code",
   "execution_count": 17,
   "metadata": {},
   "outputs": [
    {
     "data": {
      "text/html": [
       "<div>\n",
       "<style scoped>\n",
       "    .dataframe tbody tr th:only-of-type {\n",
       "        vertical-align: middle;\n",
       "    }\n",
       "\n",
       "    .dataframe tbody tr th {\n",
       "        vertical-align: top;\n",
       "    }\n",
       "\n",
       "    .dataframe thead th {\n",
       "        text-align: right;\n",
       "    }\n",
       "</style>\n",
       "<table border=\"1\" class=\"dataframe\">\n",
       "  <thead>\n",
       "    <tr style=\"text-align: right;\">\n",
       "      <th></th>\n",
       "      <th></th>\n",
       "      <th>new_dt_user</th>\n",
       "    </tr>\n",
       "    <tr>\n",
       "      <th>edit_count_group</th>\n",
       "      <th>preference</th>\n",
       "      <th></th>\n",
       "    </tr>\n",
       "  </thead>\n",
       "  <tbody>\n",
       "    <tr>\n",
       "      <th rowspan=\"3\" valign=\"top\">100-500</th>\n",
       "      <th>explicitly disabled</th>\n",
       "      <td>22</td>\n",
       "    </tr>\n",
       "    <tr>\n",
       "      <th>explicitly enabled</th>\n",
       "      <td>483</td>\n",
       "    </tr>\n",
       "    <tr>\n",
       "      <th>no local preference recorded</th>\n",
       "      <td>205</td>\n",
       "    </tr>\n",
       "    <tr>\n",
       "      <th rowspan=\"3\" valign=\"top\">over 500</th>\n",
       "      <th>explicitly disabled</th>\n",
       "      <td>259</td>\n",
       "    </tr>\n",
       "    <tr>\n",
       "      <th>explicitly enabled</th>\n",
       "      <td>2357</td>\n",
       "    </tr>\n",
       "    <tr>\n",
       "      <th>no local preference recorded</th>\n",
       "      <td>939</td>\n",
       "    </tr>\n",
       "    <tr>\n",
       "      <th rowspan=\"3\" valign=\"top\">under 100</th>\n",
       "      <th>explicitly disabled</th>\n",
       "      <td>46</td>\n",
       "    </tr>\n",
       "    <tr>\n",
       "      <th>explicitly enabled</th>\n",
       "      <td>769</td>\n",
       "    </tr>\n",
       "    <tr>\n",
       "      <th>no local preference recorded</th>\n",
       "      <td>322</td>\n",
       "    </tr>\n",
       "  </tbody>\n",
       "</table>\n",
       "</div>"
      ],
      "text/plain": [
       "                                               new_dt_user\n",
       "edit_count_group preference                               \n",
       "100-500          explicitly disabled                    22\n",
       "                 explicitly enabled                    483\n",
       "                 no local preference recorded          205\n",
       "over 500         explicitly disabled                   259\n",
       "                 explicitly enabled                   2357\n",
       "                 no local preference recorded          939\n",
       "under 100        explicitly disabled                    46\n",
       "                 explicitly enabled                    769\n",
       "                 no local preference recorded          322"
      ]
     },
     "execution_count": 17,
     "metadata": {},
     "output_type": "execute_result"
    }
   ],
   "source": [
    "# calculate total enabled and disabled\n",
    "new_dt_pref_byexp = new_dt_user_pref[['preference', 'edit_count_group' ,'new_dt_user']].groupby(['edit_count_group','preference']).count()\n",
    "\n",
    "new_dt_pref_byexp"
   ]
  },
  {
   "cell_type": "code",
   "execution_count": 18,
   "metadata": {},
   "outputs": [
    {
     "data": {
      "text/html": [
       "<div>\n",
       "<style scoped>\n",
       "    .dataframe tbody tr th:only-of-type {\n",
       "        vertical-align: middle;\n",
       "    }\n",
       "\n",
       "    .dataframe tbody tr th {\n",
       "        vertical-align: top;\n",
       "    }\n",
       "\n",
       "    .dataframe thead th {\n",
       "        text-align: right;\n",
       "    }\n",
       "</style>\n",
       "<table border=\"1\" class=\"dataframe\">\n",
       "  <thead>\n",
       "    <tr style=\"text-align: right;\">\n",
       "      <th></th>\n",
       "      <th></th>\n",
       "      <th>new_dt_user</th>\n",
       "    </tr>\n",
       "    <tr>\n",
       "      <th>edit_count_group</th>\n",
       "      <th>preference</th>\n",
       "      <th></th>\n",
       "    </tr>\n",
       "  </thead>\n",
       "  <tbody>\n",
       "    <tr>\n",
       "      <th rowspan=\"3\" valign=\"top\">100-500</th>\n",
       "      <th>explicitly disabled</th>\n",
       "      <td>3.1%</td>\n",
       "    </tr>\n",
       "    <tr>\n",
       "      <th>explicitly enabled</th>\n",
       "      <td>68.03%</td>\n",
       "    </tr>\n",
       "    <tr>\n",
       "      <th>no local preference recorded</th>\n",
       "      <td>28.87%</td>\n",
       "    </tr>\n",
       "    <tr>\n",
       "      <th rowspan=\"3\" valign=\"top\">over 500</th>\n",
       "      <th>explicitly disabled</th>\n",
       "      <td>7.29%</td>\n",
       "    </tr>\n",
       "    <tr>\n",
       "      <th>explicitly enabled</th>\n",
       "      <td>66.3%</td>\n",
       "    </tr>\n",
       "    <tr>\n",
       "      <th>no local preference recorded</th>\n",
       "      <td>26.41%</td>\n",
       "    </tr>\n",
       "    <tr>\n",
       "      <th rowspan=\"3\" valign=\"top\">under 100</th>\n",
       "      <th>explicitly disabled</th>\n",
       "      <td>4.05%</td>\n",
       "    </tr>\n",
       "    <tr>\n",
       "      <th>explicitly enabled</th>\n",
       "      <td>67.63%</td>\n",
       "    </tr>\n",
       "    <tr>\n",
       "      <th>no local preference recorded</th>\n",
       "      <td>28.32%</td>\n",
       "    </tr>\n",
       "  </tbody>\n",
       "</table>\n",
       "</div>"
      ],
      "text/plain": [
       "                                              new_dt_user\n",
       "edit_count_group preference                              \n",
       "100-500          explicitly disabled                 3.1%\n",
       "                 explicitly enabled                68.03%\n",
       "                 no local preference recorded      28.87%\n",
       "over 500         explicitly disabled                7.29%\n",
       "                 explicitly enabled                 66.3%\n",
       "                 no local preference recorded      26.41%\n",
       "under 100        explicitly disabled                4.05%\n",
       "                 explicitly enabled                67.63%\n",
       "                 no local preference recorded      28.32%"
      ]
     },
     "execution_count": 18,
     "metadata": {},
     "output_type": "execute_result"
    }
   ],
   "source": [
    "pct_user_opt_rate_byexp =(100. * new_dt_pref_byexp/ new_dt_pref_byexp.groupby('edit_count_group').sum()).round(2).astype(str) + '%'\n",
    "pct_user_opt_rate_byexp"
   ]
  },
  {
   "cell_type": "markdown",
   "metadata": {},
   "source": [
    "## Arabic and Czech Wikipedias"
   ]
  },
  {
   "cell_type": "code",
   "execution_count": 19,
   "metadata": {},
   "outputs": [],
   "source": [
    "# filter to target wikis\n",
    "target_wiki = ['arwiki', 'cswiki']\n",
    "new_dt_user_pref_wiki= new_dt_user_pref[new_dt_user_pref['wiki'].isin(target_wiki)]\n"
   ]
  },
  {
   "cell_type": "code",
   "execution_count": 20,
   "metadata": {},
   "outputs": [
    {
     "data": {
      "text/html": [
       "<div>\n",
       "<style scoped>\n",
       "    .dataframe tbody tr th:only-of-type {\n",
       "        vertical-align: middle;\n",
       "    }\n",
       "\n",
       "    .dataframe tbody tr th {\n",
       "        vertical-align: top;\n",
       "    }\n",
       "\n",
       "    .dataframe thead th {\n",
       "        text-align: right;\n",
       "    }\n",
       "</style>\n",
       "<table border=\"1\" class=\"dataframe\">\n",
       "  <thead>\n",
       "    <tr style=\"text-align: right;\">\n",
       "      <th></th>\n",
       "      <th></th>\n",
       "      <th>new_dt_user</th>\n",
       "    </tr>\n",
       "    <tr>\n",
       "      <th>wiki</th>\n",
       "      <th>preference</th>\n",
       "      <th></th>\n",
       "    </tr>\n",
       "  </thead>\n",
       "  <tbody>\n",
       "    <tr>\n",
       "      <th rowspan=\"2\" valign=\"top\">arwiki</th>\n",
       "      <th>explicitly disabled</th>\n",
       "      <td>3</td>\n",
       "    </tr>\n",
       "    <tr>\n",
       "      <th>explicitly enabled</th>\n",
       "      <td>59</td>\n",
       "    </tr>\n",
       "    <tr>\n",
       "      <th rowspan=\"2\" valign=\"top\">cswiki</th>\n",
       "      <th>explicitly disabled</th>\n",
       "      <td>1</td>\n",
       "    </tr>\n",
       "    <tr>\n",
       "      <th>explicitly enabled</th>\n",
       "      <td>29</td>\n",
       "    </tr>\n",
       "  </tbody>\n",
       "</table>\n",
       "</div>"
      ],
      "text/plain": [
       "                            new_dt_user\n",
       "wiki   preference                      \n",
       "arwiki explicitly disabled            3\n",
       "       explicitly enabled            59\n",
       "cswiki explicitly disabled            1\n",
       "       explicitly enabled            29"
      ]
     },
     "execution_count": 20,
     "metadata": {},
     "output_type": "execute_result"
    }
   ],
   "source": [
    "# calculate total enabled and disabled\n",
    "new_dt_pref_wiki = new_dt_user_pref_wiki[['preference', 'wiki' ,'new_dt_user']].groupby(['wiki','preference']).count()\n",
    "\n",
    "new_dt_pref_wiki"
   ]
  },
  {
   "cell_type": "code",
   "execution_count": 21,
   "metadata": {},
   "outputs": [
    {
     "data": {
      "text/html": [
       "<div>\n",
       "<style scoped>\n",
       "    .dataframe tbody tr th:only-of-type {\n",
       "        vertical-align: middle;\n",
       "    }\n",
       "\n",
       "    .dataframe tbody tr th {\n",
       "        vertical-align: top;\n",
       "    }\n",
       "\n",
       "    .dataframe thead th {\n",
       "        text-align: right;\n",
       "    }\n",
       "</style>\n",
       "<table border=\"1\" class=\"dataframe\">\n",
       "  <thead>\n",
       "    <tr style=\"text-align: right;\">\n",
       "      <th></th>\n",
       "      <th></th>\n",
       "      <th>new_dt_user</th>\n",
       "    </tr>\n",
       "    <tr>\n",
       "      <th>wiki</th>\n",
       "      <th>preference</th>\n",
       "      <th></th>\n",
       "    </tr>\n",
       "  </thead>\n",
       "  <tbody>\n",
       "    <tr>\n",
       "      <th rowspan=\"2\" valign=\"top\">arwiki</th>\n",
       "      <th>explicitly disabled</th>\n",
       "      <td>4.84%</td>\n",
       "    </tr>\n",
       "    <tr>\n",
       "      <th>explicitly enabled</th>\n",
       "      <td>95.16%</td>\n",
       "    </tr>\n",
       "    <tr>\n",
       "      <th rowspan=\"2\" valign=\"top\">cswiki</th>\n",
       "      <th>explicitly disabled</th>\n",
       "      <td>3.33%</td>\n",
       "    </tr>\n",
       "    <tr>\n",
       "      <th>explicitly enabled</th>\n",
       "      <td>96.67%</td>\n",
       "    </tr>\n",
       "  </tbody>\n",
       "</table>\n",
       "</div>"
      ],
      "text/plain": [
       "                           new_dt_user\n",
       "wiki   preference                     \n",
       "arwiki explicitly disabled       4.84%\n",
       "       explicitly enabled       95.16%\n",
       "cswiki explicitly disabled       3.33%\n",
       "       explicitly enabled       96.67%"
      ]
     },
     "execution_count": 21,
     "metadata": {},
     "output_type": "execute_result"
    }
   ],
   "source": [
    "pct_user_opt_rate_wiki =(100. * new_dt_pref_wiki/ new_dt_pref_wiki.groupby('wiki').sum()).round(2).astype(str) + '%'\n",
    "pct_user_opt_rate_wiki"
   ]
  },
  {
   "cell_type": "code",
   "execution_count": null,
   "metadata": {},
   "outputs": [],
   "source": []
  }
 ],
 "metadata": {
  "kernelspec": {
   "display_name": "Python 3",
   "language": "python",
   "name": "python3"
  },
  "language_info": {
   "codemirror_mode": {
    "name": "ipython",
    "version": 3
   },
   "file_extension": ".py",
   "mimetype": "text/x-python",
   "name": "python",
   "nbconvert_exporter": "python",
   "pygments_lexer": "ipython3",
   "version": "3.7.8"
  }
 },
 "nbformat": 4,
 "nbformat_minor": 4
}
